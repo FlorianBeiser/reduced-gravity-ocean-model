{
 "cells": [
  {
   "cell_type": "markdown",
   "metadata": {},
   "source": [
    "```\n",
    "This software is part of GPU Ocean. \n",
    "\n",
    "Copyright (C) 2022 SINTEF Digital\n",
    "\n",
    "Stress test to see how two simulators compete to use the same textures\n",
    "\n",
    "This program is free software: you can redistribute it and/or modify\n",
    "it under the terms of the GNU General Public License as published by\n",
    "the Free Software Foundation, either version 3 of the License, or\n",
    "(at your option) any later version.\n",
    "\n",
    "This program is distributed in the hope that it will be useful,\n",
    "but WITHOUT ANY WARRANTY; without even the implied warranty of\n",
    "MERCHANTABILITY or FITNESS FOR A PARTICULAR PURPOSE.  See the\n",
    "GNU General Public License for more details.\n",
    "\n",
    "You should have received a copy of the GNU General Public License\n",
    "along with this program.  If not, see <http://www.gnu.org/licenses/>.\n",
    "```"
   ]
  },
  {
   "cell_type": "markdown",
   "metadata": {},
   "source": [
    "# Simple minimal script for running a real-world simulation "
   ]
  },
  {
   "cell_type": "code",
   "execution_count": null,
   "metadata": {},
   "outputs": [],
   "source": [
    "#Lets have matplotlib \"inline\"\n",
    "%matplotlib inline\n",
    "\n",
    "import os\n",
    "import sys\n",
    "\n",
    "#Import packages we need\n",
    "import numpy as np\n",
    "import datetime\n",
    "from netCDF4 import Dataset\n",
    "from IPython.display import display\n",
    "\n",
    "#For plotting\n",
    "import matplotlib\n",
    "from matplotlib import pyplot as plt\n",
    "import matplotlib as mpl\n",
    "from matplotlib import animation, rc\n",
    "plt.rcParams[\"animation.html\"] = \"jshtml\"\n",
    "mpl.rcParams['figure.facecolor'] = 'white'"
   ]
  },
  {
   "cell_type": "code",
   "execution_count": null,
   "metadata": {},
   "outputs": [],
   "source": [
    "from gpuocean.SWEsimulators import CDKLM16\n",
    "from gpuocean.utils import Common, IPythonMagic, NetCDFInitialization, WindStress\n"
   ]
  },
  {
   "cell_type": "code",
   "execution_count": null,
   "metadata": {},
   "outputs": [],
   "source": [
    "%cuda_context_handler gpu_ctx1"
   ]
  },
  {
   "cell_type": "code",
   "execution_count": null,
   "metadata": {},
   "outputs": [],
   "source": [
    "%cuda_context_handler gpu_ctx2"
   ]
  },
  {
   "cell_type": "code",
   "execution_count": null,
   "metadata": {},
   "outputs": [],
   "source": [
    "print(gpu_ctx1)\n",
    "print(gpu_ctx2)"
   ]
  },
  {
   "cell_type": "markdown",
   "metadata": {},
   "source": [
    "### Plotting functionality"
   ]
  },
  {
   "cell_type": "code",
   "execution_count": null,
   "metadata": {},
   "outputs": [],
   "source": [
    "def plotSolution(fig, sim, comment=\"\",\n",
    "                 eta_max=2, hu_max=50, \n",
    "                 ax=None, sp=None):\n",
    "\n",
    "    eta, hu, hv = sim.download(interior_domain_only=True)\n",
    "    dx, dy, t = sim.dx, sim.dy, sim.t\n",
    "    \n",
    "    from datetime import timedelta\n",
    "    fig.suptitle(\"Time = {:0>8} ({:s})\".format(str(timedelta(seconds=int(t))), comment), \n",
    "                 fontsize=18,\n",
    "                 horizontalalignment='left')\n",
    "    \n",
    "    ny, nx = eta.shape\n",
    "    domain_extent = [0, nx*dx, 0, ny*dy]\n",
    "   \n",
    "    if (ax is None):\n",
    "        ax = [None]*3\n",
    "        sp = [None]*3\n",
    "        \n",
    "        ax[0] = plt.subplot(1, 3, 1)\n",
    "        sp[0] = ax[0].imshow(eta, interpolation=\"none\", origin='lower', \n",
    "                             cmap=plt.cm.BrBG, vmin=-eta_max, vmax=eta_max, \n",
    "                             extent=domain_extent)\n",
    "        plt.colorbar(sp[0], shrink=0.9)\n",
    "        plt.axis('image')\n",
    "        plt.title(\"$\\eta{}$\")\n",
    "        \n",
    "        ax[1] = plt.subplot(1, 3, 2)\n",
    "        sp[1] = ax[1].imshow(hu, interpolation=\"none\", origin='lower', \n",
    "                            cmap=plt.cm.coolwarm, vmin=-hu_max, vmax=hu_max, \n",
    "                            extent=domain_extent)\n",
    "        plt.colorbar(sp[1], shrink=0.9)\n",
    "        plt.axis('image')\n",
    "        plt.title(\"$hu$\")\n",
    "\n",
    "        ax[2] = plt.subplot(1, 3, 3)\n",
    "        sp[2] = ax[2].imshow(hv, interpolation=\"none\", origin='lower', \n",
    "                             cmap=plt.cm.coolwarm, vmin=-hu_max, vmax=hu_max, \n",
    "                             extent=domain_extent)\n",
    "        plt.colorbar(sp[2], shrink=0.9)\n",
    "        plt.axis('image')\n",
    "        plt.title(\"$hv$\")\n",
    "            \n",
    "    else:        \n",
    "        #Update plots\n",
    "        fig.sca(ax[0])\n",
    "        sp[0].set_data(eta)\n",
    "        \n",
    "        fig.sca(ax[1])\n",
    "        sp[1].set_data(hu)\n",
    "        \n",
    "        fig.sca(ax[2])\n",
    "        sp[2].set_data(hv)\n",
    "        \n",
    "    return ax, sp\n",
    "\n",
    "\n",
    "def sim_animation(sim, T, anim_dt, hu_max=20.0, eta_max=0.5, comment=\"\"):\n",
    "    \"\"\"\n",
    "    Creates an animation of the simulator based on T frames, with frames sub_dt*sim.dt appart.\n",
    "    \"\"\"\n",
    "\n",
    "    \n",
    "    #Create figure and plot initial conditions\n",
    "    fig = plt.figure(figsize=(14, 4))\n",
    "    ax, sp = plotSolution(fig, sim, comment=comment,\n",
    "                          eta_max=eta_max, hu_max=hu_max)\n",
    "    #Helper function which simulates and plots the solution\n",
    "    def animate(i):\n",
    "        if (i>0):\n",
    "            t = sim.step(anim_dt)\n",
    "        else:\n",
    "            t = 0.0\n",
    "\n",
    "        plotSolution(fig, sim, comment=comment, ax=ax, sp=sp)\n",
    "        print(\".\", end='')\n",
    "        \n",
    "    #Matplotlib for creating an animation\n",
    "    anim = animation.FuncAnimation(fig, animate, range(T), interval=100)\n",
    "    plt.close(fig)\n",
    "    return anim"
   ]
  },
  {
   "cell_type": "markdown",
   "metadata": {},
   "source": [
    "### Select url for initial conditions, domain, and simulate!"
   ]
  },
  {
   "cell_type": "code",
   "execution_count": null,
   "metadata": {},
   "outputs": [],
   "source": [
    "source_url = 'https://thredds.met.no/thredds/dodsC/fou-hi/norkyst800m-1h/NorKyst-800m_ZDEPTHS_his.an.2019071600.nc'\n",
    "\n",
    "casename = 'lofoten'\n",
    "\n",
    "case_info = NetCDFInitialization.getCaseLocation(casename)\n",
    "print(case_info[\"name\"])\n",
    "\n",
    "data_args_0 = NetCDFInitialization.getInitialConditions(source_url,case_info[\"x0\"], case_info[\"x1\"], case_info[\"y0\"], case_info[\"y1\"], download_data=False)\n",
    "data_args_0 = NetCDFInitialization.removeMetadata(data_args_0)\n",
    "\n",
    "data_args_1 = NetCDFInitialization.getInitialConditions(source_url,case_info[\"x0\"], case_info[\"x1\"], case_info[\"y0\"], case_info[\"y1\"], download_data=False)\n",
    "data_args_1 = NetCDFInitialization.removeMetadata(data_args_1)\n",
    "\n",
    "data_args_2 = NetCDFInitialization.getInitialConditions(source_url,case_info[\"x0\"], case_info[\"x1\"], case_info[\"y0\"], case_info[\"y1\"], download_data=False)\n",
    "data_args_2 = NetCDFInitialization.removeMetadata(data_args_2)\n",
    "\n"
   ]
  },
  {
   "cell_type": "code",
   "execution_count": null,
   "metadata": {},
   "outputs": [],
   "source": [
    "# Ensure that eta = hu = hv = 0.0\n",
    "# Ensure all BCs are zero as well, \n",
    "#     --> except at the north\n",
    "def stripDataArgs(data_args, bc_val_north=0.0):\n",
    "    data_args[\"eta0\"] *= 0.0\n",
    "    data_args[\"hu0\"] *= 0.0\n",
    "    data_args[\"hv0\"] *= 0.0\n",
    "    data_args[\"wind_stress\"] = WindStress.WindStress()\n",
    "\n",
    "    data_args[\"boundary_conditions_data\"].north.h *= 0.0\n",
    "    data_args[\"boundary_conditions_data\"].north.hu *= 0.0\n",
    "    data_args[\"boundary_conditions_data\"].north.hv *= 0.0\n",
    "    data_args[\"boundary_conditions_data\"].south.h *= 0.0\n",
    "    data_args[\"boundary_conditions_data\"].south.hu *= 0.0\n",
    "    data_args[\"boundary_conditions_data\"].south.hv *= 0.0\n",
    "    data_args[\"boundary_conditions_data\"].west.h *= 0.0\n",
    "    data_args[\"boundary_conditions_data\"].west.hu *= 0.0\n",
    "    data_args[\"boundary_conditions_data\"].west.hv *= 0.0\n",
    "    data_args[\"boundary_conditions_data\"].east.h *= 0.0\n",
    "    data_args[\"boundary_conditions_data\"].east.hu *= 0.0\n",
    "    data_args[\"boundary_conditions_data\"].east.hv *= 0.0\n",
    "    \n",
    "    data_args[\"boundary_conditions_data\"].north.h += bc_val_north\n",
    "    \n",
    "\n",
    "stripDataArgs(data_args_0)\n",
    "stripDataArgs(data_args_1,  1.0)\n",
    "stripDataArgs(data_args_2, -1.0)\n",
    "\n",
    "\n"
   ]
  },
  {
   "cell_type": "markdown",
   "metadata": {},
   "source": [
    "# Check lake at rest"
   ]
  },
  {
   "cell_type": "code",
   "execution_count": null,
   "metadata": {},
   "outputs": [],
   "source": [
    "if \"sim\" in globals():\n",
    "    sim.cleanUp()\n",
    "    \n",
    "sim = CDKLM16.CDKLM16(gpu_ctx1, dt=0.0, write_netcdf=False, **data_args_0)\n",
    "T = 10\n",
    "anim_dt = 3*60\n",
    "sim_animation(sim, T, anim_dt, hu_max=50.0, eta_max=2, comment=case_info[\"name\"])"
   ]
  },
  {
   "cell_type": "markdown",
   "metadata": {},
   "source": [
    "# Check positive wave\n",
    " "
   ]
  },
  {
   "cell_type": "code",
   "execution_count": null,
   "metadata": {},
   "outputs": [],
   "source": [
    "if \"sim\" in globals():\n",
    "    sim.cleanUp()\n",
    "    \n",
    "sim = CDKLM16.CDKLM16(gpu_ctx1, dt=0.0, write_netcdf=False, **data_args_1)\n",
    "T = 40\n",
    "anim_dt = 3*60\n",
    "sim_animation(sim, T, anim_dt, hu_max=50.0, eta_max=2, comment=case_info[\"name\"])"
   ]
  },
  {
   "cell_type": "markdown",
   "metadata": {},
   "source": [
    "# Check negative wave"
   ]
  },
  {
   "cell_type": "code",
   "execution_count": null,
   "metadata": {},
   "outputs": [],
   "source": [
    "if \"sim\" in globals():\n",
    "    sim.cleanUp()\n",
    "    \n",
    "sim = CDKLM16.CDKLM16(gpu_ctx1, dt=0.0, write_netcdf=False, **data_args_2)\n",
    "T = 40\n",
    "anim_dt = 3*60\n",
    "sim_animation(sim, T, anim_dt, hu_max=50.0, eta_max=2, comment=case_info[\"name\"])"
   ]
  },
  {
   "cell_type": "markdown",
   "metadata": {},
   "source": [
    "# Step both other using same ctx"
   ]
  },
  {
   "cell_type": "code",
   "execution_count": null,
   "metadata": {},
   "outputs": [],
   "source": [
    "if \"sim_pos\" in globals():\n",
    "    sim_pos.cleanUp()\n",
    "if \"sim_neg\" in globals():\n",
    "    sim_neg.cleanUp()\n",
    "    \n",
    "sim_pos = CDKLM16.CDKLM16(gpu_ctx1, dt=0.0, write_netcdf=False, **data_args_1)\n",
    "sim_neg = CDKLM16.CDKLM16(gpu_ctx1, dt=0.0, write_netcdf=False, **data_args_2)\n",
    "\n",
    "T = 9*60\n",
    "sim_pos.step(T)\n",
    "fig = plt.figure(figsize=(15,4))\n",
    "_, _ = plotSolution(fig, sim_pos, hu_max=50.0, eta_max=2, comment=\"pos\")\n",
    "\n",
    "sim_neg.step(T)\n",
    "fig = plt.figure(figsize=(15,4))\n",
    "_, _ = plotSolution(fig, sim_neg, hu_max=50.0, eta_max=2, comment=\"neg\")\n",
    "\n",
    "sim_pos.step(T)\n",
    "fig = plt.figure(figsize=(15,4))\n",
    "_, _ = plotSolution(fig, sim_pos, hu_max=50.0, eta_max=2, comment=\"pos\")\n",
    "\n",
    "sim_neg.step(T)\n",
    "fig = plt.figure(figsize=(15,4))\n",
    "_, _ = plotSolution(fig, sim_neg, hu_max=50.0, eta_max=2, comment=\"neg\")\n",
    "\n",
    "sim_neg.step(T)\n",
    "fig = plt.figure(figsize=(15,4))\n",
    "_, _ = plotSolution(fig, sim_neg, hu_max=50.0, eta_max=2, comment=\"neg\")\n",
    "\n",
    "sim_pos.step(T)\n",
    "fig = plt.figure(figsize=(15,4))\n",
    "_, _ = plotSolution(fig, sim_pos, hu_max=50.0, eta_max=2, comment=\"pos\")\n",
    "\n",
    "\n"
   ]
  },
  {
   "cell_type": "markdown",
   "metadata": {},
   "source": [
    "# Step both using separate ctx"
   ]
  },
  {
   "cell_type": "code",
   "execution_count": null,
   "metadata": {},
   "outputs": [],
   "source": [
    "if \"sim_pos\" in globals():\n",
    "    sim_pos.cleanUp()\n",
    "if \"sim_neg\" in globals():\n",
    "    sim_neg.cleanUp()\n",
    "    \n",
    "sim_pos = CDKLM16.CDKLM16(gpu_ctx1, dt=0.0, write_netcdf=False, **data_args_1)\n",
    "sim_neg = CDKLM16.CDKLM16(gpu_ctx2, dt=0.0, write_netcdf=False, **data_args_2)\n",
    "\n",
    "T = 9*60\n",
    "sim_pos.step(T)\n",
    "fig = plt.figure(figsize=(15,4))\n",
    "_, _ = plotSolution(fig, sim_pos, hu_max=50.0, eta_max=2, comment=\"pos\")\n",
    "\n",
    "sim_neg.step(T)\n",
    "fig = plt.figure(figsize=(15,4))\n",
    "_, _ = plotSolution(fig, sim_neg, hu_max=50.0, eta_max=2, comment=\"neg\")\n",
    "\n",
    "sim_pos.step(T)\n",
    "fig = plt.figure(figsize=(15,4))\n",
    "_, _ = plotSolution(fig, sim_pos, hu_max=50.0, eta_max=2, comment=\"pos\")\n",
    "\n",
    "sim_neg.step(T)\n",
    "fig = plt.figure(figsize=(15,4))\n",
    "_, _ = plotSolution(fig, sim_neg, hu_max=50.0, eta_max=2, comment=\"neg\")\n",
    "\n",
    "sim_neg.step(T)\n",
    "fig = plt.figure(figsize=(15,4))\n",
    "_, _ = plotSolution(fig, sim_neg, hu_max=50.0, eta_max=2, comment=\"neg\")\n",
    "\n",
    "sim_pos.step(T)\n",
    "fig = plt.figure(figsize=(15,4))\n",
    "_, _ = plotSolution(fig, sim_pos, hu_max=50.0, eta_max=2, comment=\"pos\")\n",
    "\n"
   ]
  },
  {
   "cell_type": "code",
   "execution_count": null,
   "metadata": {},
   "outputs": [],
   "source": []
  }
 ],
 "metadata": {
  "interpreter": {
   "hash": "7bcf90a859d8d647cf7671364e34901e21688fecd52bdcb64466d37370727534"
  },
  "kernelspec": {
   "display_name": "Python 3.7.12 ('gpuocean')",
   "language": "python",
   "name": "python3"
  },
  "language_info": {
   "codemirror_mode": {
    "name": "ipython",
    "version": 3
   },
   "file_extension": ".py",
   "mimetype": "text/x-python",
   "name": "python",
   "nbconvert_exporter": "python",
   "pygments_lexer": "ipython3",
   "version": "3.7.12"
  },
  "orig_nbformat": 4
 },
 "nbformat": 4,
 "nbformat_minor": 2
}
