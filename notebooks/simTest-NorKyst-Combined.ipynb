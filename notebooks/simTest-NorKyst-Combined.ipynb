{
 "cells": [
  {
   "cell_type": "markdown",
   "metadata": {},
   "source": [
    "# Reduced Gravity"
   ]
  },
  {
   "cell_type": "markdown",
   "metadata": {},
   "source": [
    "## Classes and modules"
   ]
  },
  {
   "cell_type": "code",
   "execution_count": null,
   "metadata": {},
   "outputs": [],
   "source": [
    "#Lets have matplotlib \"inline\"\n",
    "%matplotlib inline\n",
    "\n",
    "import os\n",
    "import sys\n",
    "\n",
    "#Import packages we need\n",
    "import numpy as np\n",
    "from netCDF4 import Dataset\n",
    "import datetime\n",
    "from IPython.display import display\n",
    "\n",
    "#For plotting\n",
    "import matplotlib\n",
    "from matplotlib import pyplot as plt\n",
    "\n",
    "plt.rcParams[\"lines.color\"] = \"w\"\n",
    "plt.rcParams[\"text.color\"] = \"w\"\n",
    "plt.rcParams[\"axes.labelcolor\"] = \"w\"\n",
    "plt.rcParams[\"xtick.color\"] = \"w\"\n",
    "plt.rcParams[\"ytick.color\"] = \"w\""
   ]
  },
  {
   "cell_type": "markdown",
   "metadata": {},
   "source": [
    "GPU Ocean-modules:"
   ]
  },
  {
   "cell_type": "code",
   "execution_count": null,
   "metadata": {},
   "outputs": [],
   "source": [
    "from gpuocean.SWEsimulators import CDKLM16\n",
    "from gpuocean.utils import Common, IPythonMagic, NetCDFInitialization, OceanographicUtilities, Observation\n",
    "from gpuocean.drifters import GPUDrifterCollection\n",
    "from gpuocean.dataassimilation import DataAssimilationUtils as dautils"
   ]
  },
  {
   "cell_type": "code",
   "execution_count": null,
   "metadata": {},
   "outputs": [],
   "source": [
    "%cuda_context_handler gpu_ctx"
   ]
  },
  {
   "cell_type": "markdown",
   "metadata": {},
   "source": [
    "## Selecting area and loading initial- and boundary conditions"
   ]
  },
  {
   "cell_type": "markdown",
   "metadata": {},
   "source": [
    "#### Plotting utils"
   ]
  },
  {
   "cell_type": "code",
   "execution_count": null,
   "metadata": {},
   "outputs": [],
   "source": [
    "from IPython.display import clear_output\n",
    "from matplotlib import animation, rc\n",
    "plt.rcParams[\"animation.html\"] = \"jshtml\"\n",
    "from gpuocean.utils import PlotHelper\n",
    "from gpuocean.utils.NetCDFInitialization import depth_integration\n",
    "\n",
    "def plotSolution(fig, \n",
    "                 eta, hu, hv, h, dx, dy, \n",
    "                 t, comment,\n",
    "                 h_min=-5, h_max=5, \n",
    "                 uv_min=-0.3, uv_max=0.3,\n",
    "                 calc_uv = False, \n",
    "                 add_extra=False,\n",
    "                 reduced_gravity_interface=None,\n",
    "                 ax=None, sp=None):\n",
    "\n",
    "\n",
    "    from datetime import timedelta\n",
    "    fig.suptitle(\"Time = {:0>8} ({:s})\".format(str(timedelta(seconds=int(t))), comment), \n",
    "                 fontsize=18,\n",
    "                 horizontalalignment='left')\n",
    "    \n",
    "    ny, nx = eta.shape\n",
    "    domain_extent = [0, nx*dx, 0, ny*dy]\n",
    "    \n",
    "    x_plots = 3\n",
    "    y_plots = 1\n",
    "    if (add_extra == True):\n",
    "        x_plots=3\n",
    "        y_plots=2\n",
    "    \n",
    "    V_max = 3 * (uv_max-uv_min) / np.max(h)\n",
    "    R_min = -V_max/2000\n",
    "    R_max = V_max/2000\n",
    "   \n",
    "    hu_label, hv_label = \"$hu$\", \"$hv$\"\n",
    "    if calc_uv:\n",
    "        \"\"\"plotting actually u and v\"\"\"\n",
    "        if reduced_gravity_interface is None or reduced_gravity_interface == 0.0:\n",
    "            hu = hu/(h+eta)\n",
    "            hv = hv/(h+eta)\n",
    "        else:\n",
    "            hu = hu/(reduced_gravity_interface+eta)\n",
    "            hv = hv/(reduced_gravity_interface+eta)\n",
    "        uv_min = -0.3\n",
    "        uv_max = +0.3\n",
    "        hu_label, hv_label = \"$u$\", \"$v$\"\n",
    "\n",
    "    if (ax is None):\n",
    "        ax = [None]*x_plots*y_plots\n",
    "        sp = [None]*x_plots*y_plots\n",
    "        \n",
    "        ax[0] = plt.subplot(y_plots, x_plots, 1)\n",
    "        sp[0] = ax[0].imshow(eta, interpolation=\"none\", origin='lower', \n",
    "                             cmap=plt.cm.coolwarm, \n",
    "                             vmin=h_min, vmax=h_max, \n",
    "                             extent=domain_extent)\n",
    "        plt.colorbar(sp[0], shrink=0.9)\n",
    "        plt.axis('image')\n",
    "        plt.title(\"$\\eta{}$\")\n",
    "        \n",
    "  \n",
    "\n",
    "        ax[1] = plt.subplot(y_plots, x_plots, 2)\n",
    "        sp[1] = ax[1].imshow(hu, interpolation=\"none\", origin='lower', \n",
    "                            cmap=plt.cm.coolwarm, \n",
    "                            vmin=uv_min, vmax=uv_max, \n",
    "                            extent=domain_extent)\n",
    "        plt.colorbar(sp[1], shrink=0.9)\n",
    "        plt.axis('image')\n",
    "        plt.title(hu_label)\n",
    "\n",
    "\n",
    "\n",
    "        ax[2] = plt.subplot(y_plots, x_plots, 3)\n",
    "        sp[2] = ax[2].imshow(hv, interpolation=\"none\", origin='lower', \n",
    "                             cmap=plt.cm.coolwarm, \n",
    "                             vmin=uv_min, vmax=uv_max, \n",
    "                             extent=domain_extent)\n",
    "        plt.colorbar(sp[2], shrink=0.9)\n",
    "        plt.axis('image')\n",
    "        plt.title(hv_label)\n",
    "            \n",
    "    else:        \n",
    "        #Update plots\n",
    "        fig.sca(ax[0])\n",
    "        sp[0].set_data(eta)\n",
    "        \n",
    "        fig.sca(ax[1])\n",
    "        sp[1].set_data(hu)\n",
    "        \n",
    "        fig.sca(ax[2])\n",
    "        sp[2].set_data(hv)\n",
    "        \n",
    "        if (add_extra == True):\n",
    "            V = PlotHelper.genVelocity(h, hu, hv)\n",
    "            fig.sca(ax[3])\n",
    "            sp[3].set_data(V)\n",
    "\n",
    "            R = PlotHelper.genColors(h, hu/dx, hv/dy, plt.cm.seismic, R_min, R_max)\n",
    "            fig.sca(ax[4])\n",
    "            sp[4].set_data(R)\n",
    "    \n",
    "    return ax, sp\n",
    "\n",
    "\n",
    "def ncAnimation(filename, movie_frames=None, create_movie=True, fig=None, x0=0, x1=-1, y0=0, y1=-1, reduced_gravity_interface=None, **kwargs):\n",
    "    #Create figure and plot initial conditions\n",
    "    if fig is None:\n",
    "        fig = plt.figure(figsize=(14, 4))\n",
    "\n",
    "    try:\n",
    "        if isinstance(filename, list):\n",
    "            # Only for own nc-files\n",
    "            ncfile = Dataset(filename[0])\n",
    "            x = ncfile.variables['x'][:]\n",
    "            y = ncfile.variables['y'][:]\n",
    "            t = ncfile.variables['time'][:]\n",
    "            H_m = ncfile.variables['Hm'][:,:]\n",
    "            eta = ncfile.variables['eta'][:,:,:]\n",
    "            hu = ncfile.variables['hu'][:,:,:]\n",
    "            hu = hu/H_m # actually u\n",
    "            hv = ncfile.variables['hv'][:,:,:]\n",
    "            hv = hv/H_m # actually u  \n",
    "            calc_uv = False\n",
    "            for f in range(1,len(filename)):\n",
    "                ncfile = Dataset(filename[f])\n",
    "                eta += ncfile.variables['eta'][:,:,:]\n",
    "                hu += ncfile.variables['hu'][:,:,:]/(ncfile.variables['Hm'][:,:] + ncfile.variables['eta'][:,:,:])\n",
    "                hv += ncfile.variables['hv'][:,:,:]/(ncfile.variables['Hm'][:,:] + ncfile.variables['eta'][:,:,:])\n",
    "            filename = \"Combined Variables\"\n",
    "        else:\n",
    "            ncfile = Dataset(filename)\n",
    "            try:\n",
    "                x = ncfile.variables['x'][:]\n",
    "            except:\n",
    "                x = ncfile.variables['X'][x0:x1]\n",
    "            try:\n",
    "                y = ncfile.variables['y'][:]\n",
    "            except:\n",
    "                y = ncfile.variables['Y'][y0:y1]\n",
    "            t = ncfile.variables['time'][:]\n",
    "\n",
    "            try:\n",
    "                H_m = ncfile.variables['Hm'][:,:]\n",
    "            except:\n",
    "                H_m = ncfile.variables['h'][y0:y1,x0:x1]\n",
    "            try:\n",
    "                eta = ncfile.variables['eta'][:,:,:]\n",
    "            except:\n",
    "                eta = ncfile.variables['zeta'][:,y0:y1,x0:x1]\n",
    "            try:\n",
    "                hu = ncfile.variables['hu'][:,:,:]\n",
    "                calc_uv = True\n",
    "            except:\n",
    "                if reduced_gravity_interface is None:\n",
    "                    hu = ncfile.variables['ubar'][:,y0:y1,x0:x1]\n",
    "                    calc_uv = False\n",
    "                else:\n",
    "                    if reduced_gravity_interface is not None:\n",
    "                        hu = np.ma.zeros(eta.shape)\n",
    "                        for t_idx in range(len(t)):\n",
    "                            hu[t_idx] = depth_integration(ncfile, reduced_gravity_interface, x0, x1, y0, y1, \"u\", timestep_index=t_idx)\n",
    "                        calc_uv = True\n",
    "                    else:\n",
    "                        hu = ncfile.variables['u'][:,0,y0:y1,x0:x1]\n",
    "                        calc_uv = False\n",
    "            try:\n",
    "                hv = ncfile.variables['hv'][:,:,:]\n",
    "            except:\n",
    "                if reduced_gravity_interface is None:\n",
    "                    hv = ncfile.variables['vbar'][:,y0:y1,x0:x1]\n",
    "                else:\n",
    "                    if reduced_gravity_interface is not None:\n",
    "                        hv = np.ma.zeros(eta.shape)\n",
    "                        for t_idx in range(len(t)):\n",
    "                            hv[t_idx] = depth_integration(ncfile, reduced_gravity_interface, x0, x1, y0, y1, \"v\", timestep_index=t_idx)\n",
    "                    else:\n",
    "                        hv = ncfile.variables['v'][:,0,y0:y1,x0:x1]\n",
    "                    \n",
    "    except Exception as e:\n",
    "        raise e\n",
    "    finally:\n",
    "        ncfile.close()\n",
    "\n",
    "\n",
    "    if movie_frames is None:\n",
    "        movie_frames = len(t)\n",
    "\n",
    "    dx = x[1] - x[0]\n",
    "    dy = y[1] - y[0]\n",
    "    \n",
    "    progress = Common.ProgressPrinter(5)\n",
    "\n",
    "    if (create_movie):\n",
    "        ax, sp = plotSolution(fig, \n",
    "                              eta[0],\n",
    "                              hu[0],\n",
    "                              hv[0],\n",
    "                              H_m+eta[0],\n",
    "                              dx, dy, \n",
    "                              t[0], filename,\n",
    "                              calc_uv=calc_uv,\n",
    "                              reduced_gravity_interface=reduced_gravity_interface,\n",
    "                              **kwargs)\n",
    "    else:\n",
    "        ax, sp = plotSolution(fig, \n",
    "                              eta[-1],\n",
    "                              hu[-1],\n",
    "                              hv[-1],\n",
    "                              H_m+eta[-1],\n",
    "                              dx, dy, \n",
    "                              t[-1], filename,\n",
    "                              **kwargs)\n",
    "        return\n",
    "\n",
    "    #Helper function which simulates and plots the solution    \n",
    "    def animate(i):\n",
    "        t_now = t[0] + (i / (movie_frames-1)) * (t[-1] - t[0]) \n",
    "\n",
    "        k = np.searchsorted(t, t_now)\n",
    "        if (k >= eta.shape[0]):\n",
    "            k = eta.shape[0] - 1\n",
    "        j = max(0, k-1)\n",
    "        if (j == k):\n",
    "            k += 1\n",
    "        s = (t_now - t[j]) / (t[k] - t[j])\n",
    "\n",
    "        plotSolution(fig, \n",
    "                        (1-s)*eta[j] + s*eta[k], \n",
    "                        (1-s)*hu[j]  + s*hu[k], \n",
    "                        (1-s)*hv[j]  + s*hv[k], \n",
    "                        H_m+(1-s)*eta[j] + s*eta[k], \n",
    "                        dx, dy, \n",
    "                        t_now, filename,\n",
    "                        calc_uv=calc_uv,\n",
    "                        reduced_gravity_interface=reduced_gravity_interface,\n",
    "                        **kwargs, ax=ax, sp=sp)\n",
    "\n",
    "        clear_output(wait = True)\n",
    "        #print(progress.getPrintString(i / (movie_frames-1)))\n",
    "\n",
    "    #Matplotlib for creating an animation\n",
    "    anim = animation.FuncAnimation(fig, animate, range(movie_frames), interval=250)\n",
    "    plt.close(fig)\n",
    "    \n",
    "    return anim\n"
   ]
  },
  {
   "cell_type": "markdown",
   "metadata": {},
   "source": [
    "## Simulating upper layer"
   ]
  },
  {
   "cell_type": "code",
   "execution_count": null,
   "metadata": {},
   "outputs": [],
   "source": [
    "source_url = 'https://thredds.met.no/thredds/dodsC/fou-hi/norkyst800m-1h/NorKyst-800m_ZDEPTHS_his.an.2019071600.nc'\n",
    "\n",
    "casename = 'lofoten'\n",
    "\n",
    "case_info = NetCDFInitialization.getCaseLocation(casename)\n",
    "case_info.pop(\"name\")"
   ]
  },
  {
   "cell_type": "code",
   "execution_count": null,
   "metadata": {},
   "outputs": [],
   "source": [
    "upper_data_args = NetCDFInitialization.getInitialConditions(source_url,case_info[\"x0\"], case_info[\"x1\"], case_info[\"y0\"], case_info[\"y1\"], download_data=False, reduced_gravity_interface=25.0)"
   ]
  },
  {
   "cell_type": "code",
   "execution_count": null,
   "metadata": {},
   "outputs": [],
   "source": [
    "full_data_args = NetCDFInitialization.getInitialConditions(source_url,case_info[\"x0\"], case_info[\"x1\"], case_info[\"y0\"], case_info[\"y1\"], download_data=False)"
   ]
  },
  {
   "cell_type": "code",
   "execution_count": null,
   "metadata": {},
   "outputs": [],
   "source": [
    "from mpl_toolkits.axes_grid1 import make_axes_locatable\n",
    "\n",
    "fig, axs = plt.subplots(1,3,figsize=(30,12))\n",
    "\n",
    "upper_u0 = upper_data_args[\"hu0\"]/(OceanographicUtilities.intersectionsToMidpoints(upper_data_args[\"H\"]) + upper_data_args[\"eta0\"])\n",
    "im0 = axs[0].imshow(upper_u0, origin=\"lower\", cmap=plt.cm.coolwarm, vmin=-1, vmax=1)\n",
    "axs[0].set_title(\"u (upper layer)\")\n",
    "\n",
    "divider = make_axes_locatable(axs[0])\n",
    "cax = divider.append_axes('right', size='5%', pad=0.05)\n",
    "fig.colorbar(im0, cax=cax)\n",
    "\n",
    "full_u0 = full_data_args[\"hu0\"]/(OceanographicUtilities.intersectionsToMidpoints(full_data_args[\"H\"]) + full_data_args[\"eta0\"])\n",
    "axs[1].imshow(full_u0, origin=\"lower\", cmap=plt.cm.coolwarm, vmin=-1, vmax=1)\n",
    "axs[1].set_title(\"u (full)\")\n",
    "\n",
    "divider = make_axes_locatable(axs[1])\n",
    "cax = divider.append_axes('right', size='5%', pad=0.05)\n",
    "fig.colorbar(im0, cax=cax)\n",
    "\n",
    "im2 = axs[2].imshow(abs(full_u0 - upper_u0), origin=\"lower\", cmap=\"Greens\", vmin=0, vmax=1)\n",
    "axs[2].set_title(\"|u (full) - u (upper layer)|\")\n",
    "\n",
    "divider = make_axes_locatable(axs[2])\n",
    "cax = divider.append_axes('right', size='5%', pad=0.05)\n",
    "fig.colorbar(im2, cax=cax)"
   ]
  },
  {
   "cell_type": "code",
   "execution_count": null,
   "metadata": {},
   "outputs": [],
   "source": [
    "import copy \n",
    "data_args = copy.deepcopy(upper_data_args)"
   ]
  },
  {
   "cell_type": "code",
   "execution_count": null,
   "metadata": {},
   "outputs": [],
   "source": [
    "#data_args[\"H\"][data_args[\"H\"]<25.0] = 25.0"
   ]
  },
  {
   "cell_type": "markdown",
   "metadata": {},
   "source": [
    "For the initialisation of the simulation as well as for the boundary conditions, we use\n",
    "- $\\eta - \\Eta=0$\n",
    "- $h(u-U)$\n",
    "- $h(v-V)$\n",
    "\n",
    "Where capitals denote the full-depth integrated variables and minuscles the upper layer-integrated quantities "
   ]
  },
  {
   "cell_type": "code",
   "execution_count": null,
   "metadata": {},
   "outputs": [],
   "source": [
    "import netCDF4 \n",
    "nc = netCDF4.Dataset(source_url)\n",
    "\n",
    "locals().update(case_info)"
   ]
  },
  {
   "cell_type": "code",
   "execution_count": null,
   "metadata": {},
   "outputs": [],
   "source": [
    "# Set initial conditions\n",
    "upper_eta0 = upper_data_args[\"eta0\"]\n",
    "full_eta0  = full_data_args[\"eta0\"]\n",
    "data_args[\"eta0\"] = upper_eta0 - full_eta0\n",
    "\n",
    "full_H  = np.ma.array(nc['h'][y0:y1, x0:x1], mask=full_eta0.mask.copy())\n",
    "upper_H = np.ma.minimum(full_H, 25.0)\n",
    "\n",
    "upper_u0 = upper_data_args[\"hu0\"]/(upper_H + upper_data_args[\"eta0\"])\n",
    "full_u0  = full_data_args[\"hu0\"]/(full_H + full_data_args[\"eta0\"])\n",
    "data_args[\"hu0\"]  = upper_H*(upper_u0 - full_u0)\n",
    "\n",
    "upper_v0 = upper_data_args[\"hv0\"]/(upper_H + upper_data_args[\"eta0\"])\n",
    "full_v0  = full_data_args[\"hv0\"]/(full_H + full_data_args[\"eta0\"])\n",
    "data_args[\"hv0\"]  = upper_H*(upper_v0 - full_v0)"
   ]
  },
  {
   "cell_type": "code",
   "execution_count": null,
   "metadata": {},
   "outputs": [],
   "source": [
    "fig, axs = plt.subplots(1,2,figsize=(30,12))\n",
    "\n",
    "im0 = axs[0].imshow(data_args[\"hu0\"], origin=\"lower\", cmap=plt.cm.coolwarm, vmin=-10, vmax=10)\n",
    "axs[0].set_title(\"hu0 upper for init\")\n",
    "\n",
    "divider = make_axes_locatable(axs[0])\n",
    "cax = divider.append_axes('right', size='5%', pad=0.05)\n",
    "fig.colorbar(im0, cax=cax)\n",
    "\n",
    "axs[1].imshow(upper_data_args[\"hu0\"], origin=\"lower\", cmap=plt.cm.coolwarm, vmin=-10, vmax=10)\n",
    "axs[1].set_title(\"hu0 upper from file\")\n",
    "\n",
    "divider = make_axes_locatable(axs[1])\n",
    "cax = divider.append_axes('right', size='5%', pad=0.05)\n",
    "fig.colorbar(im0, cax=cax)\n",
    "\n"
   ]
  },
  {
   "cell_type": "code",
   "execution_count": null,
   "metadata": {},
   "outputs": [],
   "source": [
    "# preparing boundary condition data\n",
    "full_eta = nc['zeta'][:, y0-1:y1+1, x0-1:x1+1]\n",
    "\n",
    "full_H  = np.ma.array(nc['h'][y0-1:y1+1, x0-1:x1+1], mask=full_eta[0].mask.copy())\n",
    "upper_H = np.ma.minimum(full_H, 25.0)\n",
    "# full_h = full_eta + full_H\n",
    "full_u = nc['ubar'][:, y0-1:y1+1, x0-1:x1+1]\n",
    "full_v = nc['vbar'][:, y0-1:y1+1, x0-1:x1+1]"
   ]
  },
  {
   "cell_type": "code",
   "execution_count": null,
   "metadata": {},
   "outputs": [],
   "source": [
    "from gpuocean.utils.NetCDFInitialization import depth_integration\n",
    "\n",
    "upper_eta = nc['zeta'][:, y0-1:y1+1, x0-1:x1+1]\n",
    "upper_h = upper_H + upper_eta\n",
    "\n",
    "upper_hu = np.zeros_like(upper_eta)\n",
    "for t in range(upper_hu.shape[0]):\n",
    "    upper_hu[t] = depth_integration(nc, 25.0, x0-1, x1+1, y0-1, y1+1, \"u\", t)\n",
    "upper_u = upper_hu / upper_h\n",
    "\n",
    "upper_hv = np.zeros_like(upper_eta)\n",
    "for t in range(upper_hu.shape[0]):\n",
    "    upper_hv[t] = depth_integration(nc, 25.0, x0-1, x1+1, y0-1, y1+1, \"v\", t)\n",
    "upper_v = upper_hv / upper_h\n",
    "\n",
    "data_eta = upper_eta - full_eta\n",
    "data_hu  = upper_h * (upper_u - full_u)\n",
    "data_hv  = upper_h * (upper_v - full_v)\n",
    "\n",
    "data_eta = data_eta.filled(0)\n",
    "data_hu  = data_hu.filled(0)\n",
    "data_hv  = data_hv.filled(0)"
   ]
  },
  {
   "cell_type": "code",
   "execution_count": null,
   "metadata": {},
   "outputs": [],
   "source": [
    "data_args[\"boundary_conditions_data\"].north.h  = np.float32(data_eta[:,-1,1:-1])\n",
    "data_args[\"boundary_conditions_data\"].north.hu = np.float32(data_hu[:,-1,1:-1])\n",
    "data_args[\"boundary_conditions_data\"].north.hv = np.float32(data_hv[:,-1,1:-1])\n",
    "\n",
    "data_args[\"boundary_conditions_data\"].south.h  = np.float32(data_eta[:,0,1:-1])\n",
    "data_args[\"boundary_conditions_data\"].south.hu = np.float32(data_hu[:,0,1:-1])\n",
    "data_args[\"boundary_conditions_data\"].south.hv = np.float32(data_hv[:,0,1:-1])\n",
    "\n",
    "data_args[\"boundary_conditions_data\"].west.h   = np.float32(data_eta[:,1:-1,0])\n",
    "data_args[\"boundary_conditions_data\"].west.hu  = np.float32(data_hu[:,1:-1,0])\n",
    "data_args[\"boundary_conditions_data\"].west.hv  = np.float32(data_hv[:,1:-1,0])\n",
    "\n",
    "data_args[\"boundary_conditions_data\"].east.h   = np.float32(data_eta[:,1:-1,-1])\n",
    "data_args[\"boundary_conditions_data\"].east.hu  = np.float32(data_hu[:,1:-1,-1])\n",
    "data_args[\"boundary_conditions_data\"].east.hv  = np.float32(data_hv[:,1:-1,-1])"
   ]
  },
  {
   "cell_type": "code",
   "execution_count": null,
   "metadata": {},
   "outputs": [],
   "source": [
    "# upper_H = OceanographicUtilities.intersectionsToMidpoints(upper_data_args[\"H\"]).filled(0)\n",
    "# full_H  = OceanographicUtilities.intersectionsToMidpoints(full_data_args[\"H\"]).filled(0)\n",
    "\n",
    "# for cardinal in [\"north\", \"east\", \"south\", \"west\"]:\n",
    "#     variable = \"h\"\n",
    "#     upper_eta = getattr(getattr(upper_data_args[\"boundary_conditions_data\"], cardinal), variable)\n",
    "#     full_eta  = getattr(getattr(full_data_args[\"boundary_conditions_data\"], cardinal), variable)\n",
    "#     setattr(getattr(data_args[\"boundary_conditions_data\"], cardinal), variable, upper_eta - full_eta)\n",
    "\n",
    "#     for variable in [\"hu\", \"hv\"]: \n",
    "#         upper_huv = getattr(getattr(upper_data_args[\"boundary_conditions_data\"], cardinal), variable)\n",
    "#         full_huv  = getattr(getattr(full_data_args[\"boundary_conditions_data\"], cardinal), variable)\n",
    "#         if cardinal == \"west\":\n",
    "#             upper_h  = upper_H[:,-1]\n",
    "#             full_h = full_H[:,-1]\n",
    "#         if cardinal == \"east\": \n",
    "#             upper_h = upper_H[:,0]\n",
    "#             full_h = full_H[:,0]\n",
    "#         if cardinal == \"north\": \n",
    "#             upper_h = upper_H[0]\n",
    "#             full_h = full_H[0]\n",
    "#         if cardinal == \"south\": \n",
    "#             upper_h = upper_H[-1] \n",
    "#             full_h = full_H[-1]\n",
    "#         upper_uv = np.zeros_like(upper_huv)\n",
    "#         for t in range(upper_huv.shape[0]):\n",
    "#             for i in range(len(upper_h)):\n",
    "#                 if upper_h[i] != 0:\n",
    "#                     upper_uv[t,i] = upper_huv[t,i]/upper_h[i]\n",
    "#         full_uv = np.zeros_like(full_huv)\n",
    "#         for t in range(full_huv.shape[0]):\n",
    "#             for i in range(len(full_h)):\n",
    "#                 if full_h[i] != 0:\n",
    "#                     full_uv[t,i] = full_huv[t,i]/full_h[i]\n",
    "#         setattr(getattr(data_args[\"boundary_conditions_data\"], cardinal), variable, np.float32((upper_h + upper_eta)*(upper_uv - full_uv)))"
   ]
  },
  {
   "cell_type": "code",
   "execution_count": null,
   "metadata": {},
   "outputs": [],
   "source": [
    "sim = CDKLM16.CDKLM16(gpu_ctx, dt=0.0, write_netcdf=True,  **NetCDFInitialization.removeMetadata(data_args))"
   ]
  },
  {
   "cell_type": "code",
   "execution_count": null,
   "metadata": {},
   "outputs": [],
   "source": [
    "for hour in range(24):\n",
    "    sim.step(3600.0)"
   ]
  },
  {
   "cell_type": "code",
   "execution_count": null,
   "metadata": {},
   "outputs": [],
   "source": [
    "anim = ncAnimation(sim.sim_writer.output_file_name)"
   ]
  },
  {
   "cell_type": "code",
   "execution_count": null,
   "metadata": {},
   "outputs": [],
   "source": [
    "anim"
   ]
  },
  {
   "cell_type": "markdown",
   "metadata": {},
   "source": [
    "### Barotropic Simulation"
   ]
  },
  {
   "cell_type": "code",
   "execution_count": null,
   "metadata": {},
   "outputs": [],
   "source": [
    "sim2 = CDKLM16.CDKLM16(gpu_ctx, dt=0.0, write_netcdf=True,  **NetCDFInitialization.removeMetadata(full_data_args))"
   ]
  },
  {
   "cell_type": "code",
   "execution_count": null,
   "metadata": {},
   "outputs": [],
   "source": [
    "for hour in range(24):\n",
    "    sim2.step(3600.0)"
   ]
  },
  {
   "cell_type": "code",
   "execution_count": null,
   "metadata": {},
   "outputs": [],
   "source": [
    "anim = ncAnimation(sim2.sim_writer.output_file_name)"
   ]
  },
  {
   "cell_type": "code",
   "execution_count": null,
   "metadata": {},
   "outputs": [],
   "source": [
    "anim"
   ]
  },
  {
   "cell_type": "markdown",
   "metadata": {},
   "source": [
    "## Combining baroclinic and barotropic solutions\n",
    "- $\\eta_0 + \\eta_1$\n",
    "- $u_0 + u_1$\n",
    "- $v_0 + v_1$"
   ]
  },
  {
   "cell_type": "code",
   "execution_count": null,
   "metadata": {},
   "outputs": [],
   "source": [
    "anim = ncAnimation([sim.sim_writer.output_file_name, sim2.sim_writer.output_file_name])"
   ]
  },
  {
   "cell_type": "code",
   "execution_count": null,
   "metadata": {},
   "outputs": [],
   "source": [
    "anim"
   ]
  }
 ],
 "metadata": {
  "interpreter": {
   "hash": "3048633266a8aca5c85f16c1ee57ccad146141feb66febf24dcb8304467d1440"
  },
  "kernelspec": {
   "display_name": "Python 3.7.12 ('gpuocean_opendrift')",
   "language": "python",
   "name": "python3"
  },
  "language_info": {
   "codemirror_mode": {
    "name": "ipython",
    "version": 3
   },
   "file_extension": ".py",
   "mimetype": "text/x-python",
   "name": "python",
   "nbconvert_exporter": "python",
   "pygments_lexer": "ipython3",
   "version": "3.7.12"
  }
 },
 "nbformat": 4,
 "nbformat_minor": 4
}
