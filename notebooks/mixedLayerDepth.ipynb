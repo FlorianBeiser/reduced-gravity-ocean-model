{
 "cells": [
  {
   "cell_type": "markdown",
   "metadata": {},
   "source": [
    "### Classes and modules"
   ]
  },
  {
   "cell_type": "code",
   "execution_count": null,
   "metadata": {},
   "outputs": [],
   "source": [
    "#Lets have matplotlib \"inline\"\n",
    "%matplotlib inline\n",
    "\n",
    "#Import packages we need\n",
    "import numpy as np\n",
    "from netCDF4 import Dataset\n",
    "import xarray as xr\n",
    "\n",
    "#For plotting\n",
    "import matplotlib.pyplot as plt\n",
    "\n",
    "plt.rcParams[\"lines.color\"] = \"w\"\n",
    "plt.rcParams[\"text.color\"] = \"w\"\n",
    "plt.rcParams[\"axes.labelcolor\"] = \"w\"\n",
    "plt.rcParams[\"xtick.color\"] = \"w\"\n",
    "plt.rcParams[\"ytick.color\"] = \"w\"\n",
    "\n",
    "from importlib import reload"
   ]
  },
  {
   "cell_type": "code",
   "execution_count": null,
   "metadata": {},
   "outputs": [],
   "source": [
    "casename = 'skagerak'\n",
    "\n",
    "from gpuocean.utils import NetCDFInitialization\n",
    "reload(NetCDFInitialization)\n",
    "case_info = NetCDFInitialization.getCaseLocation(casename)\n",
    "case_info.pop(\"name\")"
   ]
  },
  {
   "cell_type": "code",
   "execution_count": null,
   "metadata": {},
   "outputs": [],
   "source": [
    "#s_source_url = \"C:\\\\Users\\\\florianb\\\\Downloads\\\\ocean_his.an.20190716.nc\"\n",
    "s_source_url = \"https://thredds.met.no/thredds/dodsC/fou-hi/new_norkyst800m/his/ocean_his.an.20190716.nc\""
   ]
  },
  {
   "cell_type": "code",
   "execution_count": null,
   "metadata": {},
   "outputs": [],
   "source": [
    "s_nc = Dataset(s_source_url)"
   ]
  },
  {
   "cell_type": "code",
   "execution_count": null,
   "metadata": {},
   "outputs": [],
   "source": [
    "xs = np.arange(case_info[\"x0\"],case_info[\"x1\"])\n",
    "ys = np.arange(case_info[\"y0\"],case_info[\"y1\"])\n",
    "t  = 0"
   ]
  },
  {
   "cell_type": "code",
   "execution_count": null,
   "metadata": {},
   "outputs": [],
   "source": [
    "s_lvls = s_nc[\"Cs_r\"][:].data\n",
    "w_lvls = s_nc[\"Cs_w\"][:].data"
   ]
  },
  {
   "cell_type": "code",
   "execution_count": null,
   "metadata": {},
   "outputs": [],
   "source": [
    "s_temps = s_nc[\"temp\"][t,:,case_info[\"y0\"]:case_info[\"y1\"],case_info[\"x0\"]:case_info[\"x1\"]]\n",
    "s_sals  = s_nc[\"salt\"][t,:,case_info[\"y0\"]:case_info[\"y1\"],case_info[\"x0\"]:case_info[\"x1\"]]"
   ]
  },
  {
   "cell_type": "code",
   "execution_count": null,
   "metadata": {},
   "outputs": [],
   "source": [
    "s_hs   = s_nc[\"h\"][case_info[\"y0\"]:case_info[\"y1\"],case_info[\"x0\"]:case_info[\"x1\"]]\n",
    "s_lats = s_nc[\"lat_rho\"][case_info[\"y0\"]:case_info[\"y1\"],case_info[\"x0\"]:case_info[\"x1\"]]"
   ]
  },
  {
   "cell_type": "code",
   "execution_count": null,
   "metadata": {},
   "outputs": [],
   "source": [
    "import seawater as sw"
   ]
  },
  {
   "cell_type": "code",
   "execution_count": null,
   "metadata": {},
   "outputs": [],
   "source": [
    "s_depths = np.ma.array(np.multiply.outer(s_lvls,s_hs), mask=s_temps.mask.copy())\n",
    "w_depths = np.ma.array(np.multiply.outer(w_lvls,s_hs), mask=np.array((len(w_lvls)*[s_temps[0].mask.copy()])))"
   ]
  },
  {
   "cell_type": "code",
   "execution_count": null,
   "metadata": {},
   "outputs": [],
   "source": [
    "s_pressures = sw.eos80.pres(-s_depths,s_lats)"
   ]
  },
  {
   "cell_type": "code",
   "execution_count": null,
   "metadata": {},
   "outputs": [],
   "source": [
    "s_pot_densities = sw.eos80.pden(s_sals,s_temps,s_pressures)"
   ]
  },
  {
   "cell_type": "code",
   "execution_count": null,
   "metadata": {},
   "outputs": [],
   "source": [
    "thres = 1024"
   ]
  },
  {
   "cell_type": "code",
   "execution_count": null,
   "metadata": {},
   "outputs": [],
   "source": [
    "mld_idx = np.abs(s_pot_densities - thres).argmin(axis=0)"
   ]
  },
  {
   "cell_type": "code",
   "execution_count": null,
   "metadata": {},
   "outputs": [],
   "source": [
    "min_idx = np.argmin(w_depths < -3, axis=0)"
   ]
  },
  {
   "cell_type": "code",
   "execution_count": null,
   "metadata": {},
   "outputs": [],
   "source": [
    "mld_idx = np.ma.minimum(mld_idx,min_idx)"
   ]
  },
  {
   "cell_type": "code",
   "execution_count": null,
   "metadata": {},
   "outputs": [],
   "source": [
    "mld = np.take_along_axis(s_depths, mld_idx.reshape(1,250,500), axis=0)[0]\n",
    "w_mld = np.take_along_axis(w_depths, mld_idx.reshape(1,250,500), axis=0)[0]"
   ]
  },
  {
   "cell_type": "code",
   "execution_count": null,
   "metadata": {},
   "outputs": [],
   "source": [
    "plt.imshow(mld, origin=\"lower\", vmin=-10)\n",
    "plt.colorbar(label=\"m\",shrink=.6)\n",
    "plt.title(\"Mixed layer depth (\"+str(thres)+\"kg/m3)\")"
   ]
  },
  {
   "cell_type": "code",
   "execution_count": null,
   "metadata": {},
   "outputs": [],
   "source": [
    "from scipy.ndimage.filters import convolve, gaussian_filter\n",
    "min_mld = 3\n",
    "#mld = np.ma.array(convolve(np.ma.minimum(mld,-min_mld), [[1/9,1/9,1/9],[1/9,1/9,1/9],[1/9,1/9,1/9]]), mask=s_temps[0].mask.copy())\n",
    "mld = np.ma.array(gaussian_filter(np.ma.minimum(mld,-min_mld), [1,1]), mask=s_temps[0].mask.copy())\n",
    "w_mld = np.ma.array(gaussian_filter(np.ma.minimum(w_mld,-min_mld), [1,1]), mask=s_temps[0].mask.copy())"
   ]
  },
  {
   "cell_type": "code",
   "execution_count": null,
   "metadata": {},
   "outputs": [],
   "source": [
    "plt.imshow(np.ma.array(s_hs, mask=s_temps[0].mask.copy()), origin=\"lower\", cmap=\"ocean\")\n",
    "plt.scatter(np.repeat(225,len(ys)), np.arange(len(ys)), c=\"red\", s=5.0)"
   ]
  },
  {
   "cell_type": "code",
   "execution_count": null,
   "metadata": {},
   "outputs": [],
   "source": [
    "s_pot_densities_show = np.ma.array(np.zeros((len(ys),1000)))\n",
    "for l in range(len(ys)):\n",
    "    d_up = 0 \n",
    "    for i in reversed(range(len(s_lvls))):\n",
    "        d = round(-(s_hs[l,225]*s_lvls[i]))\n",
    "        s_pot_densities_show[l,d_up:d] = s_pot_densities[i,l,225]\n",
    "        d_up = d\n",
    "s_pot_densities_show.mask = (s_pot_densities_show<1)\n",
    "\n",
    "idxs_show = np.arange(len(s_pot_densities_show.T[0]))[s_pot_densities_show.T[0].mask == False]"
   ]
  },
  {
   "cell_type": "code",
   "execution_count": null,
   "metadata": {},
   "outputs": [],
   "source": [
    "fig, axs = plt.subplots(2,1,figsize=(12,6))\n",
    "\n",
    "im = axs[0].imshow(s_pot_densities_show.T[0:25,idxs_show], vmin=1020, vmax=1028, cmap=\"plasma\",  aspect='auto')\n",
    "axs[0].set_ylabel(\"Depth \\n(zoom in)\")\n",
    "axs[0].set_title(\"Potential Densities\")\n",
    "\n",
    "axs[0].scatter(np.arange(len(idxs_show)),-mld[idxs_show,225], c=\"green\", s=2.5)\n",
    "axs[0].scatter(np.arange(len(idxs_show)),-w_mld[idxs_show,225], c=\"cyan\", s=2.5)\n",
    "\n",
    "\n",
    "im = axs[1].imshow(s_pot_densities_show.T[0:700,idxs_show], vmin=1020, vmax=1028, cmap=\"plasma\",  aspect='auto')\n",
    "axs[1].set_ylabel(\"Depth \\n(full)\")\n",
    "plt.xlabel(\"Skagen <<<   >>> Arendal\")\n",
    "\n",
    "fig.subplots_adjust(right=0.8)\n",
    "cbar_ax = fig.add_axes([0.85, 0.15, 0.02, 0.7])\n",
    "fig.colorbar(im, cax=cbar_ax, label=\"kg/m3\")\n"
   ]
  },
  {
   "cell_type": "code",
   "execution_count": null,
   "metadata": {},
   "outputs": [],
   "source": []
  },
  {
   "cell_type": "code",
   "execution_count": null,
   "metadata": {},
   "outputs": [],
   "source": []
  },
  {
   "cell_type": "code",
   "execution_count": null,
   "metadata": {},
   "outputs": [],
   "source": []
  }
 ],
 "metadata": {
  "kernelspec": {
   "display_name": "Python 3.7.12 ('gpuocean_opendrift')",
   "language": "python",
   "name": "python3"
  },
  "language_info": {
   "codemirror_mode": {
    "name": "ipython",
    "version": 3
   },
   "file_extension": ".py",
   "mimetype": "text/x-python",
   "name": "python",
   "nbconvert_exporter": "python",
   "pygments_lexer": "ipython3",
   "version": "3.7.12"
  },
  "vscode": {
   "interpreter": {
    "hash": "3048633266a8aca5c85f16c1ee57ccad146141feb66febf24dcb8304467d1440"
   }
  }
 },
 "nbformat": 4,
 "nbformat_minor": 4
}
