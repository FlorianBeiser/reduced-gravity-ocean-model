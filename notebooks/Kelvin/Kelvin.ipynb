{
 "cells": [
  {
   "cell_type": "markdown",
   "metadata": {},
   "source": [
    "```\n",
    "This notebook sets up and runs a test case for analyzing Kelvin waves\n",
    "Copyright (C) 2018, 2019  SINTEF Digital\n",
    "Copyright (C) 2018, 2019 Norwegian Meteorological Institute\n",
    "\n",
    "This notebook implements the Kelvin waves test case, as reported \n",
    "under Case D in \"Evaluation of Selected Finite-Difference and \n",
    "Finite-Volume Approaches to Rotational Shallow-Water Flow\" \n",
    "by Holm, Brodtkorb, Broström, Christensen and Sætra.\n",
    "\n",
    "This program is free software: you can redistribute it and/or modify\n",
    "it under the terms of the GNU General Public License as published by\n",
    "the Free Software Foundation, either version 3 of the License, or\n",
    "(at your option) any later version.\n",
    "\n",
    "This program is distributed in the hope that it will be useful,\n",
    "but WITHOUT ANY WARRANTY; without even the implied warranty of\n",
    "MERCHANTABILITY or FITNESS FOR A PARTICULAR PURPOSE.  See the\n",
    "GNU General Public License for more details.\n",
    "\n",
    "You should have received a copy of the GNU General Public License\n",
    "along with this program.  If not, see <http://www.gnu.org/licenses/>.\n",
    "```"
   ]
  },
  {
   "cell_type": "code",
   "execution_count": 1,
   "metadata": {
    "scrolled": false
   },
   "outputs": [],
   "source": [
    "%matplotlib inline\n",
    "\n",
    "#Import packages we need\n",
    "import numpy as np\n",
    "from matplotlib import animation, rc\n",
    "from matplotlib import pyplot as plt\n",
    "import matplotlib.gridspec as gridspec\n",
    "\n",
    "import os\n",
    "import datetime\n",
    "import sys\n",
    "\n",
    "from importlib import reload\n",
    "\n",
    "plt.rcParams[\"animation.html\"] = \"jshtml\"\n",
    "\n",
    "#Import our simulator\n",
    "from gpuocean.SWEsimulators import CDKLM16\n",
    "from gpuocean.utils import PlotHelper, Common, IPythonMagic\n",
    "#Import initial condition and bathymetry generating functions:\n",
    "from gpuocean.utils.BathymetryAndICs import *"
   ]
  },
  {
   "cell_type": "code",
   "execution_count": 2,
   "metadata": {},
   "outputs": [],
   "source": [
    "#%setup_logging --out galewsky.log\n",
    "%cuda_context_handler gpu_ctx"
   ]
  },
  {
   "cell_type": "code",
   "execution_count": 3,
   "metadata": {},
   "outputs": [
    {
     "name": "stdout",
     "output_type": "stream",
     "text": [
      "Saving images to kelvin_images_2023_02_24-12_10_56\n"
     ]
    }
   ],
   "source": [
    "image_folder = 'kelvin_images_' + datetime.datetime.now().strftime(\"%Y_%m_%d-%H_%M_%S\")\n",
    "os.makedirs(image_folder)\n",
    "print (\"Saving images to \" + image_folder)"
   ]
  },
  {
   "cell_type": "markdown",
   "metadata": {},
   "source": [
    "# Kelvin waves!\n",
    "Defining and analysing a test case for Kelvin waves.\n"
   ]
  },
  {
   "cell_type": "code",
   "execution_count": 4,
   "metadata": {},
   "outputs": [],
   "source": [
    "def add_hovmuller(i, t, hovmuller_data, data):\n",
    "    hovmuller_data['t'][i] = t\n",
    "    for y, hovmuller in hovmuller_data['hovmuller']:\n",
    "        hovmuller[i,:] = data[y,:]\n",
    "    hovmuller_data['mass'][i] = data.sum()\n",
    "\n",
    "def run_sim(sim, i, hovmuller_data):\n",
    "    if (i>0):\n",
    "        t = sim.step(12*60*60)\n",
    "    else:\n",
    "        t = 0.0\n",
    "\n",
    "    eta1 = sim.download(interior_domain_only=True)[0]\n",
    "\n",
    "    if hovmuller_data is not None:\n",
    "        add_hovmuller(i, t, hovmuller_data, eta1)\n",
    "    return t\n",
    "        \n",
    "def sim_animation(sim, T, sub_dt=10, hovmuller_data=None, kill_left=-1):\n",
    "    \"\"\"\n",
    "    Creates an animation of the simulator based on T frames, with frames sub_dt*sim.dt appart.\n",
    "    \n",
    "    If hovmuller_data is provided, cross sections of the simulation is stored in the hovmuller_data arrays.\n",
    "    hovmuller_data is expected to be of the format:\n",
    "    hovmuller_data = {'t': 1D array of size T which will contain the simulation times,\n",
    "            'hovmuller': [(y1, 2D array of size T times nx to store the cross sections),\n",
    "                          (y2, 2D array of size T times nx to store the cross sections),\n",
    "                           ...]}\n",
    "    \"\"\"\n",
    "    eta1, u1, v1 = sim.download(interior_domain_only=True)\n",
    "    \n",
    "    #Create figure and plot initial conditions\n",
    "    fig = plt.figure(figsize=(16, 16))\n",
    "    domain_extent = [0, sim.nx*sim.dx, 0, sim.ny*sim.dy]\n",
    "    \n",
    "    eta_max = eta1.max()*0.5\n",
    "    hu_max = max(v1.max(), u1.max())\n",
    "    \n",
    "    ax_eta = plt.subplot(3,1,1)\n",
    "    sp_eta = ax_eta.imshow(eta1, interpolation=\"none\", origin='lower', vmin=-eta_max, vmax=eta_max, extent=domain_extent)\n",
    "    plt.title('eta')\n",
    "    #ax_eta.colorbar()\n",
    "    \n",
    "    ax_u = plt.subplot(3,1,2)\n",
    "    sp_u = ax_u.imshow(u1, interpolation=\"none\", origin='lower', vmin=-hu_max, vmax=hu_max, extent=domain_extent)\n",
    "    plt.title('hu')\n",
    "    #ax_u.colorbar()\n",
    "    \n",
    "    ax_v = plt.subplot(3,1,3)\n",
    "    sp_v = ax_v.imshow(v1, interpolation=\"none\", origin='lower', vmin=-hu_max, vmax=hu_max, extent=domain_extent)\n",
    "    plt.title('hv')\n",
    "    #ax_v.colorbar()\n",
    "    \n",
    "    #Helper function which simulates and plots the solution\n",
    "    def animate(i):\n",
    "        \n",
    "        t = run_sim(sim, i, hovmuller_data)\n",
    "        eta1, u1, v1 = sim.download(interior_domain_only=True)\n",
    "\n",
    "        #Update plots\n",
    "        fig.sca(ax_eta)\n",
    "        sp_eta.set_data(eta1)\n",
    "\n",
    "        fig.sca(ax_u)\n",
    "        sp_u.set_data(u1)\n",
    "\n",
    "        fig.sca(ax_v)\n",
    "        sp_v.set_data(v1)\n",
    "\n",
    "        fig.suptitle(\"Time = {:04.0f} s ({:s})\".format(t, sim.__class__.__name__), fontsize=18)\n",
    "        print(\".\", end='')\n",
    "\n",
    "    #Matplotlib for creating an animation\n",
    "    anim = animation.FuncAnimation(fig, animate, range(T), interval=100)\n",
    "    plt.close(fig)\n",
    "    return anim"
   ]
  },
  {
   "cell_type": "code",
   "execution_count": 5,
   "metadata": {},
   "outputs": [],
   "source": [
    "# Check solution after one periode:\n",
    "def plot_periodic_solution(all_data, yticks=[-15,-17.5,-20,-22.5]):\n",
    "    \n",
    "    sims = ['CDKLM']\n",
    "    for full in [False]:\n",
    "        for sim in sims:\n",
    "            hovmuller_data = all_data[sim]\n",
    "            \n",
    "            # Skip plotting if the simulator is not run\n",
    "            if hovmuller_data['t'][1] == 0.0:\n",
    "                continue\n",
    "\n",
    "            fig = plt.figure(figsize=(10,3))\n",
    "            nx = hovmuller_data['hovmuller'][0][1].shape[1]\n",
    "            x_mid = int(nx/2)\n",
    "            x_start = x_mid - int(nx/2.75)\n",
    "            x_end   = x_mid + int(nx/2.75)\n",
    "            if full:\n",
    "                x_start = 0\n",
    "                x_end = nx\n",
    "            x_axis = np.array(range(x_start-x_mid, x_end-x_mid))*all_data['dx']/1000\n",
    "\n",
    "            for hovmuller, ticks in zip(hovmuller_data['hovmuller'], ['-']):#, '--']):\n",
    "                colormap=plt.cm.bone\n",
    "                colorvals = [0.0, 0.3, 0.45, 0.6, 0.7, 0.75, 0.8, 0.825, 0.85, 0.9]\n",
    "\n",
    "                for idx in [0,1,2,4,6,8]:\n",
    "                    \n",
    "                    phase_speed = np.sqrt(all_data['g']*all_data['H'])\n",
    "                    offset = int(phase_speed*hovmuller_data[\"t\"][idx]/all_data[\"dx\"])\n",
    "\n",
    "                    label = None\n",
    "                    if ticks == '-':\n",
    "                        try:\n",
    "                            label = str(int(hovmuller_data[\"t\"][idx]/3600))+\" h\"\n",
    "                        except:\n",
    "                            label = None\n",
    "\n",
    "\n",
    "                    plt.plot(x_axis, -all_data[\"H\"]-np.roll(hovmuller[1][idx], -offset)[x_start:x_end], \n",
    "                            ticks, color=colormap(colorvals[idx]), label=label)\n",
    "                \n",
    "            if full:\n",
    "                sim = sim + '_full'\n",
    "            \n",
    "            # plt.title(sim)\n",
    "            plt.ylim([-2.4*all_data['scale_wave']-all_data[\"H\"], -all_data[\"H\"]+0.7*all_data['scale_wave']])\n",
    "            plt.xlabel(u'$x$ [km]', fontsize='large')#\\n\\n nx = ' + str(nx) + ', dx = ' + str(all_data['dx']) )\n",
    "            plt.ylabel(u'$\\zeta$ [m]', fontsize='large')\n",
    "            plt.yticks(yticks)\n",
    "            plt.legend(loc=2, fontsize='large')\n",
    "            plt.grid()\n",
    "            plt.tight_layout()\n",
    "            plot_filename = image_folder + \"/periodic_solution_nx\" + str(all_data['nx']) + \"_\" + sim + \".pdf\"\n",
    "            if all_data['scale_wave'] < 0.9:\n",
    "                plot_filename = plot_filename.replace('solution_', 'solution_smallwave_')\n",
    "            plt.savefig(plot_filename)\n",
    "            plt.savefig(plot_filename.replace('.pdf', '.png'))\n",
    "\n",
    "\n",
    "def plot_total_mass(all_data):\n",
    "    fig = plt.figure(figsize=(15,5))\n",
    "    max_mass = 0.0\n",
    "    for sim_name in [\"CDKLM\"]:\n",
    "        plt.plot(all_data[sim_name]['t'] / all_data['period'], \n",
    "                 all_data[sim_name]['mass']-all_data[sim_name]['mass'][0], \n",
    "                 label=sim_name)\n",
    "        max_mass = max(max_mass, np.max(all_data[sim_name]['mass']))\n",
    "    plt.legend()\n",
    "    plt.title('Total mass of eta')\n",
    "    plt.grid()\n",
    "    print(\"total mass: \", max_mass)\n",
    "    plot_filename = image_folder + \"/preserved_mass_nx\" + str(all_data['nx']) + \".pdf\"\n",
    "    plt.savefig(plot_filename)"
   ]
  },
  {
   "cell_type": "code",
   "execution_count": 6,
   "metadata": {},
   "outputs": [],
   "source": [
    "def eta_cell(r_i, r_j, rossby_radius, d=1, l=1):\n",
    "    f_func = 1.0 + np.tanh((-r_i + d*rossby_radius)/(rossby_radius/l))\n",
    "\n",
    "    return np.exp(-r_j/rossby_radius)*f_func\n",
    "    \n",
    "def init_eta(eta, ghost_cells, rossby_radius, sim_args, d=1, l=1):\n",
    "    ny, nx = eta.shape\n",
    "    x_0 = nx/2\n",
    "    y_0 = ghost_cells[2]-0.5\n",
    "    for j in range(0, ny):\n",
    "        for i in range(0, nx):\n",
    "            r_j = np.sqrt((j-y_0)**2)*sim_args[\"dy\"]\n",
    "            r_i = np.sqrt((i-x_0)**2)*sim_args[\"dx\"]\n",
    "            \n",
    "            eta[j,i] = eta_cell(r_i, r_j, rossby_radius, d, l)\n",
    "            \n",
    "            \n",
    "def init_hu(hu, ghost_cells, rossby_radius, geoconst, sim_args):\n",
    "    ny, nx = hu.shape\n",
    "    x_0 = nx/2\n",
    "    y_0 = ghost_cells[2]-0.5\n",
    "    for j in range(0, ny):\n",
    "        for i in range(0, nx):\n",
    "            r_j = np.sqrt((j-y_0)**2)*sim_args[\"dy\"]\n",
    "            r_i = np.sqrt((i-x_0)**2)*sim_args[\"dx\"]\n",
    "            \n",
    "            eta_c = eta_cell(r_i, r_j, rossby_radius)\n",
    "            hu[j,i] = -geoconst*(-1.0/rossby_radius)*np.sign(j-y_0)*eta_c\n",
    "            \n",
    "            \n",
    "    "
   ]
  },
  {
   "cell_type": "markdown",
   "metadata": {},
   "source": [
    "Changed parameters:\n",
    "\n",
    "- g\n",
    "> 9.81 -> ?\n",
    "- dx\n",
    "> 5000 -> ?\n",
    "- dy\n",
    "> 10000 -> ?\n",
    "- depth (smaller depths become critical)\n",
    "> 100 -> ?"
   ]
  },
  {
   "cell_type": "code",
   "execution_count": 7,
   "metadata": {},
   "outputs": [],
   "source": [
    "def runPeriodicSims(animate=False, cut_after=None,\n",
    "                    theta=1.3, hu_push = 1.0, scale_wave=1.0, depth=5, d=2.5, l=2.5):\n",
    "\n",
    "    # Collecting sim args\n",
    "    sim_args = {\n",
    "        \"gpu_ctx\": gpu_ctx,\n",
    "        \"nx\": 400, \"ny\": 300,\n",
    "        \"dx\": 200, \"dy\": 400,\n",
    "        \"dt\": 25,\n",
    "        \"g\": 0.01,\n",
    "        \"f\": 1.2e-4,\n",
    "        \"coriolis_beta\": 0.0,\n",
    "        \"r\": 0.0,\n",
    "        \"boundary_conditions\": Common.BoundaryConditions(1,2,1,2)\n",
    "    }\n",
    "    fvm_args = {\n",
    "        \"rk_order\": 2,\n",
    "        \"theta\": theta\n",
    "    }\n",
    "    \n",
    "    # Calculating speeds\n",
    "    rossby_radius = np.sqrt(sim_args[\"g\"]*depth)/sim_args[\"f\"]\n",
    "    phase_speed = np.sqrt(sim_args['g']*depth)\n",
    "    period = sim_args['dx']*sim_args['nx']/phase_speed\n",
    "    geoconst = sim_args['g']*depth/sim_args['f']\n",
    "    \n",
    "    T = 10\n",
    "\n",
    "    print(\"rossby_radius: \", rossby_radius)\n",
    "    print(\"phase_speed:   \", phase_speed)\n",
    "\n",
    "\n",
    "    # Initialise state\n",
    "    ghosts = [2,2,2,2]\n",
    "\n",
    "    dataShape = (sim_args[\"ny\"] + ghosts[0]+ghosts[2], \n",
    "                    sim_args[\"nx\"] + ghosts[1]+ghosts[3])\n",
    "\n",
    "    eta = np.zeros(dataShape, dtype=np.float32, order='C');\n",
    "    hu = np.zeros(dataShape, dtype=np.float32, order='C');\n",
    "    hv = np.zeros(dataShape, dtype=np.float32, order='C');\n",
    "    H = np.ones((dataShape[0]+1, dataShape[1]+1), dtype=np.float32)*depth\n",
    "\n",
    "    # d increases: width of bump increases\n",
    "    # l increases: steepness of slopes of bump increases\n",
    "    init_eta(eta, ghosts, rossby_radius, sim_args, d=d, l=l)\n",
    "    init_hu( hu,  ghosts, rossby_radius, geoconst, sim_args)\n",
    "\n",
    "    if scale_wave != 0:\n",
    "        eta = eta*scale_wave\n",
    "        hu = hu*scale_wave\n",
    "    \n",
    "    init_args =  {\n",
    "        \"eta0\" : eta,\n",
    "        \"hu0\"  : hu,\n",
    "        \"hv0\"  : hv,\n",
    "        \"H\"    : H\n",
    "    }\n",
    "    \n",
    "    \n",
    "    # Initialise simulation\n",
    "    sim = CDKLM16.CDKLM16(**sim_args, **init_args, **fvm_args)\n",
    "\n",
    "    if cut_after is not None:\n",
    "        T = cut_after\n",
    "        \n",
    "    if animate:\n",
    "        return sim_animation(sim, T, hovmuller_data=None)\n",
    "\n",
    "    else:\n",
    "        hovmuller_data = {'CDKLM': {'t': np.zeros(T),\n",
    "                            'hovmuller': [(0,  np.zeros((T, sim_args[\"nx\"]))), \n",
    "                                            (10, np.zeros((T, sim_args[\"nx\"])))],\n",
    "                            'mass': np.zeros(T)},\n",
    "                    'nx' : sim_args['nx'],\n",
    "                    'dx' : sim_args['dx'],\n",
    "                    'period' : period,\n",
    "                    'theta' : fvm_args['theta'],\n",
    "                    'hu_push' : hu_push,\n",
    "                    'g' : sim_args['g'],\n",
    "                    'f' : sim_args['f'],\n",
    "                    'dt' : sim_args['dt'],\n",
    "                    'H' : depth,\n",
    "                    'scale_wave': scale_wave\n",
    "                    }\n",
    "        for t in range(T):\n",
    "            run_sim(sim, t, hovmuller_data[\"CDKLM\"])\n",
    "            print(\".\", end='')\n",
    "            print(sim.t/60/60)\n",
    "    return hovmuller_data"
   ]
  },
  {
   "attachments": {},
   "cell_type": "markdown",
   "metadata": {},
   "source": [
    "## Small wave"
   ]
  },
  {
   "cell_type": "code",
   "execution_count": 8,
   "metadata": {},
   "outputs": [
    {
     "name": "stdout",
     "output_type": "stream",
     "text": [
      "rossby_radius:  3227.486121839514\n",
      "phase_speed:    0.3872983346207417\n",
      ".0.0\n",
      ".12.0\n",
      ".24.0\n",
      ".36.0\n",
      ".48.0\n",
      ".60.0\n",
      ".72.0\n",
      ".84.0\n",
      ".96.0\n",
      ".108.0\n"
     ]
    },
    {
     "data": {
      "image/png": "[encoded data removed]",
      "text/plain": [
       "<Figure size 720x216 with 1 Axes>"
      ]
     },
     "metadata": {
      "needs_background": "light"
     },
     "output_type": "display_data"
    }
   ],
   "source": [
    "data = runPeriodicSims(depth=15, scale_wave=0.05, d=1.5, l=0.75)\n",
    "plot_periodic_solution(data, yticks=[-15, -15.05, -15.1])"
   ]
  },
  {
   "attachments": {},
   "cell_type": "markdown",
   "metadata": {},
   "source": [
    "## Big wave"
   ]
  },
  {
   "cell_type": "code",
   "execution_count": 9,
   "metadata": {},
   "outputs": [
    {
     "name": "stdout",
     "output_type": "stream",
     "text": [
      "rossby_radius:  3227.486121839514\n",
      "phase_speed:    0.3872983346207417\n",
      ".0.0\n",
      ".12.0\n",
      ".24.0\n",
      ".36.0\n",
      ".48.0\n",
      ".60.0\n",
      ".72.0\n",
      ".84.0\n",
      ".96.0\n",
      ".108.0\n"
     ]
    },
    {
     "data": {
      "image/png": "[encoded data removed]",
      "text/plain": [
       "<Figure size 720x216 with 1 Axes>"
      ]
     },
     "metadata": {
      "needs_background": "light"
     },
     "output_type": "display_data"
    }
   ],
   "source": [
    "data = runPeriodicSims(depth=15, scale_wave=3.5)\n",
    "plot_periodic_solution(data)"
   ]
  },
  {
   "cell_type": "code",
   "execution_count": 10,
   "metadata": {},
   "outputs": [
    {
     "data": {
      "text/plain": [
       "<matplotlib.legend.Legend at 0x7f0dedc8ce50>"
      ]
     },
     "execution_count": 10,
     "metadata": {},
     "output_type": "execute_result"
    },
    {
     "data": {
      "image/png": "[encoded data removed]",
      "text/plain": [
       "<Figure size 432x288 with 1 Axes>"
      ]
     },
     "metadata": {
      "needs_background": "light"
     },
     "output_type": "display_data"
    }
   ],
   "source": [
    "t=3\n",
    "plt.plot(-np.roll(data[\"CDKLM\"][\"hovmuller\"][0][1][t], -24*t))\n",
    "plt.ylim((-5,0))\n",
    "plt.legend([str(data[\"CDKLM\"][\"t\"][t]/60/60)+\"h\"])"
   ]
  },
  {
   "cell_type": "code",
   "execution_count": 11,
   "metadata": {},
   "outputs": [
    {
     "name": "stdout",
     "output_type": "stream",
     "text": [
      "total mass:  4554.3779296875\n"
     ]
    },
    {
     "data": {
      "image/png": "[encoded data removed]",
      "text/plain": [
       "<Figure size 1080x360 with 1 Axes>"
      ]
     },
     "metadata": {
      "needs_background": "light"
     },
     "output_type": "display_data"
    }
   ],
   "source": [
    "plot_total_mass(data)"
   ]
  },
  {
   "cell_type": "code",
   "execution_count": 12,
   "metadata": {
    "scrolled": true
   },
   "outputs": [
    {
     "name": "stdout",
     "output_type": "stream",
     "text": [
      "rossby_radius:  3227.486121839514\n",
      "phase_speed:    0.3872983346207417\n",
      "...."
     ]
    }
   ],
   "source": [
    "runPeriodicSims(depth=15, scale_wave=4, animate=True, cut_after=10)"
   ]
  },
  {
   "attachments": {},
   "cell_type": "markdown",
   "metadata": {},
   "source": [
    "## Sandbox"
   ]
  },
  {
   "cell_type": "code",
   "execution_count": null,
   "metadata": {},
   "outputs": [],
   "source": [
    "TEST TEST TEST"
   ]
  },
  {
   "cell_type": "code",
   "execution_count": null,
   "metadata": {},
   "outputs": [],
   "source": [
    "sim_args = {\n",
    "    \"gpu_ctx\": gpu_ctx,\n",
    "    \"nx\": 400, \"ny\": 300,\n",
    "    \"dx\": 200, \"dy\": 400,\n",
    "    \"dt\": 25,\n",
    "    \"g\": -0.01,\n",
    "    \"f\": 1.2e-4,\n",
    "    \"coriolis_beta\": 0.0,\n",
    "    \"r\": 0.0,\n",
    "    \"boundary_conditions\": Common.BoundaryConditions(1,2,1,2)\n",
    "}\n",
    "\n",
    "depth = -20\n",
    "\n",
    "# # Calculating speeds\n",
    "rossby_radius = np.sqrt(sim_args[\"g\"]*depth)/sim_args[\"f\"]\n",
    "phase_speed = np.sqrt(sim_args['g']*depth)\n",
    "period = sim_args['dx']*sim_args['nx']/phase_speed\n",
    "geoconst = sim_args['g']*depth/sim_args['f']\n",
    "\n",
    "print(\"rossby_radius: \", rossby_radius)\n",
    "print(\"phase_speed:   \", phase_speed)\n",
    "print(\"period:        \", period)\n",
    "print(\"geoconst:      \", geoconst)\n"
   ]
  },
  {
   "cell_type": "code",
   "execution_count": null,
   "metadata": {},
   "outputs": [],
   "source": [
    "# Initialise state\n",
    "ghosts = [1,1,1,1]\n",
    "\n",
    "dataShape = (sim_args[\"ny\"] + ghosts[0]+ghosts[2], \n",
    "                sim_args[\"nx\"] + ghosts[1]+ghosts[3])\n",
    "\n",
    "eta = np.zeros(dataShape, dtype=np.float32, order='C');\n",
    "hu = np.zeros((dataShape[0], dataShape[1]+1), dtype=np.float32);\n",
    "hv = np.zeros((dataShape[0]+1, dataShape[1]), dtype=np.float32);  \n",
    "H = np.ones(dataShape, dtype=np.float32)*depth\n",
    "\n",
    "init_eta(eta, ghosts, rossby_radius, sim_args)\n",
    "init_hu( hu,  ghosts, rossby_radius, geoconst, sim_args)\n",
    "\n",
    "\n",
    "scale_wave = 1.0\n",
    "eta = eta*scale_wave\n",
    "hu = hu*scale_wave\n"
   ]
  },
  {
   "cell_type": "code",
   "execution_count": null,
   "metadata": {},
   "outputs": [],
   "source": [
    "from gpuocean.SWEsimulators import CTCS"
   ]
  },
  {
   "cell_type": "code",
   "execution_count": null,
   "metadata": {},
   "outputs": [],
   "source": [
    "init_args =  {\n",
    "    \"eta0\" : -eta,\n",
    "    \"hu0\"  : hu,\n",
    "    \"hv0\"  : hv,\n",
    "    \"H\"    : H\n",
    "}\n",
    "\n",
    "\n",
    "# Initialise simulation\n",
    "sim = CTCS.CTCS(**sim_args, **init_args, A=50/2)"
   ]
  },
  {
   "cell_type": "code",
   "execution_count": null,
   "metadata": {},
   "outputs": [],
   "source": [
    "sim.step(300)\n",
    "plt.plot(sim.gpu_data.h0.download(sim.gpu_stream)[2])"
   ]
  },
  {
   "cell_type": "code",
   "execution_count": null,
   "metadata": {},
   "outputs": [],
   "source": [
    "plt.imshow(sim.download()[1][0:50,150:250], vmin=0.0)\n",
    "plt.colorbar()"
   ]
  }
 ],
 "metadata": {
  "git": {
   "suppress_outputs": false
  },
  "kernelspec": {
   "display_name": "Python 3.7.12 ('gpuocean')",
   "language": "python",
   "name": "python3"
  },
  "language_info": {
   "codemirror_mode": {
    "name": "ipython",
    "version": 3
   },
   "file_extension": ".py",
   "mimetype": "text/x-python",
   "name": "python",
   "nbconvert_exporter": "python",
   "pygments_lexer": "ipython3",
   "version": "3.7.12"
  },
  "vscode": {
   "interpreter": {
    "hash": "8f2533c4321717d78a0dea0f22364144e61e5e875423e1d8df93e4f8589bdcaa"
   }
  }
 },
 "nbformat": 4,
 "nbformat_minor": 1
}
