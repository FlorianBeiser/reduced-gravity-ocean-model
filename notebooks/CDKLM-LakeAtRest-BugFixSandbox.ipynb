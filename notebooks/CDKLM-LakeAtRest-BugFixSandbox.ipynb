{
 "cells": [
  {
   "cell_type": "markdown",
   "metadata": {},
   "source": [
    "# Reduced Gravity"
   ]
  },
  {
   "cell_type": "markdown",
   "metadata": {},
   "source": [
    "## Classes and modules"
   ]
  },
  {
   "cell_type": "code",
   "execution_count": 1,
   "metadata": {},
   "outputs": [],
   "source": [
    "#Lets have matplotlib \"inline\"\n",
    "%matplotlib inline\n",
    "\n",
    "import os\n",
    "import sys\n",
    "\n",
    "#Import packages we need\n",
    "import numpy as np\n",
    "from netCDF4 import Dataset\n",
    "import datetime\n",
    "from IPython.display import display\n",
    "\n",
    "#For plotting\n",
    "import matplotlib\n",
    "from matplotlib import pyplot as plt\n",
    "from mpl_toolkits.axes_grid1 import make_axes_locatable\n",
    "\n",
    "plt.rcParams[\"lines.color\"] = \"w\"\n",
    "plt.rcParams[\"text.color\"] = \"w\"\n",
    "plt.rcParams[\"axes.labelcolor\"] = \"w\"\n",
    "plt.rcParams[\"xtick.color\"] = \"w\"\n",
    "plt.rcParams[\"ytick.color\"] = \"w\""
   ]
  },
  {
   "cell_type": "markdown",
   "metadata": {},
   "source": [
    "GPU Ocean-modules:"
   ]
  },
  {
   "cell_type": "code",
   "execution_count": 2,
   "metadata": {},
   "outputs": [],
   "source": [
    "from gpuocean.SWEsimulators import CDKLM16\n",
    "from gpuocean.utils import Common, IPythonMagic, NetCDFInitialization"
   ]
  },
  {
   "cell_type": "code",
   "execution_count": 3,
   "metadata": {},
   "outputs": [],
   "source": [
    "%cuda_context_handler gpu_ctx"
   ]
  },
  {
   "cell_type": "markdown",
   "metadata": {},
   "source": [
    "Plot utils"
   ]
  },
  {
   "cell_type": "code",
   "execution_count": 4,
   "metadata": {},
   "outputs": [],
   "source": [
    "from IPython.display import clear_output\n",
    "from matplotlib import animation, rc\n",
    "plt.rcParams[\"animation.html\"] = \"jshtml\"\n",
    "from mpl_toolkits.axes_grid1 import make_axes_locatable\n",
    "\n",
    "from gpuocean.utils import PlotHelper\n",
    "from gpuocean.utils.NetCDFInitialization import depth_integration\n",
    "\n",
    "def plotSolution(fig, \n",
    "                 eta, hu, hv, h, dx, dy, \n",
    "                 t, comment,\n",
    "                 h_min=-1.5, h_max=1.5, \n",
    "                 uv_min=-0.3, uv_max=0.3,\n",
    "                 calc_uv = False, \n",
    "                 add_extra=False,\n",
    "                 reduced_gravity_interface=None,\n",
    "                 ax=None, sp=None):\n",
    "\n",
    "\n",
    "    from datetime import timedelta\n",
    "    fig.suptitle(\"Time = {:0>8} ({:s})\".format(str(timedelta(seconds=int(t))), comment), \n",
    "                 fontsize=18,\n",
    "                 horizontalalignment='left')\n",
    "    \n",
    "    ny, nx = eta.shape\n",
    "    domain_extent = [0, nx*dx, 0, ny*dy]\n",
    "    \n",
    "    x_plots = 3\n",
    "    y_plots = 1\n",
    "    if (add_extra == True):\n",
    "        x_plots=3\n",
    "        y_plots=2\n",
    "    \n",
    "    V_max = 3 * (uv_max-uv_min) / np.max(h)\n",
    "    R_min = -V_max/2000\n",
    "    R_max = V_max/2000\n",
    "   \n",
    "    huv_label = [\"hu\",\"hv\"]\n",
    "    if calc_uv:\n",
    "        \"\"\"plotting actually u and v\"\"\"\n",
    "        if reduced_gravity_interface is None or reduced_gravity_interface == 0.0:\n",
    "            hu = hu/(h+eta)\n",
    "            hv = hv/(h+eta)\n",
    "        else:\n",
    "            hu = hu/(reduced_gravity_interface+eta)\n",
    "            hv = hv/(reduced_gravity_interface+eta)\n",
    "        uv_min = -0.3\n",
    "        uv_max = +0.3\n",
    "        huv_label = [\"u\",\"v\"]\n",
    "\n",
    "    if (ax is None):\n",
    "        ax = [None]*x_plots*y_plots\n",
    "        sp = [None]*x_plots*y_plots\n",
    "\n",
    "        uv_cmap = plt.cm.coolwarm\n",
    "        uv_cmap.set_bad(\"grey\", alpha = 1.0)\n",
    "        \n",
    "        h_cmap = plt.cm.coolwarm\n",
    "        h_cmap.set_bad(\"grey\", alpha = 1.0)\n",
    "\n",
    "        ax[0] = plt.subplot(y_plots, x_plots, 1)\n",
    "        sp[0] = ax[0].imshow(eta, interpolation=\"none\", origin='lower', \n",
    "                             cmap=h_cmap, \n",
    "                             vmin=h_min, vmax=h_max, \n",
    "                             extent=domain_extent)\n",
    "        plt.axis('image')\n",
    "        plt.title(\"$\\zeta{}$\")\n",
    "        divider0 = make_axes_locatable(ax[0])\n",
    "        cax0 = divider0.append_axes('right', size='5%', pad=0.05)\n",
    "        fig.colorbar(sp[0],cax=cax0)\n",
    "\n",
    "\n",
    "        ax[1] = plt.subplot(y_plots, x_plots, 2)\n",
    "        sp[1] = ax[1].imshow(hu, interpolation=\"none\", origin='lower', \n",
    "                            cmap=uv_cmap, \n",
    "                            vmin=uv_min, vmax=uv_max, \n",
    "                            extent=domain_extent)\n",
    "        plt.axis('image')\n",
    "        plt.title(\"$\"+huv_label[0]+\"$\")\n",
    "        divider1 = make_axes_locatable(ax[1])\n",
    "        cax1 = divider1.append_axes('right', size='5%', pad=0.05)\n",
    "        fig.colorbar(sp[1],cax=cax1)\n",
    "\n",
    "\n",
    "\n",
    "        ax[2] = plt.subplot(y_plots, x_plots, 3)\n",
    "        sp[2] = ax[2].imshow(hv, interpolation=\"none\", origin='lower', \n",
    "                             cmap=uv_cmap, \n",
    "                             vmin=uv_min, vmax=uv_max, \n",
    "                             extent=domain_extent)\n",
    "        plt.axis('image')\n",
    "        plt.title(\"$\"+huv_label[1]+\"$\")\n",
    "        divider2 = make_axes_locatable(ax[2])\n",
    "        cax2 = divider2.append_axes('right', size='5%', pad=0.05)\n",
    "        fig.colorbar(sp[2],cax=cax2)\n",
    "\n",
    "        plt.tight_layout()\n",
    "            \n",
    "    else:        \n",
    "        #Update plots\n",
    "        fig.sca(ax[0])\n",
    "        sp[0].set_data(eta)\n",
    "        \n",
    "        fig.sca(ax[1])\n",
    "        sp[1].set_data(hu)\n",
    "        \n",
    "        fig.sca(ax[2])\n",
    "        sp[2].set_data(hv)\n",
    "        \n",
    "        if (add_extra == True):\n",
    "            V = PlotHelper.genVelocity(h, hu, hv)\n",
    "            fig.sca(ax[3])\n",
    "            sp[3].set_data(V)\n",
    "\n",
    "            R = PlotHelper.genColors(h, hu/dx, hv/dy, plt.cm.seismic, R_min, R_max)\n",
    "            fig.sca(ax[4])\n",
    "            sp[4].set_data(R)\n",
    "    \n",
    "    return ax, sp\n",
    "\n",
    "def ncAnimation(filename, movie_frames=None, create_movie=True, fig=None, x0=0, x1=-1, y0=0, y1=-1, reduced_gravity_interface=None, **kwargs):\n",
    "    #Create figure and plot initial conditions\n",
    "    if fig is None:\n",
    "        fig = plt.figure(figsize=(24, 4))\n",
    "\n",
    "    try:\n",
    "        ncfile = Dataset(filename)\n",
    "        try:\n",
    "            x = ncfile.variables['x'][:]\n",
    "        except:\n",
    "            x = ncfile.variables['X'][x0:x1]\n",
    "        try:\n",
    "            y = ncfile.variables['y'][:]\n",
    "        except:\n",
    "            y = ncfile.variables['Y'][y0:y1]\n",
    "        t = ncfile.variables['time'][:]\n",
    "\n",
    "        try:\n",
    "            H_m = ncfile.variables['Hm'][:,:]\n",
    "        except:\n",
    "            H_m = ncfile.variables['h'][y0:y1,x0:x1]\n",
    "        try:\n",
    "            eta = ncfile.variables['eta'][:,:,:]\n",
    "        except:\n",
    "            eta = ncfile.variables['zeta'][:,y0:y1,x0:x1]\n",
    "        try:\n",
    "            hu = ncfile.variables['hu'][:,:,:]\n",
    "            calc_uv = True\n",
    "        except:\n",
    "            if reduced_gravity_interface is None:\n",
    "                hu = ncfile.variables['ubar'][:,y0:y1,x0:x1]\n",
    "                calc_uv = False\n",
    "            else:\n",
    "                if reduced_gravity_interface > 0.0:\n",
    "                    hu = np.ma.zeros(eta.shape)\n",
    "                    for t_idx in range(len(t)):\n",
    "                        hu[t_idx] = depth_integration(ncfile, reduced_gravity_interface, x0, x1, y0, y1, \"u\", timestep_index=t_idx)\n",
    "                    calc_uv = True\n",
    "                else:\n",
    "                    hu = ncfile.variables['u'][:,0,y0:y1,x0:x1]\n",
    "                    calc_uv = False\n",
    "        try:\n",
    "            hv = ncfile.variables['hv'][:,:,:]\n",
    "        except:\n",
    "            if reduced_gravity_interface is None:\n",
    "                hv = ncfile.variables['vbar'][:,y0:y1,x0:x1]\n",
    "            else:\n",
    "                if reduced_gravity_interface > 0.0:\n",
    "                    hv = np.ma.zeros(eta.shape)\n",
    "                    for t_idx in range(len(t)):\n",
    "                        hv[t_idx] = depth_integration(ncfile, reduced_gravity_interface, x0, x1, y0, y1, \"v\", timestep_index=t_idx)\n",
    "                else:\n",
    "                    hv = ncfile.variables['v'][:,0,y0:y1,x0:x1]\n",
    "                    \n",
    "    except Exception as e:\n",
    "        raise e\n",
    "    finally:\n",
    "        ncfile.close()\n",
    "\n",
    "\n",
    "    if movie_frames is None:\n",
    "        movie_frames = len(t)\n",
    "\n",
    "    dx = x[1] - x[0]\n",
    "    dy = y[1] - y[0]\n",
    "    \n",
    "    progress = Common.ProgressPrinter(5)\n",
    "\n",
    "    if (create_movie):\n",
    "        ax, sp = plotSolution(fig, \n",
    "                              eta[0],\n",
    "                              hu[0],\n",
    "                              hv[0],\n",
    "                              H_m+eta[0],\n",
    "                              dx, dy, \n",
    "                              t[0], \"Initalised from Mixed Layer Daily-Average\",\n",
    "                              calc_uv=calc_uv,\n",
    "                              reduced_gravity_interface=reduced_gravity_interface,\n",
    "                              **kwargs)\n",
    "    else:\n",
    "        ax, sp = plotSolution(fig, \n",
    "                              eta[-1],\n",
    "                              hu[-1],\n",
    "                              hv[-1],\n",
    "                              H_m+eta[-1],\n",
    "                              dx, dy, \n",
    "                              t[-1], filename,\n",
    "                              **kwargs)\n",
    "        return\n",
    "\n",
    "    #Helper function which simulates and plots the solution    \n",
    "    def animate(i):\n",
    "        t_now = t[0] + (i / (movie_frames-1)) * (t[-1] - t[0]) \n",
    "\n",
    "        k = np.searchsorted(t, t_now)\n",
    "        if (k >= eta.shape[0]):\n",
    "            k = eta.shape[0] - 1\n",
    "        j = max(0, k-1)\n",
    "        if (j == k):\n",
    "            k += 1\n",
    "        s = (t_now - t[j]) / (t[k] - t[j])\n",
    "\n",
    "        plotSolution(fig, \n",
    "                        (1-s)*eta[j] + s*eta[k], \n",
    "                        (1-s)*hu[j]  + s*hu[k], \n",
    "                        (1-s)*hv[j]  + s*hv[k], \n",
    "                        H_m+(1-s)*eta[j] + s*eta[k], \n",
    "                        dx, dy, \n",
    "                        t_now, \"Initalised from Mixed Layer Daily-Average\",\n",
    "                        calc_uv=calc_uv,\n",
    "                        reduced_gravity_interface=reduced_gravity_interface,\n",
    "                        **kwargs, ax=ax, sp=sp)\n",
    "\n",
    "        clear_output(wait = True)\n",
    "        #print(progress.getPrintString(i / (movie_frames-1)))\n",
    "\n",
    "    #Matplotlib for creating an animation\n",
    "    anim = animation.FuncAnimation(fig, animate, range(movie_frames), interval=250)\n",
    "    plt.close(fig)\n",
    "    \n",
    "    return anim\n"
   ]
  },
  {
   "cell_type": "markdown",
   "metadata": {},
   "source": [
    "## Selecting Area"
   ]
  },
  {
   "cell_type": "markdown",
   "metadata": {},
   "source": [
    "As initial and boundary conditions to the simulation, we use data from the Norkyst800 s-level files:"
   ]
  },
  {
   "cell_type": "code",
   "execution_count": 5,
   "metadata": {},
   "outputs": [
    {
     "data": {
      "text/plain": [
       "'skagerrak'"
      ]
     },
     "execution_count": 5,
     "metadata": {},
     "output_type": "execute_result"
    }
   ],
   "source": [
    "casename = 'skagerrak'\n",
    "\n",
    "from importlib import reload\n",
    "from gpuocean.utils import NetCDFInitialization\n",
    "reload(NetCDFInitialization)\n",
    "case_info = NetCDFInitialization.getCaseLocation(casename)\n",
    "case_info.pop(\"name\")"
   ]
  },
  {
   "cell_type": "code",
   "execution_count": 6,
   "metadata": {},
   "outputs": [],
   "source": [
    "locals().update(case_info)"
   ]
  },
  {
   "cell_type": "markdown",
   "metadata": {},
   "source": [
    "## Construct initial conditions"
   ]
  },
  {
   "cell_type": "code",
   "execution_count": 7,
   "metadata": {},
   "outputs": [],
   "source": [
    "#s_source_url = \"C:\\\\Users\\\\florianb\\\\Downloads\\\\ocean_his.an.20190716.nc\"\n",
    "s_source_url = \"https://thredds.met.no/thredds/dodsC/fou-hi/new_norkyst800m/his/ocean_his.an.20190716.nc\""
   ]
  },
  {
   "cell_type": "code",
   "execution_count": 8,
   "metadata": {},
   "outputs": [
    {
     "data": {
      "text/plain": [
       "dict_keys(['nx', 'ny', 'dx', 'dy', 'g', 'r', 'H', 'eta0', 'hu0', 'hv0', 'angle', 'latitude', 'f', 'boundary_conditions_data', 'boundary_conditions', 'wind_stress'])"
      ]
     },
     "execution_count": 8,
     "metadata": {},
     "output_type": "execute_result"
    }
   ],
   "source": [
    "from importlib import reload \n",
    "reload(NetCDFInitialization)\n",
    "data_args = NetCDFInitialization.getInitialConditions(s_source_url, x0, x1, y0, y1, download_data=False, norkyst_data=False)\n",
    "NetCDFInitialization.removeMetadata(data_args).keys()"
   ]
  },
  {
   "cell_type": "code",
   "execution_count": 9,
   "metadata": {},
   "outputs": [],
   "source": [
    "data_args[\"f\"] = 1.2e-4\n",
    "data_args[\"latitude\"] = None"
   ]
  },
  {
   "cell_type": "markdown",
   "metadata": {},
   "source": [
    "NOTE: It is essential to also set the masked data to 0!!!"
   ]
  },
  {
   "cell_type": "code",
   "execution_count": 10,
   "metadata": {},
   "outputs": [],
   "source": [
    "data_args[\"eta0\"] = np.ma.array(np.zeros_like(data_args[\"eta0\"]), mask=data_args[\"eta0\"].mask)\n",
    "data_args[\"hu0\"] = np.ma.array(np.zeros_like(data_args[\"hu0\"]), mask=data_args[\"hu0\"].mask)\n",
    "data_args[\"hv0\"] = np.ma.array(np.zeros_like(data_args[\"hv0\"]), mask=data_args[\"hv0\"].mask)\n"
   ]
  },
  {
   "cell_type": "code",
   "execution_count": 11,
   "metadata": {},
   "outputs": [
    {
     "data": {
      "text/plain": [
       "<gpuocean.utils.Common.BoundaryConditions at 0x7f3a4355a890>"
      ]
     },
     "execution_count": 11,
     "metadata": {},
     "output_type": "execute_result"
    }
   ],
   "source": [
    "# All other parameters also 0 \n",
    "data_args[\"angle\"] *= 0\n",
    "data_args[\"f\"] = 0\n",
    "data_args[\"H\"] *= 0\n",
    "data_args[\"H\"] += 10 \n",
    "data_args.pop(\"wind_stress\")\n",
    "data_args.pop(\"boundary_conditions\")"
   ]
  },
  {
   "cell_type": "markdown",
   "metadata": {},
   "source": [
    "## Simulation"
   ]
  },
  {
   "cell_type": "code",
   "execution_count": 12,
   "metadata": {},
   "outputs": [
    {
     "name": "stderr",
     "output_type": "stream",
     "text": [
      "This will give inaccurate angle along the border!\n"
     ]
    }
   ],
   "source": [
    "sim_args = {\n",
    "    \"gpu_ctx\": gpu_ctx,\n",
    "    \"dt\": 0.0,\n",
    "    \"write_netcdf\":True\n",
    "     }\n",
    "\n",
    "from importlib import reload\n",
    "reload(CDKLM16)\n",
    "\n",
    "\n",
    "sim = CDKLM16.CDKLM16(**sim_args, **NetCDFInitialization.removeMetadata(data_args), rk_order=1)"
   ]
  },
  {
   "cell_type": "code",
   "execution_count": 13,
   "metadata": {},
   "outputs": [],
   "source": [
    "sim.step(1)\n",
    "eta, hu, hv = sim.download(interior_domain_only=True)"
   ]
  },
  {
   "cell_type": "code",
   "execution_count": 14,
   "metadata": {},
   "outputs": [
    {
     "data": {
      "text/plain": [
       "<matplotlib.colorbar.Colorbar at 0x7f3b10d522d0>"
      ]
     },
     "execution_count": 14,
     "metadata": {},
     "output_type": "execute_result"
    },
    {
     "data": {
      "image/png": "[encoded data removed]",
      "text/plain": [
       "<Figure size 1440x1080 with 4 Axes>"
      ]
     },
     "metadata": {
      "needs_background": "dark"
     },
     "output_type": "display_data"
    },
    {
     "data": {
      "image/png": "[encoded data removed]",
      "text/plain": [
       "<Figure size 1440x1080 with 4 Axes>"
      ]
     },
     "metadata": {
      "needs_background": "dark"
     },
     "output_type": "display_data"
    }
   ],
   "source": [
    "\n",
    "Hi, Hm = sim.downloadBathymetry()\n",
    "H = np.ones_like(eta.data) # + sim.constant_equilibrium_depth\n",
    "\n",
    "fig, axs = plt.subplots(1,2, figsize=(20,15))\n",
    "im0 = axs[0].imshow(eta[25:75,100:145], origin=\"lower\", cmap=\"Blues\")\n",
    "plt.colorbar(im0, ax = axs[0], shrink=0.5)\n",
    "im1 = axs[1].imshow(eta[0:50,330:375], origin=\"lower\", cmap=\"Blues\")\n",
    "plt.colorbar(im1, ax = axs[1], shrink=0.5)\n",
    "\n",
    "\n",
    "fig, axs = plt.subplots(1,2, figsize=(20,15))\n",
    "im0 = axs[0].imshow(eta.data[25:75,100:145], origin=\"lower\", cmap=\"Blues\")\n",
    "plt.colorbar(im0, ax = axs[0], shrink=0.5)\n",
    "im1 = axs[1].imshow(eta.data[0:50,330:375], origin=\"lower\", cmap=\"Blues\")\n",
    "plt.colorbar(im1, ax = axs[1], shrink=0.5)\n",
    "\n",
    "# fig, axs = plt.subplots(1,2, figsize=(20,15))\n",
    "# im1 = axs[0].imshow(hu[25:75,100:150]/H[25:75,100:150], origin=\"lower\", cmap=\"coolwarm\")\n",
    "# im2 = axs[1].imshow(hu[0:50,325:375]/H[0:50,325:375], origin=\"lower\", cmap=\"coolwarm\")\n",
    "\n",
    "# fig, axs = plt.subplots(1,2, figsize=(20,15))\n",
    "# im1 = axs[0].imshow(hu.data[25:75,100:150]/H[25:75,100:150], origin=\"lower\", cmap=\"coolwarm\")\n",
    "# im2 = axs[1].imshow(hu.data[0:50,325:375]/H[0:50,325:375], origin=\"lower\", cmap=\"coolwarm\")\n",
    "# plt.colorbar(im2, shrink=0.5)\n",
    "# #plt.colorbar(im2)\n",
    "\n",
    "# fig, axs = plt.subplots(1,2, figsize=(20,15))\n",
    "# im1 = axs[0].imshow(hv[25:75,100:150]/H[25:75,100:150], origin=\"lower\", cmap=\"coolwarm\")\n",
    "# im2 = axs[1].imshow(hv[0:50,325:375]/H[0:50,325:375], origin=\"lower\", cmap=\"coolwarm\")\n",
    "\n",
    "# fig, axs = plt.subplots(1,2,  figsize=(20,15))\n",
    "# axs[0].imshow(hv.data[25:75,100:150]/H[25:75,100:150], origin=\"lower\", cmap=\"coolwarm\")\n",
    "# im2 = axs[1].imshow(hv.data[0:50,325:375]/H[0:50,325:375], origin=\"lower\", cmap=\"coolwarm\")\n",
    "# plt.colorbar(im2, shrink=0.5)\n",
    "\n",
    "# fig, axs = plt.subplots(1,2,  figsize=(20,15))\n",
    "# axs[0].imshow(Hi[25:75,100:150], origin=\"lower\", cmap=\"coolwarm\")\n",
    "# im2 = axs[1].imshow(Hi[0:50,325:375], origin=\"lower\", cmap=\"coolwarm\")\n",
    "\n",
    "# fig, axs = plt.subplots(1,2,  figsize=(20,15))\n",
    "# axs[0].imshow(Hm[25:75,100:150], origin=\"lower\", cmap=\"coolwarm\")\n",
    "# im2 = axs[1].imshow(Hm[0:50,325:375], origin=\"lower\", cmap=\"coolwarm\")\n"
   ]
  },
  {
   "cell_type": "markdown",
   "metadata": {},
   "source": [
    "Alternative way to set dry cells to 0"
   ]
  },
  {
   "cell_type": "code",
   "execution_count": 15,
   "metadata": {},
   "outputs": [
    {
     "data": {
      "text/plain": [
       "dict_keys(['nx', 'ny', 'dx', 'dy', 'g', 'r', 'H', 'eta0', 'hu0', 'hv0', 'angle', 'latitude', 'f', 'boundary_conditions_data', 'boundary_conditions', 'wind_stress'])"
      ]
     },
     "execution_count": 15,
     "metadata": {},
     "output_type": "execute_result"
    }
   ],
   "source": [
    "from importlib import reload \n",
    "reload(NetCDFInitialization)\n",
    "data_args = NetCDFInitialization.getInitialConditions(s_source_url, x0, x1, y0, y1, download_data=False, norkyst_data=False)\n",
    "NetCDFInitialization.removeMetadata(data_args).keys()"
   ]
  },
  {
   "cell_type": "code",
   "execution_count": 16,
   "metadata": {},
   "outputs": [],
   "source": [
    "data_args[\"hu0\"] *= 0\n",
    "data_args[\"hu0\"][data_args[\"hu0\"].mask] = 0"
   ]
  },
  {
   "cell_type": "code",
   "execution_count": 17,
   "metadata": {},
   "outputs": [
    {
     "data": {
      "text/plain": [
       "0.0"
      ]
     },
     "execution_count": 17,
     "metadata": {},
     "output_type": "execute_result"
    }
   ],
   "source": [
    "np.max(data_args[\"hu0\"].data)"
   ]
  }
 ],
 "metadata": {
  "interpreter": {
   "hash": "3048633266a8aca5c85f16c1ee57ccad146141feb66febf24dcb8304467d1440"
  },
  "kernelspec": {
   "display_name": "Python 3.7.12 ('gpuocean_opendrift')",
   "language": "python",
   "name": "python3"
  },
  "language_info": {
   "codemirror_mode": {
    "name": "ipython",
    "version": 3
   },
   "file_extension": ".py",
   "mimetype": "text/x-python",
   "name": "python",
   "nbconvert_exporter": "python",
   "pygments_lexer": "ipython3",
   "version": "3.7.12"
  }
 },
 "nbformat": 4,
 "nbformat_minor": 4
}
