{
 "cells": [
  {
   "cell_type": "markdown",
   "metadata": {},
   "source": [
    "```\n",
    "This notebook sets up and runs a test case for analyzing Kelvin waves\n",
    "Copyright (C) 2018 - 2022 SINTEF Digital\n",
    "Copyright (C) 2018 - 2022 Norwegian Meteorological Institute\n",
    "\n",
    "This program is free software: you can redistribute it and/or modify\n",
    "it under the terms of the GNU General Public License as published by\n",
    "the Free Software Foundation, either version 3 of the License, or\n",
    "(at your option) any later version.\n",
    "\n",
    "This program is distributed in the hope that it will be useful,\n",
    "but WITHOUT ANY WARRANTY; without even the implied warranty of\n",
    "MERCHANTABILITY or FITNESS FOR A PARTICULAR PURPOSE.  See the\n",
    "GNU General Public License for more details.\n",
    "\n",
    "You should have received a copy of the GNU General Public License\n",
    "along with this program.  If not, see <http://www.gnu.org/licenses/>.\n",
    "```"
   ]
  },
  {
   "cell_type": "code",
   "execution_count": null,
   "metadata": {},
   "outputs": [],
   "source": [
    "import sys\n",
    "gpuocean_path = [p[:-4] for p in sys.path if p.endswith(\"gpuocean/src\")][0]\n",
    "import git\n",
    "repo = git.Repo(gpuocean_path)\n",
    "print(\"GPUOcean code from:\", repo.head.object.hexsha, \"on branch\", repo.active_branch.name)"
   ]
  },
  {
   "cell_type": "markdown",
   "metadata": {},
   "source": [
    "# Oslofjord\n",
    "Testing of Nils projected files"
   ]
  },
  {
   "cell_type": "code",
   "execution_count": null,
   "metadata": {},
   "outputs": [],
   "source": [
    "#Lets have matplotlib \"inline\"\n",
    "%matplotlib inline\n",
    "\n",
    "import os\n",
    "import sys\n",
    "\n",
    "#Import packages we need\n",
    "import numpy as np\n",
    "from netCDF4 import Dataset\n",
    "import datetime, copy\n",
    "from IPython.display import display\n",
    "\n",
    "#For plotting\n",
    "import matplotlib\n",
    "from matplotlib import pyplot as plt\n",
    "\n",
    "plt.rcParams[\"lines.color\"] = \"w\"\n",
    "plt.rcParams[\"text.color\"] = \"w\"\n",
    "plt.rcParams[\"axes.labelcolor\"] = \"w\"\n",
    "plt.rcParams[\"xtick.color\"] = \"w\"\n",
    "plt.rcParams[\"ytick.color\"] = \"w\"\n",
    "\n",
    "plt.rcParams[\"image.origin\"] = \"lower\""
   ]
  },
  {
   "cell_type": "code",
   "execution_count": null,
   "metadata": {},
   "outputs": [],
   "source": [
    "from gpuocean.utils import IPythonMagic, NetCDFInitialization"
   ]
  },
  {
   "cell_type": "code",
   "execution_count": null,
   "metadata": {},
   "outputs": [],
   "source": [
    "%cuda_context_handler gpu_ctx"
   ]
  },
  {
   "cell_type": "markdown",
   "metadata": {},
   "source": [
    "Path to the test file"
   ]
  },
  {
   "cell_type": "code",
   "execution_count": null,
   "metadata": {},
   "outputs": [],
   "source": [
    "source_url = \"/sintef/data/OsloFjord/test_polstere.nc\""
   ]
  },
  {
   "cell_type": "markdown",
   "metadata": {},
   "source": [
    "## Calculating MLD"
   ]
  },
  {
   "cell_type": "code",
   "execution_count": null,
   "metadata": {},
   "outputs": [],
   "source": [
    "nc = Dataset(source_url)\n",
    "dimY, dimX = nc.dimensions[\"eta_rho\"].size, nc.dimensions[\"xi_rho\"].size"
   ]
  },
  {
   "cell_type": "code",
   "execution_count": null,
   "metadata": {},
   "outputs": [],
   "source": [
    "x0, x1, y0, y1 = 5, dimX-5, 135, dimY-5"
   ]
  },
  {
   "cell_type": "code",
   "execution_count": null,
   "metadata": {},
   "outputs": [],
   "source": [
    "mld = NetCDFInitialization.MLD(source_url, 1023, min_mld=5, max_mld=40, x0=x0, x1=x1, y0=y0, y1=y1)"
   ]
  },
  {
   "cell_type": "markdown",
   "metadata": {},
   "source": [
    "Smoothing MLD"
   ]
  },
  {
   "cell_type": "code",
   "execution_count": null,
   "metadata": {},
   "outputs": [],
   "source": [
    "s_nc = Dataset(source_url)\n",
    "s_hs = s_nc[\"h\"][y0:y1,x0:x1]\n",
    "\n",
    "bad_yx = np.where(np.logical_or(np.abs(mld - s_hs) < 0.35*s_hs, np.abs(mld - s_hs) < 3))\n",
    "bad_mask = np.where(np.logical_and((s_hs!=0.0), np.logical_and(np.abs(mld - s_hs) > 0.35*s_hs, np.abs(mld - s_hs) > 3)),0,1)\n",
    "\n",
    "Xidx = np.arange(0, mld.shape[1])\n",
    "Yidx = np.arange(0, mld.shape[0])\n",
    "\n",
    "xx, yy = np.meshgrid(Xidx, Yidx)\n",
    "\n",
    "K = 20\n",
    "\n",
    "for i in range(len(bad_yx[0])):\n",
    "    dists = (xx-bad_yx[1][i])**2 + (yy-bad_yx[0][i])**2 + 1e5*bad_mask\n",
    "    sum = 0.0\n",
    "    for k in range(K): \n",
    "        sum += mld[np.unravel_index(dists.argmin(), dists.shape)]\n",
    "        dists[np.unravel_index(dists.argmin(), dists.shape)] = 1e5\n",
    "    mld[bad_yx[0][i],bad_yx[1][i]] = sum/K"
   ]
  },
  {
   "cell_type": "code",
   "execution_count": null,
   "metadata": {},
   "outputs": [],
   "source": [
    "mld = NetCDFInitialization.fill_coastal_data(mld)"
   ]
  },
  {
   "cell_type": "code",
   "execution_count": null,
   "metadata": {},
   "outputs": [],
   "source": [
    "fig, axs = plt.subplots(1,3,figsize=(15,10))\n",
    "\n",
    "im = axs[0].imshow(np.ma.array(nc[\"h\"][y0:y1,x0:x1], mask=(nc[\"h\"][y0:y1,x0:x1]==0)), cmap=\"cool\")\n",
    "plt.colorbar(im, ax=axs[0], shrink=0.5)\n",
    "axs[0].set_title(\"Bathymetry\")\n",
    "\n",
    "im = axs[1].imshow(mld, cmap=\"cool\", vmin=0.0, vmax=10)\n",
    "plt.colorbar(im, ax=axs[1], shrink=0.5)\n",
    "axs[1].set_title(\"MLD\")\n",
    "\n",
    "im = axs[2].imshow(bad_mask-(s_hs==0), cmap=\"Reds\")\n",
    "plt.colorbar(im, ax=axs[2], shrink=0.5)\n",
    "axs[2].set_title(\"Bad values\")\n",
    "\n"
   ]
  },
  {
   "cell_type": "code",
   "execution_count": null,
   "metadata": {},
   "outputs": [],
   "source": [
    "y_cut = 120 # See aboves plots, vertical north-south along this index!\n",
    "\n",
    "s_pot_densities = NetCDFInitialization.potentialDensities(source_url, t=0, x0=x0, x1=x1, y0=y0, y1=y1)\n",
    "\n",
    "s_nc = Dataset(source_url)\n",
    "s_hs   = s_nc[\"h\"][y0:y1,x0:x1]\n",
    "s_rhos = s_nc[\"Cs_r\"][:]\n",
    "\n",
    "s_pot_densities_show = np.ma.array(np.zeros((s_pot_densities.shape[1],100)))\n",
    "for l in range(s_pot_densities.shape[1]):\n",
    "    d_up = 0 \n",
    "    for i in reversed(range(len(s_rhos))):\n",
    "        d = round(-(s_hs[l,y_cut]*s_rhos[i]))\n",
    "        s_pot_densities_show[l,d_up:d] = s_pot_densities[i][l,y_cut]\n",
    "        d_up = d\n",
    "s_pot_densities_show.mask = (s_pot_densities_show==0)\n",
    "\n",
    "plt.figure(figsize=(15,5))\n",
    "plt.imshow(s_pot_densities_show.T[0:50], origin=\"upper\", cmap=\"plasma\",  aspect='auto')\n",
    "plt.colorbar(label=\"Potential Density [kg/m^3]\")\n",
    "plt.scatter(np.arange(s_pot_densities.shape[1]), mld[:,y_cut], c=np.where(bad_mask[:,y_cut]==1,'g', 'b'))\n",
    "\n",
    "plt.suptitle(\"Mixed Layer Depth\")\n",
    "plt.ylabel(\"depth [m]\")\n",
    "plt.xlabel(\"blue dots are directly calcluted MLD, green dots are smoothed\")\n",
    "plt.tight_layout()"
   ]
  }
 ],
 "metadata": {
  "kernelspec": {
   "display_name": "Python 3.7.12 ('gpuocean_opendrift')",
   "language": "python",
   "name": "python3"
  },
  "language_info": {
   "codemirror_mode": {
    "name": "ipython",
    "version": 3
   },
   "file_extension": ".py",
   "mimetype": "text/x-python",
   "name": "python",
   "nbconvert_exporter": "python",
   "pygments_lexer": "ipython3",
   "version": "3.7.12"
  },
  "orig_nbformat": 4,
  "vscode": {
   "interpreter": {
    "hash": "3048633266a8aca5c85f16c1ee57ccad146141feb66febf24dcb8304467d1440"
   }
  }
 },
 "nbformat": 4,
 "nbformat_minor": 2
}
