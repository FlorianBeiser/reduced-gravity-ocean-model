{
 "cells": [
  {
   "cell_type": "markdown",
   "metadata": {},
   "source": [
    "```\n",
    "This notebook sets up baroclinic drifters in the Oslofjord\n",
    "Copyright (C) 2022 - 2023 SINTEF Digital\n",
    "Copyright (C) 2022 - 2023 Norwegian Meteorological Institute\n",
    "\n",
    "This program is free software: you can redistribute it and/or modify\n",
    "it under the terms of the GNU General Public License as published by\n",
    "the Free Software Foundation, either version 3 of the License, or\n",
    "(at your option) any later version.\n",
    "\n",
    "This program is distributed in the hope that it will be useful,\n",
    "but WITHOUT ANY WARRANTY; without even the implied warranty of\n",
    "MERCHANTABILITY or FITNESS FOR A PARTICULAR PURPOSE.  See the\n",
    "GNU General Public License for more details.\n",
    "\n",
    "You should have received a copy of the GNU General Public License\n",
    "along with this program.  If not, see <http://www.gnu.org/licenses/>.\n",
    "```"
   ]
  },
  {
   "cell_type": "code",
   "execution_count": 1,
   "metadata": {},
   "outputs": [
    {
     "name": "stdout",
     "output_type": "stream",
     "text": [
      "GPUOcean code from: 9e2194949a236a78754252e0e34f69f9b1e1823f on branch reduced_gravity\n"
     ]
    }
   ],
   "source": [
    "import sys\n",
    "gpuocean_path = [p[:-4] for p in sys.path if (p.endswith(\"gpuocean/src\") or p.endswith(\"gpuocean\\\\src\"))][0]\n",
    "import git\n",
    "repo = git.Repo(gpuocean_path)\n",
    "print(\"GPUOcean code from:\", repo.head.object.hexsha, \"on branch\", repo.active_branch.name)"
   ]
  },
  {
   "cell_type": "markdown",
   "metadata": {},
   "source": [
    "# Oslofjord: Baroclinic Drifters\n",
    "\n",
    "This files sets up exemplary drifter scenario, but for running the script `Oslofjord-run_bcdrift.py` should be used. In the second part of this notebook the outputs can be postprocessed."
   ]
  },
  {
   "cell_type": "code",
   "execution_count": 2,
   "metadata": {},
   "outputs": [],
   "source": [
    "#Lets have matplotlib \"inline\"\n",
    "%matplotlib inline\n",
    "\n",
    "import os\n",
    "import sys\n",
    "\n",
    "#Import packages we need\n",
    "import numpy as np\n",
    "from netCDF4 import Dataset\n",
    "import datetime, copy\n",
    "from IPython.display import display\n",
    "\n",
    "#For plotting\n",
    "import matplotlib\n",
    "from matplotlib import pyplot as plt\n",
    "\n",
    "plt.rcParams[\"image.origin\"] = \"lower\""
   ]
  },
  {
   "cell_type": "code",
   "execution_count": 3,
   "metadata": {},
   "outputs": [],
   "source": [
    "from gpuocean.utils import IPythonMagic, Common, NetCDFInitialization, WindStress, OceanographicUtilities\n",
    "\n",
    "from gpuocean.SWEsimulators import CDKLM16"
   ]
  },
  {
   "cell_type": "code",
   "execution_count": 4,
   "metadata": {},
   "outputs": [],
   "source": [
    "%cuda_context_handler baroclinic_gpu_ctx"
   ]
  },
  {
   "cell_type": "markdown",
   "metadata": {},
   "source": [
    "Path to the test file"
   ]
  },
  {
   "cell_type": "code",
   "execution_count": 5,
   "metadata": {},
   "outputs": [],
   "source": [
    "source_url = \"/sintef/data/OsloFjord/test_polstere_1h_0007.nc\"\n",
    "source_url = \"/lustre/storeB/project/fou/hi/FjordOs/geogrid_tmp/test_polstere_1h_0007.nc\""
   ]
  },
  {
   "cell_type": "markdown",
   "metadata": {},
   "source": [
    "## Inspecting file structure and content"
   ]
  },
  {
   "cell_type": "code",
   "execution_count": 6,
   "metadata": {},
   "outputs": [],
   "source": [
    "from netCDF4 import Dataset\n",
    "nc = Dataset(source_url)"
   ]
  },
  {
   "cell_type": "code",
   "execution_count": 7,
   "metadata": {},
   "outputs": [
    {
     "data": {
      "text/html": [
       "<div><svg style=\"position: absolute; width: 0; height: 0; overflow: hidden\">\n",
       "<defs>\n",
       "<symbol id=\"icon-database\" viewBox=\"0 0 32 32\">\n",
       "<path d=\"M16 0c-8.837 0-16 2.239-16 5v4c0 2.761 7.163 5 16 5s16-2.239 16-5v-4c0-2.761-7.163-5-16-5z\"></path>\n",
       "<path d=\"M16 17c-8.837 0-16-2.239-16-5v6c0 2.761 7.163 5 16 5s16-2.239 16-5v-6c0 2.761-7.163 5-16 5z\"></path>\n",
       "<path d=\"M16 26c-8.837 0-16-2.239-16-5v6c0 2.761 7.163 5 16 5s16-2.239 16-5v-6c0 2.761-7.163 5-16 5z\"></path>\n",
       "</symbol>\n",
       "<symbol id=\"icon-file-text2\" viewBox=\"0 0 32 32\">\n",
       "<path d=\"M28.681 7.159c-0.694-0.947-1.662-2.053-2.724-3.116s-2.169-2.030-3.116-2.724c-1.612-1.182-2.393-1.319-2.841-1.319h-15.5c-1.378 0-2.5 1.121-2.5 2.5v27c0 1.378 1.122 2.5 2.5 2.5h23c1.378 0 2.5-1.122 2.5-2.5v-19.5c0-0.448-0.137-1.23-1.319-2.841zM24.543 5.457c0.959 0.959 1.712 1.825 2.268 2.543h-4.811v-4.811c0.718 0.556 1.584 1.309 2.543 2.268zM28 29.5c0 0.271-0.229 0.5-0.5 0.5h-23c-0.271 0-0.5-0.229-0.5-0.5v-27c0-0.271 0.229-0.5 0.5-0.5 0 0 15.499-0 15.5 0v7c0 0.552 0.448 1 1 1h7v19.5z\"></path>\n",
       "<path d=\"M23 26h-14c-0.552 0-1-0.448-1-1s0.448-1 1-1h14c0.552 0 1 0.448 1 1s-0.448 1-1 1z\"></path>\n",
       "<path d=\"M23 22h-14c-0.552 0-1-0.448-1-1s0.448-1 1-1h14c0.552 0 1 0.448 1 1s-0.448 1-1 1z\"></path>\n",
       "<path d=\"M23 18h-14c-0.552 0-1-0.448-1-1s0.448-1 1-1h14c0.552 0 1 0.448 1 1s-0.448 1-1 1z\"></path>\n",
       "</symbol>\n",
       "</defs>\n",
       "</svg>\n",
       "<style>/* CSS stylesheet for displaying xarray objects in jupyterlab.\n",
       " *\n",
       " */\n",
       "\n",
       ":root {\n",
       "  --xr-font-color0: var(--jp-content-font-color0, rgba(0, 0, 0, 1));\n",
       "  --xr-font-color2: var(--jp-content-font-color2, rgba(0, 0, 0, 0.54));\n",
       "  --xr-font-color3: var(--jp-content-font-color3, rgba(0, 0, 0, 0.38));\n",
       "  --xr-border-color: var(--jp-border-color2, #e0e0e0);\n",
       "  --xr-disabled-color: var(--jp-layout-color3, #bdbdbd);\n",
       "  --xr-background-color: var(--jp-layout-color0, white);\n",
       "  --xr-background-color-row-even: var(--jp-layout-color1, white);\n",
       "  --xr-background-color-row-odd: var(--jp-layout-color2, #eeeeee);\n",
       "}\n",
       "\n",
       "html[theme=dark],\n",
       "body.vscode-dark {\n",
       "  --xr-font-color0: rgba(255, 255, 255, 1);\n",
       "  --xr-font-color2: rgba(255, 255, 255, 0.54);\n",
       "  --xr-font-color3: rgba(255, 255, 255, 0.38);\n",
       "  --xr-border-color: #1F1F1F;\n",
       "  --xr-disabled-color: #515151;\n",
       "  --xr-background-color: #111111;\n",
       "  --xr-background-color-row-even: #111111;\n",
       "  --xr-background-color-row-odd: #313131;\n",
       "}\n",
       "\n",
       ".xr-wrap {\n",
       "  display: block;\n",
       "  min-width: 300px;\n",
       "  max-width: 700px;\n",
       "}\n",
       "\n",
       ".xr-text-repr-fallback {\n",
       "  /* fallback to plain text repr when CSS is not injected (untrusted notebook) */\n",
       "  display: none;\n",
       "}\n",
       "\n",
       ".xr-header {\n",
       "  padding-top: 6px;\n",
       "  padding-bottom: 6px;\n",
       "  margin-bottom: 4px;\n",
       "  border-bottom: solid 1px var(--xr-border-color);\n",
       "}\n",
       "\n",
       ".xr-header > div,\n",
       ".xr-header > ul {\n",
       "  display: inline;\n",
       "  margin-top: 0;\n",
       "  margin-bottom: 0;\n",
       "}\n",
       "\n",
       ".xr-obj-type,\n",
       ".xr-array-name {\n",
       "  margin-left: 2px;\n",
       "  margin-right: 10px;\n",
       "}\n",
       "\n",
       ".xr-obj-type {\n",
       "  color: var(--xr-font-color2);\n",
       "}\n",
       "\n",
       ".xr-sections {\n",
       "  padding-left: 0 !important;\n",
       "  display: grid;\n",
       "  grid-template-columns: 150px auto auto 1fr 20px 20px;\n",
       "}\n",
       "\n",
       ".xr-section-item {\n",
       "  display: contents;\n",
       "}\n",
       "\n",
       ".xr-section-item input {\n",
       "  display: none;\n",
       "}\n",
       "\n",
       ".xr-section-item input + label {\n",
       "  color: var(--xr-disabled-color);\n",
       "}\n",
       "\n",
       ".xr-section-item input:enabled + label {\n",
       "  cursor: pointer;\n",
       "  color: var(--xr-font-color2);\n",
       "}\n",
       "\n",
       ".xr-section-item input:enabled + label:hover {\n",
       "  color: var(--xr-font-color0);\n",
       "}\n",
       "\n",
       ".xr-section-summary {\n",
       "  grid-column: 1;\n",
       "  color: var(--xr-font-color2);\n",
       "  font-weight: 500;\n",
       "}\n",
       "\n",
       ".xr-section-summary > span {\n",
       "  display: inline-block;\n",
       "  padding-left: 0.5em;\n",
       "}\n",
       "\n",
       ".xr-section-summary-in:disabled + label {\n",
       "  color: var(--xr-font-color2);\n",
       "}\n",
       "\n",
       ".xr-section-summary-in + label:before {\n",
       "  display: inline-block;\n",
       "  content: '►';\n",
       "  font-size: 11px;\n",
       "  width: 15px;\n",
       "  text-align: center;\n",
       "}\n",
       "\n",
       ".xr-section-summary-in:disabled + label:before {\n",
       "  color: var(--xr-disabled-color);\n",
       "}\n",
       "\n",
       ".xr-section-summary-in:checked + label:before {\n",
       "  content: '▼';\n",
       "}\n",
       "\n",
       ".xr-section-summary-in:checked + label > span {\n",
       "  display: none;\n",
       "}\n",
       "\n",
       ".xr-section-summary,\n",
       ".xr-section-inline-details {\n",
       "  padding-top: 4px;\n",
       "  padding-bottom: 4px;\n",
       "}\n",
       "\n",
       ".xr-section-inline-details {\n",
       "  grid-column: 2 / -1;\n",
       "}\n",
       "\n",
       ".xr-section-details {\n",
       "  display: none;\n",
       "  grid-column: 1 / -1;\n",
       "  margin-bottom: 5px;\n",
       "}\n",
       "\n",
       ".xr-section-summary-in:checked ~ .xr-section-details {\n",
       "  display: contents;\n",
       "}\n",
       "\n",
       ".xr-array-wrap {\n",
       "  grid-column: 1 / -1;\n",
       "  display: grid;\n",
       "  grid-template-columns: 20px auto;\n",
       "}\n",
       "\n",
       ".xr-array-wrap > label {\n",
       "  grid-column: 1;\n",
       "  vertical-align: top;\n",
       "}\n",
       "\n",
       ".xr-preview {\n",
       "  color: var(--xr-font-color3);\n",
       "}\n",
       "\n",
       ".xr-array-preview,\n",
       ".xr-array-data {\n",
       "  padding: 0 5px !important;\n",
       "  grid-column: 2;\n",
       "}\n",
       "\n",
       ".xr-array-data,\n",
       ".xr-array-in:checked ~ .xr-array-preview {\n",
       "  display: none;\n",
       "}\n",
       "\n",
       ".xr-array-in:checked ~ .xr-array-data,\n",
       ".xr-array-preview {\n",
       "  display: inline-block;\n",
       "}\n",
       "\n",
       ".xr-dim-list {\n",
       "  display: inline-block !important;\n",
       "  list-style: none;\n",
       "  padding: 0 !important;\n",
       "  margin: 0;\n",
       "}\n",
       "\n",
       ".xr-dim-list li {\n",
       "  display: inline-block;\n",
       "  padding: 0;\n",
       "  margin: 0;\n",
       "}\n",
       "\n",
       ".xr-dim-list:before {\n",
       "  content: '(';\n",
       "}\n",
       "\n",
       ".xr-dim-list:after {\n",
       "  content: ')';\n",
       "}\n",
       "\n",
       ".xr-dim-list li:not(:last-child):after {\n",
       "  content: ',';\n",
       "  padding-right: 5px;\n",
       "}\n",
       "\n",
       ".xr-has-index {\n",
       "  font-weight: bold;\n",
       "}\n",
       "\n",
       ".xr-var-list,\n",
       ".xr-var-item {\n",
       "  display: contents;\n",
       "}\n",
       "\n",
       ".xr-var-item > div,\n",
       ".xr-var-item label,\n",
       ".xr-var-item > .xr-var-name span {\n",
       "  background-color: var(--xr-background-color-row-even);\n",
       "  margin-bottom: 0;\n",
       "}\n",
       "\n",
       ".xr-var-item > .xr-var-name:hover span {\n",
       "  padding-right: 5px;\n",
       "}\n",
       "\n",
       ".xr-var-list > li:nth-child(odd) > div,\n",
       ".xr-var-list > li:nth-child(odd) > label,\n",
       ".xr-var-list > li:nth-child(odd) > .xr-var-name span {\n",
       "  background-color: var(--xr-background-color-row-odd);\n",
       "}\n",
       "\n",
       ".xr-var-name {\n",
       "  grid-column: 1;\n",
       "}\n",
       "\n",
       ".xr-var-dims {\n",
       "  grid-column: 2;\n",
       "}\n",
       "\n",
       ".xr-var-dtype {\n",
       "  grid-column: 3;\n",
       "  text-align: right;\n",
       "  color: var(--xr-font-color2);\n",
       "}\n",
       "\n",
       ".xr-var-preview {\n",
       "  grid-column: 4;\n",
       "}\n",
       "\n",
       ".xr-var-name,\n",
       ".xr-var-dims,\n",
       ".xr-var-dtype,\n",
       ".xr-preview,\n",
       ".xr-attrs dt {\n",
       "  white-space: nowrap;\n",
       "  overflow: hidden;\n",
       "  text-overflow: ellipsis;\n",
       "  padding-right: 10px;\n",
       "}\n",
       "\n",
       ".xr-var-name:hover,\n",
       ".xr-var-dims:hover,\n",
       ".xr-var-dtype:hover,\n",
       ".xr-attrs dt:hover {\n",
       "  overflow: visible;\n",
       "  width: auto;\n",
       "  z-index: 1;\n",
       "}\n",
       "\n",
       ".xr-var-attrs,\n",
       ".xr-var-data {\n",
       "  display: none;\n",
       "  background-color: var(--xr-background-color) !important;\n",
       "  padding-bottom: 5px !important;\n",
       "}\n",
       "\n",
       ".xr-var-attrs-in:checked ~ .xr-var-attrs,\n",
       ".xr-var-data-in:checked ~ .xr-var-data {\n",
       "  display: block;\n",
       "}\n",
       "\n",
       ".xr-var-data > table {\n",
       "  float: right;\n",
       "}\n",
       "\n",
       ".xr-var-name span,\n",
       ".xr-var-data,\n",
       ".xr-attrs {\n",
       "  padding-left: 25px !important;\n",
       "}\n",
       "\n",
       ".xr-attrs,\n",
       ".xr-var-attrs,\n",
       ".xr-var-data {\n",
       "  grid-column: 1 / -1;\n",
       "}\n",
       "\n",
       "dl.xr-attrs {\n",
       "  padding: 0;\n",
       "  margin: 0;\n",
       "  display: grid;\n",
       "  grid-template-columns: 125px auto;\n",
       "}\n",
       "\n",
       ".xr-attrs dt,\n",
       ".xr-attrs dd {\n",
       "  padding: 0;\n",
       "  margin: 0;\n",
       "  float: left;\n",
       "  padding-right: 10px;\n",
       "  width: auto;\n",
       "}\n",
       "\n",
       ".xr-attrs dt {\n",
       "  font-weight: normal;\n",
       "  grid-column: 1;\n",
       "}\n",
       "\n",
       ".xr-attrs dt:hover span {\n",
       "  display: inline-block;\n",
       "  background: var(--xr-background-color);\n",
       "  padding-right: 10px;\n",
       "}\n",
       "\n",
       ".xr-attrs dd {\n",
       "  grid-column: 2;\n",
       "  white-space: pre-wrap;\n",
       "  word-break: break-all;\n",
       "}\n",
       "\n",
       ".xr-icon-database,\n",
       ".xr-icon-file-text2 {\n",
       "  display: inline-block;\n",
       "  vertical-align: middle;\n",
       "  width: 1em;\n",
       "  height: 1.5em !important;\n",
       "  stroke-width: 0;\n",
       "  stroke: currentColor;\n",
       "  fill: currentColor;\n",
       "}\n",
       "</style><pre class='xr-text-repr-fallback'>&lt;xarray.Dataset&gt;\n",
       "Dimensions:     (eta_rho: 741, eta_v: 740, ocean_time: 720, s_rho: 42, s_w: 43, xi_rho: 397, xi_u: 396)\n",
       "Coordinates:\n",
       "  * ocean_time  (ocean_time) datetime64[ns] 2014-06-30T13:00:00 ... 2014-07-3...\n",
       "  * s_rho       (s_rho) float64 -0.9881 -0.9643 -0.9405 ... -0.03571 -0.0119\n",
       "  * s_w         (s_w) float64 -1.0 -0.9762 -0.9524 ... -0.04762 -0.02381 0.0\n",
       "Dimensions without coordinates: eta_rho, eta_v, xi_rho, xi_u\n",
       "Data variables: (12/17)\n",
       "    projection  int32 -2147483647\n",
       "    Cs_r        (s_rho) float64 -0.9698 -0.911 -0.8543 ... -0.000805 -8.938e-05\n",
       "    Cs_w        (s_w) float64 -1.0 -0.9402 -0.8824 ... -0.001432 -0.0003576 0.0\n",
       "    h           (eta_rho, xi_rho) float32 ...\n",
       "    mask_rho    (eta_rho, xi_rho) float32 ...\n",
       "    angle       (eta_rho, xi_rho) float32 ...\n",
       "    ...          ...\n",
       "    u           (ocean_time, s_rho, eta_rho, xi_u) float32 ...\n",
       "    v           (ocean_time, s_rho, eta_v, xi_rho) float32 ...\n",
       "    Uwind       (ocean_time, eta_rho, xi_rho) float32 ...\n",
       "    Vwind       (ocean_time, eta_rho, xi_rho) float32 ...\n",
       "    lat_rho     (eta_rho, xi_rho) float32 ...\n",
       "    lon_rho     (eta_rho, xi_rho) float32 ...</pre><div class='xr-wrap' hidden><div class='xr-header'><div class='xr-obj-type'>xarray.Dataset</div></div><ul class='xr-sections'><li class='xr-section-item'><input id='section-f2b32612-0f10-46c3-94eb-8fd51bfcdc42' class='xr-section-summary-in' type='checkbox' disabled ><label for='section-f2b32612-0f10-46c3-94eb-8fd51bfcdc42' class='xr-section-summary'  title='Expand/collapse section'>Dimensions:</label><div class='xr-section-inline-details'><ul class='xr-dim-list'><li><span>eta_rho</span>: 741</li><li><span>eta_v</span>: 740</li><li><span class='xr-has-index'>ocean_time</span>: 720</li><li><span class='xr-has-index'>s_rho</span>: 42</li><li><span class='xr-has-index'>s_w</span>: 43</li><li><span>xi_rho</span>: 397</li><li><span>xi_u</span>: 396</li></ul></div><div class='xr-section-details'></div></li><li class='xr-section-item'><input id='section-7300d61f-a809-4187-a9f3-ff4942e28920' class='xr-section-summary-in' type='checkbox'  checked><label for='section-7300d61f-a809-4187-a9f3-ff4942e28920' class='xr-section-summary' >Coordinates: <span>(3)</span></label><div class='xr-section-inline-details'></div><div class='xr-section-details'><ul class='xr-var-list'><li class='xr-var-item'><div class='xr-var-name'><span class='xr-has-index'>ocean_time</span></div><div class='xr-var-dims'>(ocean_time)</div><div class='xr-var-dtype'>datetime64[ns]</div><div class='xr-var-preview xr-preview'>2014-06-30T13:00:00 ... 2014-07-...</div><input id='attrs-bf67b31b-f0d5-483f-8edd-097a94692441' class='xr-var-attrs-in' type='checkbox' disabled><label for='attrs-bf67b31b-f0d5-483f-8edd-097a94692441' title='Show/Hide attributes'><svg class='icon xr-icon-file-text2'><use xlink:href='#icon-file-text2'></use></svg></label><input id='data-77528e63-fcea-474f-ad6e-b3acf6ad06d6' class='xr-var-data-in' type='checkbox'><label for='data-77528e63-fcea-474f-ad6e-b3acf6ad06d6' title='Show/Hide data repr'><svg class='icon xr-icon-database'><use xlink:href='#icon-database'></use></svg></label><div class='xr-var-attrs'><dl class='xr-attrs'></dl></div><div class='xr-var-data'><pre>array([&#x27;2014-06-30T13:00:00.000000000&#x27;, &#x27;2014-06-30T14:00:00.000000000&#x27;,\n",
       "       &#x27;2014-06-30T15:00:00.000000000&#x27;, ..., &#x27;2014-07-30T10:00:00.000000000&#x27;,\n",
       "       &#x27;2014-07-30T11:00:00.000000000&#x27;, &#x27;2014-07-30T12:00:00.000000000&#x27;],\n",
       "      dtype=&#x27;datetime64[ns]&#x27;)</pre></div></li><li class='xr-var-item'><div class='xr-var-name'><span class='xr-has-index'>s_rho</span></div><div class='xr-var-dims'>(s_rho)</div><div class='xr-var-dtype'>float64</div><div class='xr-var-preview xr-preview'>-0.9881 -0.9643 ... -0.0119</div><input id='attrs-31b801c7-9cc7-4c27-891f-b4125a177eee' class='xr-var-attrs-in' type='checkbox' disabled><label for='attrs-31b801c7-9cc7-4c27-891f-b4125a177eee' title='Show/Hide attributes'><svg class='icon xr-icon-file-text2'><use xlink:href='#icon-file-text2'></use></svg></label><input id='data-602d3639-db9d-45dc-a837-88b0721a0414' class='xr-var-data-in' type='checkbox'><label for='data-602d3639-db9d-45dc-a837-88b0721a0414' title='Show/Hide data repr'><svg class='icon xr-icon-database'><use xlink:href='#icon-database'></use></svg></label><div class='xr-var-attrs'><dl class='xr-attrs'></dl></div><div class='xr-var-data'><pre>array([-0.988095, -0.964286, -0.940476, -0.916667, -0.892857, -0.869048,\n",
       "       -0.845238, -0.821429, -0.797619, -0.77381 , -0.75    , -0.72619 ,\n",
       "       -0.702381, -0.678571, -0.654762, -0.630952, -0.607143, -0.583333,\n",
       "       -0.559524, -0.535714, -0.511905, -0.488095, -0.464286, -0.440476,\n",
       "       -0.416667, -0.392857, -0.369048, -0.345238, -0.321429, -0.297619,\n",
       "       -0.27381 , -0.25    , -0.22619 , -0.202381, -0.178571, -0.154762,\n",
       "       -0.130952, -0.107143, -0.083333, -0.059524, -0.035714, -0.011905])</pre></div></li><li class='xr-var-item'><div class='xr-var-name'><span class='xr-has-index'>s_w</span></div><div class='xr-var-dims'>(s_w)</div><div class='xr-var-dtype'>float64</div><div class='xr-var-preview xr-preview'>-1.0 -0.9762 ... -0.02381 0.0</div><input id='attrs-f77ca9fe-130e-4b06-8d6a-ac90271a01ab' class='xr-var-attrs-in' type='checkbox' disabled><label for='attrs-f77ca9fe-130e-4b06-8d6a-ac90271a01ab' title='Show/Hide attributes'><svg class='icon xr-icon-file-text2'><use xlink:href='#icon-file-text2'></use></svg></label><input id='data-301a846f-42cb-42ba-84cf-ea11b034419c' class='xr-var-data-in' type='checkbox'><label for='data-301a846f-42cb-42ba-84cf-ea11b034419c' title='Show/Hide data repr'><svg class='icon xr-icon-database'><use xlink:href='#icon-database'></use></svg></label><div class='xr-var-attrs'><dl class='xr-attrs'></dl></div><div class='xr-var-data'><pre>array([-1.      , -0.97619 , -0.952381, -0.928571, -0.904762, -0.880952,\n",
       "       -0.857143, -0.833333, -0.809524, -0.785714, -0.761905, -0.738095,\n",
       "       -0.714286, -0.690476, -0.666667, -0.642857, -0.619048, -0.595238,\n",
       "       -0.571429, -0.547619, -0.52381 , -0.5     , -0.47619 , -0.452381,\n",
       "       -0.428571, -0.404762, -0.380952, -0.357143, -0.333333, -0.309524,\n",
       "       -0.285714, -0.261905, -0.238095, -0.214286, -0.190476, -0.166667,\n",
       "       -0.142857, -0.119048, -0.095238, -0.071429, -0.047619, -0.02381 ,\n",
       "        0.      ])</pre></div></li></ul></div></li><li class='xr-section-item'><input id='section-1e3e765f-b709-4d2a-b37e-60a9574e7d23' class='xr-section-summary-in' type='checkbox'  ><label for='section-1e3e765f-b709-4d2a-b37e-60a9574e7d23' class='xr-section-summary' >Data variables: <span>(17)</span></label><div class='xr-section-inline-details'></div><div class='xr-section-details'><ul class='xr-var-list'><li class='xr-var-item'><div class='xr-var-name'><span>projection</span></div><div class='xr-var-dims'>()</div><div class='xr-var-dtype'>int32</div><div class='xr-var-preview xr-preview'>...</div><input id='attrs-5604e3dc-b5be-42ff-90b7-6c5b92f84116' class='xr-var-attrs-in' type='checkbox' ><label for='attrs-5604e3dc-b5be-42ff-90b7-6c5b92f84116' title='Show/Hide attributes'><svg class='icon xr-icon-file-text2'><use xlink:href='#icon-file-text2'></use></svg></label><input id='data-280ef393-a357-47af-89f0-f67f35295b3b' class='xr-var-data-in' type='checkbox'><label for='data-280ef393-a357-47af-89f0-f67f35295b3b' title='Show/Hide data repr'><svg class='icon xr-icon-database'><use xlink:href='#icon-database'></use></svg></label><div class='xr-var-attrs'><dl class='xr-attrs'><dt><span>proj4 :</span></dt><dd>+proj=stere +lat_0=90 +lon_0=10 +lat_ts=60 +units=m +R=6.371e+06 +datum=WGS84 +units=m +no_defs</dd></dl></div><div class='xr-var-data'><pre>array(-2147483647, dtype=int32)</pre></div></li><li class='xr-var-item'><div class='xr-var-name'><span>Cs_r</span></div><div class='xr-var-dims'>(s_rho)</div><div class='xr-var-dtype'>float64</div><div class='xr-var-preview xr-preview'>...</div><input id='attrs-bc490b77-b9df-4c62-bc21-2b8a9ebe8035' class='xr-var-attrs-in' type='checkbox' disabled><label for='attrs-bc490b77-b9df-4c62-bc21-2b8a9ebe8035' title='Show/Hide attributes'><svg class='icon xr-icon-file-text2'><use xlink:href='#icon-file-text2'></use></svg></label><input id='data-14fd004b-d9d8-46d2-b7f3-7b572573d304' class='xr-var-data-in' type='checkbox'><label for='data-14fd004b-d9d8-46d2-b7f3-7b572573d304' title='Show/Hide data repr'><svg class='icon xr-icon-database'><use xlink:href='#icon-database'></use></svg></label><div class='xr-var-attrs'><dl class='xr-attrs'></dl></div><div class='xr-var-data'><pre>array([-9.698368e-01, -9.110356e-01, -8.543374e-01, -7.998050e-01,\n",
       "       -7.474797e-01, -6.973837e-01, -6.495224e-01, -6.038862e-01,\n",
       "       -5.604527e-01, -5.191889e-01, -4.800524e-01, -4.429934e-01,\n",
       "       -4.079561e-01, -3.748801e-01, -3.437014e-01, -3.143538e-01,\n",
       "       -2.867694e-01, -2.608798e-01, -2.366167e-01, -2.139123e-01,\n",
       "       -1.927000e-01, -1.729148e-01, -1.544938e-01, -1.373762e-01,\n",
       "       -1.215038e-01, -1.068209e-01, -9.327482e-02, -8.081588e-02,\n",
       "       -6.939731e-02, -5.897549e-02, -4.950995e-02, -4.096336e-02,\n",
       "       -3.330160e-02, -2.649367e-02, -2.051179e-02, -1.533129e-02,\n",
       "       -1.093065e-02, -7.291467e-03, -4.398438e-03, -2.239340e-03,\n",
       "       -8.050204e-04, -8.938327e-05])</pre></div></li><li class='xr-var-item'><div class='xr-var-name'><span>Cs_w</span></div><div class='xr-var-dims'>(s_w)</div><div class='xr-var-dtype'>float64</div><div class='xr-var-preview xr-preview'>...</div><input id='attrs-2ea1482a-5d81-417c-9bc2-bcd9f24ae0ca' class='xr-var-attrs-in' type='checkbox' disabled><label for='attrs-2ea1482a-5d81-417c-9bc2-bcd9f24ae0ca' title='Show/Hide attributes'><svg class='icon xr-icon-file-text2'><use xlink:href='#icon-file-text2'></use></svg></label><input id='data-ade7bae3-bdcb-4b9d-b290-24d1da49950a' class='xr-var-data-in' type='checkbox'><label for='data-ade7bae3-bdcb-4b9d-b290-24d1da49950a' title='Show/Hide data repr'><svg class='icon xr-icon-database'><use xlink:href='#icon-database'></use></svg></label><div class='xr-var-attrs'><dl class='xr-attrs'></dl></div><div class='xr-var-data'><pre>array([-1.000000e+00, -9.401782e-01, -8.824192e-01, -8.267974e-01,\n",
       "       -7.733646e-01, -7.221523e-01, -6.731740e-01, -6.264272e-01,\n",
       "       -5.818959e-01, -5.395521e-01, -4.993577e-01, -4.612666e-01,\n",
       "       -4.252257e-01, -3.911768e-01, -3.590577e-01, -3.288029e-01,\n",
       "       -3.003454e-01, -2.736170e-01, -2.485492e-01, -2.250739e-01,\n",
       "       -2.031237e-01, -1.826330e-01, -1.635377e-01, -1.457758e-01,\n",
       "       -1.292879e-01, -1.140170e-01, -9.990891e-02, -8.691245e-02,\n",
       "       -7.497934e-02, -6.406441e-02, -5.412559e-02, -4.512399e-02,\n",
       "       -3.702389e-02, -2.979272e-02, -2.340109e-02, -1.782278e-02,\n",
       "       -1.303471e-02, -9.016905e-03, -5.752520e-03, -3.227792e-03,\n",
       "       -1.432036e-03, -3.576282e-04,  0.000000e+00])</pre></div></li><li class='xr-var-item'><div class='xr-var-name'><span>h</span></div><div class='xr-var-dims'>(eta_rho, xi_rho)</div><div class='xr-var-dtype'>float32</div><div class='xr-var-preview xr-preview'>...</div><input id='attrs-79d00a4f-9ff1-4cf0-a478-3b341b9975b3' class='xr-var-attrs-in' type='checkbox' disabled><label for='attrs-79d00a4f-9ff1-4cf0-a478-3b341b9975b3' title='Show/Hide attributes'><svg class='icon xr-icon-file-text2'><use xlink:href='#icon-file-text2'></use></svg></label><input id='data-1a809eed-b594-4ae0-b5ed-e6e54c5da17d' class='xr-var-data-in' type='checkbox'><label for='data-1a809eed-b594-4ae0-b5ed-e6e54c5da17d' title='Show/Hide data repr'><svg class='icon xr-icon-database'><use xlink:href='#icon-database'></use></svg></label><div class='xr-var-attrs'><dl class='xr-attrs'></dl></div><div class='xr-var-data'><pre>[294177 values with dtype=float32]</pre></div></li><li class='xr-var-item'><div class='xr-var-name'><span>mask_rho</span></div><div class='xr-var-dims'>(eta_rho, xi_rho)</div><div class='xr-var-dtype'>float32</div><div class='xr-var-preview xr-preview'>...</div><input id='attrs-9718a89e-5f46-45b5-93b1-69526a1fecae' class='xr-var-attrs-in' type='checkbox' disabled><label for='attrs-9718a89e-5f46-45b5-93b1-69526a1fecae' title='Show/Hide attributes'><svg class='icon xr-icon-file-text2'><use xlink:href='#icon-file-text2'></use></svg></label><input id='data-6438cfb2-0455-4a3c-9efe-048d955cc81b' class='xr-var-data-in' type='checkbox'><label for='data-6438cfb2-0455-4a3c-9efe-048d955cc81b' title='Show/Hide data repr'><svg class='icon xr-icon-database'><use xlink:href='#icon-database'></use></svg></label><div class='xr-var-attrs'><dl class='xr-attrs'></dl></div><div class='xr-var-data'><pre>[294177 values with dtype=float32]</pre></div></li><li class='xr-var-item'><div class='xr-var-name'><span>angle</span></div><div class='xr-var-dims'>(eta_rho, xi_rho)</div><div class='xr-var-dtype'>float32</div><div class='xr-var-preview xr-preview'>...</div><input id='attrs-9402504c-4c89-4ef3-89b6-79f8c1ff4be4' class='xr-var-attrs-in' type='checkbox' disabled><label for='attrs-9402504c-4c89-4ef3-89b6-79f8c1ff4be4' title='Show/Hide attributes'><svg class='icon xr-icon-file-text2'><use xlink:href='#icon-file-text2'></use></svg></label><input id='data-cc00838b-f555-4dca-9f1c-1335e9c41c9d' class='xr-var-data-in' type='checkbox'><label for='data-cc00838b-f555-4dca-9f1c-1335e9c41c9d' title='Show/Hide data repr'><svg class='icon xr-icon-database'><use xlink:href='#icon-database'></use></svg></label><div class='xr-var-attrs'><dl class='xr-attrs'></dl></div><div class='xr-var-data'><pre>[294177 values with dtype=float32]</pre></div></li><li class='xr-var-item'><div class='xr-var-name'><span>zeta</span></div><div class='xr-var-dims'>(ocean_time, eta_rho, xi_rho)</div><div class='xr-var-dtype'>float32</div><div class='xr-var-preview xr-preview'>...</div><input id='attrs-e3efb8ba-9a0a-4b17-9ec8-a2ebebf3548d' class='xr-var-attrs-in' type='checkbox' disabled><label for='attrs-e3efb8ba-9a0a-4b17-9ec8-a2ebebf3548d' title='Show/Hide attributes'><svg class='icon xr-icon-file-text2'><use xlink:href='#icon-file-text2'></use></svg></label><input id='data-7e329736-a665-45a9-8e05-26c96935b7ef' class='xr-var-data-in' type='checkbox'><label for='data-7e329736-a665-45a9-8e05-26c96935b7ef' title='Show/Hide data repr'><svg class='icon xr-icon-database'><use xlink:href='#icon-database'></use></svg></label><div class='xr-var-attrs'><dl class='xr-attrs'></dl></div><div class='xr-var-data'><pre>[211807440 values with dtype=float32]</pre></div></li><li class='xr-var-item'><div class='xr-var-name'><span>ubar</span></div><div class='xr-var-dims'>(ocean_time, eta_rho, xi_u)</div><div class='xr-var-dtype'>float32</div><div class='xr-var-preview xr-preview'>...</div><input id='attrs-6be1f3f9-6143-4462-9894-6b00da480de2' class='xr-var-attrs-in' type='checkbox' disabled><label for='attrs-6be1f3f9-6143-4462-9894-6b00da480de2' title='Show/Hide attributes'><svg class='icon xr-icon-file-text2'><use xlink:href='#icon-file-text2'></use></svg></label><input id='data-ba7a2a65-99a6-422a-b301-3f45d547c64a' class='xr-var-data-in' type='checkbox'><label for='data-ba7a2a65-99a6-422a-b301-3f45d547c64a' title='Show/Hide data repr'><svg class='icon xr-icon-database'><use xlink:href='#icon-database'></use></svg></label><div class='xr-var-attrs'><dl class='xr-attrs'></dl></div><div class='xr-var-data'><pre>[211273920 values with dtype=float32]</pre></div></li><li class='xr-var-item'><div class='xr-var-name'><span>vbar</span></div><div class='xr-var-dims'>(ocean_time, eta_v, xi_rho)</div><div class='xr-var-dtype'>float32</div><div class='xr-var-preview xr-preview'>...</div><input id='attrs-1fd7f378-d32e-4898-b699-e7b46bd0e94b' class='xr-var-attrs-in' type='checkbox' disabled><label for='attrs-1fd7f378-d32e-4898-b699-e7b46bd0e94b' title='Show/Hide attributes'><svg class='icon xr-icon-file-text2'><use xlink:href='#icon-file-text2'></use></svg></label><input id='data-b6d95c7b-f07e-4554-89ac-b9e70eca95e2' class='xr-var-data-in' type='checkbox'><label for='data-b6d95c7b-f07e-4554-89ac-b9e70eca95e2' title='Show/Hide data repr'><svg class='icon xr-icon-database'><use xlink:href='#icon-database'></use></svg></label><div class='xr-var-attrs'><dl class='xr-attrs'></dl></div><div class='xr-var-data'><pre>[211521600 values with dtype=float32]</pre></div></li><li class='xr-var-item'><div class='xr-var-name'><span>salt</span></div><div class='xr-var-dims'>(ocean_time, s_rho, eta_rho, xi_rho)</div><div class='xr-var-dtype'>float32</div><div class='xr-var-preview xr-preview'>...</div><input id='attrs-c6701336-f007-4b5e-81b0-4a03392847a6' class='xr-var-attrs-in' type='checkbox' disabled><label for='attrs-c6701336-f007-4b5e-81b0-4a03392847a6' title='Show/Hide attributes'><svg class='icon xr-icon-file-text2'><use xlink:href='#icon-file-text2'></use></svg></label><input id='data-7b824ed1-264d-480b-88cb-81d16048f763' class='xr-var-data-in' type='checkbox'><label for='data-7b824ed1-264d-480b-88cb-81d16048f763' title='Show/Hide data repr'><svg class='icon xr-icon-database'><use xlink:href='#icon-database'></use></svg></label><div class='xr-var-attrs'><dl class='xr-attrs'></dl></div><div class='xr-var-data'><pre>[8895912480 values with dtype=float32]</pre></div></li><li class='xr-var-item'><div class='xr-var-name'><span>temp</span></div><div class='xr-var-dims'>(ocean_time, s_rho, eta_rho, xi_rho)</div><div class='xr-var-dtype'>float32</div><div class='xr-var-preview xr-preview'>...</div><input id='attrs-1e75de99-928a-49b9-8bbb-0194298a3014' class='xr-var-attrs-in' type='checkbox' disabled><label for='attrs-1e75de99-928a-49b9-8bbb-0194298a3014' title='Show/Hide attributes'><svg class='icon xr-icon-file-text2'><use xlink:href='#icon-file-text2'></use></svg></label><input id='data-6c1681e0-7495-49b4-aa39-2302f380c988' class='xr-var-data-in' type='checkbox'><label for='data-6c1681e0-7495-49b4-aa39-2302f380c988' title='Show/Hide data repr'><svg class='icon xr-icon-database'><use xlink:href='#icon-database'></use></svg></label><div class='xr-var-attrs'><dl class='xr-attrs'></dl></div><div class='xr-var-data'><pre>[8895912480 values with dtype=float32]</pre></div></li><li class='xr-var-item'><div class='xr-var-name'><span>u</span></div><div class='xr-var-dims'>(ocean_time, s_rho, eta_rho, xi_u)</div><div class='xr-var-dtype'>float32</div><div class='xr-var-preview xr-preview'>...</div><input id='attrs-092b8c85-5360-4943-bd9f-dc7725c76b6c' class='xr-var-attrs-in' type='checkbox' disabled><label for='attrs-092b8c85-5360-4943-bd9f-dc7725c76b6c' title='Show/Hide attributes'><svg class='icon xr-icon-file-text2'><use xlink:href='#icon-file-text2'></use></svg></label><input id='data-57940086-39b2-4e81-b848-bc8fe3f01db8' class='xr-var-data-in' type='checkbox'><label for='data-57940086-39b2-4e81-b848-bc8fe3f01db8' title='Show/Hide data repr'><svg class='icon xr-icon-database'><use xlink:href='#icon-database'></use></svg></label><div class='xr-var-attrs'><dl class='xr-attrs'></dl></div><div class='xr-var-data'><pre>[8873504640 values with dtype=float32]</pre></div></li><li class='xr-var-item'><div class='xr-var-name'><span>v</span></div><div class='xr-var-dims'>(ocean_time, s_rho, eta_v, xi_rho)</div><div class='xr-var-dtype'>float32</div><div class='xr-var-preview xr-preview'>...</div><input id='attrs-f8e77f98-b1d3-40b4-a2af-b9decce3971e' class='xr-var-attrs-in' type='checkbox' disabled><label for='attrs-f8e77f98-b1d3-40b4-a2af-b9decce3971e' title='Show/Hide attributes'><svg class='icon xr-icon-file-text2'><use xlink:href='#icon-file-text2'></use></svg></label><input id='data-da2bbddf-63e4-4a55-8e76-fd98b02d720b' class='xr-var-data-in' type='checkbox'><label for='data-da2bbddf-63e4-4a55-8e76-fd98b02d720b' title='Show/Hide data repr'><svg class='icon xr-icon-database'><use xlink:href='#icon-database'></use></svg></label><div class='xr-var-attrs'><dl class='xr-attrs'></dl></div><div class='xr-var-data'><pre>[8883907200 values with dtype=float32]</pre></div></li><li class='xr-var-item'><div class='xr-var-name'><span>Uwind</span></div><div class='xr-var-dims'>(ocean_time, eta_rho, xi_rho)</div><div class='xr-var-dtype'>float32</div><div class='xr-var-preview xr-preview'>...</div><input id='attrs-14b01638-ba60-4ea0-a29d-55f1c1f16706' class='xr-var-attrs-in' type='checkbox' disabled><label for='attrs-14b01638-ba60-4ea0-a29d-55f1c1f16706' title='Show/Hide attributes'><svg class='icon xr-icon-file-text2'><use xlink:href='#icon-file-text2'></use></svg></label><input id='data-565186d1-3643-4ceb-a776-e3836b3d491d' class='xr-var-data-in' type='checkbox'><label for='data-565186d1-3643-4ceb-a776-e3836b3d491d' title='Show/Hide data repr'><svg class='icon xr-icon-database'><use xlink:href='#icon-database'></use></svg></label><div class='xr-var-attrs'><dl class='xr-attrs'></dl></div><div class='xr-var-data'><pre>[211807440 values with dtype=float32]</pre></div></li><li class='xr-var-item'><div class='xr-var-name'><span>Vwind</span></div><div class='xr-var-dims'>(ocean_time, eta_rho, xi_rho)</div><div class='xr-var-dtype'>float32</div><div class='xr-var-preview xr-preview'>...</div><input id='attrs-297d6f7e-26e5-4b45-ab5f-2099ebb3e0cf' class='xr-var-attrs-in' type='checkbox' disabled><label for='attrs-297d6f7e-26e5-4b45-ab5f-2099ebb3e0cf' title='Show/Hide attributes'><svg class='icon xr-icon-file-text2'><use xlink:href='#icon-file-text2'></use></svg></label><input id='data-30ffee11-5fc0-4af3-b668-a99058d12c42' class='xr-var-data-in' type='checkbox'><label for='data-30ffee11-5fc0-4af3-b668-a99058d12c42' title='Show/Hide data repr'><svg class='icon xr-icon-database'><use xlink:href='#icon-database'></use></svg></label><div class='xr-var-attrs'><dl class='xr-attrs'></dl></div><div class='xr-var-data'><pre>[211807440 values with dtype=float32]</pre></div></li><li class='xr-var-item'><div class='xr-var-name'><span>lat_rho</span></div><div class='xr-var-dims'>(eta_rho, xi_rho)</div><div class='xr-var-dtype'>float32</div><div class='xr-var-preview xr-preview'>...</div><input id='attrs-08fe75be-d13c-43b0-a61a-3fa1d7111a33' class='xr-var-attrs-in' type='checkbox' disabled><label for='attrs-08fe75be-d13c-43b0-a61a-3fa1d7111a33' title='Show/Hide attributes'><svg class='icon xr-icon-file-text2'><use xlink:href='#icon-file-text2'></use></svg></label><input id='data-359ab6d5-c4cc-4c07-b15e-163cd35ea715' class='xr-var-data-in' type='checkbox'><label for='data-359ab6d5-c4cc-4c07-b15e-163cd35ea715' title='Show/Hide data repr'><svg class='icon xr-icon-database'><use xlink:href='#icon-database'></use></svg></label><div class='xr-var-attrs'><dl class='xr-attrs'></dl></div><div class='xr-var-data'><pre>[294177 values with dtype=float32]</pre></div></li><li class='xr-var-item'><div class='xr-var-name'><span>lon_rho</span></div><div class='xr-var-dims'>(eta_rho, xi_rho)</div><div class='xr-var-dtype'>float32</div><div class='xr-var-preview xr-preview'>...</div><input id='attrs-0e91a3aa-08ea-4fbe-a677-59218e3dfe42' class='xr-var-attrs-in' type='checkbox' disabled><label for='attrs-0e91a3aa-08ea-4fbe-a677-59218e3dfe42' title='Show/Hide attributes'><svg class='icon xr-icon-file-text2'><use xlink:href='#icon-file-text2'></use></svg></label><input id='data-fbe02f99-a69c-41b1-9a20-f0037145d26b' class='xr-var-data-in' type='checkbox'><label for='data-fbe02f99-a69c-41b1-9a20-f0037145d26b' title='Show/Hide data repr'><svg class='icon xr-icon-database'><use xlink:href='#icon-database'></use></svg></label><div class='xr-var-attrs'><dl class='xr-attrs'></dl></div><div class='xr-var-data'><pre>[294177 values with dtype=float32]</pre></div></li></ul></div></li><li class='xr-section-item'><input id='section-dda90de9-b95f-4391-8dd6-d1dd0b1a9cfd' class='xr-section-summary-in' type='checkbox' disabled ><label for='section-dda90de9-b95f-4391-8dd6-d1dd0b1a9cfd' class='xr-section-summary'  title='Expand/collapse section'>Attributes: <span>(0)</span></label><div class='xr-section-inline-details'></div><div class='xr-section-details'><dl class='xr-attrs'></dl></div></li></ul></div></div>"
      ],
      "text/plain": [
       "<xarray.Dataset>\n",
       "Dimensions:     (eta_rho: 741, eta_v: 740, ocean_time: 720, s_rho: 42, s_w: 43, xi_rho: 397, xi_u: 396)\n",
       "Coordinates:\n",
       "  * ocean_time  (ocean_time) datetime64[ns] 2014-06-30T13:00:00 ... 2014-07-3...\n",
       "  * s_rho       (s_rho) float64 -0.9881 -0.9643 -0.9405 ... -0.03571 -0.0119\n",
       "  * s_w         (s_w) float64 -1.0 -0.9762 -0.9524 ... -0.04762 -0.02381 0.0\n",
       "Dimensions without coordinates: eta_rho, eta_v, xi_rho, xi_u\n",
       "Data variables: (12/17)\n",
       "    projection  int32 ...\n",
       "    Cs_r        (s_rho) float64 ...\n",
       "    Cs_w        (s_w) float64 ...\n",
       "    h           (eta_rho, xi_rho) float32 ...\n",
       "    mask_rho    (eta_rho, xi_rho) float32 ...\n",
       "    angle       (eta_rho, xi_rho) float32 ...\n",
       "    ...          ...\n",
       "    u           (ocean_time, s_rho, eta_rho, xi_u) float32 ...\n",
       "    v           (ocean_time, s_rho, eta_v, xi_rho) float32 ...\n",
       "    Uwind       (ocean_time, eta_rho, xi_rho) float32 ...\n",
       "    Vwind       (ocean_time, eta_rho, xi_rho) float32 ...\n",
       "    lat_rho     (eta_rho, xi_rho) float32 ...\n",
       "    lon_rho     (eta_rho, xi_rho) float32 ..."
      ]
     },
     "execution_count": 7,
     "metadata": {},
     "output_type": "execute_result"
    }
   ],
   "source": [
    "import xarray as xr\n",
    "ds = xr.open_dataset(source_url)\n",
    "ds"
   ]
  },
  {
   "cell_type": "markdown",
   "metadata": {},
   "source": [
    "Animation utils"
   ]
  },
  {
   "cell_type": "code",
   "execution_count": 8,
   "metadata": {},
   "outputs": [],
   "source": [
    "import animation_utils"
   ]
  },
  {
   "cell_type": "markdown",
   "metadata": {},
   "source": [
    "## Generating GPUOcean Simulation from Input"
   ]
  },
  {
   "cell_type": "markdown",
   "metadata": {},
   "source": [
    "General parameters"
   ]
  },
  {
   "cell_type": "code",
   "execution_count": 9,
   "metadata": {},
   "outputs": [],
   "source": [
    "dimY, dimX = ds.h.data.shape\n",
    "x0, x1, y0, y1 = 5, dimX-5, 175, dimY-5"
   ]
  },
  {
   "cell_type": "markdown",
   "metadata": {},
   "source": [
    "Simulation span: 6h!"
   ]
  },
  {
   "cell_type": "code",
   "execution_count": 10,
   "metadata": {},
   "outputs": [],
   "source": [
    "t_start = 5*24 + 20\n",
    "t_stop =  t_start + 6\n",
    "\n",
    "T = (t_stop-t_start)*3600  #Input\n",
    "timestep_indices = [list(np.arange(t_start, t_stop+1))]"
   ]
  },
  {
   "cell_type": "code",
   "execution_count": 11,
   "metadata": {},
   "outputs": [
    {
     "data": {
      "text/plain": [
       "'2014-07-06 09:00'"
      ]
     },
     "execution_count": 11,
     "metadata": {},
     "output_type": "execute_result"
    }
   ],
   "source": [
    "datetime.datetime.strftime(datetime.datetime.utcfromtimestamp(nc[\"ocean_time\"][t_start]), \"%Y-%m-%d %H:00\")"
   ]
  },
  {
   "cell_type": "markdown",
   "metadata": {},
   "source": [
    "Generating wind fields"
   ]
  },
  {
   "cell_type": "code",
   "execution_count": 12,
   "metadata": {},
   "outputs": [],
   "source": [
    "from gpuocean.utils import WindStress\n",
    "\n",
    "def rotate_wind_field(wind, angle, plot=False):\n",
    "    radians = (angle/360)*2*np.pi\n",
    "    wind_u = wind.wind_u.copy()\n",
    "    wind_v = wind.wind_v.copy()\n",
    "    t = wind.t.copy()\n",
    "    #print(t)\n",
    "\n",
    "    c = np.cos(radians)\n",
    "    s = np.sin(radians)\n",
    "    wind_u_new = wind_u * c - wind_v * s\n",
    "    wind_v_new = wind_u * s + wind_v * c\n",
    "\n",
    "    if plot:\n",
    "        x0, x1 = 200, 220\n",
    "        y0, y1 = 200, 220\n",
    "\n",
    "        fig = plt.figure()\n",
    "        plt.quiver(wind_u[3, y0:y1, x0:x1], wind_v[3, y0:y1, x0:x1])\n",
    "\n",
    "        fig = plt.figure()\n",
    "        plt.quiver(wind_u_new[3, y0:y1, x0:x1], wind_v_new[3, y0:y1, x0:x1])\n",
    "    return WindStress.WindStress(t=t, wind_u=wind_u_new, wind_v=wind_v_new)"
   ]
  },
  {
   "cell_type": "markdown",
   "metadata": {},
   "source": [
    "#### Baroclinic Simulations"
   ]
  },
  {
   "cell_type": "code",
   "execution_count": 13,
   "metadata": {},
   "outputs": [],
   "source": [
    "_, ref_baroclinic_data_args = NetCDFInitialization.getCombinedInitialConditions(source_url, x0, x1, y0, y1, 1024.0, timestep_indices=timestep_indices, norkyst_data=False, land_value=0.0, download_data=False)"
   ]
  },
  {
   "cell_type": "code",
   "execution_count": 86,
   "metadata": {},
   "outputs": [],
   "source": [
    "ref_wind = ref_baroclinic_data_args[\"wind\"]\n",
    "ref_wind.wind_u[ref_wind.wind_u > 1e3] = 0.0\n",
    "ref_wind.wind_v[ref_wind.wind_v > 1e3] = 0.0"
   ]
  },
  {
   "cell_type": "markdown",
   "metadata": {},
   "source": [
    "Checking wind"
   ]
  },
  {
   "cell_type": "code",
   "execution_count": 112,
   "metadata": {},
   "outputs": [],
   "source": [
    "Uwind = np.ma.array(ref_wind.wind_u, mask=7*[1-nc[\"mask_rho\"][y0:y1,x0:x1]])\n",
    "Vwind = np.ma.array(ref_wind.wind_v, mask=7*[1-nc[\"mask_rho\"][y0:y1,x0:x1]])"
   ]
  },
  {
   "cell_type": "code",
   "execution_count": 115,
   "metadata": {},
   "outputs": [
    {
     "data": {
      "text/plain": [
       "<matplotlib.quiver.Quiver at 0x151d7c44d790>"
      ]
     },
     "execution_count": 115,
     "metadata": {},
     "output_type": "execute_result"
    },
    {
     "data": {
      "image/png": "[encoded data removed]",
      "text/plain": [
       "<Figure size 1440x720 with 2 Axes>"
      ]
     },
     "metadata": {
      "needs_background": "light"
     },
     "output_type": "display_data"
    }
   ],
   "source": [
    "t_idx = 6\n",
    "\n",
    "initV = np.ma.sqrt(Uwind[t_idx]**2 + Vwind[t_idx]**2)\n",
    "\n",
    "frequency_x =15\n",
    "frequency_y =15\n",
    "x = np.arange(0, initV.shape[1], frequency_x)*ref_baroclinic_data_args[\"dx\"]/1000\n",
    "y = np.arange(0, initV.shape[0], frequency_y)*ref_baroclinic_data_args[\"dy\"]/1000\n",
    "qu = Uwind[t_idx][::frequency_y, ::frequency_x]\n",
    "qv = Vwind[t_idx][::frequency_y, ::frequency_x]\n",
    "\n",
    "domain_extent = [0, ref_baroclinic_data_args[\"nx\"]*ref_baroclinic_data_args[\"dx\"]/1000,\n",
    "                     0, ref_baroclinic_data_args[\"ny\"]*ref_baroclinic_data_args[\"dy\"]/1000]\n",
    "\n",
    "cmap_cp = copy.copy(plt.cm.Greens)\n",
    "cmap_cp.set_bad(\"grey\", alpha = 1.0)\n",
    "\n",
    "fig, ax = plt.subplots(1,1,figsize=(20,10))\n",
    "fig.suptitle(\"Ref wind\")\n",
    "\n",
    "im = ax.imshow(initV, cmap=cmap_cp, extent=domain_extent, vmin=0.0, vmax=10)\n",
    "plt.colorbar(im, ax=ax)\n",
    "\n",
    "ax.quiver(x, y, qu, qv)"
   ]
  },
  {
   "cell_type": "code",
   "execution_count": 116,
   "metadata": {},
   "outputs": [],
   "source": [
    "ref_baroclinic_data_args[\"wind\"] = ref_wind\n",
    "ref_baroclinic_data_args[\"wind_stress_factor\"] = 0.3"
   ]
  },
  {
   "cell_type": "code",
   "execution_count": 117,
   "metadata": {},
   "outputs": [
    {
     "name": "stderr",
     "output_type": "stream",
     "text": [
      "/lustre/storeB/users/florianb/havvarsel/gpuocean/src/gpuocean/SWEsimulators/CDKLM16.py:216: UserWarning: The CUDA compiler succeeded, but said the following:\n",
      "/lustre/storeB/users/florianb/havvarsel/gpuocean/src/gpuocean/gpu_kernels/external_forcing.cu(27): warning #1215-D: function \"tex2D(texture<T, 2, cudaReadModeElementType>, float, float) [with T=float]\"\n",
      "/modules/rhel8/cuda/11.6.0/bin/../targets/x86_64-linux/include/texture_fetch_functions.h(198): here was declared deprecated\n",
      "\n",
      "/lustre/storeB/users/florianb/havvarsel/gpuocean/src/gpuocean/gpu_kernels/external_forcing.cu(28): warning #1215-D: function \"tex2D(texture<T, 2, cudaReadModeElementType>, float, float) [with T=float]\"\n",
      "/modules/rhel8/cuda/11.6.0/bin/../targets/x86_64-linux/include/texture_fetch_functions.h(198): here was declared deprecated\n",
      "\n",
      "/lustre/storeB/users/florianb/havvarsel/gpuocean/src/gpuocean/gpu_kernels/external_forcing.cu(49): warning #1215-D: function \"tex2D(texture<T, 2, cudaReadModeElementType>, float, float) [with T=float]\"\n",
      "/modules/rhel8/cuda/11.6.0/bin/../targets/x86_64-linux/include/texture_fetch_functions.h(198): here was declared deprecated\n",
      "\n",
      "/lustre/storeB/users/florianb/havvarsel/gpuocean/src/gpuocean/gpu_kernels/external_forcing.cu(50): warning #1215-D: function \"tex2D(texture<T, 2, cudaReadModeElementType>, float, float) [with T=float]\"\n",
      "/modules/rhel8/cuda/11.6.0/bin/../targets/x86_64-linux/include/texture_fetch_functions.h(198): here was declared deprecated\n",
      "\n",
      "/lustre/storeB/users/florianb/havvarsel/gpuocean/src/gpuocean/gpu_kernels/external_forcing.cu(75): warning #1215-D: function \"tex2D(texture<T, 2, cudaReadModeElementType>, float, float) [with T=float]\"\n",
      "/modules/rhel8/cuda/11.6.0/bin/../targets/x86_64-linux/include/texture_fetch_functions.h(198): here was declared deprecated\n",
      "\n",
      "/lustre/storeB/users/florianb/havvarsel/gpuocean/src/gpuocean/gpu_kernels/external_forcing.cu(76): warning #1215-D: function \"tex2D(texture<T, 2, cudaReadModeElementType>, float, float) [with T=float]\"\n",
      "/modules/rhel8/cuda/11.6.0/bin/../targets/x86_64-linux/include/texture_fetch_functions.h(198): here was declared deprecated\n",
      "\n",
      "/lustre/storeB/users/florianb/havvarsel/gpuocean/src/gpuocean/gpu_kernels/external_forcing.cu(77): warning #1215-D: function \"tex2D(texture<T, 2, cudaReadModeElementType>, float, float) [with T=float]\"\n",
      "/modules/rhel8/cuda/11.6.0/bin/../targets/x86_64-linux/include/texture_fetch_functions.h(198): here was declared deprecated\n",
      "\n",
      "/lustre/storeB/users/florianb/havvarsel/gpuocean/src/gpuocean/gpu_kernels/external_forcing.cu(78): warning #1215-D: function \"tex2D(texture<T, 2, cudaReadModeElementType>, float, float) [with T=float]\"\n",
      "/modules/rhel8/cuda/11.6.0/bin/../targets/x86_64-linux/include/texture_fetch_functions.h(198): here was declared deprecated\n",
      "\n",
      "/lustre/storeB/users/florianb/havvarsel/gpuocean/src/gpuocean/gpu_kernels/external_forcing.cu(79): warning #1215-D: function \"tex2D(texture<T, 2, cudaReadModeElementType>, float, float) [with T=float]\"\n",
      "/modules/rhel8/cuda/11.6.0/bin/../targets/x86_64-linux/include/texture_fetch_functions.h(198): here was declared deprecated\n",
      "\n",
      "/lustre/storeB/users/florianb/havvarsel/gpuocean/src/gpuocean/gpu_kernels/external_forcing.cu(80): warning #1215-D: function \"tex2D(texture<T, 2, cudaReadModeElementType>, float, float) [with T=float]\"\n",
      "/modules/rhel8/cuda/11.6.0/bin/../targets/x86_64-linux/include/texture_fetch_functions.h(198): here was declared deprecated\n",
      "\n",
      "/lustre/storeB/users/florianb/havvarsel/gpuocean/src/gpuocean/gpu_kernels/external_forcing.cu(81): warning #1215-D: function \"tex2D(texture<T, 2, cudaReadModeElementType>, float, float) [with T=float]\"\n",
      "/modules/rhel8/cuda/11.6.0/bin/../targets/x86_64-linux/include/texture_fetch_functions.h(198): here was declared deprecated\n",
      "\n",
      "/lustre/storeB/users/florianb/havvarsel/gpuocean/src/gpuocean/gpu_kernels/external_forcing.cu(82): warning #1215-D: function \"tex2D(texture<T, 2, cudaReadModeElementType>, float, float) [with T=float]\"\n",
      "/modules/rhel8/cuda/11.6.0/bin/../targets/x86_64-linux/include/texture_fetch_functions.h(198): here was declared deprecated\n",
      "\n",
      "/lustre/storeB/users/florianb/havvarsel/gpuocean/src/gpuocean/gpu_kernels/CDKLM16_kernel.cu(57): warning #1215-D: function \"tex2D(texture<T, 2, cudaReadModeElementType>, float, float) [with T=float]\"\n",
      "/modules/rhel8/cuda/11.6.0/bin/../targets/x86_64-linux/include/texture_fetch_functions.h(198): here was declared deprecated\n",
      "\n",
      "/lustre/storeB/users/florianb/havvarsel/gpuocean/src/gpuocean/gpu_kernels/CDKLM16_kernel.cu(73): warning #1215-D: function \"tex2D(texture<T, 2, cudaReadModeElementType>, float, float) [with T=float]\"\n",
      "/modules/rhel8/cuda/11.6.0/bin/../targets/x86_64-linux/include/texture_fetch_functions.h(198): here was declared deprecated\n",
      "\n",
      "\n",
      "  jit_compile_args={\n",
      "This will give inaccurate angle along the border!\n",
      "This will give inaccurate coriolis along the border!\n"
     ]
    }
   ],
   "source": [
    "ref_baroclinic_sim = CDKLM16.CDKLM16(baroclinic_gpu_ctx, **NetCDFInitialization.removeMetadata(ref_baroclinic_data_args), dt=0.0, write_netcdf=True)"
   ]
  },
  {
   "cell_type": "code",
   "execution_count": 118,
   "metadata": {},
   "outputs": [
    {
     "data": {
      "text/plain": [
       "<matplotlib.colorbar.Colorbar at 0x151d7c0a2e90>"
      ]
     },
     "execution_count": 118,
     "metadata": {},
     "output_type": "execute_result"
    },
    {
     "data": {
      "image/png": "[encoded data removed]",
      "text/plain": [
       "<Figure size 1080x360 with 6 Axes>"
      ]
     },
     "metadata": {
      "needs_background": "light"
     },
     "output_type": "display_data"
    }
   ],
   "source": [
    "bc_eta, bc_hu, bc_hv = ref_baroclinic_sim.download()\n",
    "\n",
    "fig, axs = plt.subplots(1,3, figsize=(15,5))\n",
    "\n",
    "im = axs[0].imshow(-bc_eta, vmin=-15, vmax=0, cmap=\"coolwarm\")\n",
    "axs[0].set_title(\"MLD\")\n",
    "plt.colorbar(im, ax=axs[0], shrink=0.5)\n",
    "\n",
    "im = axs[1].imshow(bc_hu, vmin=-5, vmax=5, cmap=\"coolwarm\")\n",
    "axs[1].set_title(\"hu\")\n",
    "plt.colorbar(im, ax=axs[1], shrink=0.5)\n",
    "\n",
    "im = axs[2].imshow(bc_hv, vmin=-5, vmax=5, cmap=\"coolwarm\")\n",
    "axs[2].set_title(\"hv\")\n",
    "plt.colorbar(im, ax=axs[2], shrink=0.5)"
   ]
  },
  {
   "cell_type": "code",
   "execution_count": 119,
   "metadata": {},
   "outputs": [],
   "source": [
    "subt = 3600\n",
    "for runt in range(int(T/subt)):\n",
    "    ref_baroclinic_sim.step(subt)"
   ]
  },
  {
   "cell_type": "code",
   "execution_count": 120,
   "metadata": {},
   "outputs": [],
   "source": [
    "# with plt.rc_context({'lines.color':'black', \n",
    "#                         'text.color':'black', \n",
    "#                         'axes.labelcolor':'black', \n",
    "#                         'xtick.color':'black',\n",
    "#                         'ytick.color':'black'}):\n",
    "#     anim = animation_utils.ncAnimation(ref_baroclinic_sim.sim_writer.output_file_name, \"gpuocean-reduced_grav\", comment=\"GPUOcean\")\n",
    "#     anim.save(\"anims/baroclinic_test.mp4\")"
   ]
  },
  {
   "cell_type": "markdown",
   "metadata": {},
   "source": [
    "## Baroclinic Drifters"
   ]
  },
  {
   "cell_type": "code",
   "execution_count": null,
   "metadata": {},
   "outputs": [],
   "source": [
    "import pandas as pd "
   ]
  },
  {
   "cell_type": "code",
   "execution_count": null,
   "metadata": {},
   "outputs": [],
   "source": [
    "baroclinic_wind_angles_degs = np.arange(35, 56, 5)\n",
    "baroclinic_wind_samples = [None]*len(baroclinic_wind_angles_degs)\n",
    "\n",
    "for i in range(len(baroclinic_wind_angles_degs)):\n",
    "    baroclinic_wind_samples[i] = generate_wind_field(baroclinic_wind_angles_degs[i], t_start, T)"
   ]
  },
  {
   "cell_type": "code",
   "execution_count": null,
   "metadata": {},
   "outputs": [],
   "source": [
    "# Mixed layer depth (MLD) \n",
    "# Can be explored coupled or decoupled with the reduced gravity constant\n",
    "mld_dens_samples = np.arange(1022.5, 1024.6, 0.50)\n",
    "mld_samples_data_args = [None]*len(mld_dens_samples)\n",
    "\n",
    "for i in range(len(mld_dens_samples)):\n",
    "    _, mld_samples_data_args[i] = NetCDFInitialization.getCombinedInitialConditions(source_url, x0, x1, y0, y1, \n",
    "                                                                                    mld_dens_samples[i], timestep_indices=timestep_indices, norkyst_data=False, land_value=0.0, download_data=False)\n",
    "    print(mld_samples_data_args[i][\"g\"])\n"
   ]
  },
  {
   "cell_type": "code",
   "execution_count": null,
   "metadata": {},
   "outputs": [],
   "source": [
    "wind_stress_samples = np.arange(0.1, 0.51, 0.1)"
   ]
  },
  {
   "cell_type": "code",
   "execution_count": null,
   "metadata": {},
   "outputs": [],
   "source": [
    "friction_samples = np.arange(0, 0.0051, 0.001)"
   ]
  },
  {
   "cell_type": "code",
   "execution_count": null,
   "metadata": {},
   "outputs": [],
   "source": [
    "windage_samples = np.arange(0.0, 0.051, 0.01)"
   ]
  },
  {
   "cell_type": "markdown",
   "metadata": {},
   "source": [
    "#### Creating simulators"
   ]
  },
  {
   "cell_type": "code",
   "execution_count": null,
   "metadata": {},
   "outputs": [],
   "source": [
    "baroclinic_sims = []\n",
    "bc_table = pd.DataFrame(columns=[\"baroclinic_id\", \"wind_angle_id\", \"wind_stress_factor_id\", \"friction_id\", \"mld_id\"]).set_index(\"baroclinic_id\")\n",
    "\n",
    "for i_w in range(len(baroclinic_wind_samples)):\n",
    "    for i_ws in range(len(wind_stress_samples)):\n",
    "        for i_f in range(len(friction_samples)):\n",
    "            for i_mld in range(len(mld_samples_data_args)):\n",
    "                baroclinic_data_args = copy.copy(mld_samples_data_args[i_mld])\n",
    "                baroclinic_data_args[\"wind\"] = baroclinic_wind_samples[i_w]\n",
    "                baroclinic_data_args[\"wind_stress_factor\"] = wind_stress_samples[i_ws]\n",
    "                baroclinic_data_args[\"r\"] = friction_samples[i_f]\n",
    "\n",
    "                baroclinic_sims.append( CDKLM16.CDKLM16(baroclinic_gpu_ctx, **NetCDFInitialization.removeMetadata(baroclinic_data_args),  dt=0.0))\n",
    "                \n",
    "                bc_table.loc[len(bc_table.index)] = [i_w, i_ws, i_f, i_mld]"
   ]
  },
  {
   "cell_type": "code",
   "execution_count": null,
   "metadata": {},
   "outputs": [],
   "source": [
    "bc_table"
   ]
  },
  {
   "cell_type": "code",
   "execution_count": null,
   "metadata": {},
   "outputs": [],
   "source": [
    "ref_table = pd.DataFrame(columns=[\"drifter_id\", \"baroclinic_id\", \"windage_id\"]).set_index(\"drifter_id\")\n",
    "\n",
    "\n",
    "for bc in range(len(baroclinic_sims)):\n",
    "    for windage in range(len(windage_samples)):\n",
    "        ref_table.loc[len(ref_table.index)] = [bc, windage]\n",
    "\n",
    "ref_table"
   ]
  },
  {
   "cell_type": "markdown",
   "metadata": {},
   "source": [
    "Collecting drifter and observation objects"
   ]
  },
  {
   "cell_type": "code",
   "execution_count": null,
   "metadata": {},
   "outputs": [],
   "source": [
    "from gpuocean.utils import Observation\n",
    "from gpuocean.drifters import GPUDrifterCollection\n",
    "from gpuocean.dataassimilation import DataAssimilationUtils as dautils"
   ]
  },
  {
   "cell_type": "code",
   "execution_count": null,
   "metadata": {},
   "outputs": [],
   "source": [
    "observation_type = dautils.ObservationType.UnderlyingFlow \n",
    "    \n",
    "observation_args = {'observation_type': observation_type,\n",
    "                'nx': ref_baroclinic_sim.nx, 'ny': ref_baroclinic_sim.ny,\n",
    "                'domain_size_x': ref_baroclinic_sim.nx*ref_baroclinic_sim.dx,\n",
    "                'domain_size_y': ref_baroclinic_sim.ny*ref_baroclinic_sim.dy,\n",
    "                'land_mask': ref_baroclinic_sim.getLandMask()\n",
    "                }\n",
    "\n",
    "trajectories = Observation.Observation(**observation_args)\n"
   ]
  },
  {
   "cell_type": "code",
   "execution_count": null,
   "metadata": {},
   "outputs": [],
   "source": [
    "crossprod_trajectories = []\n",
    "for cp in range(len(ref_table)):\n",
    "    crossprod_trajectories.append(copy.deepcopy(trajectories))"
   ]
  },
  {
   "cell_type": "code",
   "execution_count": null,
   "metadata": {},
   "outputs": [],
   "source": [
    "initx = [ 6000, 8000, 5000,  12000, 15000, 4000]\n",
    "inity = [12000, 3000, 7500, 22000, 16000, 15000]\n",
    "\n",
    "num_drifters = len(initx)"
   ]
  },
  {
   "cell_type": "code",
   "execution_count": null,
   "metadata": {},
   "outputs": [],
   "source": [
    "crossprod_drifters = []\n",
    "for cp in range(len(ref_table)): \n",
    "    drifters = GPUDrifterCollection.GPUDrifterCollection(baroclinic_gpu_ctx, # OBS: This is used for wind drift! \n",
    "                                                    num_drifters,\n",
    "                                                    boundaryConditions = ref_baroclinic_sim.boundary_conditions,\n",
    "                                                    domain_size_x = trajectories.domain_size_x,\n",
    "                                                    domain_size_y = trajectories.domain_size_y,\n",
    "                                                    gpu_stream = ref_baroclinic_sim.gpu_stream, # Get re-set in attachment to simulation!\n",
    "                                                    wind = ref_baroclinic_data_args[\"wind\"],\n",
    "                                                    wind_drift_factor = windage_samples[ref_table.iloc[cp].windage_id]\n",
    "                                                    )           \n",
    "\n",
    "    drifter_pos_init = np.array([initx, inity]).T\n",
    "    drifters.setDrifterPositions(drifter_pos_init)\n",
    "    crossprod_drifters.append(drifters)"
   ]
  },
  {
   "cell_type": "markdown",
   "metadata": {},
   "source": [
    "Attach CPdrifters"
   ]
  },
  {
   "cell_type": "code",
   "execution_count": null,
   "metadata": {},
   "outputs": [],
   "source": [
    "from itertools import compress"
   ]
  },
  {
   "cell_type": "code",
   "execution_count": null,
   "metadata": {},
   "outputs": [],
   "source": [
    "for bc in range(len(baroclinic_sims)):\n",
    "    baroclinic_sims[bc].attachCrossProductDrifters( \n",
    "        list(compress(crossprod_drifters, ref_table[\"baroclinic_id\"] == bc)), \n",
    "        [None]*len(windage_samples) )"
   ]
  },
  {
   "cell_type": "code",
   "execution_count": null,
   "metadata": {},
   "outputs": [],
   "source": [
    "for d in range(len(crossprod_drifters)):\n",
    "    crossprod_trajectories[d].add_observation_from_drifters(crossprod_drifters[d], 0.0)"
   ]
  },
  {
   "cell_type": "markdown",
   "metadata": {},
   "source": [
    "Run the drift experiment"
   ]
  },
  {
   "cell_type": "code",
   "execution_count": null,
   "metadata": {},
   "outputs": [],
   "source": [
    "for bc in range(len(baroclinic_sims)):\n",
    "    drifter_ids = ref_table.index[ref_table[\"baroclinic_id\"]==bc].tolist()\n",
    "    while baroclinic_sims[bc].t < T:\n",
    "        baroclinic_sims[bc].step(360)\n",
    "        for d in drifter_ids:\n",
    "            crossprod_trajectories[d].add_observation_from_drifters(crossprod_drifters[d], baroclinic_sims[bc].t)"
   ]
  },
  {
   "cell_type": "code",
   "execution_count": null,
   "metadata": {},
   "outputs": [],
   "source": [
    "def plot_cp_trajectories(crossprod_trajectories, drifter_id):\n",
    "    with plt.rc_context({'lines.color':'black', \n",
    "                            'text.color':'black', \n",
    "                            'axes.labelcolor':'black', \n",
    "                            'xtick.color':'black',\n",
    "                            'ytick.color':'black'}):\n",
    "        fig, ax = plt.subplots(1,1, figsize=(10,10))\n",
    "        ax.tick_params(axis='both', which='major', labelsize=28)\n",
    "        domain_extent = [0, ref_baroclinic_sim.nx*ref_baroclinic_sim.dx/1000, 0, ref_baroclinic_sim.ny*ref_baroclinic_sim.dy/1000]\n",
    "\n",
    "        bg_cmap = copy.deepcopy(plt.cm.Blues)\n",
    "        bg_cmap.set_bad(\"grey\", alpha = 1.0)\n",
    "\n",
    "        ax.imshow(ref_baroclinic_sim.download()[0] > -10, interpolation=\"none\", origin='lower', \n",
    "                        cmap=bg_cmap,  \n",
    "                        extent=domain_extent)\n",
    "\n",
    "        path = crossprod_trajectories[0].get_drifter_path(drifter_id, 0, T, in_km = True)[0]\n",
    "        start_pos = path[0,:]\n",
    "        circ_start = matplotlib.patches.Circle((start_pos[0], start_pos[1]), \n",
    "                                                0.01, color = 'black', fill=True, zorder=10)\n",
    "        ax.add_patch(circ_start)\n",
    "\n",
    "        for path in [t.get_drifter_path(drifter_id, 0, T, in_km = True)[0] for t in crossprod_trajectories]:\n",
    "            \n",
    "            ax.plot(path[:,0], path[:,1], color=\"C0\", ls=\"-\", zorder=5, alpha=0.1)\n",
    "            \n",
    "            end_pos = path[-1,:]\n",
    "            ax.scatter(end_pos[0], end_pos[1], marker='x', color='black', s=100, linewidths=2)\n",
    "\n",
    "        plt.tight_layout()\n",
    "\n",
    "        plt.savefig(\"figs/CPdrift\"+str(drifter_id)+\".pdf\", bbox_inches=\"tight\")"
   ]
  },
  {
   "cell_type": "code",
   "execution_count": null,
   "metadata": {},
   "outputs": [],
   "source": [
    "for drifter_id in range(num_drifters):\n",
    "    plot_cp_trajectories(crossprod_trajectories, drifter_id)"
   ]
  },
  {
   "cell_type": "code",
   "execution_count": null,
   "metadata": {},
   "outputs": [],
   "source": [
    "os.makedirs(\"pickles\", exist_ok=True)\n",
    "for cp in range(len(crossprod_trajectories)):\n",
    "    crossprod_trajectories[cp].to_pickle(\"pickles/cp_trajectory\"+str(cp))\n"
   ]
  },
  {
   "cell_type": "code",
   "execution_count": null,
   "metadata": {},
   "outputs": [],
   "source": [
    "STOP"
   ]
  },
  {
   "cell_type": "markdown",
   "metadata": {},
   "source": [
    "## Post-Processing"
   ]
  },
  {
   "cell_type": "code",
   "execution_count": null,
   "metadata": {},
   "outputs": [],
   "source": [
    "#Lets have matplotlib \"inline\"\n",
    "%matplotlib inline\n",
    "\n",
    "import os\n",
    "import sys\n",
    "\n",
    "#Import packages we need\n",
    "import numpy as np\n",
    "from netCDF4 import Dataset\n",
    "import datetime, copy\n",
    "from IPython.display import display\n",
    "\n",
    "#For plotting\n",
    "import matplotlib\n",
    "from matplotlib import pyplot as plt\n",
    "\n",
    "plt.rcParams[\"lines.color\"] = \"w\"\n",
    "plt.rcParams[\"text.color\"] = \"w\"\n",
    "plt.rcParams[\"axes.labelcolor\"] = \"w\"\n",
    "plt.rcParams[\"xtick.color\"] = \"w\"\n",
    "plt.rcParams[\"ytick.color\"] = \"w\"\n",
    "\n",
    "plt.rcParams[\"image.origin\"] = \"lower\""
   ]
  },
  {
   "cell_type": "code",
   "execution_count": null,
   "metadata": {},
   "outputs": [],
   "source": [
    "source_url = \"/sintef/data/OsloFjord/test_polstere_1h_0007.nc\""
   ]
  },
  {
   "cell_type": "code",
   "execution_count": null,
   "metadata": {},
   "outputs": [],
   "source": [
    "from netCDF4 import Dataset\n",
    "nc = Dataset(source_url)"
   ]
  },
  {
   "cell_type": "code",
   "execution_count": null,
   "metadata": {},
   "outputs": [],
   "source": [
    "import xarray as xr\n",
    "ds = xr.open_dataset(source_url)\n",
    "ds"
   ]
  },
  {
   "cell_type": "code",
   "execution_count": null,
   "metadata": {},
   "outputs": [],
   "source": [
    "dimY, dimX = ds.h.data.shape\n",
    "x0, x1, y0, y1 = 5, dimX-5, 175, dimY-5"
   ]
  },
  {
   "cell_type": "code",
   "execution_count": null,
   "metadata": {},
   "outputs": [],
   "source": [
    "nx = (x1-x0)\n",
    "ny = (y1-y0)\n",
    "dx, dy = 50.0, 50.0"
   ]
  },
  {
   "cell_type": "code",
   "execution_count": null,
   "metadata": {},
   "outputs": [],
   "source": [
    "from gpuocean.utils import Observation"
   ]
  },
  {
   "cell_type": "code",
   "execution_count": null,
   "metadata": {},
   "outputs": [],
   "source": [
    "timestamp = \"2023-04-12T11_19_41\"\n",
    "\n",
    "trajectories = []\n",
    "\n",
    "for f in os.listdir('pickles/'+timestamp):\n",
    "    obs= Observation.Observation()\n",
    "    obs.read_pickle('pickles/'+timestamp+'/'+ f )\n",
    "    trajectories.append( obs )"
   ]
  },
  {
   "cell_type": "markdown",
   "metadata": {},
   "source": [
    "OpenDrift (loading from file)"
   ]
  },
  {
   "cell_type": "code",
   "execution_count": null,
   "metadata": {},
   "outputs": [],
   "source": [
    "initx = [ 6000, 8000, 5000,  12000, 15000, 4000]\n",
    "inity = [12000, 3000, 7500, 22000, 16000, 15000]"
   ]
  },
  {
   "cell_type": "code",
   "execution_count": null,
   "metadata": {},
   "outputs": [],
   "source": [
    "lats = nc[\"lat_rho\"][y0:y1,x0:x1]\n",
    "lons = nc[\"lon_rho\"][y0:y1,x0:x1]\n",
    "\n",
    "def xy2latlon(x,y, dx=50.0, dy=50.0):\n",
    "    local_index_x = x/dx + 0.5\n",
    "    local_index_y = y/dy + 0.5\n",
    "\n",
    "    def _interp(field, local_index_x, local_index_y):\n",
    "        local_index_x_lower = int(local_index_x)\n",
    "        local_index_x_upper = int(local_index_x)+1\n",
    "\n",
    "        local_index_y_lower = int(local_index_y)\n",
    "        local_index_y_upper = int(local_index_y)+1\n",
    "\n",
    "        val00 = (1 - (local_index_x - local_index_x_lower))*(1 - (local_index_y - local_index_y_lower)) * field[local_index_y_lower, local_index_x_lower]\n",
    "        val01 = (1 - (local_index_x - local_index_x_lower))*(local_index_y - local_index_y_lower) * field[local_index_y_upper, local_index_x_lower]\n",
    "        val10 = (local_index_x - local_index_x_lower)*(1 - (local_index_y - local_index_y_lower)) * field[local_index_y_lower, local_index_x_upper]\n",
    "        val11 = (local_index_x - local_index_x_lower)*(local_index_y - local_index_y_lower) * field[local_index_y_upper, local_index_x_upper]\n",
    "        return val00 + val01 + val10 + val11 \n",
    "    \n",
    "    return (_interp(lats, local_index_x, local_index_y), _interp(lons, local_index_x, local_index_y))\n",
    "\n",
    "[xy2latlon(x, y) for x,y in list(zip(initx,inity))]"
   ]
  },
  {
   "cell_type": "code",
   "execution_count": null,
   "metadata": {},
   "outputs": [],
   "source": [
    "fig, ax = plt.subplots()\n",
    "ax.imshow(nc[\"mask_rho\"][y0:y1,x0:x1], extent=[lons.min(), lons.max(), lats.min(), lats.max()])\n",
    "for i in range(len(initx)):\n",
    "    latlon = xy2latlon(initx[i],inity[i])\n",
    "    ax.scatter(latlon[1], latlon[0])"
   ]
  },
  {
   "cell_type": "code",
   "execution_count": null,
   "metadata": {},
   "outputs": [],
   "source": [
    "def latlon2xy(lat, lon, dx=50.0, dy=50.0):\n",
    "    penalty = (lats - lat)**2 + (lons - lon)**2\n",
    "    idx_y, idx_x = np.argwhere( penalty==penalty.min() )[0]\n",
    "\n",
    "    if lats[idx_y, idx_x] > lat:\n",
    "        idx_y_lower = idx_y-1\n",
    "        idx_y_upper = idx_y \n",
    "    else:\n",
    "        idx_y_lower = idx_y \n",
    "        idx_y_upper = idx_y+1\n",
    "\n",
    "    if lons[idx_y, idx_x] > lon:\n",
    "        idx_x_lower = idx_x-1\n",
    "        idx_x_upper = idx_x \n",
    "    else:\n",
    "        idx_x_lower = idx_x  \n",
    "        idx_x_upper = idx_x+1\n",
    "\n",
    "    y = idx_y_lower + (lat - lats[idx_y_lower, idx_x])/(lats[idx_y_upper, idx_x] - lats[idx_y_lower, idx_x])\n",
    "    x = idx_x_lower + (lon - lons[idx_y, idx_x_lower])/(lons[idx_y, idx_x_upper] - lons[idx_y, idx_x_lower])\n",
    "\n",
    "    return (y-0.5)*dy, (x-0.5)*dx"
   ]
  },
  {
   "cell_type": "code",
   "execution_count": null,
   "metadata": {},
   "outputs": [],
   "source": [
    "import pickle\n",
    "with open(\"fjordos_opendrift_trajectories_000.pickle\", \"rb\") as f:\n",
    "    opendrift_results = pickle.load(f)"
   ]
  },
  {
   "cell_type": "code",
   "execution_count": null,
   "metadata": {},
   "outputs": [],
   "source": [
    "fig, ax = plt.subplots(1,1, )\n",
    "domain_extent = [nc[\"lon_rho\"][y0:y1,x0:x1].min(), nc[\"lon_rho\"][y0:y1,x0:x1].max(), nc[\"lat_rho\"][y0:y1,x0:x1].min(), nc[\"lat_rho\"][y0:y1,x0:x1].max()]\n",
    "ax.imshow(1-nc[\"mask_rho\"][y0:y1,x0:x1], extent=domain_extent, cmap=\"Reds\")\n",
    "for i in range(len(opendrift_results[\"lon\"])):\n",
    "    ax.plot(opendrift_results[\"lon\"][i], opendrift_results[\"lat\"][i])"
   ]
  },
  {
   "cell_type": "code",
   "execution_count": null,
   "metadata": {},
   "outputs": [],
   "source": [
    "fig, ax = plt.subplots(1,1)\n",
    "domain_extent = [0, (x1-x0)*50.0/1000, 0, (y1-y0)*50.0/1000]\n",
    "ax.imshow(1-nc[\"mask_rho\"][y0:y1,x0:x1], extent=domain_extent, cmap=\"Reds\")\n",
    "for d in range(len(opendrift_results[\"lon\"])):\n",
    "    print(d)\n",
    "    path = np.zeros((len(opendrift_results[\"lat\"][d]),2))\n",
    "    for l in range(len(opendrift_results[\"lat\"][d])):\n",
    "        if opendrift_results[\"lat\"][d][l]:\n",
    "            path[l] = latlon2xy(opendrift_results[\"lat\"][d][l], opendrift_results[\"lon\"][d][l])\n",
    "        else:\n",
    "            path[l] = path[l-1]\n",
    "    ax.plot(path[:,1]/1000,path[:,0]/1000)"
   ]
  },
  {
   "cell_type": "code",
   "execution_count": null,
   "metadata": {},
   "outputs": [],
   "source": [
    "o_trajectories = []\n",
    "\n",
    "o_wind_drift_factors = [\"000\", \"015\", \"030\"]\n",
    "for o_factor in o_wind_drift_factors:\n",
    "    with open(\"fjordos_opendrift_trajectories_\"+o_factor+\".pickle\", \"rb\") as f:\n",
    "        opendrift_results = pickle.load(f)\n",
    "\n",
    "    o_trajectory = Observation.Observation(domain_size_x=nx*dx, domain_size_y=ny*dy, nx=x1-x0, ny=y1-y0, land_mask=1-nc[\"mask_rho\"][y0:y1,x0:x1])\n",
    "\n",
    "    ts = [(t - opendrift_results[\"time\"][0]).seconds for t in opendrift_results[\"time\"]]\n",
    "\n",
    "    X = np.zeros((len(opendrift_results[\"lat\"]), len(opendrift_results[\"time\"])))\n",
    "    Y = np.zeros((len(opendrift_results[\"lat\"]), len(opendrift_results[\"time\"])))\n",
    "\n",
    "    for d in range(len(opendrift_results[\"lon\"])):\n",
    "        for l in range(len(opendrift_results[\"lat\"][d])):\n",
    "            if opendrift_results[\"lat\"][d][l]:\n",
    "                xy = latlon2xy(opendrift_results[\"lat\"][d][l], opendrift_results[\"lon\"][d][l])\n",
    "                X[d,l], Y[d,l] = xy[1], xy[0]\n",
    "            else:\n",
    "                X[d,l], Y[d,l] = X[d,l-1], Y[d,l-1]\n",
    "\n",
    "    o_trajectory.add_observations_from_arrays(ts, X, Y)\n",
    "\n",
    "    o_trajectories.append(o_trajectory)"
   ]
  },
  {
   "cell_type": "markdown",
   "metadata": {},
   "source": [
    "Plotting"
   ]
  },
  {
   "cell_type": "code",
   "execution_count": null,
   "metadata": {},
   "outputs": [],
   "source": [
    "def plot_cp_trajectories(drifter_id, crossprod_trajectories, o_trajectories=None):\n",
    "    with plt.rc_context({'lines.color':'black', \n",
    "                            'text.color':'black', \n",
    "                            'axes.labelcolor':'black', \n",
    "                            'xtick.color':'black',\n",
    "                            'ytick.color':'black'}):\n",
    "        fig, ax = plt.subplots(1,1, figsize=(10,10))\n",
    "        ax.tick_params(axis='both', which='major', labelsize=28)\n",
    "\n",
    "        domain_extent = [0, (x1-x0)*50.0/1000, 0, (y1-y0)*50.0/1000]\n",
    "\n",
    "        bg_cmap = copy.deepcopy(plt.cm.Blues)\n",
    "        bg_cmap.set_bad(\"grey\", alpha = 1.0)\n",
    "\n",
    "        ax.imshow(np.ma.array(nc[\"mask_rho\"][y0:y1, x0:x1], mask=(1-nc[\"mask_rho\"][y0:y1, x0:x1])), interpolation=\"none\", origin='lower', \n",
    "                        cmap=bg_cmap, extent=domain_extent, zorder=-10)\n",
    "        \n",
    "        try:\n",
    "            lat = np.array(nc.variables[\"lat_rho\"])\n",
    "            lon = np.array(nc.variables[\"lon_rho\"])\n",
    "\n",
    "            spec_lat = lat[y0:y1, x0:x1]\n",
    "            spec_lon = lon[y0:y1, x0:x1]\n",
    "\n",
    "            cont_lon_case = ax.contour(spec_lon, levels = np.arange(10, 12, 0.1), extent=domain_extent, colors='k', alpha=0.2, linewidths=0.8, zorder=1)\n",
    "            cont_lat_case = ax.contour(spec_lat, levels = np.arange(58, 62, 0.1), extent=domain_extent, colors='k', alpha=0.2, linewidths=0.8, zorder=1)\n",
    "\n",
    "        except Exception as e:\n",
    "            raise e\n",
    "\n",
    "\n",
    "        T = crossprod_trajectories[0].obs_df.iloc[-1].time\n",
    "        dummy_path = crossprod_trajectories[0].get_drifter_path(0, 0,  T, in_km = True)[0]\n",
    "        start_pos = dummy_path[0,:]\n",
    "        circ_start = matplotlib.patches.Circle((start_pos[0], start_pos[1]), \n",
    "                                                0.01, color = 'black', fill=True, zorder=2)\n",
    "        ax.add_patch(circ_start)      \n",
    "\n",
    "        # Save paths to array\n",
    "        num_results = len(crossprod_trajectories)\n",
    "        X = np.zeros((dummy_path.shape[0], num_results))\n",
    "        Y = np.zeros((dummy_path.shape[0], num_results))\n",
    "\n",
    "        counter=0\n",
    "        for path in [t.get_drifter_path(drifter_id, 0, T, in_km = True)[0] for t in crossprod_trajectories]:\n",
    "            try:\n",
    "                X[:,counter] = np.minimum(np.maximum(0, path[:,0]), (x1-x0)*50.0/1000)\n",
    "                Y[:,counter] = np.minimum(np.maximum(0, path[:,1]), (y1-y0)*50.0/1000)\n",
    "                counter+=1\n",
    "            except:\n",
    "                pass\n",
    "\n",
    "        # Plot paths from array\n",
    "        ax.plot(X, Y, color=\"C0\", ls=\"-\", zorder=-3, alpha=0.05) #, rasterized=True)\n",
    "        ax.scatter(X[-1,:], Y[-1, :], marker='x', color='black', s=2, linewidths=2, zorder=-4)# , rasterized=True)\n",
    "\n",
    "        # Plot opendrift paths\n",
    "        if o_trajectories is not None:\n",
    "            for opath in [ot.get_drifter_path(drifter_id, 0, T, in_km = True)[0] for ot in o_trajectories]:\n",
    "                ax.plot(opath[:,0], opath[:,1], color=\"C1\", ls=\"-\", zorder=1)\n",
    "\n",
    "\n",
    "\n",
    "        plt.tight_layout()\n",
    "        ax.set_rasterization_zorder(0)\n",
    "        plt.savefig(\"figs/\"+timestamp+\"/BCdrift\"+str(drifter_id)+\"_rasterised.pdf\", bbox_inches=\"tight\", dpi=400)"
   ]
  },
  {
   "cell_type": "code",
   "execution_count": null,
   "metadata": {},
   "outputs": [],
   "source": [
    "len(trajectories)"
   ]
  },
  {
   "cell_type": "code",
   "execution_count": null,
   "metadata": {},
   "outputs": [],
   "source": [
    "plot_cp_trajectories(5, trajectories, o_trajectories)"
   ]
  },
  {
   "cell_type": "code",
   "execution_count": null,
   "metadata": {},
   "outputs": [],
   "source": [
    "numDrifters = len(trajectories[0].obs_df.iloc[0].drifter_positions)\n",
    "for d in range(numDrifters):\n",
    "    plot_cp_trajectories(d, trajectories, o_trajectories)"
   ]
  },
  {
   "cell_type": "code",
   "execution_count": null,
   "metadata": {},
   "outputs": [],
   "source": [
    "def plot_cp_kde(drifter_id, trajectories, o_trajectories):\n",
    "\n",
    "    # Space and time \n",
    "    nx = (x1-x0)\n",
    "    ny = (y1-y0)\n",
    "\n",
    "    dx = 50.0\n",
    "    dy = 50.0\n",
    "\n",
    "    T = trajectories[0].obs_df.iloc[-1].time\n",
    "\n",
    "    ## Get last postions\n",
    "    numTrajectories = len(trajectories)\n",
    "\n",
    "    last_positions = np.zeros((numTrajectories,2))\n",
    "    for d in range(numTrajectories):\n",
    "        last_positions[d] = trajectories[d].get_drifter_path(drifter_id, 0, T)[-1][-1]\n",
    "\n",
    "    # Axes\n",
    "    x = np.arange(nx)*dx\n",
    "    y = np.arange(ny)*dy\n",
    "    x/=1000\n",
    "    y/=1000\n",
    "    xx, yy = np.meshgrid(x,y)\n",
    "    ccs = np.vstack([xx.ravel(), yy.ravel()])\n",
    "\n",
    "    ## Kernel density estimation \n",
    "    clp = (last_positions-np.average(last_positions,axis=0)).T\n",
    "    clp[0][clp[0] > (x[-1]/2)] = clp[0][clp[0] > (x[-1]/2)] - x[-1]\n",
    "    clp[0][clp[0] < (-x[-1]/2)] = clp[0][clp[0] < (-x[-1]/2)] + x[-1]\n",
    "    clp[1][clp[1] > (y[-1]/2)] = clp[1][clp[1] > (y[-1]/2)] - y[-1]\n",
    "    clp[1][clp[1] < (-y[-1]/2)] = clp[1][clp[1] < (-y[-1]/2)] + y[-1]\n",
    "\n",
    "    raw_cov = np.cov(clp)\n",
    "\n",
    "    bw = 100**(-1./(2+4)) #* 0.5 #for whtatever reason scipy.stats.gaussian_kde is roughly half of that\n",
    "\n",
    "    cov = raw_cov * bw\n",
    "    covinv = np.linalg.inv(cov)\n",
    "\n",
    "    f = np.ma.array(np.zeros((ny,nx)), mask=1-nc[\"mask_rho\"][y0:y1,x0:x1])\n",
    "\n",
    "    sea_mask = np.array(nc[\"mask_rho\"][y0:y1,x0:x1], dtype=bool)\n",
    "    for e in range(numTrajectories):\n",
    "        d = (ccs.T-last_positions[e]).T\n",
    "        d[0][d[0] > (x[-1]/2)] = d[0][d[0] > (x[-1]/2)] - x[-1]\n",
    "        d[0][d[0] < (-x[-1]/2)] = d[0][d[0] < (-x[-1]/2)] + x[-1]\n",
    "        d[1][d[1] > (y[-1]/2)] = d[1][d[1] > (y[-1]/2)] - y[-1]\n",
    "        d[1][d[1] < (-y[-1]/2)] = d[1][d[1] < (-y[-1]/2)] + y[-1]\n",
    "        temp_f = np.exp(-1/2*np.sum((d*np.dot(covinv,d)), axis=0)).reshape(ny,nx)\n",
    "        temp_mass = np.sum(temp_f)\n",
    "        temp_sea_mass = np.sum(temp_f[sea_mask])\n",
    "        f += temp_mass/temp_sea_mass * temp_f\n",
    "        \n",
    "    ## Levels for plotting\n",
    "    fmass = np.sum(f)\n",
    "\n",
    "    fmax = np.max(f)\n",
    "    levels = np.linspace(0,fmax,100)\n",
    "    level_probs = np.zeros(100)\n",
    "    for l in range(len(levels)):\n",
    "        level_probs[l] = np.sum(f[f>levels[l]])/fmass\n",
    "    level_probs[-1] = 0.0\n",
    "\n",
    "    desired_probs = [0.9,0.75,0.5,0.25,0.0] #descending! (ending with 0.0)\n",
    "    desired_levels = np.zeros_like(desired_probs)\n",
    "    for p in range(len(desired_probs)):\n",
    "        desired_levels[p] = levels[np.abs(level_probs-desired_probs[p]).argmin()]\n",
    "    desired_levels = np.unique(desired_levels)\n",
    "\n",
    "    with plt.rc_context({'lines.color':'black', \n",
    "                            'text.color':'black', \n",
    "                            'axes.labelcolor':'black', \n",
    "                            'xtick.color':'black',\n",
    "                            'ytick.color':'black'}):\n",
    "        ## Contour plots\n",
    "        fig, ax = plt.subplots(1,1, figsize=(10,10))\n",
    "        ax.tick_params(axis='both', which='major', labelsize=28)\n",
    "\n",
    "        domain_extent = [0, nx*dx/1000, 0, ny*dy/1000]\n",
    "\n",
    "        bg_cmap = copy.deepcopy(plt.cm.Blues)\n",
    "        bg_cmap.set_bad(\"grey\", alpha = 1.0)\n",
    "\n",
    "        ax.imshow(np.ma.array(nc[\"mask_rho\"][y0:y1, x0:x1], mask=(1-nc[\"mask_rho\"][y0:y1, x0:x1])), interpolation=\"none\", origin='lower', \n",
    "                        cmap=bg_cmap, extent=domain_extent, zorder=2)\n",
    "\n",
    "        cfset = ax.contourf(xx, yy, f, levels=desired_levels, cmap='Greens', alpha=0.5, zorder=3)\n",
    "        cset = ax.contour(xx, yy, f, levels=desired_levels, colors='k', alpha=0.25, linewidths=1, zorder=4)\n",
    "\n",
    "        try:\n",
    "            lat = np.array(nc.variables[\"lat_rho\"])\n",
    "            lon = np.array(nc.variables[\"lon_rho\"])\n",
    "\n",
    "            spec_lat = lat[y0:y1, x0:x1]\n",
    "            spec_lon = lon[y0:y1, x0:x1]\n",
    "\n",
    "            cont_lon_case = ax.contour(spec_lon, levels = np.arange(10, 12, 0.1), extent=domain_extent, colors='k', alpha=0.2, linewidths=0.8, zorder=1)\n",
    "            cont_lat_case = ax.contour(spec_lat, levels = np.arange(58, 62, 0.1), extent=domain_extent, colors='k', alpha=0.2, linewidths=0.8, zorder=1)\n",
    "\n",
    "        except Exception as e:\n",
    "            raise e\n",
    "\n",
    "        proxy = [plt.Rectangle((0,0),1,1,fc = pc.get_facecolor()[0]) for pc in cfset.collections]\n",
    "        labels = []\n",
    "        for p in desired_probs:\n",
    "            labels.append(str(int(p*100))+\"%\")\n",
    "        ax.legend(proxy, labels, prop={'size': 26}, labelcolor=\"black\", loc=4, framealpha=0.9)\n",
    "\n",
    "\n",
    "        # Plot opendrift paths\n",
    "        if o_trajectories is not None:\n",
    "            dummy_path = o_trajectories[0].get_drifter_path(drifter_id, 0,  T, in_km = True)[0]\n",
    "            start_pos = dummy_path[0,:]\n",
    "            circ_start = matplotlib.patches.Circle((start_pos[0], start_pos[1]), \n",
    "                                                    0.01, color = 'black', fill=True, zorder=2)\n",
    "            ax.add_patch(circ_start)      \n",
    "            for opath in [ot.get_drifter_path(drifter_id, 0, T, in_km = True)[0] for ot in o_trajectories]:\n",
    "                ax.plot(opath[:,0], opath[:,1], color=\"C1\", ls=\"-\", zorder=1)\n",
    "\n",
    "\n",
    "        plt.savefig(\"figs/\"+timestamp+\"/BCkde\"+str(drifter_id)+\".pdf\", bbox_inches=\"tight\")\n"
   ]
  },
  {
   "cell_type": "code",
   "execution_count": null,
   "metadata": {},
   "outputs": [],
   "source": [
    "numDrifters = len(trajectories[0].obs_df.iloc[0].drifter_positions)\n",
    "for d in range(numDrifters):\n",
    "    plot_cp_kde(d, trajectories)"
   ]
  },
  {
   "cell_type": "code",
   "execution_count": null,
   "metadata": {},
   "outputs": [],
   "source": []
  }
 ],
 "metadata": {
  "kernelspec": {
   "display_name": "Python 3",
   "language": "python",
   "name": "python3"
  },
  "language_info": {
   "codemirror_mode": {
    "name": "ipython",
    "version": 3
   },
   "file_extension": ".py",
   "mimetype": "text/x-python",
   "name": "python",
   "nbconvert_exporter": "python",
   "pygments_lexer": "ipython3",
   "version": "3.7.12"
  },
  "vscode": {
   "interpreter": {
    "hash": "3048633266a8aca5c85f16c1ee57ccad146141feb66febf24dcb8304467d1440"
   }
  }
 },
 "nbformat": 4,
 "nbformat_minor": 2
}
