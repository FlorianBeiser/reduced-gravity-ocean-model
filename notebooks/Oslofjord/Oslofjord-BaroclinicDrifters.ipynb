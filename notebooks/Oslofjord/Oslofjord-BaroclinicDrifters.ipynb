{
 "cells": [
  {
   "attachments": {},
   "cell_type": "markdown",
   "metadata": {},
   "source": [
    "```\n",
    "This notebook sets up baroclinic drifters in the Oslofjord\n",
    "Copyright (C) 2022 - 2023 SINTEF Digital\n",
    "Copyright (C) 2022 - 2023 Norwegian Meteorological Institute\n",
    "\n",
    "This program is free software: you can redistribute it and/or modify\n",
    "it under the terms of the GNU General Public License as published by\n",
    "the Free Software Foundation, either version 3 of the License, or\n",
    "(at your option) any later version.\n",
    "\n",
    "This program is distributed in the hope that it will be useful,\n",
    "but WITHOUT ANY WARRANTY; without even the implied warranty of\n",
    "MERCHANTABILITY or FITNESS FOR A PARTICULAR PURPOSE.  See the\n",
    "GNU General Public License for more details.\n",
    "\n",
    "You should have received a copy of the GNU General Public License\n",
    "along with this program.  If not, see <http://www.gnu.org/licenses/>.\n",
    "```"
   ]
  },
  {
   "cell_type": "code",
   "execution_count": null,
   "metadata": {},
   "outputs": [],
   "source": [
    "import sys\n",
    "gpuocean_path = [p[:-4] for p in sys.path if (p.endswith(\"gpuocean/src\") or p.endswith(\"gpuocean\\\\src\"))][0]\n",
    "import git\n",
    "repo = git.Repo(gpuocean_path)\n",
    "print(\"GPUOcean code from:\", repo.head.object.hexsha, \"on branch\", repo.active_branch.name)"
   ]
  },
  {
   "attachments": {},
   "cell_type": "markdown",
   "metadata": {},
   "source": [
    "# Oslofjord: Baroclinic Drifters\n",
    "\n",
    "This files sets up exemplary drifter scenario, but for running the script `Oslofjord-run_bcdrift.py` should be used. In the second part of this notebook the outputs can be postprocessed."
   ]
  },
  {
   "cell_type": "code",
   "execution_count": null,
   "metadata": {},
   "outputs": [],
   "source": [
    "#Lets have matplotlib \"inline\"\n",
    "%matplotlib inline\n",
    "\n",
    "import os\n",
    "import sys\n",
    "\n",
    "#Import packages we need\n",
    "import numpy as np\n",
    "from netCDF4 import Dataset\n",
    "import datetime, copy\n",
    "from IPython.display import display\n",
    "\n",
    "#For plotting\n",
    "import matplotlib\n",
    "from matplotlib import pyplot as plt\n",
    "\n",
    "plt.rcParams[\"lines.color\"] = \"w\"\n",
    "plt.rcParams[\"text.color\"] = \"w\"\n",
    "plt.rcParams[\"axes.labelcolor\"] = \"w\"\n",
    "plt.rcParams[\"xtick.color\"] = \"w\"\n",
    "plt.rcParams[\"ytick.color\"] = \"w\"\n",
    "\n",
    "plt.rcParams[\"image.origin\"] = \"lower\""
   ]
  },
  {
   "cell_type": "code",
   "execution_count": null,
   "metadata": {},
   "outputs": [],
   "source": [
    "from gpuocean.utils import IPythonMagic, Common, NetCDFInitialization, WindStress, OceanographicUtilities\n",
    "\n",
    "from gpuocean.SWEsimulators import CDKLM16"
   ]
  },
  {
   "cell_type": "code",
   "execution_count": null,
   "metadata": {},
   "outputs": [],
   "source": [
    "%cuda_context_handler baroclinic_gpu_ctx"
   ]
  },
  {
   "cell_type": "markdown",
   "metadata": {},
   "source": [
    "Path to the test file"
   ]
  },
  {
   "cell_type": "code",
   "execution_count": null,
   "metadata": {},
   "outputs": [],
   "source": [
    "source_url = \"/sintef/data/OsloFjord/test_polstere_1h_0007.nc\""
   ]
  },
  {
   "cell_type": "markdown",
   "metadata": {},
   "source": [
    "## Inspecting file structure and content"
   ]
  },
  {
   "cell_type": "code",
   "execution_count": null,
   "metadata": {},
   "outputs": [],
   "source": [
    "from netCDF4 import Dataset\n",
    "nc = Dataset(source_url)"
   ]
  },
  {
   "cell_type": "code",
   "execution_count": null,
   "metadata": {},
   "outputs": [],
   "source": [
    "import xarray as xr\n",
    "ds = xr.open_dataset(source_url)\n",
    "ds"
   ]
  },
  {
   "cell_type": "markdown",
   "metadata": {},
   "source": [
    "Animation utils"
   ]
  },
  {
   "cell_type": "code",
   "execution_count": null,
   "metadata": {},
   "outputs": [],
   "source": [
    "import animation_utils"
   ]
  },
  {
   "cell_type": "markdown",
   "metadata": {},
   "source": [
    "## Generating GPUOcean Simulation from Input"
   ]
  },
  {
   "attachments": {},
   "cell_type": "markdown",
   "metadata": {},
   "source": [
    "General parameters"
   ]
  },
  {
   "cell_type": "code",
   "execution_count": null,
   "metadata": {},
   "outputs": [],
   "source": [
    "dimY, dimX = ds.h.data.shape\n",
    "x0, x1, y0, y1 = 5, dimX-5, 175, dimY-5"
   ]
  },
  {
   "attachments": {},
   "cell_type": "markdown",
   "metadata": {},
   "source": [
    "Simulation span: 6h!"
   ]
  },
  {
   "cell_type": "code",
   "execution_count": null,
   "metadata": {},
   "outputs": [],
   "source": [
    "t_start = 5*24 + 20\n",
    "t_stop =  t_start + 6\n",
    "\n",
    "T = (t_stop-t_start)*3600  #Input\n",
    "timestep_indices = [list(np.arange(t_start, t_stop+1))]"
   ]
  },
  {
   "cell_type": "code",
   "execution_count": null,
   "metadata": {},
   "outputs": [],
   "source": [
    "datetime.datetime.strftime(datetime.datetime.utcfromtimestamp(nc[\"ocean_time\"][t_start]), \"%Y-%m-%d %H:00\")"
   ]
  },
  {
   "attachments": {},
   "cell_type": "markdown",
   "metadata": {},
   "source": [
    "Generating wind fields"
   ]
  },
  {
   "cell_type": "code",
   "execution_count": null,
   "metadata": {},
   "outputs": [],
   "source": [
    "from gpuocean.utils import WindStress\n",
    "\n",
    "def generate_wind_field(wind_angle_deg, t_start_index, T):\n",
    "    \"\"\"Generating WindStress object with spatially constant, hourly varying wind \n",
    "    according to the standard shape in Oslofjord (see Oslofjord-ArtificialParameters.ipynb)\n",
    "    \n",
    "    wind_angle_deg - angle of wind field towards north in degree!\n",
    "    t_start_index  - index for the time when generated wind field is supposed to start\n",
    "    T              - time span for which the wind field is generated in seconds\n",
    "    \"\"\"\n",
    "\n",
    "    wind_angle = np.deg2rad(wind_angle_deg)\n",
    "\n",
    "    # Reference wind speed for 0 - 24h \n",
    "    wind_u_ref = np.zeros(24)\n",
    "    wind_u_ref[:10] = -0.5*(np.sin(2*np.pi*(np.arange(0,10)-2.5)/10)+1)\n",
    "    wind_u_ref[10:] = 5*(np.sin(2*np.pi*(np.arange(10,24)+0.5)/14)+1)\n",
    "\n",
    "    # Wind fields for 0 - 24h\n",
    "    wind_u = list(np.cos(wind_angle)*wind_u_ref[:,np.newaxis][:,np.newaxis].astype(np.float32))\n",
    "    wind_v = list(np.sin(wind_angle)*wind_u_ref[:,np.newaxis][:,np.newaxis].astype(np.float32))\n",
    "\n",
    "    # Shifting that reference hours align with t_0\n",
    "    shift = datetime.datetime.utcfromtimestamp(nc[\"ocean_time\"][t_start_index]).hour\n",
    "    for shift_hour in range(shift):\n",
    "        wind_u.append(wind_u.pop(0))\n",
    "        wind_v.append(wind_v.pop(0))\n",
    "\n",
    "    # Repeat for several days if necessary\n",
    "    wind_u = wind_u * int(np.ceil((T/3600+1)/24))\n",
    "    wind_v = wind_v * int(np.ceil((T/3600+1)/24))\n",
    "\n",
    "    # Cut relevant time span\n",
    "    wind_u = wind_u[0:int(T/3600+1)]\n",
    "    wind_v = wind_v[0:int(T/3600 +1)]\n",
    "\n",
    "    # Construct time array in simulator time (starting with 0)\n",
    "    ts = np.arange(T+1, step=3600)\n",
    "\n",
    "    # Init WindStress object\n",
    "    wind = WindStress.WindStress(t=ts, wind_u=wind_v, wind_v=wind_u)\n",
    "    wind.compute_wind_stress_from_wind()\n",
    "\n",
    "    return wind "
   ]
  },
  {
   "attachments": {},
   "cell_type": "markdown",
   "metadata": {},
   "source": [
    "#### Baroclinic Simulations"
   ]
  },
  {
   "cell_type": "code",
   "execution_count": null,
   "metadata": {},
   "outputs": [],
   "source": [
    "_, ref_baroclinic_data_args = NetCDFInitialization.getCombinedInitialConditions(source_url, x0, x1, y0, y1, 1024.0, timestep_indices=timestep_indices, norkyst_data=False, land_value=0.0, download_data=False)"
   ]
  },
  {
   "cell_type": "code",
   "execution_count": null,
   "metadata": {},
   "outputs": [],
   "source": [
    "ref_baroclinic_data_args[\"wind\"] = generate_wind_field(45.0, t_start, T)\n",
    "ref_baroclinic_data_args[\"wind_stress_factor\"] = 0.3"
   ]
  },
  {
   "cell_type": "code",
   "execution_count": null,
   "metadata": {},
   "outputs": [],
   "source": [
    "ref_baroclinic_sim = CDKLM16.CDKLM16(baroclinic_gpu_ctx, **NetCDFInitialization.removeMetadata(ref_baroclinic_data_args), dt=0.0, write_netcdf=True)"
   ]
  },
  {
   "cell_type": "code",
   "execution_count": null,
   "metadata": {},
   "outputs": [],
   "source": [
    "bc_eta, bc_hu, bc_hv = ref_baroclinic_sim.download()\n",
    "\n",
    "fig, axs = plt.subplots(1,3, figsize=(15,5))\n",
    "\n",
    "im = axs[0].imshow(-bc_eta, vmin=-15, vmax=0, cmap=\"coolwarm\")\n",
    "axs[0].set_title(\"MLD\")\n",
    "plt.colorbar(im, ax=axs[0], shrink=0.5)\n",
    "\n",
    "im = axs[1].imshow(bc_hu, vmin=-5, vmax=5, cmap=\"coolwarm\")\n",
    "axs[1].set_title(\"hu\")\n",
    "plt.colorbar(im, ax=axs[1], shrink=0.5)\n",
    "\n",
    "im = axs[2].imshow(bc_hv, vmin=-5, vmax=5, cmap=\"coolwarm\")\n",
    "axs[2].set_title(\"hv\")\n",
    "plt.colorbar(im, ax=axs[2], shrink=0.5)"
   ]
  },
  {
   "cell_type": "code",
   "execution_count": null,
   "metadata": {},
   "outputs": [],
   "source": [
    "subt = 3600\n",
    "for runt in range(int(T/subt)):\n",
    "    ref_baroclinic_sim.step(subt)"
   ]
  },
  {
   "cell_type": "code",
   "execution_count": null,
   "metadata": {},
   "outputs": [],
   "source": [
    "# with plt.rc_context({'lines.color':'black', \n",
    "#                         'text.color':'black', \n",
    "#                         'axes.labelcolor':'black', \n",
    "#                         'xtick.color':'black',\n",
    "#                         'ytick.color':'black'}):\n",
    "#     anim = animation_utils.ncAnimation(ref_baroclinic_sim.sim_writer.output_file_name, \"gpuocean-reduced_grav\", comment=\"GPUOcean\")\n",
    "#     anim.save(\"anims/baroclinic_test.mp4\")"
   ]
  },
  {
   "attachments": {},
   "cell_type": "markdown",
   "metadata": {},
   "source": [
    "## Baroclinic Drifters"
   ]
  },
  {
   "cell_type": "code",
   "execution_count": null,
   "metadata": {},
   "outputs": [],
   "source": [
    "import pandas as pd "
   ]
  },
  {
   "cell_type": "code",
   "execution_count": null,
   "metadata": {},
   "outputs": [],
   "source": [
    "baroclinic_wind_angles_degs = np.arange(35, 56, 5)\n",
    "baroclinic_wind_samples = [None]*len(baroclinic_wind_angles_degs)\n",
    "\n",
    "for i in range(len(baroclinic_wind_angles_degs)):\n",
    "    baroclinic_wind_samples[i] = generate_wind_field(baroclinic_wind_angles_degs[i], t_start, T)"
   ]
  },
  {
   "cell_type": "code",
   "execution_count": null,
   "metadata": {},
   "outputs": [],
   "source": [
    "# Mixed layer depth (MLD) \n",
    "# Can be explored coupled or decoupled with the reduced gravity constant\n",
    "mld_dens_samples = np.arange(1022.5, 1024.6, 0.50)\n",
    "mld_samples_data_args = [None]*len(mld_dens_samples)\n",
    "\n",
    "for i in range(len(mld_dens_samples)):\n",
    "    _, mld_samples_data_args[i] = NetCDFInitialization.getCombinedInitialConditions(source_url, x0, x1, y0, y1, \n",
    "                                                                                    mld_dens_samples[i], timestep_indices=timestep_indices, norkyst_data=False, land_value=0.0, download_data=False)\n",
    "    print(mld_samples_data_args[i][\"g\"])\n"
   ]
  },
  {
   "cell_type": "code",
   "execution_count": null,
   "metadata": {},
   "outputs": [],
   "source": [
    "wind_stress_samples = np.arange(0.1, 0.51, 0.1)"
   ]
  },
  {
   "cell_type": "code",
   "execution_count": null,
   "metadata": {},
   "outputs": [],
   "source": [
    "friction_samples = np.arange(0, 0.0051, 0.001)"
   ]
  },
  {
   "cell_type": "code",
   "execution_count": null,
   "metadata": {},
   "outputs": [],
   "source": [
    "windage_samples = np.arange(0.0, 0.051, 0.01)"
   ]
  },
  {
   "attachments": {},
   "cell_type": "markdown",
   "metadata": {},
   "source": [
    "#### Creating simulators"
   ]
  },
  {
   "cell_type": "code",
   "execution_count": null,
   "metadata": {},
   "outputs": [],
   "source": [
    "baroclinic_sims = []\n",
    "bc_table = pd.DataFrame(columns=[\"baroclinic_id\", \"wind_angle_id\", \"wind_stress_factor_id\", \"friction_id\", \"mld_id\"]).set_index(\"baroclinic_id\")\n",
    "\n",
    "for i_w in range(len(baroclinic_wind_samples)):\n",
    "    for i_ws in range(len(wind_stress_samples)):\n",
    "        for i_f in range(len(friction_samples)):\n",
    "            for i_mld in range(len(mld_samples_data_args)):\n",
    "                baroclinic_data_args = copy.copy(mld_samples_data_args[i_mld])\n",
    "                baroclinic_data_args[\"wind\"] = baroclinic_wind_samples[i_w]\n",
    "                baroclinic_data_args[\"wind_stress_factor\"] = wind_stress_samples[i_ws]\n",
    "                baroclinic_data_args[\"r\"] = friction_samples[i_f]\n",
    "\n",
    "                baroclinic_sims.append( CDKLM16.CDKLM16(baroclinic_gpu_ctx, **NetCDFInitialization.removeMetadata(baroclinic_data_args),  dt=0.0))\n",
    "                \n",
    "                bc_table.loc[len(bc_table.index)] = [i_w, i_ws, i_f, i_mld]"
   ]
  },
  {
   "cell_type": "code",
   "execution_count": null,
   "metadata": {},
   "outputs": [],
   "source": [
    "bc_table"
   ]
  },
  {
   "cell_type": "code",
   "execution_count": null,
   "metadata": {},
   "outputs": [],
   "source": [
    "ref_table = pd.DataFrame(columns=[\"drifter_id\", \"baroclinic_id\", \"windage_id\"]).set_index(\"drifter_id\")\n",
    "\n",
    "\n",
    "for bc in range(len(baroclinic_sims)):\n",
    "    for windage in range(len(windage_samples)):\n",
    "        ref_table.loc[len(ref_table.index)] = [bc, windage]\n",
    "\n",
    "ref_table"
   ]
  },
  {
   "attachments": {},
   "cell_type": "markdown",
   "metadata": {},
   "source": [
    "Collecting drifter and observation objects"
   ]
  },
  {
   "cell_type": "code",
   "execution_count": null,
   "metadata": {},
   "outputs": [],
   "source": [
    "from gpuocean.utils import Observation\n",
    "from gpuocean.drifters import GPUDrifterCollection\n",
    "from gpuocean.dataassimilation import DataAssimilationUtils as dautils"
   ]
  },
  {
   "cell_type": "code",
   "execution_count": null,
   "metadata": {},
   "outputs": [],
   "source": [
    "observation_type = dautils.ObservationType.UnderlyingFlow \n",
    "    \n",
    "observation_args = {'observation_type': observation_type,\n",
    "                'nx': ref_baroclinic_sim.nx, 'ny': ref_baroclinic_sim.ny,\n",
    "                'domain_size_x': ref_baroclinic_sim.nx*ref_baroclinic_sim.dx,\n",
    "                'domain_size_y': ref_baroclinic_sim.ny*ref_baroclinic_sim.dy,\n",
    "                'land_mask': ref_baroclinic_sim.getLandMask()\n",
    "                }\n",
    "\n",
    "trajectories = Observation.Observation(**observation_args)\n"
   ]
  },
  {
   "cell_type": "code",
   "execution_count": null,
   "metadata": {},
   "outputs": [],
   "source": [
    "crossprod_trajectories = []\n",
    "for cp in range(len(ref_table)):\n",
    "    crossprod_trajectories.append(copy.deepcopy(trajectories))"
   ]
  },
  {
   "cell_type": "code",
   "execution_count": null,
   "metadata": {},
   "outputs": [],
   "source": [
    "initx = [ 6000, 8000, 5000,  12000, 15000, 4000]\n",
    "inity = [12000, 3000, 7500, 22000, 16000, 15000]\n",
    "\n",
    "num_drifters = len(initx)"
   ]
  },
  {
   "cell_type": "code",
   "execution_count": null,
   "metadata": {},
   "outputs": [],
   "source": [
    "crossprod_drifters = []\n",
    "for cp in range(len(ref_table)): \n",
    "    drifters = GPUDrifterCollection.GPUDrifterCollection(baroclinic_gpu_ctx, # OBS: This is used for wind drift! \n",
    "                                                    num_drifters,\n",
    "                                                    boundaryConditions = ref_baroclinic_sim.boundary_conditions,\n",
    "                                                    domain_size_x = trajectories.domain_size_x,\n",
    "                                                    domain_size_y = trajectories.domain_size_y,\n",
    "                                                    gpu_stream = ref_baroclinic_sim.gpu_stream, # Get re-set in attachment to simulation!\n",
    "                                                    wind = ref_baroclinic_data_args[\"wind\"],\n",
    "                                                    wind_drift_factor = windage_samples[ref_table.iloc[cp].windage_id]\n",
    "                                                    )           \n",
    "\n",
    "    drifter_pos_init = np.array([initx, inity]).T\n",
    "    drifters.setDrifterPositions(drifter_pos_init)\n",
    "    crossprod_drifters.append(drifters)"
   ]
  },
  {
   "attachments": {},
   "cell_type": "markdown",
   "metadata": {},
   "source": [
    "Attach CPdrifters"
   ]
  },
  {
   "cell_type": "code",
   "execution_count": null,
   "metadata": {},
   "outputs": [],
   "source": [
    "from itertools import compress"
   ]
  },
  {
   "cell_type": "code",
   "execution_count": null,
   "metadata": {},
   "outputs": [],
   "source": [
    "for bc in range(len(baroclinic_sims)):\n",
    "    baroclinic_sims[bc].attachCrossProductDrifters( \n",
    "        list(compress(crossprod_drifters, ref_table[\"baroclinic_id\"] == bc)), \n",
    "        [None]*len(windage_samples) )"
   ]
  },
  {
   "cell_type": "code",
   "execution_count": null,
   "metadata": {},
   "outputs": [],
   "source": [
    "for d in range(len(crossprod_drifters)):\n",
    "    crossprod_trajectories[d].add_observation_from_drifters(crossprod_drifters[d], 0.0)"
   ]
  },
  {
   "attachments": {},
   "cell_type": "markdown",
   "metadata": {},
   "source": [
    "Run the drift experiment"
   ]
  },
  {
   "cell_type": "code",
   "execution_count": null,
   "metadata": {},
   "outputs": [],
   "source": [
    "for bc in range(len(baroclinic_sims)):\n",
    "    drifter_ids = ref_table.index[ref_table[\"baroclinic_id\"]==bc].tolist()\n",
    "    while baroclinic_sims[bc].t < T:\n",
    "        baroclinic_sims[bc].step(360)\n",
    "        for d in drifter_ids:\n",
    "            crossprod_trajectories[d].add_observation_from_drifters(crossprod_drifters[d], baroclinic_sims[bc].t)"
   ]
  },
  {
   "cell_type": "code",
   "execution_count": null,
   "metadata": {},
   "outputs": [],
   "source": [
    "def plot_cp_trajectories(crossprod_trajectories, drifter_id):\n",
    "    with plt.rc_context({'lines.color':'black', \n",
    "                            'text.color':'black', \n",
    "                            'axes.labelcolor':'black', \n",
    "                            'xtick.color':'black',\n",
    "                            'ytick.color':'black'}):\n",
    "        fig, ax = plt.subplots(1,1, figsize=(10,10))\n",
    "        ax.tick_params(axis='both', which='major', labelsize=28)\n",
    "        domain_extent = [0, ref_baroclinic_sim.nx*ref_baroclinic_sim.dx/1000, 0, ref_baroclinic_sim.ny*ref_baroclinic_sim.dy/1000]\n",
    "\n",
    "        bg_cmap = copy.deepcopy(plt.cm.Blues)\n",
    "        bg_cmap.set_bad(\"grey\", alpha = 1.0)\n",
    "\n",
    "        ax.imshow(ref_baroclinic_sim.download()[0] > -10, interpolation=\"none\", origin='lower', \n",
    "                        cmap=bg_cmap,  \n",
    "                        extent=domain_extent)\n",
    "\n",
    "        path = crossprod_trajectories[0].get_drifter_path(drifter_id, 0, T, in_km = True)[0]\n",
    "        start_pos = path[0,:]\n",
    "        circ_start = matplotlib.patches.Circle((start_pos[0], start_pos[1]), \n",
    "                                                0.01, color = 'black', fill=True, zorder=10)\n",
    "        ax.add_patch(circ_start)\n",
    "\n",
    "        for path in [t.get_drifter_path(drifter_id, 0, T, in_km = True)[0] for t in crossprod_trajectories]:\n",
    "            \n",
    "            ax.plot(path[:,0], path[:,1], color=\"C0\", ls=\"-\", zorder=5, alpha=0.1)\n",
    "            \n",
    "            end_pos = path[-1,:]\n",
    "            ax.scatter(end_pos[0], end_pos[1], marker='x', color='black', s=100, linewidths=2)\n",
    "\n",
    "        plt.tight_layout()\n",
    "\n",
    "        plt.savefig(\"figs/CPdrift\"+str(drifter_id)+\".pdf\", bbox_inches=\"tight\")"
   ]
  },
  {
   "cell_type": "code",
   "execution_count": null,
   "metadata": {},
   "outputs": [],
   "source": [
    "for drifter_id in range(num_drifters):\n",
    "    plot_cp_trajectories(crossprod_trajectories, drifter_id)"
   ]
  },
  {
   "cell_type": "code",
   "execution_count": null,
   "metadata": {},
   "outputs": [],
   "source": [
    "os.makedirs(\"pickles\", exist_ok=True)\n",
    "for cp in range(len(crossprod_trajectories)):\n",
    "    crossprod_trajectories[cp].to_pickle(\"pickles/cp_trajectory\"+str(cp))\n"
   ]
  },
  {
   "cell_type": "code",
   "execution_count": null,
   "metadata": {},
   "outputs": [],
   "source": [
    "STOP"
   ]
  },
  {
   "cell_type": "markdown",
   "metadata": {},
   "source": [
    "## Post-Processing"
   ]
  },
  {
   "cell_type": "code",
   "execution_count": null,
   "metadata": {},
   "outputs": [],
   "source": [
    "#Lets have matplotlib \"inline\"\n",
    "%matplotlib inline\n",
    "\n",
    "import os\n",
    "import sys\n",
    "\n",
    "#Import packages we need\n",
    "import numpy as np\n",
    "from netCDF4 import Dataset\n",
    "import datetime, copy\n",
    "from IPython.display import display\n",
    "\n",
    "#For plotting\n",
    "import matplotlib\n",
    "from matplotlib import pyplot as plt\n",
    "\n",
    "plt.rcParams[\"lines.color\"] = \"w\"\n",
    "plt.rcParams[\"text.color\"] = \"w\"\n",
    "plt.rcParams[\"axes.labelcolor\"] = \"w\"\n",
    "plt.rcParams[\"xtick.color\"] = \"w\"\n",
    "plt.rcParams[\"ytick.color\"] = \"w\"\n",
    "\n",
    "plt.rcParams[\"image.origin\"] = \"lower\""
   ]
  },
  {
   "cell_type": "code",
   "execution_count": null,
   "metadata": {},
   "outputs": [],
   "source": [
    "source_url = \"/sintef/data/OsloFjord/test_polstere_1h_0007.nc\""
   ]
  },
  {
   "cell_type": "code",
   "execution_count": null,
   "metadata": {},
   "outputs": [],
   "source": [
    "from netCDF4 import Dataset\n",
    "nc = Dataset(source_url)"
   ]
  },
  {
   "cell_type": "code",
   "execution_count": null,
   "metadata": {},
   "outputs": [],
   "source": [
    "import xarray as xr\n",
    "ds = xr.open_dataset(source_url)\n",
    "ds"
   ]
  },
  {
   "cell_type": "code",
   "execution_count": null,
   "metadata": {},
   "outputs": [],
   "source": [
    "dimY, dimX = ds.h.data.shape\n",
    "x0, x1, y0, y1 = 5, dimX-5, 175, dimY-5"
   ]
  },
  {
   "cell_type": "code",
   "execution_count": null,
   "metadata": {},
   "outputs": [],
   "source": [
    "nx = (x1-x0)\n",
    "ny = (y1-y0)\n",
    "dx, dy = 50.0, 50.0"
   ]
  },
  {
   "cell_type": "code",
   "execution_count": null,
   "metadata": {},
   "outputs": [],
   "source": [
    "from gpuocean.utils import Observation"
   ]
  },
  {
   "cell_type": "code",
   "execution_count": null,
   "metadata": {},
   "outputs": [],
   "source": [
    "timestamp = \"2023-04-12T11_19_41\"\n",
    "\n",
    "trajectories = []\n",
    "\n",
    "for f in os.listdir('pickles/'+timestamp):\n",
    "    obs= Observation.Observation()\n",
    "    obs.read_pickle('pickles/'+timestamp+'/'+ f )\n",
    "    trajectories.append( obs )"
   ]
  },
  {
   "attachments": {},
   "cell_type": "markdown",
   "metadata": {},
   "source": [
    "OpenDrift (loading from file)"
   ]
  },
  {
   "cell_type": "code",
   "execution_count": null,
   "metadata": {},
   "outputs": [],
   "source": [
    "initx = [ 6000, 8000, 5000,  12000, 15000, 4000]\n",
    "inity = [12000, 3000, 7500, 22000, 16000, 15000]"
   ]
  },
  {
   "cell_type": "code",
   "execution_count": null,
   "metadata": {},
   "outputs": [],
   "source": [
    "lats = nc[\"lat_rho\"][y0:y1,x0:x1]\n",
    "lons = nc[\"lon_rho\"][y0:y1,x0:x1]\n",
    "\n",
    "def xy2latlon(x,y, dx=50.0, dy=50.0):\n",
    "    local_index_x = x/dx + 0.5\n",
    "    local_index_y = y/dy + 0.5\n",
    "\n",
    "    def _interp(field, local_index_x, local_index_y):\n",
    "        local_index_x_lower = int(local_index_x)\n",
    "        local_index_x_upper = int(local_index_x)+1\n",
    "\n",
    "        local_index_y_lower = int(local_index_y)\n",
    "        local_index_y_upper = int(local_index_y)+1\n",
    "\n",
    "        val00 = (1 - (local_index_x - local_index_x_lower))*(1 - (local_index_y - local_index_y_lower)) * field[local_index_y_lower, local_index_x_lower]\n",
    "        val01 = (1 - (local_index_x - local_index_x_lower))*(local_index_y - local_index_y_lower) * field[local_index_y_upper, local_index_x_lower]\n",
    "        val10 = (local_index_x - local_index_x_lower)*(1 - (local_index_y - local_index_y_lower)) * field[local_index_y_lower, local_index_x_upper]\n",
    "        val11 = (local_index_x - local_index_x_lower)*(local_index_y - local_index_y_lower) * field[local_index_y_upper, local_index_x_upper]\n",
    "        return val00 + val01 + val10 + val11 \n",
    "    \n",
    "    return (_interp(lats, local_index_x, local_index_y), _interp(lons, local_index_x, local_index_y))\n",
    "\n",
    "[xy2latlon(x, y) for x,y in list(zip(initx,inity))]"
   ]
  },
  {
   "cell_type": "code",
   "execution_count": null,
   "metadata": {},
   "outputs": [],
   "source": [
    "fig, ax = plt.subplots()\n",
    "ax.imshow(nc[\"mask_rho\"][y0:y1,x0:x1], extent=[lons.min(), lons.max(), lats.min(), lats.max()])\n",
    "for i in range(len(initx)):\n",
    "    latlon = xy2latlon(initx[i],inity[i])\n",
    "    ax.scatter(latlon[1], latlon[0])"
   ]
  },
  {
   "cell_type": "code",
   "execution_count": null,
   "metadata": {},
   "outputs": [],
   "source": [
    "def latlon2xy(lat, lon, dx=50.0, dy=50.0):\n",
    "    penalty = (lats - lat)**2 + (lons - lon)**2\n",
    "    idx_y, idx_x = np.argwhere( penalty==penalty.min() )[0]\n",
    "\n",
    "    if lats[idx_y, idx_x] > lat:\n",
    "        idx_y_lower = idx_y-1\n",
    "        idx_y_upper = idx_y \n",
    "    else:\n",
    "        idx_y_lower = idx_y \n",
    "        idx_y_upper = idx_y+1\n",
    "\n",
    "    if lons[idx_y, idx_x] > lon:\n",
    "        idx_x_lower = idx_x-1\n",
    "        idx_x_upper = idx_x \n",
    "    else:\n",
    "        idx_x_lower = idx_x  \n",
    "        idx_x_upper = idx_x+1\n",
    "\n",
    "    y = idx_y_lower + (lat - lats[idx_y_lower, idx_x])/(lats[idx_y_upper, idx_x] - lats[idx_y_lower, idx_x])\n",
    "    x = idx_x_lower + (lon - lons[idx_y, idx_x_lower])/(lons[idx_y, idx_x_upper] - lons[idx_y, idx_x_lower])\n",
    "\n",
    "    return (y-0.5)*dy, (x-0.5)*dx"
   ]
  },
  {
   "cell_type": "code",
   "execution_count": null,
   "metadata": {},
   "outputs": [],
   "source": [
    "import pickle\n",
    "with open(\"fjordos_opendrift_trajectories_000.pickle\", \"rb\") as f:\n",
    "    opendrift_results = pickle.load(f)"
   ]
  },
  {
   "cell_type": "code",
   "execution_count": null,
   "metadata": {},
   "outputs": [],
   "source": [
    "fig, ax = plt.subplots(1,1, )\n",
    "domain_extent = [nc[\"lon_rho\"][y0:y1,x0:x1].min(), nc[\"lon_rho\"][y0:y1,x0:x1].max(), nc[\"lat_rho\"][y0:y1,x0:x1].min(), nc[\"lat_rho\"][y0:y1,x0:x1].max()]\n",
    "ax.imshow(1-nc[\"mask_rho\"][y0:y1,x0:x1], extent=domain_extent, cmap=\"Reds\")\n",
    "for i in range(len(opendrift_results[\"lon\"])):\n",
    "    ax.plot(opendrift_results[\"lon\"][i], opendrift_results[\"lat\"][i])"
   ]
  },
  {
   "cell_type": "code",
   "execution_count": null,
   "metadata": {},
   "outputs": [],
   "source": [
    "fig, ax = plt.subplots(1,1)\n",
    "domain_extent = [0, (x1-x0)*50.0/1000, 0, (y1-y0)*50.0/1000]\n",
    "ax.imshow(1-nc[\"mask_rho\"][y0:y1,x0:x1], extent=domain_extent, cmap=\"Reds\")\n",
    "for d in range(len(opendrift_results[\"lon\"])):\n",
    "    print(d)\n",
    "    path = np.zeros((len(opendrift_results[\"lat\"][d]),2))\n",
    "    for l in range(len(opendrift_results[\"lat\"][d])):\n",
    "        if opendrift_results[\"lat\"][d][l]:\n",
    "            path[l] = latlon2xy(opendrift_results[\"lat\"][d][l], opendrift_results[\"lon\"][d][l])\n",
    "        else:\n",
    "            path[l] = path[l-1]\n",
    "    ax.plot(path[:,1]/1000,path[:,0]/1000)"
   ]
  },
  {
   "cell_type": "code",
   "execution_count": null,
   "metadata": {},
   "outputs": [],
   "source": [
    "o_trajectories = []\n",
    "\n",
    "o_wind_drift_factors = [\"000\", \"015\", \"030\"]\n",
    "for o_factor in o_wind_drift_factors:\n",
    "    with open(\"fjordos_opendrift_trajectories_\"+o_factor+\".pickle\", \"rb\") as f:\n",
    "        opendrift_results = pickle.load(f)\n",
    "\n",
    "    o_trajectory = Observation.Observation(domain_size_x=nx*dx, domain_size_y=ny*dy, nx=x1-x0, ny=y1-y0, land_mask=1-nc[\"mask_rho\"][y0:y1,x0:x1])\n",
    "\n",
    "    ts = [(t - opendrift_results[\"time\"][0]).seconds for t in opendrift_results[\"time\"]]\n",
    "\n",
    "    X = np.zeros((len(opendrift_results[\"lat\"]), len(opendrift_results[\"time\"])))\n",
    "    Y = np.zeros((len(opendrift_results[\"lat\"]), len(opendrift_results[\"time\"])))\n",
    "\n",
    "    for d in range(len(opendrift_results[\"lon\"])):\n",
    "        for l in range(len(opendrift_results[\"lat\"][d])):\n",
    "            if opendrift_results[\"lat\"][d][l]:\n",
    "                xy = latlon2xy(opendrift_results[\"lat\"][d][l], opendrift_results[\"lon\"][d][l])\n",
    "                X[d,l], Y[d,l] = xy[1], xy[0]\n",
    "            else:\n",
    "                X[d,l], Y[d,l] = X[d,l-1], Y[d,l-1]\n",
    "\n",
    "    o_trajectory.add_observations_from_arrays(ts, X, Y)\n",
    "\n",
    "    o_trajectories.append(o_trajectory)"
   ]
  },
  {
   "attachments": {},
   "cell_type": "markdown",
   "metadata": {},
   "source": [
    "Plotting"
   ]
  },
  {
   "cell_type": "code",
   "execution_count": null,
   "metadata": {},
   "outputs": [],
   "source": [
    "def plot_cp_trajectories(drifter_id, crossprod_trajectories, o_trajectories=None):\n",
    "    with plt.rc_context({'lines.color':'black', \n",
    "                            'text.color':'black', \n",
    "                            'axes.labelcolor':'black', \n",
    "                            'xtick.color':'black',\n",
    "                            'ytick.color':'black'}):\n",
    "        fig, ax = plt.subplots(1,1, figsize=(10,10))\n",
    "        ax.tick_params(axis='both', which='major', labelsize=28)\n",
    "\n",
    "        domain_extent = [0, (x1-x0)*50.0/1000, 0, (y1-y0)*50.0/1000]\n",
    "\n",
    "        bg_cmap = copy.deepcopy(plt.cm.Blues)\n",
    "        bg_cmap.set_bad(\"grey\", alpha = 1.0)\n",
    "\n",
    "        ax.imshow(np.ma.array(nc[\"mask_rho\"][y0:y1, x0:x1], mask=(1-nc[\"mask_rho\"][y0:y1, x0:x1])), interpolation=\"none\", origin='lower', \n",
    "                        cmap=bg_cmap, extent=domain_extent, zorder=-10)\n",
    "        \n",
    "        try:\n",
    "            lat = np.array(nc.variables[\"lat_rho\"])\n",
    "            lon = np.array(nc.variables[\"lon_rho\"])\n",
    "\n",
    "            spec_lat = lat[y0:y1, x0:x1]\n",
    "            spec_lon = lon[y0:y1, x0:x1]\n",
    "\n",
    "            cont_lon_case = ax.contour(spec_lon, levels = np.arange(10, 12, 0.1), extent=domain_extent, colors='k', alpha=0.2, linewidths=0.8, zorder=1)\n",
    "            cont_lat_case = ax.contour(spec_lat, levels = np.arange(58, 62, 0.1), extent=domain_extent, colors='k', alpha=0.2, linewidths=0.8, zorder=1)\n",
    "\n",
    "        except Exception as e:\n",
    "            raise e\n",
    "\n",
    "\n",
    "        T = crossprod_trajectories[0].obs_df.iloc[-1].time\n",
    "        dummy_path = crossprod_trajectories[0].get_drifter_path(0, 0,  T, in_km = True)[0]\n",
    "        start_pos = dummy_path[0,:]\n",
    "        circ_start = matplotlib.patches.Circle((start_pos[0], start_pos[1]), \n",
    "                                                0.01, color = 'black', fill=True, zorder=2)\n",
    "        ax.add_patch(circ_start)      \n",
    "\n",
    "        # Save paths to array\n",
    "        num_results = len(crossprod_trajectories)\n",
    "        X = np.zeros((dummy_path.shape[0], num_results))\n",
    "        Y = np.zeros((dummy_path.shape[0], num_results))\n",
    "\n",
    "        counter=0\n",
    "        for path in [t.get_drifter_path(drifter_id, 0, T, in_km = True)[0] for t in crossprod_trajectories]:\n",
    "            try:\n",
    "                X[:,counter] = np.minimum(np.maximum(0, path[:,0]), (x1-x0)*50.0/1000)\n",
    "                Y[:,counter] = np.minimum(np.maximum(0, path[:,1]), (y1-y0)*50.0/1000)\n",
    "                counter+=1\n",
    "            except:\n",
    "                pass\n",
    "\n",
    "        # Plot paths from array\n",
    "        ax.plot(X, Y, color=\"C0\", ls=\"-\", zorder=-3, alpha=0.05) #, rasterized=True)\n",
    "        ax.scatter(X[-1,:], Y[-1, :], marker='x', color='black', s=2, linewidths=2, zorder=-4)# , rasterized=True)\n",
    "\n",
    "        # Plot opendrift paths\n",
    "        if o_trajectories is not None:\n",
    "            for opath in [ot.get_drifter_path(drifter_id, 0, T, in_km = True)[0] for ot in o_trajectories]:\n",
    "                ax.plot(opath[:,0], opath[:,1], color=\"C1\", ls=\"-\", zorder=1)\n",
    "\n",
    "\n",
    "\n",
    "        plt.tight_layout()\n",
    "        ax.set_rasterization_zorder(0)\n",
    "        plt.savefig(\"figs/\"+timestamp+\"/BCdrift\"+str(drifter_id)+\"_rasterised.pdf\", bbox_inches=\"tight\", dpi=400)"
   ]
  },
  {
   "cell_type": "code",
   "execution_count": null,
   "metadata": {},
   "outputs": [],
   "source": [
    "len(trajectories)"
   ]
  },
  {
   "cell_type": "code",
   "execution_count": null,
   "metadata": {},
   "outputs": [],
   "source": [
    "plot_cp_trajectories(5, trajectories, o_trajectories)"
   ]
  },
  {
   "cell_type": "code",
   "execution_count": null,
   "metadata": {},
   "outputs": [],
   "source": [
    "numDrifters = len(trajectories[0].obs_df.iloc[0].drifter_positions)\n",
    "for d in range(numDrifters):\n",
    "    plot_cp_trajectories(d, trajectories, o_trajectories)"
   ]
  },
  {
   "cell_type": "code",
   "execution_count": null,
   "metadata": {},
   "outputs": [],
   "source": [
    "def plot_cp_kde(drifter_id, trajectories, o_trajectories):\n",
    "\n",
    "    # Space and time \n",
    "    nx = (x1-x0)\n",
    "    ny = (y1-y0)\n",
    "\n",
    "    dx = 50.0\n",
    "    dy = 50.0\n",
    "\n",
    "    T = trajectories[0].obs_df.iloc[-1].time\n",
    "\n",
    "    ## Get last postions\n",
    "    numTrajectories = len(trajectories)\n",
    "\n",
    "    last_positions = np.zeros((numTrajectories,2))\n",
    "    for d in range(numTrajectories):\n",
    "        last_positions[d] = trajectories[d].get_drifter_path(drifter_id, 0, T)[-1][-1]\n",
    "\n",
    "    # Axes\n",
    "    x = np.arange(nx)*dx\n",
    "    y = np.arange(ny)*dy\n",
    "    x/=1000\n",
    "    y/=1000\n",
    "    xx, yy = np.meshgrid(x,y)\n",
    "    ccs = np.vstack([xx.ravel(), yy.ravel()])\n",
    "\n",
    "    ## Kernel density estimation \n",
    "    clp = (last_positions-np.average(last_positions,axis=0)).T\n",
    "    clp[0][clp[0] > (x[-1]/2)] = clp[0][clp[0] > (x[-1]/2)] - x[-1]\n",
    "    clp[0][clp[0] < (-x[-1]/2)] = clp[0][clp[0] < (-x[-1]/2)] + x[-1]\n",
    "    clp[1][clp[1] > (y[-1]/2)] = clp[1][clp[1] > (y[-1]/2)] - y[-1]\n",
    "    clp[1][clp[1] < (-y[-1]/2)] = clp[1][clp[1] < (-y[-1]/2)] + y[-1]\n",
    "\n",
    "    raw_cov = np.cov(clp)\n",
    "\n",
    "    bw = 100**(-1./(2+4)) #* 0.5 #for whtatever reason scipy.stats.gaussian_kde is roughly half of that\n",
    "\n",
    "    cov = raw_cov * bw\n",
    "    covinv = np.linalg.inv(cov)\n",
    "\n",
    "    f = np.ma.array(np.zeros((ny,nx)), mask=1-nc[\"mask_rho\"][y0:y1,x0:x1])\n",
    "\n",
    "    sea_mask = np.array(nc[\"mask_rho\"][y0:y1,x0:x1], dtype=bool)\n",
    "    for e in range(numTrajectories):\n",
    "        d = (ccs.T-last_positions[e]).T\n",
    "        d[0][d[0] > (x[-1]/2)] = d[0][d[0] > (x[-1]/2)] - x[-1]\n",
    "        d[0][d[0] < (-x[-1]/2)] = d[0][d[0] < (-x[-1]/2)] + x[-1]\n",
    "        d[1][d[1] > (y[-1]/2)] = d[1][d[1] > (y[-1]/2)] - y[-1]\n",
    "        d[1][d[1] < (-y[-1]/2)] = d[1][d[1] < (-y[-1]/2)] + y[-1]\n",
    "        temp_f = np.exp(-1/2*np.sum((d*np.dot(covinv,d)), axis=0)).reshape(ny,nx)\n",
    "        temp_mass = np.sum(temp_f)\n",
    "        temp_sea_mass = np.sum(temp_f[sea_mask])\n",
    "        f += temp_mass/temp_sea_mass * temp_f\n",
    "        \n",
    "    ## Levels for plotting\n",
    "    fmass = np.sum(f)\n",
    "\n",
    "    fmax = np.max(f)\n",
    "    levels = np.linspace(0,fmax,100)\n",
    "    level_probs = np.zeros(100)\n",
    "    for l in range(len(levels)):\n",
    "        level_probs[l] = np.sum(f[f>levels[l]])/fmass\n",
    "    level_probs[-1] = 0.0\n",
    "\n",
    "    desired_probs = [0.9,0.75,0.5,0.25,0.0] #descending! (ending with 0.0)\n",
    "    desired_levels = np.zeros_like(desired_probs)\n",
    "    for p in range(len(desired_probs)):\n",
    "        desired_levels[p] = levels[np.abs(level_probs-desired_probs[p]).argmin()]\n",
    "    desired_levels = np.unique(desired_levels)\n",
    "\n",
    "    with plt.rc_context({'lines.color':'black', \n",
    "                            'text.color':'black', \n",
    "                            'axes.labelcolor':'black', \n",
    "                            'xtick.color':'black',\n",
    "                            'ytick.color':'black'}):\n",
    "        ## Contour plots\n",
    "        fig, ax = plt.subplots(1,1, figsize=(10,10))\n",
    "        ax.tick_params(axis='both', which='major', labelsize=28)\n",
    "\n",
    "        domain_extent = [0, nx*dx/1000, 0, ny*dy/1000]\n",
    "\n",
    "        bg_cmap = copy.deepcopy(plt.cm.Blues)\n",
    "        bg_cmap.set_bad(\"grey\", alpha = 1.0)\n",
    "\n",
    "        ax.imshow(np.ma.array(nc[\"mask_rho\"][y0:y1, x0:x1], mask=(1-nc[\"mask_rho\"][y0:y1, x0:x1])), interpolation=\"none\", origin='lower', \n",
    "                        cmap=bg_cmap, extent=domain_extent, zorder=2)\n",
    "\n",
    "        cfset = ax.contourf(xx, yy, f, levels=desired_levels, cmap='Greens', alpha=0.5, zorder=3)\n",
    "        cset = ax.contour(xx, yy, f, levels=desired_levels, colors='k', alpha=0.25, linewidths=1, zorder=4)\n",
    "\n",
    "        try:\n",
    "            lat = np.array(nc.variables[\"lat_rho\"])\n",
    "            lon = np.array(nc.variables[\"lon_rho\"])\n",
    "\n",
    "            spec_lat = lat[y0:y1, x0:x1]\n",
    "            spec_lon = lon[y0:y1, x0:x1]\n",
    "\n",
    "            cont_lon_case = ax.contour(spec_lon, levels = np.arange(10, 12, 0.1), extent=domain_extent, colors='k', alpha=0.2, linewidths=0.8, zorder=1)\n",
    "            cont_lat_case = ax.contour(spec_lat, levels = np.arange(58, 62, 0.1), extent=domain_extent, colors='k', alpha=0.2, linewidths=0.8, zorder=1)\n",
    "\n",
    "        except Exception as e:\n",
    "            raise e\n",
    "\n",
    "        proxy = [plt.Rectangle((0,0),1,1,fc = pc.get_facecolor()[0]) for pc in cfset.collections]\n",
    "        labels = []\n",
    "        for p in desired_probs:\n",
    "            labels.append(str(int(p*100))+\"%\")\n",
    "        ax.legend(proxy, labels, prop={'size': 26}, labelcolor=\"black\", loc=4, framealpha=0.9)\n",
    "\n",
    "\n",
    "        # Plot opendrift paths\n",
    "        if o_trajectories is not None:\n",
    "            dummy_path = o_trajectories[0].get_drifter_path(drifter_id, 0,  T, in_km = True)[0]\n",
    "            start_pos = dummy_path[0,:]\n",
    "            circ_start = matplotlib.patches.Circle((start_pos[0], start_pos[1]), \n",
    "                                                    0.01, color = 'black', fill=True, zorder=2)\n",
    "            ax.add_patch(circ_start)      \n",
    "            for opath in [ot.get_drifter_path(drifter_id, 0, T, in_km = True)[0] for ot in o_trajectories]:\n",
    "                ax.plot(opath[:,0], opath[:,1], color=\"C1\", ls=\"-\", zorder=1)\n",
    "\n",
    "\n",
    "        plt.savefig(\"figs/\"+timestamp+\"/BCkde\"+str(drifter_id)+\".pdf\", bbox_inches=\"tight\")\n"
   ]
  },
  {
   "cell_type": "code",
   "execution_count": null,
   "metadata": {},
   "outputs": [],
   "source": [
    "numDrifters = len(trajectories[0].obs_df.iloc[0].drifter_positions)\n",
    "for d in range(numDrifters):\n",
    "    plot_cp_kde(d, trajectories)"
   ]
  },
  {
   "cell_type": "code",
   "execution_count": null,
   "metadata": {},
   "outputs": [],
   "source": []
  }
 ],
 "metadata": {
  "kernelspec": {
   "display_name": "gpuocean_opendrift",
   "language": "python",
   "name": "python3"
  },
  "language_info": {
   "codemirror_mode": {
    "name": "ipython",
    "version": 3
   },
   "file_extension": ".py",
   "mimetype": "text/x-python",
   "name": "python",
   "nbconvert_exporter": "python",
   "pygments_lexer": "ipython3",
   "version": "3.7.12"
  },
  "orig_nbformat": 4,
  "vscode": {
   "interpreter": {
    "hash": "3048633266a8aca5c85f16c1ee57ccad146141feb66febf24dcb8304467d1440"
   }
  }
 },
 "nbformat": 4,
 "nbformat_minor": 2
}
