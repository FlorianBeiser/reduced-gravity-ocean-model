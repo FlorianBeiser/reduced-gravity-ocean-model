{
 "cells": [
  {
   "cell_type": "code",
   "execution_count": null,
   "metadata": {},
   "outputs": [],
   "source": [
    "import sys, os\n",
    "import matplotlib\n",
    "import cartopy\n",
    "import xarray as xr"
   ]
  },
  {
   "cell_type": "code",
   "execution_count": null,
   "metadata": {},
   "outputs": [],
   "source": [
    "%matplotlib inline"
   ]
  },
  {
   "cell_type": "code",
   "execution_count": null,
   "metadata": {},
   "outputs": [],
   "source": [
    "from opendrift.models.oceandrift import OceanDrift\n",
    "from opendrift.readers import reader_ROMS_native\n",
    "\n",
    "import matplotlib.pyplot as plt\n",
    "import numpy as np\n",
    "from datetime import datetime\n",
    "\n",
    "np.random.seed(983214)"
   ]
  },
  {
   "cell_type": "code",
   "execution_count": null,
   "metadata": {},
   "outputs": [],
   "source": [
    "fjordos_geo = xr.open_dataset(\"https://thredds.met.no/thredds/dodsC/fjordos/geogrid_tmp/test_polstere_1h_0007.nc\")\n",
    "fjordos_geo"
   ]
  },
  {
   "cell_type": "code",
   "execution_count": null,
   "metadata": {},
   "outputs": [],
   "source": [
    "fjordos = xr.open_dataset(\"/lustre/storeB/project/fou/hi/FjordOs/fjordos2_hindcast/v6/exp1/ocean_his_0007.nc4\")\n",
    "fjordos"
   ]
  },
  {
   "cell_type": "code",
   "execution_count": null,
   "metadata": {},
   "outputs": [],
   "source": [
    "o = OceanDrift(loglevel=50)\n",
    "\n",
    "print(o)"
   ]
  },
  {
   "cell_type": "code",
   "execution_count": null,
   "metadata": {},
   "outputs": [],
   "source": [
    "#norkyst_model_input_files = [\n",
    "#                \"https://thredds.met.no/thredds/dodsC/fou-hi/norkyst800m-1h/NorKyst-800m_ZDEPTHS_his.an.2019072100.nc\"\n",
    "#            ]\n",
    "\n",
    "fjordos_model_input_files = [\n",
    "                \"/lustre/storeB/project/fou/hi/FjordOs/fjordos2_hindcast/v6/exp1/ocean_his_0007.nc4\"\n",
    "            ]\n",
    "#                \"https://thredds.met.no/thredds/dodsC/fjordos/fjordos2_hindcast/v6/exp1/ocean_his_0007.nc4\"\n",
    "#            ]\n",
    "\n",
    "reader = reader_ROMS_native.Reader(fjordos_model_input_files)\n",
    "print(reader)"
   ]
  },
  {
   "cell_type": "code",
   "execution_count": null,
   "metadata": {},
   "outputs": [],
   "source": [
    "reader.plot()"
   ]
  },
  {
   "cell_type": "code",
   "execution_count": null,
   "metadata": {},
   "outputs": [],
   "source": [
    "o.add_reader([reader])"
   ]
  },
  {
   "cell_type": "code",
   "execution_count": null,
   "metadata": {},
   "outputs": [],
   "source": [
    "print(\"First available timestep in reader: {}\".format(reader.start_time))\n",
    "print(\"Last available timestep in reader: {}\".format(reader.end_time))\n",
    "\n",
    "sim_start_time_index = 5*24\n",
    "sim_end_time_index = 5*24 + 6\n",
    "\n",
    "sim_start_time = reader.times[sim_start_time_index]\n",
    "sim_end_time = reader.times[sim_end_time_index]\n",
    "\n",
    "print(\"First timestep of simulation: {}\".format(sim_start_time))\n",
    "print(\"Last timestep of simulation: {}\".format(sim_end_time))"
   ]
  },
  {
   "cell_type": "code",
   "execution_count": null,
   "metadata": {},
   "outputs": [],
   "source": [
    "# random seeding in the middle of the inner Oslofjord\n",
    "#o.seed_elements(lon=10.55, lat=59.80, number=10, radius=500,\n",
    "#                    time=sim_start_time)\n",
    "\n",
    "\n",
    "seed_points_lats = [59.78610610961914,\n",
    "                  59.700775146484375,\n",
    "                  59.74568176269531,\n",
    "                  59.8759651184082,\n",
    "                  59.822044372558594,\n",
    "                  59.81306076049805]\n",
    "\n",
    "seed_points_lons = [10.55042552947998,\n",
    "                  10.58590030670166,\n",
    "                  10.53268814086914,\n",
    "                  10.656847953796387,\n",
    "                  10.710057258605957,\n",
    "                  10.5149507522583]\n",
    "\n",
    "n_seeds = len(seed_points_lats)\n",
    "\n",
    "o.seed_elements(lat=seed_points_lats, lon=seed_points_lons, \n",
    "                time=sim_start_time, \n",
    "                wind_drift_factor=np.zeros_like(seed_points_lats))"
   ]
  },
  {
   "cell_type": "code",
   "execution_count": null,
   "metadata": {},
   "outputs": [],
   "source": [
    "print(o)"
   ]
  },
  {
   "cell_type": "code",
   "execution_count": null,
   "metadata": {},
   "outputs": [],
   "source": [
    "print(o.list_configspec())"
   ]
  },
  {
   "cell_type": "code",
   "execution_count": null,
   "metadata": {},
   "outputs": [],
   "source": [
    "#o.run(end_time=sim_end_time, time_step=60, time_step_output=60, outfile='opendrift.nc') # sim & dump every minute\n",
    "o.run(end_time=sim_end_time, time_step=600, time_step_output=600, outfile='opendrift.nc') # sim & dump every 10 minutes"
   ]
  },
  {
   "cell_type": "code",
   "execution_count": null,
   "metadata": {},
   "outputs": [],
   "source": [
    "o.plot()"
   ]
  },
  {
   "cell_type": "code",
   "execution_count": null,
   "metadata": {},
   "outputs": [],
   "source": [
    "print(o)"
   ]
  },
  {
   "cell_type": "code",
   "execution_count": null,
   "metadata": {},
   "outputs": [],
   "source": [
    "print(len(o.get_lonlats()))\n",
    "print(o.get_lonlats()[0].shape) # (n_drifters, n_timesteps)\n",
    "\n",
    "print(o.get_lonlats()[0][0]) # lons for drifter 0\n",
    "print(o.get_lonlats()[1][0]) # lats for drifter 0\n",
    "\n",
    "print(o.get_time_array()[0]) # list of times (datetime)\n",
    "\n",
    "print(reader.lonlat2xy(o.get_lonlats()[0][0], o.get_lonlats()[1][0]))"
   ]
  },
  {
   "cell_type": "code",
   "execution_count": null,
   "metadata": {},
   "outputs": [],
   "source": [
    "time = o.get_time_array()[0]\n",
    "\n",
    "lon = o.get_lonlats()[0]\n",
    "lat = o.get_lonlats()[1]\n",
    "\n",
    "x = []\n",
    "y = []\n",
    "for i in range(n_seeds):\n",
    "    x_i, y_i = reader.lonlat2xy(o.get_lonlats()[0][i], o.get_lonlats()[1][i])\n",
    "    x.append(x_i.tolist())\n",
    "    y.append(y_i.tolist())\n",
    "\n",
    "opendrift_results = {\"time\": o.get_time_array()[0],\n",
    "                    \"lon\": lon,\n",
    "                    \"lat\": lat,\n",
    "                    \"x\": x,\n",
    "                    \"y\": y}\n",
    "\n",
    "print(opendrift_results)"
   ]
  },
  {
   "cell_type": "code",
   "execution_count": null,
   "metadata": {},
   "outputs": [],
   "source": [
    "import pickle\n",
    "\n",
    "with open(\"fjordos_opendrift_trajectories.pickle\", \"wb\") as f:\n",
    "    pickle.dump(opendrift_results, f, protocol=4)"
   ]
  },
  {
   "cell_type": "code",
   "execution_count": null,
   "metadata": {},
   "outputs": [],
   "source": [
    "with open(\"fjordos_opendrift_trajectories.pickle\", \"rb\") as f:\n",
    "    opendrift_results = pickle.load(f)"
   ]
  }
 ],
 "metadata": {
  "kernelspec": {
   "display_name": "gpuocean_opendrift",
   "language": "python",
   "name": "python3"
  },
  "language_info": {
   "codemirror_mode": {
    "name": "ipython",
    "version": 3
   },
   "file_extension": ".py",
   "mimetype": "text/x-python",
   "name": "python",
   "nbconvert_exporter": "python",
   "pygments_lexer": "ipython3",
   "version": "3.7.12"
  }
 },
 "nbformat": 4,
 "nbformat_minor": 2
}
