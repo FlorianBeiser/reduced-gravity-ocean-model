{
 "cells": [
  {
   "attachments": {},
   "cell_type": "markdown",
   "metadata": {},
   "source": [
    "```\n",
    "This notebook run the SWE simulations for the Oslofjord and keeps track of the wall time \n",
    "Copyright (C) 2022 - 2023 SINTEF Digital\n",
    "Copyright (C) 2022 - 2023 Norwegian Meteorological Institute\n",
    "\n",
    "This program is free software: you can redistribute it and/or modify\n",
    "it under the terms of the GNU General Public License as published by\n",
    "the Free Software Foundation, either version 3 of the License, or\n",
    "(at your option) any later version.\n",
    "\n",
    "This program is distributed in the hope that it will be useful,\n",
    "but WITHOUT ANY WARRANTY; without even the implied warranty of\n",
    "MERCHANTABILITY or FITNESS FOR A PARTICULAR PURPOSE.  See the\n",
    "GNU General Public License for more details.\n",
    "\n",
    "You should have received a copy of the GNU General Public License\n",
    "along with this program.  If not, see <http://www.gnu.org/licenses/>.\n",
    "```"
   ]
  },
  {
   "cell_type": "code",
   "execution_count": 1,
   "metadata": {},
   "outputs": [
    {
     "name": "stdout",
     "output_type": "stream",
     "text": [
      "GPUOcean code from: 9e2194949a236a78754252e0e34f69f9b1e1823f on branch reduced_gravity\n"
     ]
    }
   ],
   "source": [
    "import sys\n",
    "gpuocean_path = [p[:-4] for p in sys.path if (p.endswith(\"gpuocean/src\") or p.endswith(\"gpuocean\\\\src\"))][0]\n",
    "import git\n",
    "repo = git.Repo(gpuocean_path)\n",
    "print(\"GPUOcean code from:\", repo.head.object.hexsha, \"on branch\", repo.active_branch.name)"
   ]
  },
  {
   "attachments": {},
   "cell_type": "markdown",
   "metadata": {},
   "source": [
    "# Oslofjord: Computational Times\n",
    "\n",
    "The 6h simulations are set-up. For the actual run time caluculation use the script `run_time.py`"
   ]
  },
  {
   "cell_type": "code",
   "execution_count": 2,
   "metadata": {},
   "outputs": [],
   "source": [
    "#Lets have matplotlib \"inline\"\n",
    "%matplotlib inline\n",
    "\n",
    "import os\n",
    "import sys\n",
    "\n",
    "#Import packages we need\n",
    "import numpy as np\n",
    "from netCDF4 import Dataset\n",
    "import datetime, copy\n",
    "from IPython.display import display\n",
    "\n",
    "#For plotting\n",
    "import matplotlib\n",
    "from matplotlib import pyplot as plt\n",
    "\n",
    "plt.rcParams[\"lines.color\"] = \"w\"\n",
    "plt.rcParams[\"text.color\"] = \"w\"\n",
    "plt.rcParams[\"axes.labelcolor\"] = \"w\"\n",
    "plt.rcParams[\"xtick.color\"] = \"w\"\n",
    "plt.rcParams[\"ytick.color\"] = \"w\"\n",
    "\n",
    "plt.rcParams[\"image.origin\"] = \"lower\""
   ]
  },
  {
   "cell_type": "code",
   "execution_count": 3,
   "metadata": {},
   "outputs": [],
   "source": [
    "from gpuocean.utils import IPythonMagic, NetCDFInitialization"
   ]
  },
  {
   "cell_type": "code",
   "execution_count": 4,
   "metadata": {},
   "outputs": [],
   "source": [
    "%cuda_context_handler gpu_ctx"
   ]
  },
  {
   "cell_type": "markdown",
   "metadata": {},
   "source": [
    "Path to the test file"
   ]
  },
  {
   "cell_type": "code",
   "execution_count": 5,
   "metadata": {},
   "outputs": [],
   "source": [
    "source_url = \"/sintef/data/OsloFjord/test_polstere_1h_0007.nc\""
   ]
  },
  {
   "cell_type": "markdown",
   "metadata": {},
   "source": [
    "## Inspecting file structure and content"
   ]
  },
  {
   "cell_type": "code",
   "execution_count": 6,
   "metadata": {},
   "outputs": [],
   "source": [
    "import xarray as xr\n",
    "ds = xr.open_dataset(source_url)"
   ]
  },
  {
   "cell_type": "code",
   "execution_count": 7,
   "metadata": {},
   "outputs": [],
   "source": [
    "from netCDF4 import Dataset\n",
    "nc = Dataset(source_url)"
   ]
  },
  {
   "cell_type": "markdown",
   "metadata": {},
   "source": [
    "## Generating GPUOcean Simulation from Input"
   ]
  },
  {
   "cell_type": "code",
   "execution_count": 8,
   "metadata": {},
   "outputs": [],
   "source": [
    "data_args = {}"
   ]
  },
  {
   "cell_type": "code",
   "execution_count": 9,
   "metadata": {},
   "outputs": [],
   "source": [
    "dimY, dimX = ds.h.data.shape"
   ]
  },
  {
   "cell_type": "code",
   "execution_count": 10,
   "metadata": {},
   "outputs": [],
   "source": [
    "x0, x1, y0, y1 = 5, dimX-5, 175, dimY-5"
   ]
  },
  {
   "cell_type": "code",
   "execution_count": 11,
   "metadata": {},
   "outputs": [],
   "source": [
    "import pyproj\n",
    "proj_str = nc[\"projection\"].proj4\n",
    "\n",
    "proj = pyproj.Proj(proj_str)\n",
    "\n",
    "lat_rho = nc.variables['lat_rho'][y0:y1, x0:x1]\n",
    "lon_rho = nc.variables['lon_rho'][y0:y1, x0:x1]\n",
    "x_rho, y_rho = proj(lon_rho, lat_rho, inverse = False)\n",
    "x, y = x_rho[0], y_rho[:,0]\n",
    "\n",
    "data_args['nx'] = (x1-x0)-4\n",
    "data_args['ny'] = (y1-y0)-4\n",
    "\n",
    "NX = data_args[\"nx\"]+4\n",
    "NY = data_args[\"ny\"]+4\n",
    "\n",
    "data_args['dx'] = np.average(x[1:] - x[:-1])\n",
    "data_args['dy'] = np.average(y[1:] - y[:-1])"
   ]
  },
  {
   "cell_type": "code",
   "execution_count": 12,
   "metadata": {},
   "outputs": [
    {
     "data": {
      "text/plain": [
       "(49.99992641175269, 50.000104021367484)"
      ]
     },
     "execution_count": 12,
     "metadata": {},
     "output_type": "execute_result"
    }
   ],
   "source": [
    "data_args[\"dx\"], data_args[\"dy\"]"
   ]
  },
  {
   "cell_type": "code",
   "execution_count": 13,
   "metadata": {},
   "outputs": [],
   "source": [
    "data_args['angle'] = nc[\"angle\"][y0:y1, x0:x1]\n",
    "from gpuocean.utils import OceanographicUtilities\n",
    "data_args['latitude'] = OceanographicUtilities.degToRad(lat_rho)\n",
    "data_args[\"f\"] = 0.0"
   ]
  },
  {
   "cell_type": "markdown",
   "metadata": {},
   "source": [
    "Check Mixed-Layer Depth"
   ]
  },
  {
   "cell_type": "code",
   "execution_count": 14,
   "metadata": {},
   "outputs": [],
   "source": [
    "t=0#5*24 + 20 # INPUT"
   ]
  },
  {
   "cell_type": "code",
   "execution_count": 15,
   "metadata": {},
   "outputs": [
    {
     "name": "stdout",
     "output_type": "stream",
     "text": [
      "Simulation start time = 2014-06-30 13:00:48\n"
     ]
    }
   ],
   "source": [
    "data_args[\"t\"] = np.float32(nc[\"ocean_time\"][t].data)\n",
    "print(\"Simulation start time = \" + str(datetime.datetime.utcfromtimestamp(data_args[\"t\"]).strftime('%Y-%m-%d %H:%M:%S')))\n",
    "data_args[\"t\"] = 0"
   ]
  },
  {
   "cell_type": "code",
   "execution_count": 16,
   "metadata": {},
   "outputs": [],
   "source": [
    "mld = NetCDFInitialization.MLD(source_url, 1024, min_mld=1.5, max_mld=40, x0=x0, x1=x1, y0=y0, y1=y1, t=t)"
   ]
  },
  {
   "cell_type": "code",
   "execution_count": 17,
   "metadata": {},
   "outputs": [],
   "source": [
    "# FIXME!!!\n",
    "# mld = NetCDFInitialization.correct_coastal_MLD(mld, source_url, coords=[x0,x1,y0,y1], rel_tol=0.25, abs_tol=1, land_value=0.0)\n",
    "\n",
    "mld = NetCDFInitialization.fill_coastal_data(mld)"
   ]
  },
  {
   "cell_type": "markdown",
   "metadata": {},
   "source": [
    "#### Baroclinic model"
   ]
  },
  {
   "cell_type": "code",
   "execution_count": 18,
   "metadata": {},
   "outputs": [],
   "source": [
    "H = 0.0"
   ]
  },
  {
   "cell_type": "code",
   "execution_count": 19,
   "metadata": {},
   "outputs": [],
   "source": [
    "H_m_data = nc.variables['h'][y0-1:y1+1, x0-1:x1+1]\n",
    "H_m_mask = (H_m_data == 0.0)\n",
    "H_m = np.ma.array(H_m_data, mask=H_m_mask)\n",
    "H_i = OceanographicUtilities.midpointsToIntersections(H_m, land_value=0.0, iterations=10)[0]\n",
    "\n",
    "data_args[\"H\"] = np.ma.array(H*np.ones_like(H_i), mask=H_i.mask.copy(), dtype=np.float32)"
   ]
  },
  {
   "cell_type": "code",
   "execution_count": 20,
   "metadata": {},
   "outputs": [
    {
     "data": {
      "text/plain": [
       "0.0"
      ]
     },
     "execution_count": 20,
     "metadata": {},
     "output_type": "execute_result"
    }
   ],
   "source": [
    "data_args[\"H\"].max()"
   ]
  },
  {
   "cell_type": "markdown",
   "metadata": {},
   "source": [
    "Artifical data"
   ]
  },
  {
   "cell_type": "code",
   "execution_count": 21,
   "metadata": {},
   "outputs": [],
   "source": [
    "mld = np.ma.array( 15.0*np.ones_like(mld), mask=copy.copy(mld.mask) )\n",
    "\n",
    "data_args[\"eta0\"] = np.ma.array(mld.data - H, mask=copy.copy(mld.mask))"
   ]
  },
  {
   "cell_type": "code",
   "execution_count": 22,
   "metadata": {},
   "outputs": [],
   "source": [
    "# Starting from lake at rest\n",
    "data_args[\"hu0\"] = np.ma.array(np.zeros_like(mld), mask=copy.copy(mld.mask))\n",
    "data_args[\"hv0\"] = np.ma.array(np.zeros_like(mld), mask=copy.copy(mld.mask))"
   ]
  },
  {
   "cell_type": "code",
   "execution_count": 23,
   "metadata": {},
   "outputs": [],
   "source": [
    "data_args[\"g\"] = 0.1"
   ]
  },
  {
   "cell_type": "code",
   "execution_count": 24,
   "metadata": {},
   "outputs": [],
   "source": [
    "data_args[\"r\"] = 1.0e-3#3.0e-3"
   ]
  },
  {
   "cell_type": "markdown",
   "metadata": {},
   "source": [
    "Set-up osciallating BC"
   ]
  },
  {
   "cell_type": "code",
   "execution_count": 25,
   "metadata": {},
   "outputs": [],
   "source": [
    "T = 2*24*3600 "
   ]
  },
  {
   "cell_type": "code",
   "execution_count": 26,
   "metadata": {},
   "outputs": [],
   "source": [
    "from gpuocean.utils import Common"
   ]
  },
  {
   "cell_type": "code",
   "execution_count": 27,
   "metadata": {},
   "outputs": [],
   "source": [
    "data_args['boundary_conditions'] = Common.BoundaryConditions(north=3, south=3, east=3, west=3, spongeCells={'north':20, 'south': 20, 'east': 20, 'west': 20})"
   ]
  },
  {
   "cell_type": "code",
   "execution_count": 28,
   "metadata": {},
   "outputs": [],
   "source": [
    "t_step = 3600\n",
    "T_steps = int(np.ceil(T/t_step)+1)\n",
    "\n",
    "ts = data_args[\"t\"] + np.arange(0, T+1, step=t_step)\n",
    "ts_steps = ts-ts[0]"
   ]
  },
  {
   "cell_type": "code",
   "execution_count": 29,
   "metadata": {},
   "outputs": [],
   "source": [
    "ampl_v = 0.3 #Input\n",
    "freq = 12*3600 \n",
    "bc_v_ref = ampl_v * np.sin(2*np.pi*ts_steps/freq)[:,np.newaxis] \n",
    "\n",
    "bc_v = np.zeros((T_steps, NX))\n",
    "bc_v[:,165:] = np.ones((T_steps, NX-165)) * bc_v_ref"
   ]
  },
  {
   "cell_type": "code",
   "execution_count": 30,
   "metadata": {},
   "outputs": [],
   "source": [
    "bc_h = mld[0].data*np.ones((T_steps,NX)) #np.tile(mld[0], (T_steps,1))\n",
    "\n",
    "ampl_h = 4.0\n",
    "bc_h[:,165:] = bc_h[:,165:] + ampl_h*np.ones_like(bc_h[:,165:])*np.sin(2*np.pi*ts_steps/freq)[:,np.newaxis]\n",
    "\n",
    "bc_hv = bc_h*bc_v\n",
    "\n",
    "bc_h = bc_h - H"
   ]
  },
  {
   "cell_type": "code",
   "execution_count": 31,
   "metadata": {},
   "outputs": [],
   "source": [
    "south = Common.SingleBoundaryConditionData(h=bc_h.astype(np.float32), hu=np.zeros((T_steps, NX), dtype=np.float32), hv=bc_hv.astype(np.float32))\n",
    "north = Common.SingleBoundaryConditionData(h=np.zeros((T_steps, NX), dtype=np.float32), hu=np.zeros((T_steps, NX), dtype=np.float32), hv=np.zeros((T_steps, NX), dtype=np.float32))\n",
    "east  = Common.SingleBoundaryConditionData(h=np.zeros((T_steps, NY), dtype=np.float32), hu=np.zeros((T_steps, NY), dtype=np.float32), hv=np.zeros((T_steps, NY), dtype=np.float32))\n",
    "west  = Common.SingleBoundaryConditionData(h=np.zeros((T_steps, NY), dtype=np.float32), hu=np.zeros((T_steps, NY), dtype=np.float32), hv=np.zeros((T_steps, NY), dtype=np.float32))\n",
    "\n",
    "data_args[\"boundary_conditions_data\"] = Common.BoundaryConditionsData(ts, north=north, south=south, east=east, west=west)"
   ]
  },
  {
   "cell_type": "markdown",
   "metadata": {},
   "source": [
    "Run simulation"
   ]
  },
  {
   "cell_type": "code",
   "execution_count": 32,
   "metadata": {},
   "outputs": [
    {
     "name": "stderr",
     "output_type": "stream",
     "text": [
      "This will give inaccurate angle along the border!\n",
      "This will give inaccurate coriolis along the border!\n"
     ]
    }
   ],
   "source": [
    "from gpuocean.SWEsimulators import CDKLM16\n",
    "sim = CDKLM16.CDKLM16(gpu_ctx, dt=0.0,  **NetCDFInitialization.removeMetadata(data_args), write_netcdf=False)"
   ]
  },
  {
   "cell_type": "code",
   "execution_count": 34,
   "metadata": {},
   "outputs": [
    {
     "data": {
      "text/plain": [
       "172800.0"
      ]
     },
     "execution_count": 34,
     "metadata": {},
     "output_type": "execute_result"
    }
   ],
   "source": [
    "sim.step(T)"
   ]
  },
  {
   "attachments": {},
   "cell_type": "markdown",
   "metadata": {},
   "source": [
    "### Barotropic Partner Sim"
   ]
  },
  {
   "cell_type": "code",
   "execution_count": 35,
   "metadata": {},
   "outputs": [],
   "source": [
    "bt_data_args = copy.deepcopy(data_args)"
   ]
  },
  {
   "cell_type": "code",
   "execution_count": 36,
   "metadata": {},
   "outputs": [],
   "source": [
    "H_m_data = nc.variables['h'][y0-1:y1+1, x0-1:x1+1]\n",
    "H_m_mask = (H_m_data == 0.0)\n",
    "H_m = np.ma.array(H_m_data, mask=H_m_mask)\n",
    "H_i = OceanographicUtilities.midpointsToIntersections(H_m, land_value=0.0, iterations=10)[0]\n",
    "\n",
    "bt_data_args[\"H\"] = np.ma.array(H_i, mask=H_i.mask.copy(), dtype=np.float32)"
   ]
  },
  {
   "cell_type": "code",
   "execution_count": 37,
   "metadata": {},
   "outputs": [],
   "source": [
    "bt_data_args[\"g\"] = 9.81"
   ]
  },
  {
   "cell_type": "code",
   "execution_count": 38,
   "metadata": {},
   "outputs": [],
   "source": [
    "bt_data_args[\"eta0\"] = np.ma.array(np.zeros_like(data_args[\"eta0\"]), mask=copy.copy(data_args[\"eta0\"].mask))"
   ]
  },
  {
   "cell_type": "code",
   "execution_count": 39,
   "metadata": {},
   "outputs": [],
   "source": [
    "ampl_v = 0.1 #Input\n",
    "freq = 12*3600 \n",
    "bc_v_ref = ampl_v * np.sin(2*np.pi*ts_steps/freq)[:,np.newaxis] \n",
    "\n",
    "bc_v = np.zeros((T_steps, NX))\n",
    "bc_v[:,165:] = np.ones((T_steps, NX-165)) * bc_v_ref"
   ]
  },
  {
   "cell_type": "code",
   "execution_count": 40,
   "metadata": {},
   "outputs": [],
   "source": [
    "bc_h = H_m[1,1:-1].data*np.ones((T_steps,NX))\n",
    "\n",
    "ampl_h = 0.15\n",
    "bc_eta = np.zeros_like(bc_h)\n",
    "bc_eta[:,165:] = ampl_h*np.ones_like(bc_h[:,165:])*np.sin(2*np.pi*ts_steps/freq)[:,np.newaxis]\n",
    "\n",
    "bc_hv = bc_h*bc_v"
   ]
  },
  {
   "cell_type": "code",
   "execution_count": 41,
   "metadata": {},
   "outputs": [],
   "source": [
    "south = Common.SingleBoundaryConditionData(h=bc_eta.astype(np.float32), hu=np.zeros((T_steps, NX), dtype=np.float32), hv=bc_hv.astype(np.float32))\n",
    "north = Common.SingleBoundaryConditionData(h=np.zeros((T_steps, NX), dtype=np.float32), hu=np.zeros((T_steps, NX), dtype=np.float32), hv=np.zeros((T_steps, NX), dtype=np.float32))\n",
    "east  = Common.SingleBoundaryConditionData(h=np.zeros((T_steps, NY), dtype=np.float32), hu=np.zeros((T_steps, NY), dtype=np.float32), hv=np.zeros((T_steps, NY), dtype=np.float32))\n",
    "west  = Common.SingleBoundaryConditionData(h=np.zeros((T_steps, NY), dtype=np.float32), hu=np.zeros((T_steps, NY), dtype=np.float32), hv=np.zeros((T_steps, NY), dtype=np.float32))\n",
    "\n",
    "bt_data_args[\"boundary_conditions_data\"] = Common.BoundaryConditionsData(ts, north=north, south=south, east=east, west=west)"
   ]
  },
  {
   "cell_type": "code",
   "execution_count": 42,
   "metadata": {},
   "outputs": [
    {
     "name": "stderr",
     "output_type": "stream",
     "text": [
      "This will give inaccurate angle along the border!\n",
      "This will give inaccurate coriolis along the border!\n"
     ]
    }
   ],
   "source": [
    "bt_sim = CDKLM16.CDKLM16(gpu_ctx, dt=0.0,  **NetCDFInitialization.removeMetadata(bt_data_args), write_netcdf=False)"
   ]
  },
  {
   "cell_type": "code",
   "execution_count": 43,
   "metadata": {},
   "outputs": [
    {
     "data": {
      "text/plain": [
       "172800.0"
      ]
     },
     "execution_count": 43,
     "metadata": {},
     "output_type": "execute_result"
    }
   ],
   "source": [
    "bt_sim.step(T)"
   ]
  },
  {
   "cell_type": "code",
   "execution_count": null,
   "metadata": {},
   "outputs": [],
   "source": []
  }
 ],
 "metadata": {
  "kernelspec": {
   "display_name": "gpuocean_opendrift",
   "language": "python",
   "name": "python3"
  },
  "language_info": {
   "codemirror_mode": {
    "name": "ipython",
    "version": 3
   },
   "file_extension": ".py",
   "mimetype": "text/x-python",
   "name": "python",
   "nbconvert_exporter": "python",
   "pygments_lexer": "ipython3",
   "version": "3.7.12"
  },
  "orig_nbformat": 4,
  "vscode": {
   "interpreter": {
    "hash": "136d62b6baec2e13b94e215094799f4deb1cc3eb095791a22508b56a9ed7e027"
   }
  }
 },
 "nbformat": 4,
 "nbformat_minor": 2
}
