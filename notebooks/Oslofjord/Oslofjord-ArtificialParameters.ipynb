{
 "cells": [
  {
   "cell_type": "markdown",
   "metadata": {},
   "source": [
    "```\n",
    "This notebook sets up and runs a test case for analyzing Kelvin waves\n",
    "Copyright (C) 2018 - 2022 SINTEF Digital\n",
    "Copyright (C) 2018 - 2022 Norwegian Meteorological Institute\n",
    "\n",
    "This program is free software: you can redistribute it and/or modify\n",
    "it under the terms of the GNU General Public License as published by\n",
    "the Free Software Foundation, either version 3 of the License, or\n",
    "(at your option) any later version.\n",
    "\n",
    "This program is distributed in the hope that it will be useful,\n",
    "but WITHOUT ANY WARRANTY; without even the implied warranty of\n",
    "MERCHANTABILITY or FITNESS FOR A PARTICULAR PURPOSE.  See the\n",
    "GNU General Public License for more details.\n",
    "\n",
    "You should have received a copy of the GNU General Public License\n",
    "along with this program.  If not, see <http://www.gnu.org/licenses/>.\n",
    "```"
   ]
  },
  {
   "cell_type": "code",
   "execution_count": null,
   "metadata": {},
   "outputs": [],
   "source": [
    "import sys\n",
    "gpuocean_path = [p[:-4] for p in sys.path if p.endswith(\"gpuocean/src\")][0]\n",
    "import git\n",
    "repo = git.Repo(gpuocean_path)\n",
    "print(\"GPUOcean code from:\", repo.head.object.hexsha, \"on branch\", repo.active_branch.name)"
   ]
  },
  {
   "cell_type": "markdown",
   "metadata": {},
   "source": [
    "# Oslofjord\n",
    "Testing of Nils projected files"
   ]
  },
  {
   "cell_type": "code",
   "execution_count": null,
   "metadata": {},
   "outputs": [],
   "source": [
    "#Lets have matplotlib \"inline\"\n",
    "%matplotlib inline\n",
    "\n",
    "import os\n",
    "import sys\n",
    "\n",
    "#Import packages we need\n",
    "import numpy as np\n",
    "from netCDF4 import Dataset\n",
    "import datetime, copy\n",
    "from IPython.display import display\n",
    "\n",
    "#For plotting\n",
    "import matplotlib\n",
    "from matplotlib import pyplot as plt\n",
    "\n",
    "plt.rcParams[\"lines.color\"] = \"w\"\n",
    "plt.rcParams[\"text.color\"] = \"w\"\n",
    "plt.rcParams[\"axes.labelcolor\"] = \"w\"\n",
    "plt.rcParams[\"xtick.color\"] = \"w\"\n",
    "plt.rcParams[\"ytick.color\"] = \"w\"\n",
    "\n",
    "plt.rcParams[\"image.origin\"] = \"lower\""
   ]
  },
  {
   "cell_type": "code",
   "execution_count": null,
   "metadata": {},
   "outputs": [],
   "source": [
    "from gpuocean.utils import IPythonMagic, NetCDFInitialization"
   ]
  },
  {
   "cell_type": "code",
   "execution_count": null,
   "metadata": {},
   "outputs": [],
   "source": [
    "%cuda_context_handler gpu_ctx"
   ]
  },
  {
   "cell_type": "markdown",
   "metadata": {},
   "source": [
    "Path to the test file"
   ]
  },
  {
   "cell_type": "code",
   "execution_count": null,
   "metadata": {},
   "outputs": [],
   "source": [
    "source_url = \"/sintef/data/OsloFjord/test_polstere_1h_0007.nc\""
   ]
  },
  {
   "cell_type": "markdown",
   "metadata": {},
   "source": [
    "## Inspecting file structure and content"
   ]
  },
  {
   "cell_type": "code",
   "execution_count": null,
   "metadata": {},
   "outputs": [],
   "source": [
    "import xarray as xr\n",
    "ds = xr.open_dataset(source_url)\n",
    "ds"
   ]
  },
  {
   "cell_type": "code",
   "execution_count": null,
   "metadata": {},
   "outputs": [],
   "source": [
    "from netCDF4 import Dataset\n",
    "nc = Dataset(source_url)\n",
    "\n",
    "H_m = np.ma.array(nc[\"h\"][1:-1,1:-1], mask=(1-nc[\"mask_rho\"][1:-1,1:-1]))\n",
    "\n",
    "fig, ax = plt.subplots()\n",
    "fig.suptitle(\"Bathymetry\")\n",
    "\n",
    "cmap = plt.cm.Blues\n",
    "cmap.set_bad(\"grey\", alpha = 1.0)\n",
    "im = ax.imshow(H_m, cmap=cmap)\n",
    "\n",
    "plt.colorbar(im, ax=ax)\n",
    "plt.tight_layout()"
   ]
  },
  {
   "cell_type": "markdown",
   "metadata": {},
   "source": [
    "Animation utils"
   ]
  },
  {
   "cell_type": "code",
   "execution_count": null,
   "metadata": {},
   "outputs": [],
   "source": [
    "import animation_utils"
   ]
  },
  {
   "cell_type": "markdown",
   "metadata": {},
   "source": [
    "## Generating GPUOcean Simulation from Input"
   ]
  },
  {
   "cell_type": "code",
   "execution_count": null,
   "metadata": {},
   "outputs": [],
   "source": [
    "data_args = {}"
   ]
  },
  {
   "cell_type": "code",
   "execution_count": null,
   "metadata": {},
   "outputs": [],
   "source": [
    "dimY, dimX = ds.h.data.shape"
   ]
  },
  {
   "cell_type": "code",
   "execution_count": null,
   "metadata": {},
   "outputs": [],
   "source": [
    "x0, x1, y0, y1 = 5, dimX-5, 175, dimY-5"
   ]
  },
  {
   "cell_type": "code",
   "execution_count": null,
   "metadata": {},
   "outputs": [],
   "source": [
    "import pyproj\n",
    "proj_str = nc[\"projection\"].proj4\n",
    "\n",
    "proj = pyproj.Proj(proj_str)\n",
    "\n",
    "lat_rho = nc.variables['lat_rho'][y0:y1, x0:x1]\n",
    "lon_rho = nc.variables['lon_rho'][y0:y1, x0:x1]\n",
    "x_rho, y_rho = proj(lon_rho, lat_rho, inverse = False)\n",
    "x, y = x_rho[0], y_rho[:,0]\n",
    "\n",
    "data_args['nx'] = (x1-x0)-4\n",
    "data_args['ny'] = (y1-y0)-4\n",
    "\n",
    "NX = data_args[\"nx\"]+4\n",
    "NY = data_args[\"ny\"]+4\n",
    "\n",
    "data_args['dx'] = np.average(x[1:] - x[:-1])\n",
    "data_args['dy'] = np.average(y[1:] - y[:-1])"
   ]
  },
  {
   "cell_type": "code",
   "execution_count": null,
   "metadata": {},
   "outputs": [],
   "source": [
    "data_args[\"dx\"], data_args[\"dy\"]"
   ]
  },
  {
   "cell_type": "code",
   "execution_count": null,
   "metadata": {},
   "outputs": [],
   "source": [
    "data_args[\"t\"] = np.float32(nc[\"ocean_time\"][11].data)\n",
    "print(\"Simulation start time = \" + str(datetime.datetime.utcfromtimestamp(data_args[\"t\"]).strftime('%Y-%m-%d %H:%M:%S')))"
   ]
  },
  {
   "cell_type": "code",
   "execution_count": null,
   "metadata": {},
   "outputs": [],
   "source": [
    "data_args['angle'] = nc[\"angle\"][y0:y1, x0:x1]\n",
    "from gpuocean.utils import OceanographicUtilities\n",
    "data_args['latitude'] = OceanographicUtilities.degToRad(lat_rho)\n",
    "data_args[\"f\"] = 0.0"
   ]
  },
  {
   "cell_type": "markdown",
   "metadata": {},
   "source": [
    "Check Mixed-Layer Depth"
   ]
  },
  {
   "cell_type": "code",
   "execution_count": null,
   "metadata": {},
   "outputs": [],
   "source": [
    "t=5*24 + 11 # INPUT"
   ]
  },
  {
   "cell_type": "code",
   "execution_count": null,
   "metadata": {},
   "outputs": [],
   "source": [
    "mld = NetCDFInitialization.MLD(source_url, 1024, min_mld=1.5, max_mld=40, x0=x0, x1=x1, y0=y0, y1=y1, t=t)\n",
    "backup_mld = copy.deepcopy(mld)"
   ]
  },
  {
   "cell_type": "code",
   "execution_count": null,
   "metadata": {},
   "outputs": [],
   "source": [
    "# FIXME!!!\n",
    "# mld = NetCDFInitialization.correct_coastal_MLD(mld, source_url, coords=[x0,x1,y0,y1], rel_tol=0.25, abs_tol=1, land_value=0.0)\n",
    "\n",
    "mld = NetCDFInitialization.fill_coastal_data(mld)"
   ]
  },
  {
   "cell_type": "markdown",
   "metadata": {},
   "source": [
    "#### Baroclinic model"
   ]
  },
  {
   "cell_type": "code",
   "execution_count": null,
   "metadata": {},
   "outputs": [],
   "source": [
    "H = 0.0"
   ]
  },
  {
   "cell_type": "code",
   "execution_count": null,
   "metadata": {},
   "outputs": [],
   "source": [
    "H_m_data = nc.variables['h'][y0-1:y1+1, x0-1:x1+1]\n",
    "H_m_mask = (H_m_data == 0.0)\n",
    "H_m = np.ma.array(H_m_data, mask=H_m_mask)\n",
    "H_i = OceanographicUtilities.midpointsToIntersections(H_m, land_value=0.0, iterations=10)[0]\n",
    "\n",
    "data_args[\"H\"] = np.ma.array(H*np.ones_like(H_i), mask=H_i.mask.copy(), dtype=np.float32)"
   ]
  },
  {
   "cell_type": "markdown",
   "metadata": {},
   "source": [
    "ML integrated data"
   ]
  },
  {
   "cell_type": "code",
   "execution_count": null,
   "metadata": {},
   "outputs": [],
   "source": [
    "ml_integrator = NetCDFInitialization.MLD_integrator(source_url, mld, x0=x0, x1=x1, y0=y0, y1=y1)"
   ]
  },
  {
   "cell_type": "code",
   "execution_count": null,
   "metadata": {},
   "outputs": [],
   "source": [
    "nc = Dataset(source_url)\n",
    "u0 = nc.variables['u'][t, :, y0:y1, x0:x1+1]\n",
    "v0 = nc.variables['v'][t, :, y0:y1+1, x0:x1]\n",
    "#Find u,v at cell centers\n",
    "u0 = u0.filled(fill_value = 0.0)\n",
    "v0 = v0.filled(fill_value = 0.0)\n",
    "\n",
    "u0 = (u0[:, :,1:] + u0[:, :, :-1]) * 0.5\n",
    "v0 = (v0[:, 1:,:] + v0[:, :-1, :]) * 0.5\n",
    "\n",
    "data_args[\"eta0\"] = mld\n",
    "data_args[\"hu0\"] = np.sum(ml_integrator * u0, axis=0)\n",
    "data_args[\"hv0\"] = np.sum(ml_integrator * v0, axis=0)"
   ]
  },
  {
   "cell_type": "code",
   "execution_count": null,
   "metadata": {},
   "outputs": [],
   "source": [
    "s_pot_densities = NetCDFInitialization.potentialDensities(source_url, t=t, x0=x0, x1=x1, y0=y0, y1=y1)\n",
    "ml_pot_density = np.average(np.sum(ml_integrator * s_pot_densities, axis=0)/np.sum(ml_integrator, axis=0)) #NOTE: np.sum(integrator, axis=0)) = mld\n",
    "\n",
    "inverse_integrator = np.ma.array(np.ones_like(ml_integrator), mask=ml_integrator.mask.copy()) - ml_integrator\n",
    "deep_pot_density  = np.average(np.sum(inverse_integrator * s_pot_densities, axis=0)/np.sum(inverse_integrator, axis=0))\n",
    "\n",
    "eps = (deep_pot_density - ml_pot_density)/deep_pot_density\n",
    "\n",
    "data_args[\"g\"] = eps * 9.81\n",
    "data_args[\"g\"]"
   ]
  },
  {
   "cell_type": "markdown",
   "metadata": {},
   "source": [
    "Artifical data"
   ]
  },
  {
   "cell_type": "code",
   "execution_count": null,
   "metadata": {},
   "outputs": [],
   "source": [
    "mld = np.ma.array( 10.0*np.ones_like(mld), mask=copy.copy(mld.mask) )\n",
    "\n",
    "data_args[\"eta0\"] = np.ma.array(mld.data - H, mask=copy.copy(mld.mask))"
   ]
  },
  {
   "cell_type": "code",
   "execution_count": 50,
   "metadata": {},
   "outputs": [],
   "source": [
    "init_mld_south = 2.5\n",
    "init_mld_north = 7.5\n",
    "\n",
    "mld.data[0:430] = init_mld_south*np.ones((430,mld.shape[1])) + (init_mld_north - init_mld_south)*np.ones((430,mld.shape[1]))*np.arange(0,1,1/430)[:,np.newaxis]\n",
    "mld.data[430:] = init_mld_north\n",
    "mld.data[:,235:] = init_mld_north\n",
    "mld = NetCDFInitialization.fill_coastal_data(mld)\n",
    "\n",
    "data_args[\"eta0\"] = np.ma.array(mld.data - H, mask=copy.copy(mld.mask))"
   ]
  },
  {
   "cell_type": "code",
   "execution_count": null,
   "metadata": {},
   "outputs": [],
   "source": [
    "# Starting from lake at rest\n",
    "data_args[\"hu0\"] = np.ma.array(np.zeros_like(mld), mask=copy.copy(mld.mask))\n",
    "data_args[\"hv0\"] = np.ma.array(np.zeros_like(mld), mask=copy.copy(mld.mask))"
   ]
  },
  {
   "cell_type": "code",
   "execution_count": null,
   "metadata": {},
   "outputs": [],
   "source": [
    "data_args[\"g\"] = 0.01"
   ]
  },
  {
   "cell_type": "code",
   "execution_count": null,
   "metadata": {},
   "outputs": [],
   "source": [
    "data_args[\"r\"] = 3.0e-3"
   ]
  },
  {
   "cell_type": "markdown",
   "metadata": {},
   "source": [
    "Set-up osciallating BC"
   ]
  },
  {
   "cell_type": "code",
   "execution_count": null,
   "metadata": {},
   "outputs": [],
   "source": [
    "T = 5*24*3600  #Input"
   ]
  },
  {
   "cell_type": "code",
   "execution_count": null,
   "metadata": {},
   "outputs": [],
   "source": [
    "from gpuocean.utils import Common"
   ]
  },
  {
   "cell_type": "code",
   "execution_count": null,
   "metadata": {},
   "outputs": [],
   "source": [
    "data_args['boundary_conditions'] = Common.BoundaryConditions(north=3, south=3, east=3, west=3, spongeCells={'north':20, 'south': 20, 'east': 20, 'west': 20})"
   ]
  },
  {
   "cell_type": "code",
   "execution_count": null,
   "metadata": {},
   "outputs": [],
   "source": [
    "plt.plot(np.arange(0,mld.shape[1]),mld[0].filled(0.0))\n",
    "plt.axvline(x=165, c=\"red\")"
   ]
  },
  {
   "cell_type": "code",
   "execution_count": null,
   "metadata": {},
   "outputs": [],
   "source": [
    "t_step = 3600\n",
    "T_steps = int(np.ceil(T/t_step)+1)\n",
    "\n",
    "ts = data_args[\"t\"] + np.arange(0, T+1, step=t_step)"
   ]
  },
  {
   "cell_type": "code",
   "execution_count": null,
   "metadata": {},
   "outputs": [],
   "source": [
    "ampl_v = 0.3 #Input\n",
    "freq = 12*3600 \n",
    "bc_v_ref = ampl_v * np.cos(2*np.pi*ts/freq)[:,np.newaxis] \n",
    "\n",
    "bc_v = np.zeros((T_steps, NX))\n",
    "bc_v[:,165:] = np.ones((T_steps, NX-165)) * bc_v_ref"
   ]
  },
  {
   "cell_type": "code",
   "execution_count": null,
   "metadata": {},
   "outputs": [],
   "source": [
    "plt.title(\"current forcing from the south boundary\")\n",
    "plt.plot(((ts-ts[0])/3600),bc_v[:,170])\n",
    "plt.xlabel(\"time [h]\")\n",
    "plt.ylabel(\"u [m^2/s]\")"
   ]
  },
  {
   "cell_type": "code",
   "execution_count": null,
   "metadata": {},
   "outputs": [],
   "source": [
    "bc_h = mld[0].data*np.ones((T_steps,NX)) #np.tile(mld[0], (T_steps,1))\n",
    "\n",
    "ampl_h = 3.0\n",
    "bc_h[:,165:] = bc_h[:,165:] + ampl_h*np.ones_like(bc_h[:,165:])*np.cos(2*np.pi*ts/freq)[:,np.newaxis]\n",
    "\n",
    "bc_hv = bc_h*bc_v\n",
    "\n",
    "bc_h = bc_h - H\n",
    "\n",
    "south = Common.SingleBoundaryConditionData(h=bc_h.astype(np.float32), hu=np.zeros((T_steps, NX), dtype=np.float32), hv=bc_hv.astype(np.float32))\n",
    "north = Common.SingleBoundaryConditionData(h=np.zeros((T_steps, NX), dtype=np.float32), hu=np.zeros((T_steps, NX), dtype=np.float32), hv=np.zeros((T_steps, NX), dtype=np.float32))\n",
    "east  = Common.SingleBoundaryConditionData(h=np.zeros((T_steps, NY), dtype=np.float32), hu=np.zeros((T_steps, NY), dtype=np.float32), hv=np.zeros((T_steps, NY), dtype=np.float32))\n",
    "west  = Common.SingleBoundaryConditionData(h=np.zeros((T_steps, NY), dtype=np.float32), hu=np.zeros((T_steps, NY), dtype=np.float32), hv=np.zeros((T_steps, NY), dtype=np.float32))\n",
    "\n",
    "data_args[\"boundary_conditions_data\"] = Common.BoundaryConditionsData(ts, north=north, south=south, east=east, west=west)"
   ]
  },
  {
   "attachments": {},
   "cell_type": "markdown",
   "metadata": {},
   "source": [
    "Wind forcing"
   ]
  },
  {
   "cell_type": "code",
   "execution_count": null,
   "metadata": {},
   "outputs": [],
   "source": [
    "wind_u_ref = np.zeros(24)\n",
    "wind_u_ref[:10] = -0.5*(np.sin(2*np.pi*(np.arange(0,10)-2.5)/10)+1)\n",
    "wind_u_ref[10:] = 5*(np.sin(2*np.pi*(np.arange(10,24)+0.5)/14)+1)\n",
    "\n",
    "plt.title(\"Wind in y-direction\")\n",
    "plt.plot(wind_u_ref)\n",
    "plt.xlabel(\"hours in day\")\n",
    "plt.ylabel(\"wind speed [m/s]\")"
   ]
  },
  {
   "cell_type": "code",
   "execution_count": null,
   "metadata": {},
   "outputs": [],
   "source": [
    "wind_angle = np.deg2rad(45.0)\n",
    "\n",
    "wind_u = (np.int32(np.ceil((T_steps)/24)) * list(np.cos(wind_angle)*wind_u_ref[:,np.newaxis][:,np.newaxis].astype(np.float32)))[0:len(ts)]\n",
    "wind_v = (len(wind_u) *list(np.sin(wind_angle)*wind_u_ref[:,np.newaxis][:,np.newaxis].astype(np.float32)))[0:len(ts)]"
   ]
  },
  {
   "cell_type": "code",
   "execution_count": null,
   "metadata": {},
   "outputs": [],
   "source": [
    "from gpuocean.utils import WindStress\n",
    "wind = WindStress.WindStress(t=ts, wind_u=wind_v, wind_v=wind_u)\n",
    "wind.compute_wind_stress_from_wind()"
   ]
  },
  {
   "cell_type": "markdown",
   "metadata": {},
   "source": [
    "New Wind Stress?"
   ]
  },
  {
   "cell_type": "code",
   "execution_count": null,
   "metadata": {},
   "outputs": [],
   "source": [
    "# zref  = 10.0\n",
    "# kappa = 0.4 #https://en.wikipedia.org/wiki/Von_K%C3%A1rm%C3%A1n_constant\n",
    "# z0min = 1.5e-5\n",
    "# beta  = 0.018\n",
    "# g     = 0.01\n",
    "# rhoa  = 1.2923 # Reference density of dry air\n",
    "# B     = beta/g\n",
    "# taux  = []\n",
    "# tauy  = []\n",
    "\n",
    "# CORR = 0.1\n",
    "# print(\"THE WIND SPEEDS WERE SCALED BY \", CORR)\n",
    "\n",
    "# for i in range(0,len(wind_u)):\n",
    "#     vind   = ( np.array(CORR*wind_u[i])**2 + np.array(CORR*wind_v[i])**2)**0.5\n",
    "#     us2    = np.ones_like(vind)*0.1\n",
    "#     z0     = np.ones((2,vind.shape[0],vind.shape[1]),dtype=np.float32)*z0min\n",
    "#     us2min = 1e-3\n",
    "#     us2old = us2*0.0\n",
    "#     n = 0\n",
    "#     while ( max( abs(np.min(us2 - us2old)),abs(np.max( us2 - us2old ))) > us2min):\n",
    "#         n+=1\n",
    "#         us2old    = us2\n",
    "#         z0[0,:,:] = B*us2\n",
    "#         us2       = ((kappa*vind)/(np.log(zref/np.max(z0,0))))**2\n",
    "#     vind = np.where(vind<0.1, 0.1, vind)\n",
    "#     #\n",
    "#     taux.append(rhoa*us2*np.array(CORR*wind_u[i])/vind)\n",
    "#     tauy.append(rhoa*us2*np.array(CORR*wind_v[i])[:,:]/vind)"
   ]
  },
  {
   "cell_type": "code",
   "execution_count": null,
   "metadata": {},
   "outputs": [],
   "source": [
    "# plt.plot(np.array(wind.stress_v).flatten()[0:24], label=\"gpuocean\")\n",
    "# plt.plot(np.array(taux).flatten()[0:24], label=\"Hiram - wrong scaling?\")\n",
    "# plt.title(\"Wind Stress from wind\")\n",
    "# plt.legend(labelcolor=\"black\")\n"
   ]
  },
  {
   "cell_type": "code",
   "execution_count": null,
   "metadata": {},
   "outputs": [],
   "source": [
    "from gpuocean.utils import WindStress\n",
    "data_args[\"wind\"] = WindStress.WindStress(t=[0],stress_u=[np.array([[0.0]], dtype=np.float32)],stress_v=[np.array([[0.0]], dtype=np.float32)])"
   ]
  },
  {
   "cell_type": "code",
   "execution_count": 55,
   "metadata": {},
   "outputs": [
    {
     "data": {
      "text/plain": [
       "<matplotlib.legend.Legend at 0x7ff67e1ac150>"
      ]
     },
     "execution_count": 55,
     "metadata": {},
     "output_type": "execute_result"
    },
    {
     "data": {
      "image/png": "[encoded data removed]",
      "text/plain": [
       "<Figure size 432x288 with 1 Axes>"
      ]
     },
     "metadata": {
      "needs_background": "dark"
     },
     "output_type": "display_data"
    }
   ],
   "source": [
    "wind_scaling = 1e-5\n",
    "\n",
    "wind_stress_u = copy.deepcopy(wind_u)\n",
    "wind_stress_v = copy.deepcopy(wind_v)\n",
    "for t_idx in range(len(wind_stress_u)):\n",
    "    wind_stress_u[t_idx] = wind_scaling*wind_stress_u[t_idx]\n",
    "    wind_stress_v[t_idx] = wind_scaling*wind_stress_v[t_idx]\n",
    "\n",
    "data_args[\"wind\"] = WindStress.WindStress(t=ts, stress_u=wind_stress_v, stress_v=wind_stress_u)\n",
    "\n",
    "plt.plot(np.array(wind_stress_u).flatten()[0:24], label=\"artificial MLD wind stress\")\n",
    "plt.plot(np.array(wind.stress_v).flatten()[0:24], label=\"gpuocean wind stress\")\n",
    "plt.legend(labelcolor=\"black\")"
   ]
  },
  {
   "cell_type": "markdown",
   "metadata": {},
   "source": [
    "Run simulation"
   ]
  },
  {
   "cell_type": "code",
   "execution_count": 56,
   "metadata": {},
   "outputs": [
    {
     "name": "stderr",
     "output_type": "stream",
     "text": [
      "This will give inaccurate angle along the border!\n",
      "This will give inaccurate coriolis along the border!\n"
     ]
    },
    {
     "name": "stdout",
     "output_type": "stream",
     "text": [
      "Closing file /home/florianb/havvarsel/reduced-gravity-ocean-model/notebooks/Oslofjord/netcdf_2023_01_13/CDKLM16_2023_01_13-10_32_35.nc ...\n"
     ]
    }
   ],
   "source": [
    "from gpuocean.SWEsimulators import CDKLM16\n",
    "sim = CDKLM16.CDKLM16(gpu_ctx, dt=0.0,  **NetCDFInitialization.removeMetadata(data_args), write_netcdf=True)"
   ]
  },
  {
   "cell_type": "code",
   "execution_count": 57,
   "metadata": {},
   "outputs": [],
   "source": [
    "subt = 3600\n",
    "for runt in range(int(T/subt)):#range(len(ds.ocean_time)):\n",
    "    sim.step(subt)\n",
    "\n",
    "if runt*subt > T:\n",
    "    print(\"Boundary conditions too short!\")"
   ]
  },
  {
   "cell_type": "code",
   "execution_count": 59,
   "metadata": {},
   "outputs": [
    {
     "name": "stderr",
     "output_type": "stream",
     "text": [
      "/home/florianb/miniconda3/envs/gpuocean_opendrift/lib/python3.7/site-packages/numpy/ma/core.py:1158: RuntimeWarning: overflow encountered in true_divide\n",
      "  result = self.f(da, db, *args, **kwargs)\n",
      "/home/florianb/miniconda3/envs/gpuocean_opendrift/lib/python3.7/site-packages/numpy/ma/core.py:1015: RuntimeWarning: overflow encountered in multiply\n",
      "  result = self.f(da, db, *args, **kwargs)\n"
     ]
    }
   ],
   "source": [
    "with plt.rc_context({'lines.color':'black', \n",
    "                        'text.color':'black', \n",
    "                        'axes.labelcolor':'black', \n",
    "                        'xtick.color':'black',\n",
    "                        'ytick.color':'black'}):\n",
    "    anim = animation_utils.ncAnimation(sim.sim_writer.output_file_name, \"gpuocean-reduced_grav\", comment=\"GPUOcean\")\n",
    "    anim.save(\"anims/GPUOceanSimulation-latest.mp4\")"
   ]
  },
  {
   "cell_type": "code",
   "execution_count": null,
   "metadata": {},
   "outputs": [],
   "source": [
    "# with plt.rc_context({'lines.color':'black', \n",
    "#                         'text.color':'black', \n",
    "#                         'axes.labelcolor':'black', \n",
    "#                         'xtick.color':'black',\n",
    "#                         'ytick.color':'black'}):\n",
    "#     anim = animation_utils.ncAnimation(sim.sim_writer.output_file_name, \"gpuocean-reduced_grav\", comment=\"GPUOcean\")\n",
    "#     anim.save(\"anims/GPUOceanSimulation-FjordOSInit+all.mp4\")"
   ]
  },
  {
   "cell_type": "code",
   "execution_count": null,
   "metadata": {},
   "outputs": [],
   "source": [
    "sim.g"
   ]
  }
 ],
 "metadata": {
  "kernelspec": {
   "display_name": "Python 3.7.12 ('gpuocean_opendrift')",
   "language": "python",
   "name": "python3"
  },
  "language_info": {
   "codemirror_mode": {
    "name": "ipython",
    "version": 3
   },
   "file_extension": ".py",
   "mimetype": "text/x-python",
   "name": "python",
   "nbconvert_exporter": "python",
   "pygments_lexer": "ipython3",
   "version": "3.7.12"
  },
  "orig_nbformat": 4,
  "vscode": {
   "interpreter": {
    "hash": "3048633266a8aca5c85f16c1ee57ccad146141feb66febf24dcb8304467d1440"
   }
  }
 },
 "nbformat": 4,
 "nbformat_minor": 2
}
