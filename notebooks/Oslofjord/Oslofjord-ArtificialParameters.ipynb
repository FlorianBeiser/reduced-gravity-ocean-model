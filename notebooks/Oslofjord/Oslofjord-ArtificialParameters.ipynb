{
 "cells": [
  {
   "cell_type": "markdown",
   "metadata": {},
   "source": [
    "```\n",
    "This notebook sets up and runs a test case for analyzing Kelvin waves\n",
    "Copyright (C) 2018 - 2022 SINTEF Digital\n",
    "Copyright (C) 2018 - 2022 Norwegian Meteorological Institute\n",
    "\n",
    "This program is free software: you can redistribute it and/or modify\n",
    "it under the terms of the GNU General Public License as published by\n",
    "the Free Software Foundation, either version 3 of the License, or\n",
    "(at your option) any later version.\n",
    "\n",
    "This program is distributed in the hope that it will be useful,\n",
    "but WITHOUT ANY WARRANTY; without even the implied warranty of\n",
    "MERCHANTABILITY or FITNESS FOR A PARTICULAR PURPOSE.  See the\n",
    "GNU General Public License for more details.\n",
    "\n",
    "You should have received a copy of the GNU General Public License\n",
    "along with this program.  If not, see <http://www.gnu.org/licenses/>.\n",
    "```"
   ]
  },
  {
   "cell_type": "code",
   "execution_count": null,
   "metadata": {},
   "outputs": [],
   "source": [
    "import sys\n",
    "gpuocean_path = [p[:-4] for p in sys.path if p.endswith(\"gpuocean/src\")][0]\n",
    "import git\n",
    "repo = git.Repo(gpuocean_path)\n",
    "print(\"GPUOcean code from:\", repo.head.object.hexsha, \"on branch\", repo.active_branch.name)"
   ]
  },
  {
   "cell_type": "markdown",
   "metadata": {},
   "source": [
    "# Oslofjord\n",
    "Testing of Nils projected files"
   ]
  },
  {
   "cell_type": "code",
   "execution_count": 1,
   "metadata": {},
   "outputs": [],
   "source": [
    "#Lets have matplotlib \"inline\"\n",
    "%matplotlib inline\n",
    "\n",
    "import os\n",
    "import sys\n",
    "\n",
    "#Import packages we need\n",
    "import numpy as np\n",
    "from netCDF4 import Dataset\n",
    "import datetime, copy\n",
    "from IPython.display import display\n",
    "\n",
    "#For plotting\n",
    "import matplotlib\n",
    "from matplotlib import pyplot as plt\n",
    "\n",
    "plt.rcParams[\"lines.color\"] = \"w\"\n",
    "plt.rcParams[\"text.color\"] = \"w\"\n",
    "plt.rcParams[\"axes.labelcolor\"] = \"w\"\n",
    "plt.rcParams[\"xtick.color\"] = \"w\"\n",
    "plt.rcParams[\"ytick.color\"] = \"w\"\n",
    "\n",
    "plt.rcParams[\"image.origin\"] = \"lower\""
   ]
  },
  {
   "cell_type": "code",
   "execution_count": 2,
   "metadata": {},
   "outputs": [],
   "source": [
    "from gpuocean.utils import IPythonMagic, NetCDFInitialization"
   ]
  },
  {
   "cell_type": "code",
   "execution_count": 3,
   "metadata": {},
   "outputs": [],
   "source": [
    "%cuda_context_handler gpu_ctx"
   ]
  },
  {
   "cell_type": "markdown",
   "metadata": {},
   "source": [
    "Path to the test file"
   ]
  },
  {
   "cell_type": "code",
   "execution_count": 4,
   "metadata": {},
   "outputs": [],
   "source": [
    "source_url = \"/sintef/data/OsloFjord/test_polstere_1h_0007.nc\""
   ]
  },
  {
   "cell_type": "markdown",
   "metadata": {},
   "source": [
    "## Inspecting file structure and content"
   ]
  },
  {
   "cell_type": "code",
   "execution_count": 5,
   "metadata": {},
   "outputs": [
    {
     "data": {
      "text/html": [
       "<div><svg style=\"position: absolute; width: 0; height: 0; overflow: hidden\">\n",
       "<defs>\n",
       "<symbol id=\"icon-database\" viewBox=\"0 0 32 32\">\n",
       "<path d=\"M16 0c-8.837 0-16 2.239-16 5v4c0 2.761 7.163 5 16 5s16-2.239 16-5v-4c0-2.761-7.163-5-16-5z\"></path>\n",
       "<path d=\"M16 17c-8.837 0-16-2.239-16-5v6c0 2.761 7.163 5 16 5s16-2.239 16-5v-6c0 2.761-7.163 5-16 5z\"></path>\n",
       "<path d=\"M16 26c-8.837 0-16-2.239-16-5v6c0 2.761 7.163 5 16 5s16-2.239 16-5v-6c0 2.761-7.163 5-16 5z\"></path>\n",
       "</symbol>\n",
       "<symbol id=\"icon-file-text2\" viewBox=\"0 0 32 32\">\n",
       "<path d=\"M28.681 7.159c-0.694-0.947-1.662-2.053-2.724-3.116s-2.169-2.030-3.116-2.724c-1.612-1.182-2.393-1.319-2.841-1.319h-15.5c-1.378 0-2.5 1.121-2.5 2.5v27c0 1.378 1.122 2.5 2.5 2.5h23c1.378 0 2.5-1.122 2.5-2.5v-19.5c0-0.448-0.137-1.23-1.319-2.841zM24.543 5.457c0.959 0.959 1.712 1.825 2.268 2.543h-4.811v-4.811c0.718 0.556 1.584 1.309 2.543 2.268zM28 29.5c0 0.271-0.229 0.5-0.5 0.5h-23c-0.271 0-0.5-0.229-0.5-0.5v-27c0-0.271 0.229-0.5 0.5-0.5 0 0 15.499-0 15.5 0v7c0 0.552 0.448 1 1 1h7v19.5z\"></path>\n",
       "<path d=\"M23 26h-14c-0.552 0-1-0.448-1-1s0.448-1 1-1h14c0.552 0 1 0.448 1 1s-0.448 1-1 1z\"></path>\n",
       "<path d=\"M23 22h-14c-0.552 0-1-0.448-1-1s0.448-1 1-1h14c0.552 0 1 0.448 1 1s-0.448 1-1 1z\"></path>\n",
       "<path d=\"M23 18h-14c-0.552 0-1-0.448-1-1s0.448-1 1-1h14c0.552 0 1 0.448 1 1s-0.448 1-1 1z\"></path>\n",
       "</symbol>\n",
       "</defs>\n",
       "</svg>\n",
       "<style>/* CSS stylesheet for displaying xarray objects in jupyterlab.\n",
       " *\n",
       " */\n",
       "\n",
       ":root {\n",
       "  --xr-font-color0: var(--jp-content-font-color0, rgba(0, 0, 0, 1));\n",
       "  --xr-font-color2: var(--jp-content-font-color2, rgba(0, 0, 0, 0.54));\n",
       "  --xr-font-color3: var(--jp-content-font-color3, rgba(0, 0, 0, 0.38));\n",
       "  --xr-border-color: var(--jp-border-color2, #e0e0e0);\n",
       "  --xr-disabled-color: var(--jp-layout-color3, #bdbdbd);\n",
       "  --xr-background-color: var(--jp-layout-color0, white);\n",
       "  --xr-background-color-row-even: var(--jp-layout-color1, white);\n",
       "  --xr-background-color-row-odd: var(--jp-layout-color2, #eeeeee);\n",
       "}\n",
       "\n",
       "html[theme=dark],\n",
       "body.vscode-dark {\n",
       "  --xr-font-color0: rgba(255, 255, 255, 1);\n",
       "  --xr-font-color2: rgba(255, 255, 255, 0.54);\n",
       "  --xr-font-color3: rgba(255, 255, 255, 0.38);\n",
       "  --xr-border-color: #1F1F1F;\n",
       "  --xr-disabled-color: #515151;\n",
       "  --xr-background-color: #111111;\n",
       "  --xr-background-color-row-even: #111111;\n",
       "  --xr-background-color-row-odd: #313131;\n",
       "}\n",
       "\n",
       ".xr-wrap {\n",
       "  display: block !important;\n",
       "  min-width: 300px;\n",
       "  max-width: 700px;\n",
       "}\n",
       "\n",
       ".xr-text-repr-fallback {\n",
       "  /* fallback to plain text repr when CSS is not injected (untrusted notebook) */\n",
       "  display: none;\n",
       "}\n",
       "\n",
       ".xr-header {\n",
       "  padding-top: 6px;\n",
       "  padding-bottom: 6px;\n",
       "  margin-bottom: 4px;\n",
       "  border-bottom: solid 1px var(--xr-border-color);\n",
       "}\n",
       "\n",
       ".xr-header > div,\n",
       ".xr-header > ul {\n",
       "  display: inline;\n",
       "  margin-top: 0;\n",
       "  margin-bottom: 0;\n",
       "}\n",
       "\n",
       ".xr-obj-type,\n",
       ".xr-array-name {\n",
       "  margin-left: 2px;\n",
       "  margin-right: 10px;\n",
       "}\n",
       "\n",
       ".xr-obj-type {\n",
       "  color: var(--xr-font-color2);\n",
       "}\n",
       "\n",
       ".xr-sections {\n",
       "  padding-left: 0 !important;\n",
       "  display: grid;\n",
       "  grid-template-columns: 150px auto auto 1fr 20px 20px;\n",
       "}\n",
       "\n",
       ".xr-section-item {\n",
       "  display: contents;\n",
       "}\n",
       "\n",
       ".xr-section-item input {\n",
       "  display: none;\n",
       "}\n",
       "\n",
       ".xr-section-item input + label {\n",
       "  color: var(--xr-disabled-color);\n",
       "}\n",
       "\n",
       ".xr-section-item input:enabled + label {\n",
       "  cursor: pointer;\n",
       "  color: var(--xr-font-color2);\n",
       "}\n",
       "\n",
       ".xr-section-item input:enabled + label:hover {\n",
       "  color: var(--xr-font-color0);\n",
       "}\n",
       "\n",
       ".xr-section-summary {\n",
       "  grid-column: 1;\n",
       "  color: var(--xr-font-color2);\n",
       "  font-weight: 500;\n",
       "}\n",
       "\n",
       ".xr-section-summary > span {\n",
       "  display: inline-block;\n",
       "  padding-left: 0.5em;\n",
       "}\n",
       "\n",
       ".xr-section-summary-in:disabled + label {\n",
       "  color: var(--xr-font-color2);\n",
       "}\n",
       "\n",
       ".xr-section-summary-in + label:before {\n",
       "  display: inline-block;\n",
       "  content: '►';\n",
       "  font-size: 11px;\n",
       "  width: 15px;\n",
       "  text-align: center;\n",
       "}\n",
       "\n",
       ".xr-section-summary-in:disabled + label:before {\n",
       "  color: var(--xr-disabled-color);\n",
       "}\n",
       "\n",
       ".xr-section-summary-in:checked + label:before {\n",
       "  content: '▼';\n",
       "}\n",
       "\n",
       ".xr-section-summary-in:checked + label > span {\n",
       "  display: none;\n",
       "}\n",
       "\n",
       ".xr-section-summary,\n",
       ".xr-section-inline-details {\n",
       "  padding-top: 4px;\n",
       "  padding-bottom: 4px;\n",
       "}\n",
       "\n",
       ".xr-section-inline-details {\n",
       "  grid-column: 2 / -1;\n",
       "}\n",
       "\n",
       ".xr-section-details {\n",
       "  display: none;\n",
       "  grid-column: 1 / -1;\n",
       "  margin-bottom: 5px;\n",
       "}\n",
       "\n",
       ".xr-section-summary-in:checked ~ .xr-section-details {\n",
       "  display: contents;\n",
       "}\n",
       "\n",
       ".xr-array-wrap {\n",
       "  grid-column: 1 / -1;\n",
       "  display: grid;\n",
       "  grid-template-columns: 20px auto;\n",
       "}\n",
       "\n",
       ".xr-array-wrap > label {\n",
       "  grid-column: 1;\n",
       "  vertical-align: top;\n",
       "}\n",
       "\n",
       ".xr-preview {\n",
       "  color: var(--xr-font-color3);\n",
       "}\n",
       "\n",
       ".xr-array-preview,\n",
       ".xr-array-data {\n",
       "  padding: 0 5px !important;\n",
       "  grid-column: 2;\n",
       "}\n",
       "\n",
       ".xr-array-data,\n",
       ".xr-array-in:checked ~ .xr-array-preview {\n",
       "  display: none;\n",
       "}\n",
       "\n",
       ".xr-array-in:checked ~ .xr-array-data,\n",
       ".xr-array-preview {\n",
       "  display: inline-block;\n",
       "}\n",
       "\n",
       ".xr-dim-list {\n",
       "  display: inline-block !important;\n",
       "  list-style: none;\n",
       "  padding: 0 !important;\n",
       "  margin: 0;\n",
       "}\n",
       "\n",
       ".xr-dim-list li {\n",
       "  display: inline-block;\n",
       "  padding: 0;\n",
       "  margin: 0;\n",
       "}\n",
       "\n",
       ".xr-dim-list:before {\n",
       "  content: '(';\n",
       "}\n",
       "\n",
       ".xr-dim-list:after {\n",
       "  content: ')';\n",
       "}\n",
       "\n",
       ".xr-dim-list li:not(:last-child):after {\n",
       "  content: ',';\n",
       "  padding-right: 5px;\n",
       "}\n",
       "\n",
       ".xr-has-index {\n",
       "  font-weight: bold;\n",
       "}\n",
       "\n",
       ".xr-var-list,\n",
       ".xr-var-item {\n",
       "  display: contents;\n",
       "}\n",
       "\n",
       ".xr-var-item > div,\n",
       ".xr-var-item label,\n",
       ".xr-var-item > .xr-var-name span {\n",
       "  background-color: var(--xr-background-color-row-even);\n",
       "  margin-bottom: 0;\n",
       "}\n",
       "\n",
       ".xr-var-item > .xr-var-name:hover span {\n",
       "  padding-right: 5px;\n",
       "}\n",
       "\n",
       ".xr-var-list > li:nth-child(odd) > div,\n",
       ".xr-var-list > li:nth-child(odd) > label,\n",
       ".xr-var-list > li:nth-child(odd) > .xr-var-name span {\n",
       "  background-color: var(--xr-background-color-row-odd);\n",
       "}\n",
       "\n",
       ".xr-var-name {\n",
       "  grid-column: 1;\n",
       "}\n",
       "\n",
       ".xr-var-dims {\n",
       "  grid-column: 2;\n",
       "}\n",
       "\n",
       ".xr-var-dtype {\n",
       "  grid-column: 3;\n",
       "  text-align: right;\n",
       "  color: var(--xr-font-color2);\n",
       "}\n",
       "\n",
       ".xr-var-preview {\n",
       "  grid-column: 4;\n",
       "}\n",
       "\n",
       ".xr-var-name,\n",
       ".xr-var-dims,\n",
       ".xr-var-dtype,\n",
       ".xr-preview,\n",
       ".xr-attrs dt {\n",
       "  white-space: nowrap;\n",
       "  overflow: hidden;\n",
       "  text-overflow: ellipsis;\n",
       "  padding-right: 10px;\n",
       "}\n",
       "\n",
       ".xr-var-name:hover,\n",
       ".xr-var-dims:hover,\n",
       ".xr-var-dtype:hover,\n",
       ".xr-attrs dt:hover {\n",
       "  overflow: visible;\n",
       "  width: auto;\n",
       "  z-index: 1;\n",
       "}\n",
       "\n",
       ".xr-var-attrs,\n",
       ".xr-var-data {\n",
       "  display: none;\n",
       "  background-color: var(--xr-background-color) !important;\n",
       "  padding-bottom: 5px !important;\n",
       "}\n",
       "\n",
       ".xr-var-attrs-in:checked ~ .xr-var-attrs,\n",
       ".xr-var-data-in:checked ~ .xr-var-data {\n",
       "  display: block;\n",
       "}\n",
       "\n",
       ".xr-var-data > table {\n",
       "  float: right;\n",
       "}\n",
       "\n",
       ".xr-var-name span,\n",
       ".xr-var-data,\n",
       ".xr-attrs {\n",
       "  padding-left: 25px !important;\n",
       "}\n",
       "\n",
       ".xr-attrs,\n",
       ".xr-var-attrs,\n",
       ".xr-var-data {\n",
       "  grid-column: 1 / -1;\n",
       "}\n",
       "\n",
       "dl.xr-attrs {\n",
       "  padding: 0;\n",
       "  margin: 0;\n",
       "  display: grid;\n",
       "  grid-template-columns: 125px auto;\n",
       "}\n",
       "\n",
       ".xr-attrs dt,\n",
       ".xr-attrs dd {\n",
       "  padding: 0;\n",
       "  margin: 0;\n",
       "  float: left;\n",
       "  padding-right: 10px;\n",
       "  width: auto;\n",
       "}\n",
       "\n",
       ".xr-attrs dt {\n",
       "  font-weight: normal;\n",
       "  grid-column: 1;\n",
       "}\n",
       "\n",
       ".xr-attrs dt:hover span {\n",
       "  display: inline-block;\n",
       "  background: var(--xr-background-color);\n",
       "  padding-right: 10px;\n",
       "}\n",
       "\n",
       ".xr-attrs dd {\n",
       "  grid-column: 2;\n",
       "  white-space: pre-wrap;\n",
       "  word-break: break-all;\n",
       "}\n",
       "\n",
       ".xr-icon-database,\n",
       ".xr-icon-file-text2 {\n",
       "  display: inline-block;\n",
       "  vertical-align: middle;\n",
       "  width: 1em;\n",
       "  height: 1.5em !important;\n",
       "  stroke-width: 0;\n",
       "  stroke: currentColor;\n",
       "  fill: currentColor;\n",
       "}\n",
       "</style><pre class='xr-text-repr-fallback'>&lt;xarray.Dataset&gt;\n",
       "Dimensions:     (ocean_time: 720, s_rho: 42, s_w: 43, eta_rho: 741, xi_rho: 397, xi_u: 396, eta_v: 740)\n",
       "Coordinates:\n",
       "  * ocean_time  (ocean_time) datetime64[ns] 2014-06-30T13:00:00 ... 2014-07-3...\n",
       "  * s_rho       (s_rho) float64 -0.9881 -0.9643 -0.9405 ... -0.03571 -0.0119\n",
       "  * s_w         (s_w) float64 -1.0 -0.9762 -0.9524 ... -0.04762 -0.02381 0.0\n",
       "Dimensions without coordinates: eta_rho, xi_rho, xi_u, eta_v\n",
       "Data variables: (12/15)\n",
       "    projection  int32 -2147483647\n",
       "    Cs_r        (s_rho) float64 -0.9698 -0.911 -0.8543 ... -0.000805 -8.938e-05\n",
       "    Cs_w        (s_w) float64 -1.0 -0.9402 -0.8824 ... -0.001432 -0.0003576 0.0\n",
       "    h           (eta_rho, xi_rho) float32 ...\n",
       "    mask_rho    (eta_rho, xi_rho) float32 ...\n",
       "    angle       (eta_rho, xi_rho) float32 ...\n",
       "    ...          ...\n",
       "    salt        (ocean_time, s_rho, eta_rho, xi_rho) float32 ...\n",
       "    temp        (ocean_time, s_rho, eta_rho, xi_rho) float32 ...\n",
       "    u           (ocean_time, s_rho, eta_rho, xi_u) float32 ...\n",
       "    v           (ocean_time, s_rho, eta_v, xi_rho) float32 ...\n",
       "    lat_rho     (eta_rho, xi_rho) float32 ...\n",
       "    lon_rho     (eta_rho, xi_rho) float32 ...</pre><div class='xr-wrap' style='display:none'><div class='xr-header'><div class='xr-obj-type'>xarray.Dataset</div></div><ul class='xr-sections'><li class='xr-section-item'><input id='section-8930f2bc-55ee-4ecf-b3ff-e2aaee3f4429' class='xr-section-summary-in' type='checkbox' disabled ><label for='section-8930f2bc-55ee-4ecf-b3ff-e2aaee3f4429' class='xr-section-summary'  title='Expand/collapse section'>Dimensions:</label><div class='xr-section-inline-details'><ul class='xr-dim-list'><li><span class='xr-has-index'>ocean_time</span>: 720</li><li><span class='xr-has-index'>s_rho</span>: 42</li><li><span class='xr-has-index'>s_w</span>: 43</li><li><span>eta_rho</span>: 741</li><li><span>xi_rho</span>: 397</li><li><span>xi_u</span>: 396</li><li><span>eta_v</span>: 740</li></ul></div><div class='xr-section-details'></div></li><li class='xr-section-item'><input id='section-4ac79654-7d6f-4668-96fc-7052d9813ff2' class='xr-section-summary-in' type='checkbox'  checked><label for='section-4ac79654-7d6f-4668-96fc-7052d9813ff2' class='xr-section-summary' >Coordinates: <span>(3)</span></label><div class='xr-section-inline-details'></div><div class='xr-section-details'><ul class='xr-var-list'><li class='xr-var-item'><div class='xr-var-name'><span class='xr-has-index'>ocean_time</span></div><div class='xr-var-dims'>(ocean_time)</div><div class='xr-var-dtype'>datetime64[ns]</div><div class='xr-var-preview xr-preview'>2014-06-30T13:00:00 ... 2014-07-...</div><input id='attrs-4bb0707c-ad2f-45b4-aa97-f3752ffca08a' class='xr-var-attrs-in' type='checkbox' disabled><label for='attrs-4bb0707c-ad2f-45b4-aa97-f3752ffca08a' title='Show/Hide attributes'><svg class='icon xr-icon-file-text2'><use xlink:href='#icon-file-text2'></use></svg></label><input id='data-f3dea331-50af-4e16-8097-2d5435f71e79' class='xr-var-data-in' type='checkbox'><label for='data-f3dea331-50af-4e16-8097-2d5435f71e79' title='Show/Hide data repr'><svg class='icon xr-icon-database'><use xlink:href='#icon-database'></use></svg></label><div class='xr-var-attrs'><dl class='xr-attrs'></dl></div><div class='xr-var-data'><pre>array([&#x27;2014-06-30T13:00:00.000000000&#x27;, &#x27;2014-06-30T14:00:00.000000000&#x27;,\n",
       "       &#x27;2014-06-30T15:00:00.000000000&#x27;, ..., &#x27;2014-07-30T10:00:00.000000000&#x27;,\n",
       "       &#x27;2014-07-30T11:00:00.000000000&#x27;, &#x27;2014-07-30T12:00:00.000000000&#x27;],\n",
       "      dtype=&#x27;datetime64[ns]&#x27;)</pre></div></li><li class='xr-var-item'><div class='xr-var-name'><span class='xr-has-index'>s_rho</span></div><div class='xr-var-dims'>(s_rho)</div><div class='xr-var-dtype'>float64</div><div class='xr-var-preview xr-preview'>-0.9881 -0.9643 ... -0.0119</div><input id='attrs-f9cc1f87-e73e-4265-9110-1b435fa62f48' class='xr-var-attrs-in' type='checkbox' disabled><label for='attrs-f9cc1f87-e73e-4265-9110-1b435fa62f48' title='Show/Hide attributes'><svg class='icon xr-icon-file-text2'><use xlink:href='#icon-file-text2'></use></svg></label><input id='data-8899cd21-6914-4c24-9487-d1bf382e86ee' class='xr-var-data-in' type='checkbox'><label for='data-8899cd21-6914-4c24-9487-d1bf382e86ee' title='Show/Hide data repr'><svg class='icon xr-icon-database'><use xlink:href='#icon-database'></use></svg></label><div class='xr-var-attrs'><dl class='xr-attrs'></dl></div><div class='xr-var-data'><pre>array([-0.988095, -0.964286, -0.940476, -0.916667, -0.892857, -0.869048,\n",
       "       -0.845238, -0.821429, -0.797619, -0.77381 , -0.75    , -0.72619 ,\n",
       "       -0.702381, -0.678571, -0.654762, -0.630952, -0.607143, -0.583333,\n",
       "       -0.559524, -0.535714, -0.511905, -0.488095, -0.464286, -0.440476,\n",
       "       -0.416667, -0.392857, -0.369048, -0.345238, -0.321429, -0.297619,\n",
       "       -0.27381 , -0.25    , -0.22619 , -0.202381, -0.178571, -0.154762,\n",
       "       -0.130952, -0.107143, -0.083333, -0.059524, -0.035714, -0.011905])</pre></div></li><li class='xr-var-item'><div class='xr-var-name'><span class='xr-has-index'>s_w</span></div><div class='xr-var-dims'>(s_w)</div><div class='xr-var-dtype'>float64</div><div class='xr-var-preview xr-preview'>-1.0 -0.9762 ... -0.02381 0.0</div><input id='attrs-09d40f5d-9c01-45e9-a56d-096ab5b411e7' class='xr-var-attrs-in' type='checkbox' disabled><label for='attrs-09d40f5d-9c01-45e9-a56d-096ab5b411e7' title='Show/Hide attributes'><svg class='icon xr-icon-file-text2'><use xlink:href='#icon-file-text2'></use></svg></label><input id='data-b2b3ee40-627d-4de9-98fa-b03b1e81a98f' class='xr-var-data-in' type='checkbox'><label for='data-b2b3ee40-627d-4de9-98fa-b03b1e81a98f' title='Show/Hide data repr'><svg class='icon xr-icon-database'><use xlink:href='#icon-database'></use></svg></label><div class='xr-var-attrs'><dl class='xr-attrs'></dl></div><div class='xr-var-data'><pre>array([-1.      , -0.97619 , -0.952381, -0.928571, -0.904762, -0.880952,\n",
       "       -0.857143, -0.833333, -0.809524, -0.785714, -0.761905, -0.738095,\n",
       "       -0.714286, -0.690476, -0.666667, -0.642857, -0.619048, -0.595238,\n",
       "       -0.571429, -0.547619, -0.52381 , -0.5     , -0.47619 , -0.452381,\n",
       "       -0.428571, -0.404762, -0.380952, -0.357143, -0.333333, -0.309524,\n",
       "       -0.285714, -0.261905, -0.238095, -0.214286, -0.190476, -0.166667,\n",
       "       -0.142857, -0.119048, -0.095238, -0.071429, -0.047619, -0.02381 ,\n",
       "        0.      ])</pre></div></li></ul></div></li><li class='xr-section-item'><input id='section-1cc6bd5b-6701-46dc-977b-7f4bdcbca492' class='xr-section-summary-in' type='checkbox'  ><label for='section-1cc6bd5b-6701-46dc-977b-7f4bdcbca492' class='xr-section-summary' >Data variables: <span>(15)</span></label><div class='xr-section-inline-details'></div><div class='xr-section-details'><ul class='xr-var-list'><li class='xr-var-item'><div class='xr-var-name'><span>projection</span></div><div class='xr-var-dims'>()</div><div class='xr-var-dtype'>int32</div><div class='xr-var-preview xr-preview'>...</div><input id='attrs-7478a527-2cf1-491c-b387-6d06abba1fe5' class='xr-var-attrs-in' type='checkbox' ><label for='attrs-7478a527-2cf1-491c-b387-6d06abba1fe5' title='Show/Hide attributes'><svg class='icon xr-icon-file-text2'><use xlink:href='#icon-file-text2'></use></svg></label><input id='data-8fe062c3-09d3-449b-8664-77034779823c' class='xr-var-data-in' type='checkbox'><label for='data-8fe062c3-09d3-449b-8664-77034779823c' title='Show/Hide data repr'><svg class='icon xr-icon-database'><use xlink:href='#icon-database'></use></svg></label><div class='xr-var-attrs'><dl class='xr-attrs'><dt><span>proj4 :</span></dt><dd>+proj=stere +lat_0=90 +lon_0=10 +lat_ts=60 +units=m +R=6.371e+06 +datum=WGS84 +units=m +no_defs</dd></dl></div><div class='xr-var-data'><pre>array(-2147483647, dtype=int32)</pre></div></li><li class='xr-var-item'><div class='xr-var-name'><span>Cs_r</span></div><div class='xr-var-dims'>(s_rho)</div><div class='xr-var-dtype'>float64</div><div class='xr-var-preview xr-preview'>...</div><input id='attrs-325d765d-4c80-4ee3-a798-dfd905b54c64' class='xr-var-attrs-in' type='checkbox' disabled><label for='attrs-325d765d-4c80-4ee3-a798-dfd905b54c64' title='Show/Hide attributes'><svg class='icon xr-icon-file-text2'><use xlink:href='#icon-file-text2'></use></svg></label><input id='data-7464f19e-7daf-4ee4-bdbd-b339d9d17876' class='xr-var-data-in' type='checkbox'><label for='data-7464f19e-7daf-4ee4-bdbd-b339d9d17876' title='Show/Hide data repr'><svg class='icon xr-icon-database'><use xlink:href='#icon-database'></use></svg></label><div class='xr-var-attrs'><dl class='xr-attrs'></dl></div><div class='xr-var-data'><pre>array([-9.698368e-01, -9.110356e-01, -8.543374e-01, -7.998050e-01,\n",
       "       -7.474797e-01, -6.973837e-01, -6.495224e-01, -6.038862e-01,\n",
       "       -5.604527e-01, -5.191889e-01, -4.800524e-01, -4.429934e-01,\n",
       "       -4.079561e-01, -3.748801e-01, -3.437014e-01, -3.143538e-01,\n",
       "       -2.867694e-01, -2.608798e-01, -2.366167e-01, -2.139123e-01,\n",
       "       -1.927000e-01, -1.729148e-01, -1.544938e-01, -1.373762e-01,\n",
       "       -1.215038e-01, -1.068209e-01, -9.327482e-02, -8.081588e-02,\n",
       "       -6.939731e-02, -5.897549e-02, -4.950995e-02, -4.096336e-02,\n",
       "       -3.330160e-02, -2.649367e-02, -2.051179e-02, -1.533129e-02,\n",
       "       -1.093065e-02, -7.291467e-03, -4.398438e-03, -2.239340e-03,\n",
       "       -8.050204e-04, -8.938327e-05])</pre></div></li><li class='xr-var-item'><div class='xr-var-name'><span>Cs_w</span></div><div class='xr-var-dims'>(s_w)</div><div class='xr-var-dtype'>float64</div><div class='xr-var-preview xr-preview'>...</div><input id='attrs-276618d7-7cec-449b-abe7-c7ec778097e6' class='xr-var-attrs-in' type='checkbox' disabled><label for='attrs-276618d7-7cec-449b-abe7-c7ec778097e6' title='Show/Hide attributes'><svg class='icon xr-icon-file-text2'><use xlink:href='#icon-file-text2'></use></svg></label><input id='data-dc207e7b-dbdd-45c2-b147-937e12d5dc6f' class='xr-var-data-in' type='checkbox'><label for='data-dc207e7b-dbdd-45c2-b147-937e12d5dc6f' title='Show/Hide data repr'><svg class='icon xr-icon-database'><use xlink:href='#icon-database'></use></svg></label><div class='xr-var-attrs'><dl class='xr-attrs'></dl></div><div class='xr-var-data'><pre>array([-1.000000e+00, -9.401782e-01, -8.824192e-01, -8.267974e-01,\n",
       "       -7.733646e-01, -7.221523e-01, -6.731740e-01, -6.264272e-01,\n",
       "       -5.818959e-01, -5.395521e-01, -4.993577e-01, -4.612666e-01,\n",
       "       -4.252257e-01, -3.911768e-01, -3.590577e-01, -3.288029e-01,\n",
       "       -3.003454e-01, -2.736170e-01, -2.485492e-01, -2.250739e-01,\n",
       "       -2.031237e-01, -1.826330e-01, -1.635377e-01, -1.457758e-01,\n",
       "       -1.292879e-01, -1.140170e-01, -9.990891e-02, -8.691245e-02,\n",
       "       -7.497934e-02, -6.406441e-02, -5.412559e-02, -4.512399e-02,\n",
       "       -3.702389e-02, -2.979272e-02, -2.340109e-02, -1.782278e-02,\n",
       "       -1.303471e-02, -9.016905e-03, -5.752520e-03, -3.227792e-03,\n",
       "       -1.432036e-03, -3.576282e-04,  0.000000e+00])</pre></div></li><li class='xr-var-item'><div class='xr-var-name'><span>h</span></div><div class='xr-var-dims'>(eta_rho, xi_rho)</div><div class='xr-var-dtype'>float32</div><div class='xr-var-preview xr-preview'>...</div><input id='attrs-c47bc39a-cabb-4fc9-b47a-25efd97608de' class='xr-var-attrs-in' type='checkbox' disabled><label for='attrs-c47bc39a-cabb-4fc9-b47a-25efd97608de' title='Show/Hide attributes'><svg class='icon xr-icon-file-text2'><use xlink:href='#icon-file-text2'></use></svg></label><input id='data-6ca5f647-cf66-480d-83af-953e1d8919a2' class='xr-var-data-in' type='checkbox'><label for='data-6ca5f647-cf66-480d-83af-953e1d8919a2' title='Show/Hide data repr'><svg class='icon xr-icon-database'><use xlink:href='#icon-database'></use></svg></label><div class='xr-var-attrs'><dl class='xr-attrs'></dl></div><div class='xr-var-data'><pre>[294177 values with dtype=float32]</pre></div></li><li class='xr-var-item'><div class='xr-var-name'><span>mask_rho</span></div><div class='xr-var-dims'>(eta_rho, xi_rho)</div><div class='xr-var-dtype'>float32</div><div class='xr-var-preview xr-preview'>...</div><input id='attrs-89d52af1-10be-49cf-937c-6f9f9e4b2064' class='xr-var-attrs-in' type='checkbox' disabled><label for='attrs-89d52af1-10be-49cf-937c-6f9f9e4b2064' title='Show/Hide attributes'><svg class='icon xr-icon-file-text2'><use xlink:href='#icon-file-text2'></use></svg></label><input id='data-6fb7dbfe-eec7-448b-bddf-ce6d90ef09b0' class='xr-var-data-in' type='checkbox'><label for='data-6fb7dbfe-eec7-448b-bddf-ce6d90ef09b0' title='Show/Hide data repr'><svg class='icon xr-icon-database'><use xlink:href='#icon-database'></use></svg></label><div class='xr-var-attrs'><dl class='xr-attrs'></dl></div><div class='xr-var-data'><pre>[294177 values with dtype=float32]</pre></div></li><li class='xr-var-item'><div class='xr-var-name'><span>angle</span></div><div class='xr-var-dims'>(eta_rho, xi_rho)</div><div class='xr-var-dtype'>float32</div><div class='xr-var-preview xr-preview'>...</div><input id='attrs-4c18dd70-f91f-4dcc-8351-3a8ebfe95bdc' class='xr-var-attrs-in' type='checkbox' disabled><label for='attrs-4c18dd70-f91f-4dcc-8351-3a8ebfe95bdc' title='Show/Hide attributes'><svg class='icon xr-icon-file-text2'><use xlink:href='#icon-file-text2'></use></svg></label><input id='data-1f2f6ec4-f0e8-4fb1-a3c5-cf7d26b6d9f0' class='xr-var-data-in' type='checkbox'><label for='data-1f2f6ec4-f0e8-4fb1-a3c5-cf7d26b6d9f0' title='Show/Hide data repr'><svg class='icon xr-icon-database'><use xlink:href='#icon-database'></use></svg></label><div class='xr-var-attrs'><dl class='xr-attrs'></dl></div><div class='xr-var-data'><pre>[294177 values with dtype=float32]</pre></div></li><li class='xr-var-item'><div class='xr-var-name'><span>zeta</span></div><div class='xr-var-dims'>(ocean_time, eta_rho, xi_rho)</div><div class='xr-var-dtype'>float32</div><div class='xr-var-preview xr-preview'>...</div><input id='attrs-66ce8ff3-0f3f-403e-8c4e-6d91b994f9dd' class='xr-var-attrs-in' type='checkbox' disabled><label for='attrs-66ce8ff3-0f3f-403e-8c4e-6d91b994f9dd' title='Show/Hide attributes'><svg class='icon xr-icon-file-text2'><use xlink:href='#icon-file-text2'></use></svg></label><input id='data-efcdedb0-e24e-40c1-9c79-cede40f95f2d' class='xr-var-data-in' type='checkbox'><label for='data-efcdedb0-e24e-40c1-9c79-cede40f95f2d' title='Show/Hide data repr'><svg class='icon xr-icon-database'><use xlink:href='#icon-database'></use></svg></label><div class='xr-var-attrs'><dl class='xr-attrs'></dl></div><div class='xr-var-data'><pre>[211807440 values with dtype=float32]</pre></div></li><li class='xr-var-item'><div class='xr-var-name'><span>ubar</span></div><div class='xr-var-dims'>(ocean_time, eta_rho, xi_u)</div><div class='xr-var-dtype'>float32</div><div class='xr-var-preview xr-preview'>...</div><input id='attrs-cc293b5f-803c-468b-80d0-4d9be3a2c7f3' class='xr-var-attrs-in' type='checkbox' disabled><label for='attrs-cc293b5f-803c-468b-80d0-4d9be3a2c7f3' title='Show/Hide attributes'><svg class='icon xr-icon-file-text2'><use xlink:href='#icon-file-text2'></use></svg></label><input id='data-7e8d31c3-a950-44de-aa63-9fa41f0faf08' class='xr-var-data-in' type='checkbox'><label for='data-7e8d31c3-a950-44de-aa63-9fa41f0faf08' title='Show/Hide data repr'><svg class='icon xr-icon-database'><use xlink:href='#icon-database'></use></svg></label><div class='xr-var-attrs'><dl class='xr-attrs'></dl></div><div class='xr-var-data'><pre>[211273920 values with dtype=float32]</pre></div></li><li class='xr-var-item'><div class='xr-var-name'><span>vbar</span></div><div class='xr-var-dims'>(ocean_time, eta_v, xi_rho)</div><div class='xr-var-dtype'>float32</div><div class='xr-var-preview xr-preview'>...</div><input id='attrs-86cde4b8-90b4-4e5a-a6a7-757b09bcfcb6' class='xr-var-attrs-in' type='checkbox' disabled><label for='attrs-86cde4b8-90b4-4e5a-a6a7-757b09bcfcb6' title='Show/Hide attributes'><svg class='icon xr-icon-file-text2'><use xlink:href='#icon-file-text2'></use></svg></label><input id='data-b722ac04-a86d-4ca2-b04e-98105e274b9f' class='xr-var-data-in' type='checkbox'><label for='data-b722ac04-a86d-4ca2-b04e-98105e274b9f' title='Show/Hide data repr'><svg class='icon xr-icon-database'><use xlink:href='#icon-database'></use></svg></label><div class='xr-var-attrs'><dl class='xr-attrs'></dl></div><div class='xr-var-data'><pre>[211521600 values with dtype=float32]</pre></div></li><li class='xr-var-item'><div class='xr-var-name'><span>salt</span></div><div class='xr-var-dims'>(ocean_time, s_rho, eta_rho, xi_rho)</div><div class='xr-var-dtype'>float32</div><div class='xr-var-preview xr-preview'>...</div><input id='attrs-98d84234-cb2d-4661-89b4-bfa95550d077' class='xr-var-attrs-in' type='checkbox' disabled><label for='attrs-98d84234-cb2d-4661-89b4-bfa95550d077' title='Show/Hide attributes'><svg class='icon xr-icon-file-text2'><use xlink:href='#icon-file-text2'></use></svg></label><input id='data-6ccca6af-991f-446e-b09a-1bed2875183a' class='xr-var-data-in' type='checkbox'><label for='data-6ccca6af-991f-446e-b09a-1bed2875183a' title='Show/Hide data repr'><svg class='icon xr-icon-database'><use xlink:href='#icon-database'></use></svg></label><div class='xr-var-attrs'><dl class='xr-attrs'></dl></div><div class='xr-var-data'><pre>[8895912480 values with dtype=float32]</pre></div></li><li class='xr-var-item'><div class='xr-var-name'><span>temp</span></div><div class='xr-var-dims'>(ocean_time, s_rho, eta_rho, xi_rho)</div><div class='xr-var-dtype'>float32</div><div class='xr-var-preview xr-preview'>...</div><input id='attrs-c6a30878-075b-4a58-8fbc-f7ddbf786165' class='xr-var-attrs-in' type='checkbox' disabled><label for='attrs-c6a30878-075b-4a58-8fbc-f7ddbf786165' title='Show/Hide attributes'><svg class='icon xr-icon-file-text2'><use xlink:href='#icon-file-text2'></use></svg></label><input id='data-6959390b-4b18-4f85-834c-0739bb67f49a' class='xr-var-data-in' type='checkbox'><label for='data-6959390b-4b18-4f85-834c-0739bb67f49a' title='Show/Hide data repr'><svg class='icon xr-icon-database'><use xlink:href='#icon-database'></use></svg></label><div class='xr-var-attrs'><dl class='xr-attrs'></dl></div><div class='xr-var-data'><pre>[8895912480 values with dtype=float32]</pre></div></li><li class='xr-var-item'><div class='xr-var-name'><span>u</span></div><div class='xr-var-dims'>(ocean_time, s_rho, eta_rho, xi_u)</div><div class='xr-var-dtype'>float32</div><div class='xr-var-preview xr-preview'>...</div><input id='attrs-4302cb7c-bc85-4066-bdaf-3939005403e0' class='xr-var-attrs-in' type='checkbox' disabled><label for='attrs-4302cb7c-bc85-4066-bdaf-3939005403e0' title='Show/Hide attributes'><svg class='icon xr-icon-file-text2'><use xlink:href='#icon-file-text2'></use></svg></label><input id='data-9a814970-37b1-4bfa-8120-f29d2a5ce5c8' class='xr-var-data-in' type='checkbox'><label for='data-9a814970-37b1-4bfa-8120-f29d2a5ce5c8' title='Show/Hide data repr'><svg class='icon xr-icon-database'><use xlink:href='#icon-database'></use></svg></label><div class='xr-var-attrs'><dl class='xr-attrs'></dl></div><div class='xr-var-data'><pre>[8873504640 values with dtype=float32]</pre></div></li><li class='xr-var-item'><div class='xr-var-name'><span>v</span></div><div class='xr-var-dims'>(ocean_time, s_rho, eta_v, xi_rho)</div><div class='xr-var-dtype'>float32</div><div class='xr-var-preview xr-preview'>...</div><input id='attrs-075c607d-6809-49d1-8790-2a6190005f1f' class='xr-var-attrs-in' type='checkbox' disabled><label for='attrs-075c607d-6809-49d1-8790-2a6190005f1f' title='Show/Hide attributes'><svg class='icon xr-icon-file-text2'><use xlink:href='#icon-file-text2'></use></svg></label><input id='data-9e3b99d4-5be3-4ec2-a076-78e141cd8fc0' class='xr-var-data-in' type='checkbox'><label for='data-9e3b99d4-5be3-4ec2-a076-78e141cd8fc0' title='Show/Hide data repr'><svg class='icon xr-icon-database'><use xlink:href='#icon-database'></use></svg></label><div class='xr-var-attrs'><dl class='xr-attrs'></dl></div><div class='xr-var-data'><pre>[8883907200 values with dtype=float32]</pre></div></li><li class='xr-var-item'><div class='xr-var-name'><span>lat_rho</span></div><div class='xr-var-dims'>(eta_rho, xi_rho)</div><div class='xr-var-dtype'>float32</div><div class='xr-var-preview xr-preview'>...</div><input id='attrs-673ddfe8-d1e5-44ee-a580-c7404aae4dd5' class='xr-var-attrs-in' type='checkbox' disabled><label for='attrs-673ddfe8-d1e5-44ee-a580-c7404aae4dd5' title='Show/Hide attributes'><svg class='icon xr-icon-file-text2'><use xlink:href='#icon-file-text2'></use></svg></label><input id='data-cbcf0d81-74aa-43f4-bee3-7115a67c4239' class='xr-var-data-in' type='checkbox'><label for='data-cbcf0d81-74aa-43f4-bee3-7115a67c4239' title='Show/Hide data repr'><svg class='icon xr-icon-database'><use xlink:href='#icon-database'></use></svg></label><div class='xr-var-attrs'><dl class='xr-attrs'></dl></div><div class='xr-var-data'><pre>[294177 values with dtype=float32]</pre></div></li><li class='xr-var-item'><div class='xr-var-name'><span>lon_rho</span></div><div class='xr-var-dims'>(eta_rho, xi_rho)</div><div class='xr-var-dtype'>float32</div><div class='xr-var-preview xr-preview'>...</div><input id='attrs-da35929b-3cc3-4363-a796-6955a4f32bd6' class='xr-var-attrs-in' type='checkbox' disabled><label for='attrs-da35929b-3cc3-4363-a796-6955a4f32bd6' title='Show/Hide attributes'><svg class='icon xr-icon-file-text2'><use xlink:href='#icon-file-text2'></use></svg></label><input id='data-9f38a868-920a-4b7c-946b-83d3469efafe' class='xr-var-data-in' type='checkbox'><label for='data-9f38a868-920a-4b7c-946b-83d3469efafe' title='Show/Hide data repr'><svg class='icon xr-icon-database'><use xlink:href='#icon-database'></use></svg></label><div class='xr-var-attrs'><dl class='xr-attrs'></dl></div><div class='xr-var-data'><pre>[294177 values with dtype=float32]</pre></div></li></ul></div></li><li class='xr-section-item'><input id='section-ca659932-ff9b-41ab-b7a6-51a1e8a3f480' class='xr-section-summary-in' type='checkbox' disabled ><label for='section-ca659932-ff9b-41ab-b7a6-51a1e8a3f480' class='xr-section-summary'  title='Expand/collapse section'>Attributes: <span>(0)</span></label><div class='xr-section-inline-details'></div><div class='xr-section-details'><dl class='xr-attrs'></dl></div></li></ul></div></div>"
      ],
      "text/plain": [
       "<xarray.Dataset>\n",
       "Dimensions:     (ocean_time: 720, s_rho: 42, s_w: 43, eta_rho: 741, xi_rho: 397, xi_u: 396, eta_v: 740)\n",
       "Coordinates:\n",
       "  * ocean_time  (ocean_time) datetime64[ns] 2014-06-30T13:00:00 ... 2014-07-3...\n",
       "  * s_rho       (s_rho) float64 -0.9881 -0.9643 -0.9405 ... -0.03571 -0.0119\n",
       "  * s_w         (s_w) float64 -1.0 -0.9762 -0.9524 ... -0.04762 -0.02381 0.0\n",
       "Dimensions without coordinates: eta_rho, xi_rho, xi_u, eta_v\n",
       "Data variables: (12/15)\n",
       "    projection  int32 ...\n",
       "    Cs_r        (s_rho) float64 ...\n",
       "    Cs_w        (s_w) float64 ...\n",
       "    h           (eta_rho, xi_rho) float32 ...\n",
       "    mask_rho    (eta_rho, xi_rho) float32 ...\n",
       "    angle       (eta_rho, xi_rho) float32 ...\n",
       "    ...          ...\n",
       "    salt        (ocean_time, s_rho, eta_rho, xi_rho) float32 ...\n",
       "    temp        (ocean_time, s_rho, eta_rho, xi_rho) float32 ...\n",
       "    u           (ocean_time, s_rho, eta_rho, xi_u) float32 ...\n",
       "    v           (ocean_time, s_rho, eta_v, xi_rho) float32 ...\n",
       "    lat_rho     (eta_rho, xi_rho) float32 ...\n",
       "    lon_rho     (eta_rho, xi_rho) float32 ..."
      ]
     },
     "execution_count": 5,
     "metadata": {},
     "output_type": "execute_result"
    }
   ],
   "source": [
    "import xarray as xr\n",
    "ds = xr.open_dataset(source_url)\n",
    "ds"
   ]
  },
  {
   "cell_type": "code",
   "execution_count": 6,
   "metadata": {},
   "outputs": [
    {
     "name": "stderr",
     "output_type": "stream",
     "text": [
      "/home/florianb/miniconda3/envs/gpuocean_opendrift/lib/python3.7/site-packages/ipykernel_launcher.py:10: MatplotlibDeprecationWarning: You are modifying the state of a globally registered colormap. In future versions, you will not be able to modify a registered colormap in-place. To remove this warning, you can make a copy of the colormap first. cmap = copy.copy(mpl.cm.get_cmap(\"Blues\"))\n",
      "  # Remove the CWD from sys.path while we load stuff.\n"
     ]
    },
    {
     "data": {
      "image/png": "[encoded data removed]",
      "text/plain": [
       "<Figure size 432x288 with 2 Axes>"
      ]
     },
     "metadata": {
      "needs_background": "dark"
     },
     "output_type": "display_data"
    }
   ],
   "source": [
    "from netCDF4 import Dataset\n",
    "nc = Dataset(source_url)\n",
    "\n",
    "H_m = np.ma.array(nc[\"h\"][1:-1,1:-1], mask=(1-nc[\"mask_rho\"][1:-1,1:-1]))\n",
    "\n",
    "fig, ax = plt.subplots()\n",
    "fig.suptitle(\"Bathymetry\")\n",
    "\n",
    "cmap = plt.cm.Blues\n",
    "cmap.set_bad(\"grey\", alpha = 1.0)\n",
    "im = ax.imshow(H_m, cmap=cmap)\n",
    "\n",
    "plt.colorbar(im, ax=ax)\n",
    "plt.tight_layout()"
   ]
  },
  {
   "cell_type": "markdown",
   "metadata": {},
   "source": [
    "Animation utils"
   ]
  },
  {
   "cell_type": "code",
   "execution_count": 7,
   "metadata": {},
   "outputs": [],
   "source": [
    "import animation_utils"
   ]
  },
  {
   "cell_type": "markdown",
   "metadata": {},
   "source": [
    "## Generating GPUOcean Simulation from Input"
   ]
  },
  {
   "cell_type": "code",
   "execution_count": 8,
   "metadata": {},
   "outputs": [],
   "source": [
    "dimY, dimX = ds.h.data.shape"
   ]
  },
  {
   "cell_type": "code",
   "execution_count": 9,
   "metadata": {},
   "outputs": [],
   "source": [
    "x0, x1, y0, y1 = 5, dimX-5, 175, dimY-5"
   ]
  },
  {
   "cell_type": "code",
   "execution_count": 10,
   "metadata": {},
   "outputs": [
    {
     "data": {
      "text/plain": [
       "<matplotlib.image.AxesImage at 0x7f6dc22cff10>"
      ]
     },
     "execution_count": 10,
     "metadata": {},
     "output_type": "execute_result"
    },
    {
     "data": {
      "image/png": "[encoded data removed]",
      "text/plain": [
       "<Figure size 720x1440 with 1 Axes>"
      ]
     },
     "metadata": {
      "needs_background": "dark"
     },
     "output_type": "display_data"
    }
   ],
   "source": [
    "fig, ax = plt.subplots(figsize=(10,20))\n",
    "ax.imshow(nc[\"h\"][y0:y1, x0:x1][:50,:], interpolation=\"none\", cmap=\"Blues\")"
   ]
  },
  {
   "cell_type": "code",
   "execution_count": 12,
   "metadata": {},
   "outputs": [],
   "source": [
    "data_args = {}"
   ]
  },
  {
   "cell_type": "code",
   "execution_count": 13,
   "metadata": {},
   "outputs": [],
   "source": [
    "import pyproj\n",
    "proj_str = nc[\"projection\"].proj4\n",
    "\n",
    "proj = pyproj.Proj(proj_str)\n",
    "\n",
    "lat_rho = nc.variables['lat_rho'][y0:y1, x0:x1]\n",
    "lon_rho = nc.variables['lon_rho'][y0:y1, x0:x1]\n",
    "x_rho, y_rho = proj(lon_rho, lat_rho, inverse = False)\n",
    "x, y = x_rho[0], y_rho[:,0]\n",
    "\n",
    "data_args['nx'] = (x1-x0)-4\n",
    "data_args['ny'] = (y1-y0)-4\n",
    "\n",
    "NX = data_args[\"nx\"]+4\n",
    "NY = data_args[\"ny\"]+4\n",
    "\n",
    "data_args['dx'] = np.average(x[1:] - x[:-1])\n",
    "data_args['dy'] = np.average(y[1:] - y[:-1])"
   ]
  },
  {
   "cell_type": "code",
   "execution_count": 14,
   "metadata": {},
   "outputs": [
    {
     "data": {
      "text/plain": [
       "(49.99992641175269, 50.000104021367484)"
      ]
     },
     "execution_count": 14,
     "metadata": {},
     "output_type": "execute_result"
    }
   ],
   "source": [
    "data_args[\"dx\"], data_args[\"dy\"]"
   ]
  },
  {
   "cell_type": "code",
   "execution_count": 15,
   "metadata": {},
   "outputs": [],
   "source": [
    "data_args['angle'] = nc[\"angle\"][y0:y1, x0:x1]\n",
    "from gpuocean.utils import OceanographicUtilities\n",
    "data_args['latitude'] = OceanographicUtilities.degToRad(lat_rho)\n",
    "data_args[\"f\"] = 0.0"
   ]
  },
  {
   "cell_type": "markdown",
   "metadata": {},
   "source": [
    "Check Mixed-Layer Depth"
   ]
  },
  {
   "cell_type": "code",
   "execution_count": null,
   "metadata": {},
   "outputs": [],
   "source": [
    "t=5*24 + 11 # INPUT"
   ]
  },
  {
   "cell_type": "code",
   "execution_count": null,
   "metadata": {},
   "outputs": [],
   "source": [
    "mld = NetCDFInitialization.MLD(source_url, 1024, min_mld=1.5, max_mld=40, x0=x0, x1=x1, y0=y0, y1=y1, t=t)\n",
    "backup_mld = copy.deepcopy(mld)"
   ]
  },
  {
   "cell_type": "code",
   "execution_count": null,
   "metadata": {},
   "outputs": [],
   "source": [
    "# FIXME!!!\n",
    "# mld = NetCDFInitialization.correct_coastal_MLD(mld, source_url, coords=[x0,x1,y0,y1], rel_tol=0.25, abs_tol=1, land_value=0.0)\n",
    "\n",
    "mld = NetCDFInitialization.fill_coastal_data(mld)"
   ]
  },
  {
   "cell_type": "code",
   "execution_count": null,
   "metadata": {},
   "outputs": [],
   "source": [
    "cmap = plt.cm.Blues\n",
    "cmap.set_bad(\"grey\", alpha = 1.0)\n",
    "\n",
    "domain_extent = [0, mld.shape[1]*50/1000, 0, mld.shape[0]*50/1000]\n",
    "\n",
    "with plt.rc_context({'lines.color':'black', \n",
    "                        'text.color':'black', \n",
    "                        'axes.labelcolor':'black', \n",
    "                        'xtick.color':'black',\n",
    "                        'ytick.color':'black'}):\n",
    "    fig, ax = plt.subplots()\n",
    "    im = ax.imshow(np.ma.array(nc[\"h\"][y0:y1,x0:x1], mask=(nc[\"h\"][y0:y1,x0:x1]==0)), \n",
    "                   vmin=0,\n",
    "                   cmap=cmap, extent=domain_extent)\n",
    "    cb = plt.colorbar(im, ax=ax, shrink=1)\n",
    "    cb.set_label(label=\"depth [m]\", size=12)\n",
    "    plt.tight_layout()\n",
    "    plt.savefig(\"figs/Oslofjord-bathymetry.pdf\", dpi=200)\n",
    "\n",
    "\n",
    "    fig, ax = plt.subplots()\n",
    "    im = ax.imshow(mld, \n",
    "                    vmin=0, vmax=10,\n",
    "                    cmap=cmap, extent=domain_extent)\n",
    "    cb = plt.colorbar(im, ax=ax, shrink=1)\n",
    "    cb.set_label(label=\"depth [m]\", size=12)\n",
    "    plt.tight_layout()\n",
    "    plt.savefig(\"figs/Oslofjord-mld.pdf\", dpi=200)\n",
    "\n",
    "\n",
    "    fig, ax = plt.subplots()\n",
    "    im = ax.imshow(np.abs(mld.data - backup_mld.data), cmap=\"Reds\")\n",
    "    plt.colorbar(im, ax=ax, shrink=0.5)\n",
    "    ax.set_title(\"Corrected values\")\n"
   ]
  },
  {
   "cell_type": "markdown",
   "metadata": {},
   "source": [
    "Check densities"
   ]
  },
  {
   "cell_type": "code",
   "execution_count": null,
   "metadata": {},
   "outputs": [],
   "source": [
    "y_cut = 120"
   ]
  },
  {
   "cell_type": "code",
   "execution_count": null,
   "metadata": {},
   "outputs": [],
   "source": [
    "H_m = nc[\"h\"][y0:y1,x0:x1]\n",
    "\n",
    "u = 0.5*(nc[\"u\"][t,:,y0:y1,x0:x1]+nc[\"u\"][t,:,y0:y1,x0+1:x1+1])\n",
    "v = 0.5*(nc[\"v\"][t,:,y0:y1,x0:x1]+nc[\"v\"][t,:,y0+1:y1+1,x0:x1])\n",
    "\n",
    "integrator = NetCDFInitialization.MLD_integrator(source_url, mld, x0=x0, x1=x1, y0=y0, y1=y1)\n",
    "hu = np.ma.array(np.sum(integrator * u, axis=0), mask=1-nc[\"mask_rho\"][y0:y1,x0:x1])\n",
    "hv = np.ma.array(np.sum(integrator * v, axis=0), mask=1-nc[\"mask_rho\"][y0:y1,x0:x1])\n",
    "\n",
    "u = hu/mld\n",
    "v = hv/mld\n",
    "velocity = np.sqrt(u*u + v*v)\n",
    "\n",
    "ny, nx = velocity.shape\n",
    "dx, dy = 0.050, 0.050\n",
    "domain_extent = [0, nx*dx, 0, ny*dy]\n",
    "\n",
    "frequency_x = 10\n",
    "frequency_y = 10\n",
    "x = np.arange(0, velocity.shape[1], frequency_x)*dx\n",
    "y = np.arange(0, velocity.shape[0], frequency_y)*dy\n",
    "qu = u[::frequency_y, ::frequency_x]\n",
    "qv = v[::frequency_y, ::frequency_x]\n",
    "\n",
    "\n",
    "with plt.rc_context({'lines.color':'black', \n",
    "                        'text.color':'black', \n",
    "                        'axes.labelcolor':'black', \n",
    "                        'xtick.color':'black',\n",
    "                        'ytick.color':'black'}):\n",
    "    fig, ax = plt.subplots()\n",
    "\n",
    "    # ax.tick_params(colors='black')\n",
    "    ax.xaxis.label.set_color('black')\n",
    "\n",
    "    velo_cmap = plt.cm.Reds\n",
    "    velo_cmap.set_bad(\"grey\", alpha = 1.0)\n",
    "\n",
    "    im = ax.imshow(velocity, interpolation=\"none\", origin='lower', \n",
    "                        cmap=velo_cmap,\n",
    "                        vmin=0, vmax=1.0,\n",
    "                        extent=domain_extent)\n",
    "    ax.quiver(x,y,qu,qv, scale=5)\n",
    "\n",
    "    cb = plt.colorbar(im, ax=ax, shrink=1)\n",
    "    cb.set_label(label=\"velocity $\\left[ \\\\frac{m}{s} \\\\right]$\", size=12)\n",
    "    \n",
    "    ax.axvline(x=y_cut*dx, c=\"black\")\n",
    "\n",
    "    plt.tight_layout()\n",
    "\n",
    "    # plt.savefig(\"figs/PotDensLine.pdf\", dpi=200)\n",
    "\n",
    "print(str(datetime.datetime.utcfromtimestamp(nc[\"ocean_time\"][t]).strftime('%Y-%m-%d %H:%M:%S')))\n"
   ]
  },
  {
   "cell_type": "code",
   "execution_count": null,
   "metadata": {},
   "outputs": [],
   "source": [
    "\n",
    "s_pot_densities = NetCDFInitialization.potentialDensities(source_url, t=t, x0=x0, x1=x1, y0=y0, y1=y1)\n",
    "\n",
    "s_nc = Dataset(source_url)\n",
    "s_hs   = s_nc[\"h\"][y0:y1,x0:x1]\n",
    "s_rhos = s_nc[\"Cs_r\"][:]\n",
    "\n",
    "depth_show = 25\n",
    "s_pot_densities_show = np.ma.array(np.zeros((s_pot_densities.shape[1],depth_show)))\n",
    "s_pot_densities_show[:,0] =  s_pot_densities[-1][:,y_cut]\n",
    "for d in range(1,depth_show):\n",
    "    dens_low = np.sum(NetCDFInitialization.MLD_integrator(source_url, np.ma.array(d*np.ones_like(mld),mask=False), t=t, x0=x0, x1=x1, y0=y0, y1=y1) * s_pot_densities, axis=0)\n",
    "    if d == 1:\n",
    "        dens_up = 0.0\n",
    "    else:\n",
    "        dens_up  = np.sum(NetCDFInitialization.MLD_integrator(source_url, np.ma.array((d-1)*np.ones_like(mld),mask=False), t=t, x0=x0, x1=x1, y0=y0, y1=y1) * s_pot_densities, axis=0)\n",
    "    s_pot_densities_show[:,d] =  (dens_low - dens_up)[:,y_cut]\n",
    "s_pot_densities_show.mask = (s_pot_densities_show<1000.0)\n",
    "\n",
    "plt.figure(figsize=(15,5))\n",
    "plt.imshow(s_pot_densities_show.T, origin=\"upper\", cmap=\"plasma\",  aspect='auto', vmin=1020, vmax=1025)\n",
    "plt.colorbar()\n",
    "plt.scatter(np.arange(s_pot_densities.shape[1]), mld[:,y_cut])"
   ]
  },
  {
   "cell_type": "code",
   "execution_count": null,
   "metadata": {},
   "outputs": [],
   "source": [
    "data_args[\"t\"] = np.float32(nc[\"ocean_time\"][11].data)\n",
    "print(\"Simulation start time = \" + str(datetime.datetime.utcfromtimestamp(data_args[\"t\"]).strftime('%Y-%m-%d %H:%M:%S')))\n",
    "# data_args[\"t\"] = 0.0 # FIXME: Time adjust forcing!!! (BC_data, wind)"
   ]
  },
  {
   "cell_type": "code",
   "execution_count": null,
   "metadata": {},
   "outputs": [],
   "source": [
    "# anim = animation_utils.densAnimation(source_url, 120, [3*24, 6*24], ROMS_coord=[x0,x1,y0,y1], comment=\"FjordOS\")\n",
    "# anim.save('PotDens.gif', fps=2, dpi=200)\n",
    "# anim"
   ]
  },
  {
   "cell_type": "code",
   "execution_count": null,
   "metadata": {},
   "outputs": [],
   "source": [
    "# anim = animation_utils.mldAnimation(source_url, t_range=[3*24, 6*24], ROMS_coord=[x0,x1,y0,y1], comment=\"MLD (FjordOS)\")\n",
    "# anim.save('FjordOS-MixedLayerDepth.gif', fps=2, dpi=200)\n",
    "# anim"
   ]
  },
  {
   "cell_type": "code",
   "execution_count": null,
   "metadata": {},
   "outputs": [],
   "source": [
    "# anim = animation_utils.ncAnimation(source_url, \"ROMS\", t_range=[3*24, 6*24], ROMS_upper_layer=True, ROMS_upper_layer_coord=[x0,x1,y0,y1], comment=\"Uppper layer of FjordOS\")\n",
    "# anim.save('FjordOS-MixedLayer.mp4')\n",
    "# anim"
   ]
  },
  {
   "cell_type": "markdown",
   "metadata": {},
   "source": [
    "#### Baroclinic model"
   ]
  },
  {
   "cell_type": "code",
   "execution_count": null,
   "metadata": {},
   "outputs": [],
   "source": [
    "H = 0.0"
   ]
  },
  {
   "cell_type": "code",
   "execution_count": null,
   "metadata": {},
   "outputs": [],
   "source": [
    "H_m_data = nc.variables['h'][y0-1:y1+1, x0-1:x1+1]\n",
    "H_m_mask = (H_m_data == 0.0)\n",
    "H_m = np.ma.array(H_m_data, mask=H_m_mask)\n",
    "H_i = OceanographicUtilities.midpointsToIntersections(H_m, land_value=0.0, iterations=10)[0]\n",
    "\n",
    "data_args[\"H\"] = np.ma.array(H*np.ones_like(H_i), mask=H_i.mask.copy(), dtype=np.float32)"
   ]
  },
  {
   "cell_type": "markdown",
   "metadata": {},
   "source": [
    "ML integrated data"
   ]
  },
  {
   "cell_type": "code",
   "execution_count": null,
   "metadata": {},
   "outputs": [],
   "source": [
    "ml_integrator = NetCDFInitialization.MLD_integrator(source_url, mld, x0=x0, x1=x1, y0=y0, y1=y1)"
   ]
  },
  {
   "cell_type": "code",
   "execution_count": null,
   "metadata": {},
   "outputs": [],
   "source": [
    "nc = Dataset(source_url)\n",
    "u0 = nc.variables['u'][t, :, y0:y1, x0:x1+1]\n",
    "v0 = nc.variables['v'][t, :, y0:y1+1, x0:x1]\n",
    "#Find u,v at cell centers\n",
    "u0 = u0.filled(fill_value = 0.0)\n",
    "v0 = v0.filled(fill_value = 0.0)\n",
    "\n",
    "u0 = (u0[:, :,1:] + u0[:, :, :-1]) * 0.5\n",
    "v0 = (v0[:, 1:,:] + v0[:, :-1, :]) * 0.5\n",
    "\n",
    "data_args[\"eta0\"] = mld\n",
    "data_args[\"hu0\"] = np.sum(ml_integrator * u0, axis=0)\n",
    "data_args[\"hv0\"] = np.sum(ml_integrator * v0, axis=0)"
   ]
  },
  {
   "cell_type": "code",
   "execution_count": null,
   "metadata": {},
   "outputs": [],
   "source": [
    "s_pot_densities = NetCDFInitialization.potentialDensities(source_url, t=t, x0=x0, x1=x1, y0=y0, y1=y1)\n",
    "ml_pot_density = np.average(np.sum(ml_integrator * s_pot_densities, axis=0)/np.sum(ml_integrator, axis=0)) #NOTE: np.sum(integrator, axis=0)) = mld\n",
    "\n",
    "inverse_integrator = np.ma.array(np.ones_like(ml_integrator), mask=ml_integrator.mask.copy()) - ml_integrator\n",
    "deep_pot_density  = np.average(np.sum(inverse_integrator * s_pot_densities, axis=0)/np.sum(inverse_integrator, axis=0))\n",
    "\n",
    "eps = (deep_pot_density - ml_pot_density)/deep_pot_density\n",
    "\n",
    "data_args[\"g\"] = eps * 9.81\n",
    "data_args[\"g\"]"
   ]
  },
  {
   "cell_type": "markdown",
   "metadata": {},
   "source": [
    "Artifical data"
   ]
  },
  {
   "cell_type": "code",
   "execution_count": null,
   "metadata": {},
   "outputs": [],
   "source": [
    "mld = np.ma.array( 10.0*np.ones_like(mld), mask=copy.copy(mld.mask) )\n",
    "\n",
    "data_args[\"eta0\"] = np.ma.array(mld.data - H, mask=copy.copy(mld.mask))"
   ]
  },
  {
   "cell_type": "code",
   "execution_count": null,
   "metadata": {},
   "outputs": [],
   "source": [
    "init_mld_south = 5\n",
    "init_mld_north = 10\n",
    "\n",
    "mld.data[0:430] = init_mld_south*np.ones((430,mld.shape[1])) + (init_mld_north - init_mld_south)*np.ones((430,mld.shape[1]))*np.arange(0,1,1/430)[:,np.newaxis]\n",
    "mld.data[430:] = init_mld_north\n",
    "mld.data[:,235:] = init_mld_north\n",
    "mld = NetCDFInitialization.fill_coastal_data(mld)\n",
    "\n",
    "data_args[\"eta0\"] = np.ma.array(mld.data - H, mask=copy.copy(mld.mask))"
   ]
  },
  {
   "cell_type": "code",
   "execution_count": null,
   "metadata": {},
   "outputs": [],
   "source": [
    "# Starting from lake at rest\n",
    "data_args[\"hu0\"] = np.ma.array(np.zeros_like(mld), mask=copy.copy(mld.mask))\n",
    "data_args[\"hv0\"] = np.ma.array(np.zeros_like(mld), mask=copy.copy(mld.mask))"
   ]
  },
  {
   "cell_type": "code",
   "execution_count": null,
   "metadata": {},
   "outputs": [],
   "source": [
    "data_args[\"g\"] = 0.01"
   ]
  },
  {
   "cell_type": "code",
   "execution_count": null,
   "metadata": {},
   "outputs": [],
   "source": [
    "data_args[\"r\"] = 3.0e-3"
   ]
  },
  {
   "cell_type": "markdown",
   "metadata": {},
   "source": [
    "Set-up osciallating BC"
   ]
  },
  {
   "cell_type": "code",
   "execution_count": null,
   "metadata": {},
   "outputs": [],
   "source": [
    "T = 5*24*3600  #Input"
   ]
  },
  {
   "cell_type": "code",
   "execution_count": null,
   "metadata": {},
   "outputs": [],
   "source": [
    "from gpuocean.utils import Common"
   ]
  },
  {
   "cell_type": "code",
   "execution_count": null,
   "metadata": {},
   "outputs": [],
   "source": [
    "data_args['boundary_conditions'] = Common.BoundaryConditions(north=3, south=3, east=3, west=3, spongeCells={'north':20, 'south': 20, 'east': 20, 'west': 20})"
   ]
  },
  {
   "cell_type": "code",
   "execution_count": null,
   "metadata": {},
   "outputs": [],
   "source": [
    "plt.plot(np.arange(0,mld.shape[1]),mld[0].filled(0.0))\n",
    "plt.axvline(x=165, c=\"red\")"
   ]
  },
  {
   "cell_type": "code",
   "execution_count": null,
   "metadata": {},
   "outputs": [],
   "source": [
    "t_step = 3600\n",
    "T_steps = int(np.ceil(T/t_step)+1)\n",
    "\n",
    "ts = data_args[\"t\"] + np.arange(0, T+1, step=t_step)"
   ]
  },
  {
   "cell_type": "code",
   "execution_count": null,
   "metadata": {},
   "outputs": [],
   "source": [
    "ampl_v = 0.3 #Input\n",
    "freq = 12*3600 \n",
    "bc_v_ref = ampl_v * np.cos(2*np.pi*ts/freq)[:,np.newaxis] \n",
    "\n",
    "bc_v = np.zeros((T_steps, NX))\n",
    "bc_v[:,165:] = np.ones((T_steps, NX-165)) * bc_v_ref"
   ]
  },
  {
   "cell_type": "code",
   "execution_count": null,
   "metadata": {},
   "outputs": [],
   "source": [
    "plt.title(\"current forcing from the south boundary\")\n",
    "plt.plot(((ts-ts[0])/3600),bc_v[:,170])\n",
    "plt.xlabel(\"time [h]\")\n",
    "plt.ylabel(\"u [m^2/s]\")"
   ]
  },
  {
   "cell_type": "code",
   "execution_count": null,
   "metadata": {},
   "outputs": [],
   "source": [
    "bc_h = mld[0].data*np.ones((T_steps,NX)) #np.tile(mld[0], (T_steps,1))\n",
    "\n",
    "ampl_h = 3.0\n",
    "bc_h[:,165:] = bc_h[:,165:] + ampl_h*np.ones_like(bc_h[:,165:])*np.cos(2*np.pi*ts/freq)[:,np.newaxis]\n",
    "\n",
    "bc_hv = bc_h*bc_v\n",
    "\n",
    "bc_h = bc_h - H\n",
    "\n",
    "south = Common.SingleBoundaryConditionData(h=bc_h.astype(np.float32), hu=np.zeros((T_steps, NX), dtype=np.float32), hv=bc_hv.astype(np.float32))\n",
    "north = Common.SingleBoundaryConditionData(h=np.zeros((T_steps, NX), dtype=np.float32), hu=np.zeros((T_steps, NX), dtype=np.float32), hv=np.zeros((T_steps, NX), dtype=np.float32))\n",
    "east  = Common.SingleBoundaryConditionData(h=np.zeros((T_steps, NY), dtype=np.float32), hu=np.zeros((T_steps, NY), dtype=np.float32), hv=np.zeros((T_steps, NY), dtype=np.float32))\n",
    "west  = Common.SingleBoundaryConditionData(h=np.zeros((T_steps, NY), dtype=np.float32), hu=np.zeros((T_steps, NY), dtype=np.float32), hv=np.zeros((T_steps, NY), dtype=np.float32))\n",
    "\n",
    "data_args[\"boundary_conditions_data\"] = Common.BoundaryConditionsData(ts, north=north, south=south, east=east, west=west)"
   ]
  },
  {
   "attachments": {},
   "cell_type": "markdown",
   "metadata": {},
   "source": [
    "Wind forcing"
   ]
  },
  {
   "cell_type": "code",
   "execution_count": null,
   "metadata": {},
   "outputs": [],
   "source": [
    "wind_u_ref = np.zeros(24)\n",
    "wind_u_ref[:10] = -0.5*(np.sin(2*np.pi*(np.arange(0,10)-2.5)/10)+1)\n",
    "wind_u_ref[10:] = 5*(np.sin(2*np.pi*(np.arange(10,24)+0.5)/14)+1)\n",
    "\n",
    "plt.title(\"Wind in y-direction\")\n",
    "plt.plot(wind_u_ref)\n",
    "plt.xlabel(\"hours in day\")\n",
    "plt.ylabel(\"wind speed [m/s]\")"
   ]
  },
  {
   "cell_type": "code",
   "execution_count": null,
   "metadata": {},
   "outputs": [],
   "source": [
    "wind_angle = np.deg2rad(45.0)\n",
    "\n",
    "wind_u = (np.int32(np.ceil((T_steps)/24)) * list(np.cos(wind_angle)*wind_u_ref[:,np.newaxis][:,np.newaxis].astype(np.float32)))[0:len(ts)]\n",
    "wind_v = (len(wind_u) *list(np.sin(wind_angle)*wind_u_ref[:,np.newaxis][:,np.newaxis].astype(np.float32)))[0:len(ts)]"
   ]
  },
  {
   "cell_type": "code",
   "execution_count": null,
   "metadata": {},
   "outputs": [],
   "source": [
    "from gpuocean.utils import WindStress\n",
    "wind = WindStress.WindStress(t=ts, wind_u=wind_v, wind_v=wind_u)\n",
    "wind.compute_wind_stress_from_wind()"
   ]
  },
  {
   "cell_type": "markdown",
   "metadata": {},
   "source": [
    "New Wind Stress?"
   ]
  },
  {
   "cell_type": "code",
   "execution_count": null,
   "metadata": {},
   "outputs": [],
   "source": [
    "# zref  = 10.0\n",
    "# kappa = 0.4 #https://en.wikipedia.org/wiki/Von_K%C3%A1rm%C3%A1n_constant\n",
    "# z0min = 1.5e-5\n",
    "# beta  = 0.018\n",
    "# g     = 0.01\n",
    "# rhoa  = 1.2923 # Reference density of dry air\n",
    "# B     = beta/g\n",
    "# taux  = []\n",
    "# tauy  = []\n",
    "\n",
    "# CORR = 0.1\n",
    "# print(\"THE WIND SPEEDS WERE SCALED BY \", CORR)\n",
    "\n",
    "# for i in range(0,len(wind_u)):\n",
    "#     vind   = ( np.array(CORR*wind_u[i])**2 + np.array(CORR*wind_v[i])**2)**0.5\n",
    "#     us2    = np.ones_like(vind)*0.1\n",
    "#     z0     = np.ones((2,vind.shape[0],vind.shape[1]),dtype=np.float32)*z0min\n",
    "#     us2min = 1e-3\n",
    "#     us2old = us2*0.0\n",
    "#     n = 0\n",
    "#     while ( max( abs(np.min(us2 - us2old)),abs(np.max( us2 - us2old ))) > us2min):\n",
    "#         n+=1\n",
    "#         us2old    = us2\n",
    "#         z0[0,:,:] = B*us2\n",
    "#         us2       = ((kappa*vind)/(np.log(zref/np.max(z0,0))))**2\n",
    "#     vind = np.where(vind<0.1, 0.1, vind)\n",
    "#     #\n",
    "#     taux.append(rhoa*us2*np.array(CORR*wind_u[i])/vind)\n",
    "#     tauy.append(rhoa*us2*np.array(CORR*wind_v[i])[:,:]/vind)"
   ]
  },
  {
   "cell_type": "code",
   "execution_count": null,
   "metadata": {},
   "outputs": [],
   "source": [
    "# plt.plot(np.array(wind.stress_v).flatten()[0:24], label=\"gpuocean\")\n",
    "# plt.plot(np.array(taux).flatten()[0:24], label=\"Hiram - wrong scaling?\")\n",
    "# plt.title(\"Wind Stress from wind\")\n",
    "# plt.legend(labelcolor=\"black\")\n"
   ]
  },
  {
   "cell_type": "code",
   "execution_count": null,
   "metadata": {},
   "outputs": [],
   "source": [
    "from gpuocean.utils import WindStress\n",
    "data_args[\"wind\"] = WindStress.WindStress(t=[0],stress_u=[np.array([[0.0]], dtype=np.float32)],stress_v=[np.array([[0.0]], dtype=np.float32)])"
   ]
  },
  {
   "cell_type": "code",
   "execution_count": null,
   "metadata": {},
   "outputs": [],
   "source": [
    "wind_scaling = 0.75*1e-5\n",
    "\n",
    "wind_stress_u = copy.deepcopy(wind_u)\n",
    "wind_stress_v = copy.deepcopy(wind_v)\n",
    "for t_idx in range(len(wind_stress_u)):\n",
    "    wind_stress_u[t_idx] = wind_scaling*wind_stress_u[t_idx]\n",
    "    wind_stress_v[t_idx] = wind_scaling*wind_stress_v[t_idx]\n",
    "\n",
    "data_args[\"wind\"] = WindStress.WindStress(t=ts, stress_u=wind_stress_v, stress_v=wind_stress_u)\n",
    "\n",
    "plt.plot(np.array(wind_stress_u).flatten()[0:24], label=\"artificial MLD wind stress\")\n",
    "plt.plot(np.array(wind.stress_v).flatten()[0:24], label=\"gpuocean wind stress\")\n",
    "plt.legend(labelcolor=\"black\")"
   ]
  },
  {
   "cell_type": "markdown",
   "metadata": {},
   "source": [
    "Run simulation"
   ]
  },
  {
   "cell_type": "code",
   "execution_count": null,
   "metadata": {},
   "outputs": [],
   "source": [
    "from gpuocean.SWEsimulators import CDKLM16\n",
    "sim = CDKLM16.CDKLM16(gpu_ctx, dt=0.0,  **NetCDFInitialization.removeMetadata(data_args), write_netcdf=True)"
   ]
  },
  {
   "cell_type": "code",
   "execution_count": null,
   "metadata": {},
   "outputs": [],
   "source": [
    "subt = 3600\n",
    "for runt in range(int(T/subt)):#range(len(ds.ocean_time)):\n",
    "    sim.step(subt)\n",
    "\n",
    "if runt*subt > T:\n",
    "    print(\"Boundary conditions too short!\")"
   ]
  },
  {
   "cell_type": "code",
   "execution_count": null,
   "metadata": {},
   "outputs": [],
   "source": [
    "anim = animation_utils.ncAnimation(sim.sim_writer.output_file_name, \"gpuocean-reduced_grav\")"
   ]
  },
  {
   "cell_type": "code",
   "execution_count": null,
   "metadata": {},
   "outputs": [],
   "source": [
    "anim"
   ]
  },
  {
   "cell_type": "code",
   "execution_count": null,
   "metadata": {},
   "outputs": [],
   "source": [
    "# with plt.rc_context({'lines.color':'black', \n",
    "#                         'text.color':'black', \n",
    "#                         'axes.labelcolor':'black', \n",
    "#                         'xtick.color':'black',\n",
    "#                         'ytick.color':'black'}):\n",
    "#     anim = animation_utils.ncAnimation(sim.sim_writer.output_file_name, \"gpuocean-reduced_grav\", comment=\"GPUOcean\")\n",
    "#     anim.save(\"anims/GPUOceanSimulation-FjordOSInit+all.mp4\")"
   ]
  },
  {
   "cell_type": "code",
   "execution_count": null,
   "metadata": {},
   "outputs": [],
   "source": [
    "sim.g"
   ]
  }
 ],
 "metadata": {
  "kernelspec": {
   "display_name": "Python 3.7.12 ('gpuocean_opendrift')",
   "language": "python",
   "name": "python3"
  },
  "language_info": {
   "codemirror_mode": {
    "name": "ipython",
    "version": 3
   },
   "file_extension": ".py",
   "mimetype": "text/x-python",
   "name": "python",
   "nbconvert_exporter": "python",
   "pygments_lexer": "ipython3",
   "version": "3.7.12 | packaged by conda-forge | (default, Oct 26 2021, 06:08:53) \n[GCC 9.4.0]"
  },
  "orig_nbformat": 4,
  "vscode": {
   "interpreter": {
    "hash": "3048633266a8aca5c85f16c1ee57ccad146141feb66febf24dcb8304467d1440"
   }
  }
 },
 "nbformat": 4,
 "nbformat_minor": 2
}
