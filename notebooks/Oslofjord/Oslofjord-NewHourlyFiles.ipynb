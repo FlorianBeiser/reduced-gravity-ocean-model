{
 "cells": [
  {
   "cell_type": "markdown",
   "metadata": {},
   "source": [
    "```\n",
    "This notebook sets up and runs a test case for analyzing Kelvin waves\n",
    "Copyright (C) 2018 - 2022 SINTEF Digital\n",
    "Copyright (C) 2018 - 2022 Norwegian Meteorological Institute\n",
    "\n",
    "This program is free software: you can redistribute it and/or modify\n",
    "it under the terms of the GNU General Public License as published by\n",
    "the Free Software Foundation, either version 3 of the License, or\n",
    "(at your option) any later version.\n",
    "\n",
    "This program is distributed in the hope that it will be useful,\n",
    "but WITHOUT ANY WARRANTY; without even the implied warranty of\n",
    "MERCHANTABILITY or FITNESS FOR A PARTICULAR PURPOSE.  See the\n",
    "GNU General Public License for more details.\n",
    "\n",
    "You should have received a copy of the GNU General Public License\n",
    "along with this program.  If not, see <http://www.gnu.org/licenses/>.\n",
    "```"
   ]
  },
  {
   "cell_type": "code",
   "execution_count": null,
   "metadata": {},
   "outputs": [],
   "source": [
    "import sys\n",
    "gpuocean_path = [p[:-4] for p in sys.path if p.endswith(\"gpuocean/src\")][0]\n",
    "import git\n",
    "repo = git.Repo(gpuocean_path)\n",
    "print(\"GPUOcean code from:\", repo.head.object.hexsha, \"on branch\", repo.active_branch.name)"
   ]
  },
  {
   "cell_type": "markdown",
   "metadata": {},
   "source": [
    "# Oslofjord\n",
    "Testing of Nils projected files"
   ]
  },
  {
   "cell_type": "code",
   "execution_count": null,
   "metadata": {},
   "outputs": [],
   "source": [
    "#Lets have matplotlib \"inline\"\n",
    "%matplotlib inline\n",
    "\n",
    "import os\n",
    "import sys\n",
    "\n",
    "#Import packages we need\n",
    "import numpy as np\n",
    "from netCDF4 import Dataset\n",
    "import datetime, copy\n",
    "from IPython.display import display\n",
    "\n",
    "#For plotting\n",
    "import matplotlib\n",
    "from matplotlib import pyplot as plt\n",
    "\n",
    "plt.rcParams[\"lines.color\"] = \"w\"\n",
    "plt.rcParams[\"text.color\"] = \"w\"\n",
    "plt.rcParams[\"axes.labelcolor\"] = \"w\"\n",
    "plt.rcParams[\"xtick.color\"] = \"w\"\n",
    "plt.rcParams[\"ytick.color\"] = \"w\"\n",
    "\n",
    "plt.rcParams[\"image.origin\"] = \"lower\""
   ]
  },
  {
   "cell_type": "code",
   "execution_count": null,
   "metadata": {},
   "outputs": [],
   "source": [
    "from gpuocean.utils import IPythonMagic, NetCDFInitialization"
   ]
  },
  {
   "cell_type": "code",
   "execution_count": null,
   "metadata": {},
   "outputs": [],
   "source": [
    "%cuda_context_handler gpu_ctx"
   ]
  },
  {
   "cell_type": "markdown",
   "metadata": {},
   "source": [
    "Path to the test file"
   ]
  },
  {
   "cell_type": "code",
   "execution_count": null,
   "metadata": {},
   "outputs": [],
   "source": [
    "source_url = \"/sintef/data/OsloFjord/test_polstere_1h_0007.nc\""
   ]
  },
  {
   "cell_type": "markdown",
   "metadata": {},
   "source": [
    "## Inspecting file structure and content"
   ]
  },
  {
   "cell_type": "code",
   "execution_count": null,
   "metadata": {},
   "outputs": [],
   "source": [
    "import xarray as xr\n",
    "ds = xr.open_dataset(source_url)\n",
    "ds"
   ]
  },
  {
   "cell_type": "code",
   "execution_count": null,
   "metadata": {},
   "outputs": [],
   "source": [
    "from netCDF4 import Dataset\n",
    "nc = Dataset(source_url)\n",
    "\n",
    "H_m = np.ma.array(nc[\"h\"][1:-1,1:-1], mask=(1-nc[\"mask_rho\"][1:-1,1:-1]))\n",
    "\n",
    "fig = plt.figure(figsize=(12,10))\n",
    "plt.imshow(H_m)\n",
    "plt.suptitle(\"Bathymetry\")\n",
    "plt.tight_layout()"
   ]
  },
  {
   "cell_type": "markdown",
   "metadata": {},
   "source": [
    "Animation utils"
   ]
  },
  {
   "cell_type": "code",
   "execution_count": null,
   "metadata": {},
   "outputs": [],
   "source": [
    "from IPython.display import clear_output\n",
    "from matplotlib import animation, rc\n",
    "plt.rcParams[\"animation.html\"] = \"jshtml\"\n",
    "from mpl_toolkits.axes_grid1 import make_axes_locatable\n",
    "\n",
    "from gpuocean.utils import PlotHelper\n",
    "from gpuocean.utils.NetCDFInitialization import depth_integration\n",
    "\n",
    "def plotSolution(fig, \n",
    "                 eta, hu, hv, h, dx, dy, \n",
    "                 t, red_grav_mode=False,\n",
    "                 comment = \"Oslo\",\n",
    "                 h_min=-0.25, h_max=0.25, \n",
    "                 uv_min=-5, uv_max=5,\n",
    "                 ax=None, sp=None, quiv=None):\n",
    "\n",
    "\n",
    "    from datetime import timedelta\n",
    "    fig.suptitle(\"Time = \" + str(datetime.datetime.utcfromtimestamp(t).strftime('%Y-%m-%d %H:%M:%S')) + \" \" + comment, \n",
    "                 fontsize=18,\n",
    "                 horizontalalignment='left')\n",
    "    \n",
    "    ny, nx = eta.shape\n",
    "    domain_extent = [0, nx*dx, 0, ny*dy]\n",
    "    \n",
    "    x_plots = 4\n",
    "    y_plots = 1\n",
    "   \n",
    "    huv_label = [\"hv\",\"hu\"]\n",
    "\n",
    "    # Prepare quiver\n",
    "    u = hu/(h+eta)\n",
    "    v = hv/(h+eta)\n",
    "    velocity = np.sqrt(u*u + v*v)\n",
    "    \n",
    "    frequency_x = 10\n",
    "    frequency_y = 10\n",
    "    x = np.arange(0, velocity.shape[1], frequency_x)*dx\n",
    "    y = np.arange(0, velocity.shape[0], frequency_y)*dy\n",
    "    qu = u[::frequency_y, ::frequency_x]\n",
    "    qv = v[::frequency_y, ::frequency_x]\n",
    "\n",
    "    if red_grav_mode:\n",
    "        eta = -(h+eta)\n",
    "        h_min = -15\n",
    "        h_max = 0\n",
    "\n",
    "    if (ax is None):\n",
    "        ax = [None]*x_plots*y_plots\n",
    "        sp = [None]*x_plots*y_plots\n",
    "\n",
    "        uv_cmap = plt.cm.coolwarm\n",
    "        uv_cmap.set_bad(\"grey\", alpha = 1.0)\n",
    "        \n",
    "        h_cmap = plt.cm.coolwarm\n",
    "        h_cmap.set_bad(\"grey\", alpha = 1.0)\n",
    "        if red_grav_mode:\n",
    "            h_cmap = plt.cm.Blues_r\n",
    "            h_cmap.set_bad(\"grey\", alpha = 1.0)\n",
    "\n",
    "        velo_cmap = plt.cm.Reds\n",
    "        velo_cmap.set_bad(\"grey\", alpha = 1.0)\n",
    "\n",
    "        ax[0] = plt.subplot(y_plots, x_plots, 1)\n",
    "        sp[0] = ax[0].imshow(eta, interpolation=\"none\", origin='lower', \n",
    "                             cmap=h_cmap, \n",
    "                             vmin=h_min, vmax=h_max, \n",
    "                             extent=domain_extent)\n",
    "        plt.axis('image')\n",
    "        plt.title(\"MLD\")\n",
    "        divider0 = make_axes_locatable(ax[0])\n",
    "        cax0 = divider0.append_axes('right', size='5%', pad=0.05)\n",
    "        fig.colorbar(sp[0],cax=cax0)\n",
    "\n",
    "\n",
    "        ax[1] = plt.subplot(y_plots, x_plots, 2)\n",
    "        sp[1] = ax[1].imshow(hu, interpolation=\"none\", origin='lower', \n",
    "                            cmap=uv_cmap, \n",
    "                            vmin=uv_min, vmax=uv_max, \n",
    "                            extent=domain_extent)\n",
    "        plt.axis('image')\n",
    "        plt.title(\"$\"+huv_label[0]+\"$\")\n",
    "        divider1 = make_axes_locatable(ax[1])\n",
    "        cax1 = divider1.append_axes('right', size='5%', pad=0.05)\n",
    "        fig.colorbar(sp[1],cax=cax1)\n",
    "\n",
    "\n",
    "\n",
    "        ax[2] = plt.subplot(y_plots, x_plots, 3)\n",
    "        sp[2] = ax[2].imshow(hv, interpolation=\"none\", origin='lower', \n",
    "                             cmap=uv_cmap, \n",
    "                             vmin=uv_min, vmax=uv_max, \n",
    "                             extent=domain_extent)\n",
    "        plt.axis('image')\n",
    "        plt.title(\"$\"+huv_label[1]+\"$\")\n",
    "        divider2 = make_axes_locatable(ax[2])\n",
    "        cax2 = divider2.append_axes('right', size='5%', pad=0.05)\n",
    "        fig.colorbar(sp[2],cax=cax2)\n",
    "\n",
    "        ax[3] = plt.subplot(y_plots, x_plots, 4)\n",
    "        sp[3] = ax[3].imshow(velocity, interpolation=\"none\", origin='lower', \n",
    "                             cmap=\"Reds\", \n",
    "                             vmin=0, vmax=1.0, \n",
    "                             extent=domain_extent)\n",
    "        quiv = ax[3].quiver(x,y,qu,qv, scale=1)\n",
    "        plt.axis('image')\n",
    "        plt.title(\"velocity\")\n",
    "        divider2 = make_axes_locatable(ax[3])\n",
    "        cax3 = divider2.append_axes('right', size='5%', pad=0.05)\n",
    "        fig.colorbar(sp[3],cax=cax3)\n",
    "\n",
    "        plt.tight_layout()\n",
    "            \n",
    "    else:        \n",
    "        #Update plots\n",
    "        fig.sca(ax[0])\n",
    "        sp[0].set_data(eta)\n",
    "\n",
    "        fig.sca(ax[1])\n",
    "        sp[1].set_data(hu)\n",
    "        \n",
    "        fig.sca(ax[2])\n",
    "        sp[2].set_data(hv)\n",
    "\n",
    "        fig.sca(ax[3])\n",
    "        sp[3].set_data(velocity)\n",
    "        quiv.set_UVC(qu, qv)\n",
    "    \n",
    "    return ax, sp, quiv\n",
    "\n",
    "\n",
    "def ncAnimation(filename, nctype, t_range=[0, None], ROMS_upper_layer=None, ROMS_upper_layer_coord=[0,None,0,None], comment=\"\",**kwargs):\n",
    "    #Create figure and plot initial conditions\n",
    "    fig = plt.figure(figsize=(20, 6))\n",
    "\n",
    "    ncfile = Dataset(filename)\n",
    "\n",
    "    red_grav_mode = False\n",
    "\n",
    "    if nctype == \"ROMS\":\n",
    "        t_start = t_range[0]\n",
    "        t_stop  = t_range[1]\n",
    "        t = ncfile.variables['ocean_time'][t_start:t_stop]\n",
    "\n",
    "        H_m = np.ma.array(ncfile[\"h\"][1:-1,1:-1], mask=[1-ncfile[\"mask_rho\"][1:-1,1:-1]])\n",
    "\n",
    "        if ROMS_upper_layer is None:\n",
    "            eta = np.ma.array(ncfile[\"zeta\"][:,1:-1,1:-1], mask=len(t)*[1-ncfile[\"mask_rho\"][1:-1,1:-1]])\n",
    "            try:\n",
    "                u = np.ma.array( 0.5*(ncfile[\"ubar\"][t_start:t_stop,1:-1,1:]+ncfile[\"ubar\"][t_start:t_stop,1:-1,:-1]), mask=len(t)*[1-ncfile[\"mask_rho\"][1:-1,1:-1]])\n",
    "                v = np.ma.array( 0.5*(ncfile[\"vbar\"][t_start:t_stop,1:,1:-1]+ncfile[\"vbar\"][t_start:t_stop,:-1,1:-1]), mask=len(t)*[1-ncfile[\"mask_rho\"][1:-1,1:-1]])\n",
    "\n",
    "                hu = u*H_m\n",
    "                hv = v*H_m\n",
    "            except:\n",
    "                u = 0.5*(ncfile[\"u\"][t_start:t_stop,:,1:-1,1:]+ncfile[\"u\"][t_start:t_stop,:,1:-1,:-1])\n",
    "                v = 0.5*(ncfile[\"v\"][t_start:t_stop,:,1:,1:-1]+ncfile[\"v\"][t_start:t_stop,:,:-1,1:-1])\n",
    "                \n",
    "                integrator = NetCDFInitialization.MLD_integrator(source_url, H_m, x0=1, x1=-1, y0=1, y1=-1)\n",
    "                hu = np.ma.array(np.sum(integrator * u, axis=1), mask=len(t)*[1-ncfile[\"mask_rho\"][1:-1,1:-1]])\n",
    "                hv = np.ma.array(np.sum(integrator * v, axis=1), mask=len(t)*[1-ncfile[\"mask_rho\"][1:-1,1:-1]])\n",
    "        else:\n",
    "            x0, x1 = ROMS_upper_layer_coord[0], ROMS_upper_layer_coord[1]\n",
    "            y0, y1 = ROMS_upper_layer_coord[2], ROMS_upper_layer_coord[3]\n",
    "            u = 0.5*(ncfile[\"u\"][t_start:t_stop,:,y0:y1,x0:x1]+ncfile[\"u\"][t_start:t_stop,:,y0:y1,x0+1:x1+1])\n",
    "            v = 0.5*(ncfile[\"v\"][t_start:t_stop,:,y0:y1,x0:x1]+ncfile[\"v\"][t_start:t_stop,:,y0+1:y1+1,x0:x1])\n",
    "            \n",
    "            integrator = NetCDFInitialization.MLD_integrator(source_url, ROMS_upper_layer, x0=x0, x1=x1, y0=y0, y1=y1)\n",
    "            hu = np.ma.array(np.sum(integrator * u, axis=1), mask=len(t)*[1-ncfile[\"mask_rho\"][y0:y1,x0:x1]])\n",
    "            hv = np.ma.array(np.sum(integrator * v, axis=1), mask=len(t)*[1-ncfile[\"mask_rho\"][y0:y1,x0:x1]])\n",
    "\n",
    "            eta = np.ma.array(len(t)*[ROMS_upper_layer], mask=len(t)*[ROMS_upper_layer.mask])\n",
    "            H_m = 0.0\n",
    "\n",
    "            red_grav_mode = True\n",
    "\n",
    "\n",
    "    elif nctype == \"gpuocean\":\n",
    "        t = ncfile[\"time\"][:]\n",
    "\n",
    "        eta = ncfile[\"eta\"][:]\n",
    "        hu  = ncfile[\"hu\"][:]\n",
    "        hv  = ncfile[\"hv\"][:]\n",
    "\n",
    "        H_m = ncfile[\"Hm\"][:]\n",
    "\n",
    "    elif nctype == \"gpuocean-reduced_grav\":\n",
    "        t = ncfile[\"time\"][:]\n",
    "\n",
    "        eta = ncfile[\"eta\"]\n",
    "        hu  = ncfile[\"hu\"][:]\n",
    "        hv  = ncfile[\"hv\"][:]\n",
    "\n",
    "        H_m = ncfile[\"Hm\"][:]\n",
    "        \n",
    "        red_grav_mode = True\n",
    "\n",
    "        \n",
    "\n",
    "    movie_frames = len(t)\n",
    "\n",
    "    dx = 50\n",
    "    dy = 50\n",
    "    \n",
    "    ax, sp, quiv = plotSolution(fig, \n",
    "                            eta[0],\n",
    "                            hu[0],\n",
    "                            hv[0],\n",
    "                            H_m,\n",
    "                            dx, dy, \n",
    "                            t[0], \n",
    "                            red_grav_mode,\n",
    "                            comment=comment,\n",
    "                            **kwargs)\n",
    "\n",
    "\n",
    "    #Helper function which simulates and plots the solution    \n",
    "    def animate(i):\n",
    "        t_now = t[0] + (i / (movie_frames-1)) * (t[-1] - t[0]) \n",
    "\n",
    "        k = np.searchsorted(t, t_now)\n",
    "        if (k >= eta.shape[0]):\n",
    "            k = eta.shape[0] - 1\n",
    "        j = max(0, k-1)\n",
    "        if (j == k):\n",
    "            k += 1\n",
    "        s = (t_now - t[j]) / (t[k] - t[j])\n",
    "\n",
    "        plotSolution(fig, \n",
    "                        ((1-s)*eta[j] + s*eta[k]), \n",
    "                        ((1-s)*hu[j]  + s*hu[k]), \n",
    "                        ((1-s)*hv[j]  + s*hv[k]), \n",
    "                        (H_m+(1-s)*eta[j] + s*eta[k]), \n",
    "                        dx, dy, \n",
    "                        t_now, \n",
    "                        red_grav_mode,\n",
    "                        comment=comment,\n",
    "                        **kwargs, ax=ax, sp=sp, quiv=quiv)\n",
    "\n",
    "        clear_output(wait = True)\n",
    "        #print(progress.getPrintString(i / (movie_frames-1)))\n",
    "\n",
    "    #Matplotlib for creating an animation\n",
    "    anim = animation.FuncAnimation(fig, animate, range(movie_frames), interval=250)\n",
    "    plt.close(fig)\n",
    "    \n",
    "    return anim\n"
   ]
  },
  {
   "cell_type": "markdown",
   "metadata": {},
   "source": [
    "## Generating GPUOcean Simulation from Input"
   ]
  },
  {
   "cell_type": "markdown",
   "metadata": {},
   "source": [
    "Initialisation (actually barotropic model values, but we gonna replace them bit by bit)"
   ]
  },
  {
   "cell_type": "code",
   "execution_count": null,
   "metadata": {},
   "outputs": [],
   "source": [
    "dimY, dimX = ds.h.data.shape"
   ]
  },
  {
   "cell_type": "code",
   "execution_count": null,
   "metadata": {},
   "outputs": [],
   "source": [
    "x0, x1, y0, y1 = 5, dimX-5, 135, dimY-5"
   ]
  },
  {
   "cell_type": "code",
   "execution_count": null,
   "metadata": {},
   "outputs": [],
   "source": [
    "from importlib import reload\n",
    "reload(NetCDFInitialization)\n",
    "\n",
    "data_args = NetCDFInitialization.getInitialConditions(source_url, x0, x1, y0, y1, norkyst_data=False, download_data=False, land_value=0.0, t0_index=1)"
   ]
  },
  {
   "cell_type": "code",
   "execution_count": null,
   "metadata": {},
   "outputs": [],
   "source": [
    "data_args[\"dx\"], data_args[\"dy\"]"
   ]
  },
  {
   "cell_type": "markdown",
   "metadata": {},
   "source": [
    "Check Mixed-Layer Depth"
   ]
  },
  {
   "cell_type": "code",
   "execution_count": null,
   "metadata": {},
   "outputs": [],
   "source": [
    "mld = NetCDFInitialization.MLD(source_url, 1025, min_mld=3, max_mld=40, x0=x0, x1=x1, y0=y0, y1=y1, t=1)"
   ]
  },
  {
   "cell_type": "code",
   "execution_count": null,
   "metadata": {},
   "outputs": [],
   "source": [
    "s_nc = Dataset(source_url)\n",
    "s_hs = s_nc[\"h\"][y0:y1,x0:x1]\n",
    "\n",
    "bad_yx = np.where(np.logical_or(np.abs(mld - s_hs) < 0.35*s_hs, np.abs(mld - s_hs) < 3))\n",
    "bad_mask = np.where(np.logical_and((s_hs!=0.0), np.logical_and(np.abs(mld - s_hs) > 0.35*s_hs, np.abs(mld - s_hs) > 3)),0,1)\n",
    "\n",
    "Xidx = np.arange(0, mld.shape[1])\n",
    "Yidx = np.arange(0, mld.shape[0])\n",
    "\n",
    "xx, yy = np.meshgrid(Xidx, Yidx)\n",
    "\n",
    "K = 20\n",
    "\n",
    "for i in range(len(bad_yx[0])):\n",
    "    dists = (xx-bad_yx[1][i])**2 + (yy-bad_yx[0][i])**2 + 1e5*bad_mask\n",
    "    sum = 0.0\n",
    "    for k in range(K): \n",
    "        sum += mld[np.unravel_index(dists.argmin(), dists.shape)]\n",
    "        dists[np.unravel_index(dists.argmin(), dists.shape)] = 1e5\n",
    "    mld[bad_yx[0][i],bad_yx[1][i]] = sum/K"
   ]
  },
  {
   "cell_type": "code",
   "execution_count": null,
   "metadata": {},
   "outputs": [],
   "source": [
    "mld = NetCDFInitialization.fill_coastal_data(mld)"
   ]
  },
  {
   "cell_type": "code",
   "execution_count": null,
   "metadata": {},
   "outputs": [],
   "source": [
    "fig, axs = plt.subplots(1,3,figsize=(15,10))\n",
    "\n",
    "im = axs[0].imshow(np.ma.array(ds.h.data[y0:y1,x0:x1], mask=(ds.h.data[y0:y1,x0:x1]==0)), cmap=\"cool\")\n",
    "plt.colorbar(im, ax=axs[0], shrink=0.5)\n",
    "axs[0].set_title(\"Bathymetry\")\n",
    "\n",
    "im = axs[1].imshow(mld, cmap=\"cool\", vmin=0.0, vmax=15)\n",
    "plt.colorbar(im, ax=axs[1], shrink=0.5)\n",
    "axs[1].set_title(\"MLD\")\n",
    "\n",
    "im = axs[2].imshow(bad_mask-(s_hs==0), cmap=\"Reds\")\n",
    "plt.colorbar(im, ax=axs[2], shrink=0.5)\n",
    "axs[2].set_title(\"Bad values\")\n",
    "\n"
   ]
  },
  {
   "cell_type": "code",
   "execution_count": null,
   "metadata": {},
   "outputs": [],
   "source": [
    "y_cut = 120\n",
    "\n",
    "s_pot_densities = NetCDFInitialization.potentialDensities(source_url, t=0, x0=x0, x1=x1, y0=y0, y1=y1)\n",
    "\n",
    "s_nc = Dataset(source_url)\n",
    "s_hs   = s_nc[\"h\"][y0:y1,x0:x1]\n",
    "s_rhos = s_nc[\"Cs_r\"][:]\n",
    "\n",
    "s_pot_densities_show = np.ma.array(np.zeros((s_pot_densities.shape[1],100)))\n",
    "for l in range(s_pot_densities.shape[1]):\n",
    "    d_up = 0 \n",
    "    for i in reversed(range(len(s_rhos))):\n",
    "        d = round(-(s_hs[l,y_cut]*s_rhos[i]))\n",
    "        s_pot_densities_show[l,d_up:d] = s_pot_densities[i][l,y_cut]\n",
    "        d_up = d\n",
    "s_pot_densities_show.mask = (s_pot_densities_show==0)\n",
    "\n",
    "plt.figure(figsize=(15,5))\n",
    "plt.imshow(s_pot_densities_show.T[0:50], origin=\"upper\", cmap=\"plasma\",  aspect='auto')\n",
    "plt.colorbar()\n",
    "plt.scatter(np.arange(s_pot_densities.shape[1]), mld[:,y_cut])"
   ]
  },
  {
   "cell_type": "code",
   "execution_count": null,
   "metadata": {},
   "outputs": [],
   "source": [
    "# TEMP!\n",
    "mld = np.ma.array( 5*np.ones_like(mld), mask=copy.copy(mld.mask) )"
   ]
  },
  {
   "cell_type": "code",
   "execution_count": null,
   "metadata": {},
   "outputs": [],
   "source": [
    "ncAnimation(source_url, \"ROMS\", t_range=[4*24, 7*24], ROMS_upper_layer=mld, ROMS_upper_layer_coord=[x0,x1,y0,y1], comment=\"Uppper layer of FjordOS\")"
   ]
  },
  {
   "cell_type": "markdown",
   "metadata": {},
   "source": [
    "#### Baroclinic model"
   ]
  },
  {
   "cell_type": "code",
   "execution_count": null,
   "metadata": {},
   "outputs": [],
   "source": [
    "H = 3.0"
   ]
  },
  {
   "cell_type": "code",
   "execution_count": null,
   "metadata": {},
   "outputs": [],
   "source": [
    "data_args[\"H\"] = np.ma.array(H*np.ones_like(data_args[\"H\"]), mask=data_args[\"H\"].mask.copy(), dtype=np.float32)"
   ]
  },
  {
   "cell_type": "code",
   "execution_count": null,
   "metadata": {},
   "outputs": [],
   "source": [
    "data_args[\"eta0\"] = np.ma.array(mld.data - H, mask=copy.copy(mld.mask))"
   ]
  },
  {
   "cell_type": "code",
   "execution_count": null,
   "metadata": {},
   "outputs": [],
   "source": [
    "ml_integrator = NetCDFInitialization.MLD_integrator(source_url, mld, x0=x0, x1=x1, y0=y0, y1=y1)"
   ]
  },
  {
   "cell_type": "code",
   "execution_count": null,
   "metadata": {},
   "outputs": [],
   "source": [
    "t0_index = 5 * 24\n",
    "\n",
    "nc = Dataset(source_url)\n",
    "u0 = nc.variables['u'][t0_index, :, y0:y1, x0:x1+1]\n",
    "v0 = nc.variables['v'][t0_index, :, y0:y1+1, x0:x1]\n",
    "#Find u,v at cell centers\n",
    "u0 = u0.filled(fill_value = 0.0)\n",
    "v0 = v0.filled(fill_value = 0.0)\n",
    "\n",
    "u0 = (u0[:, :,1:] + u0[:, :, :-1]) * 0.5\n",
    "v0 = (v0[:, 1:,:] + v0[:, :-1, :]) * 0.5\n",
    "\n",
    "data_args[\"hu0\"] = np.sum(ml_integrator * u0, axis=0)\n",
    "data_args[\"hv0\"] = np.sum(ml_integrator * v0, axis=0)"
   ]
  },
  {
   "cell_type": "code",
   "execution_count": null,
   "metadata": {},
   "outputs": [],
   "source": [
    "# # Starting from lake at rest\n",
    "# data_args[\"hu0\"] = np.ma.array(np.zeros_like(mld), mask=copy.copy(mld.mask))\n",
    "# data_args[\"hv0\"] = np.ma.array(np.zeros_like(mld), mask=copy.copy(mld.mask))"
   ]
  },
  {
   "cell_type": "code",
   "execution_count": null,
   "metadata": {},
   "outputs": [],
   "source": [
    "s_pot_densities = NetCDFInitialization.potentialDensities(source_url, t=0, x0=x0, x1=x1, y0=y0, y1=y1)\n",
    "ml_pot_density = np.average(np.sum(ml_integrator * s_pot_densities, axis=0)/np.sum(ml_integrator, axis=0)) #NOTE: np.sum(integrator, axis=0)) = mld\n",
    "\n",
    "inverse_integrator = np.ma.array(np.ones_like(ml_integrator), mask=ml_integrator.mask.copy()) - ml_integrator\n",
    "deep_pot_density  = np.average(np.sum(inverse_integrator * s_pot_densities, axis=0)/np.sum(inverse_integrator, axis=0))\n",
    "\n",
    "eps = (deep_pot_density - ml_pot_density)/deep_pot_density\n",
    "\n",
    "data_args[\"g\"] = eps*data_args[\"g\"] \n",
    "data_args[\"g\"]"
   ]
  },
  {
   "cell_type": "code",
   "execution_count": null,
   "metadata": {},
   "outputs": [],
   "source": [
    "# data_args[\"g\"] = 0.01"
   ]
  },
  {
   "cell_type": "markdown",
   "metadata": {},
   "source": [
    "Set-up osciallating BC"
   ]
  },
  {
   "cell_type": "code",
   "execution_count": null,
   "metadata": {},
   "outputs": [],
   "source": [
    "from gpuocean.utils import Common"
   ]
  },
  {
   "cell_type": "code",
   "execution_count": null,
   "metadata": {},
   "outputs": [],
   "source": [
    "freq = 12*3600 #Input\n",
    "T = 3*24*3600  #Input\n",
    "\n",
    "t_step = freq/12\n",
    "T_steps = int(np.ceil(T/t_step)+1)\n",
    "\n",
    "ts = np.arange(0, T+1, step=t_step)\n",
    "\n",
    "NX = data_args[\"nx\"]+4\n",
    "NY = data_args[\"ny\"]+4"
   ]
  },
  {
   "cell_type": "code",
   "execution_count": null,
   "metadata": {},
   "outputs": [],
   "source": [
    "ampl = 0.5 #Input\n",
    "bc_v = ampl*np.ones((T_steps, NX)) * np.sin(2*np.pi*ts/freq)[:,np.newaxis] + ampl/2"
   ]
  },
  {
   "cell_type": "code",
   "execution_count": null,
   "metadata": {},
   "outputs": [],
   "source": [
    "bc_h = np.tile(mld[0], (T_steps,1))\n",
    "\n",
    "bc_hv = bc_h*bc_v\n",
    "\n",
    "bc_h = bc_h - H"
   ]
  },
  {
   "cell_type": "code",
   "execution_count": null,
   "metadata": {},
   "outputs": [],
   "source": [
    "south = Common.SingleBoundaryConditionData(h=bc_h.astype(np.float32), hu=np.zeros((T_steps, NX), dtype=np.float32), hv=bc_hv.astype(np.float32))\n",
    "north = Common.SingleBoundaryConditionData(h=np.zeros((T_steps, NX), dtype=np.float32), hu=np.zeros((T_steps, NX), dtype=np.float32), hv=np.zeros((T_steps, NX), dtype=np.float32))\n",
    "east  = Common.SingleBoundaryConditionData(h=np.zeros((T_steps, NY), dtype=np.float32), hu=np.zeros((T_steps, NY), dtype=np.float32), hv=np.zeros((T_steps, NY), dtype=np.float32))\n",
    "west  = Common.SingleBoundaryConditionData(h=np.zeros((T_steps, NY), dtype=np.float32), hu=np.zeros((T_steps, NY), dtype=np.float32), hv=np.zeros((T_steps, NY), dtype=np.float32))"
   ]
  },
  {
   "cell_type": "code",
   "execution_count": null,
   "metadata": {},
   "outputs": [],
   "source": [
    "data_args[\"boundary_conditions_data\"] = Common.BoundaryConditionsData(ts, north=north, south=south, east=east, west=west)"
   ]
  },
  {
   "cell_type": "code",
   "execution_count": null,
   "metadata": {},
   "outputs": [],
   "source": [
    "plt.plot((ts/3600)[:int(24*3600/t_step)], bc_v[:int(24*3600/t_step),0])\n",
    "plt.title(\"current forcing from the south boundary\")\n",
    "plt.xlabel(\"time [h]\")\n",
    "plt.ylabel(\"u [m^2/s]\")"
   ]
  },
  {
   "cell_type": "code",
   "execution_count": null,
   "metadata": {},
   "outputs": [],
   "source": [
    "from gpuocean.utils import WindStress\n",
    "data_args[\"wind_stress\"] = WindStress.WindStress(t=[0],X=[np.array([[0.0000]], dtype=np.float32)],Y=[np.array([[0.000]], dtype=np.float32)])"
   ]
  },
  {
   "cell_type": "code",
   "execution_count": null,
   "metadata": {},
   "outputs": [],
   "source": [
    "from gpuocean.SWEsimulators import CDKLM16\n",
    "osc_sim = CDKLM16.CDKLM16(gpu_ctx, dt=0.0,  **NetCDFInitialization.removeMetadata(data_args), write_netcdf=True)"
   ]
  },
  {
   "cell_type": "code",
   "execution_count": null,
   "metadata": {},
   "outputs": [],
   "source": [
    "for t in range(3*24):#range(len(ds.ocean_time)):\n",
    "    osc_sim.step(3600)"
   ]
  },
  {
   "cell_type": "code",
   "execution_count": null,
   "metadata": {},
   "outputs": [],
   "source": [
    "ncAnimation(osc_sim.sim_writer.output_file_name, \"gpuocean-reduced_grav\")"
   ]
  },
  {
   "cell_type": "code",
   "execution_count": null,
   "metadata": {},
   "outputs": [],
   "source": [
    "osc_sim.boundary_conditions.spongeCells"
   ]
  },
  {
   "cell_type": "code",
   "execution_count": null,
   "metadata": {},
   "outputs": [],
   "source": []
  }
 ],
 "metadata": {
  "kernelspec": {
   "display_name": "Python 3.7.12 ('gpuocean_opendrift')",
   "language": "python",
   "name": "python3"
  },
  "language_info": {
   "codemirror_mode": {
    "name": "ipython",
    "version": 3
   },
   "file_extension": ".py",
   "mimetype": "text/x-python",
   "name": "python",
   "nbconvert_exporter": "python",
   "pygments_lexer": "ipython3",
   "version": "3.7.12"
  },
  "orig_nbformat": 4,
  "vscode": {
   "interpreter": {
    "hash": "3048633266a8aca5c85f16c1ee57ccad146141feb66febf24dcb8304467d1440"
   }
  }
 },
 "nbformat": 4,
 "nbformat_minor": 2
}
