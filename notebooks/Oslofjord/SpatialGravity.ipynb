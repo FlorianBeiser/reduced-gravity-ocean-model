{
 "cells": [
  {
   "cell_type": "markdown",
   "metadata": {},
   "source": [
    "```\n",
    "This notebook sets up and runs a test case for analyzing Kelvin waves\n",
    "Copyright (C) 2018 - 2022 SINTEF Digital\n",
    "Copyright (C) 2018 - 2022 Norwegian Meteorological Institute\n",
    "\n",
    "This program is free software: you can redistribute it and/or modify\n",
    "it under the terms of the GNU General Public License as published by\n",
    "the Free Software Foundation, either version 3 of the License, or\n",
    "(at your option) any later version.\n",
    "\n",
    "This program is distributed in the hope that it will be useful,\n",
    "but WITHOUT ANY WARRANTY; without even the implied warranty of\n",
    "MERCHANTABILITY or FITNESS FOR A PARTICULAR PURPOSE.  See the\n",
    "GNU General Public License for more details.\n",
    "\n",
    "You should have received a copy of the GNU General Public License\n",
    "along with this program.  If not, see <http://www.gnu.org/licenses/>.\n",
    "```"
   ]
  },
  {
   "cell_type": "code",
   "execution_count": 1,
   "metadata": {},
   "outputs": [
    {
     "name": "stdout",
     "output_type": "stream",
     "text": [
      "GPUOcean code from: 0bff8670195d21d3f7f0df772874a6ca770b6fe0 on branch spatial_gravity\n"
     ]
    }
   ],
   "source": [
    "import sys\n",
    "gpuocean_path = [p[:-4] for p in sys.path if p.endswith(\"gpuocean/src\")][0]\n",
    "import git\n",
    "repo = git.Repo(gpuocean_path)\n",
    "print(\"GPUOcean code from:\", repo.head.object.hexsha, \"on branch\", repo.active_branch.name)"
   ]
  },
  {
   "attachments": {},
   "cell_type": "markdown",
   "metadata": {},
   "source": [
    "Showcasing the improved handling of potential energy fluxes along the land mask!"
   ]
  },
  {
   "cell_type": "code",
   "execution_count": 2,
   "metadata": {},
   "outputs": [],
   "source": [
    "#Lets have matplotlib \"inline\"\n",
    "%matplotlib inline\n",
    "\n",
    "import os\n",
    "import sys\n",
    "\n",
    "#Import packages we need\n",
    "import numpy as np\n",
    "from netCDF4 import Dataset\n",
    "import datetime, copy\n",
    "from IPython.display import display\n",
    "\n",
    "#For plotting\n",
    "import matplotlib\n",
    "from matplotlib import pyplot as plt\n",
    "\n",
    "plt.rcParams[\"lines.color\"] = \"w\"\n",
    "plt.rcParams[\"text.color\"] = \"w\"\n",
    "plt.rcParams[\"axes.labelcolor\"] = \"w\"\n",
    "plt.rcParams[\"xtick.color\"] = \"w\"\n",
    "plt.rcParams[\"ytick.color\"] = \"w\"\n",
    "\n",
    "plt.rcParams[\"image.origin\"] = \"lower\""
   ]
  },
  {
   "cell_type": "code",
   "execution_count": 3,
   "metadata": {},
   "outputs": [],
   "source": [
    "from gpuocean.utils import IPythonMagic"
   ]
  },
  {
   "cell_type": "code",
   "execution_count": 4,
   "metadata": {},
   "outputs": [],
   "source": [
    "%cuda_context_handler gpu_ctx"
   ]
  },
  {
   "attachments": {},
   "cell_type": "markdown",
   "metadata": {},
   "source": [
    "#### Simple example with constant non-zero bathymetry"
   ]
  },
  {
   "attachments": {},
   "cell_type": "markdown",
   "metadata": {},
   "source": [
    "Set up"
   ]
  },
  {
   "cell_type": "code",
   "execution_count": 5,
   "metadata": {},
   "outputs": [],
   "source": [
    "nx=100\n",
    "ny=100\n",
    "\n",
    "dx=100\n",
    "dy=100\n",
    "\n",
    "dt=0.0\n",
    "\n",
    "g=1.0\n",
    "f=0.0\n",
    "r=0.0"
   ]
  },
  {
   "cell_type": "code",
   "execution_count": 6,
   "metadata": {},
   "outputs": [],
   "source": [
    "eta0 = 3 * np.ones((ny+4,nx+4))\n",
    "hu0 = np.ones((ny+4,nx+4))\n",
    "hv0 = np.zeros((ny+4,nx+4))"
   ]
  },
  {
   "cell_type": "code",
   "execution_count": 7,
   "metadata": {},
   "outputs": [],
   "source": [
    "Hm_data = 2*np.ones((ny+6,nx+6))\n",
    "Hm_mask = np.ones((ny+6,nx+6), dtype=bool)\n",
    "Hm_mask[28:78,28:78] = False\n",
    "Hm = np.ma.array(Hm_data, mask=Hm_mask)\n",
    "\n",
    "from gpuocean.utils import OceanographicUtilities\n",
    "\n",
    "Hi = OceanographicUtilities.midpointsToIntersections(Hm, land_value=0.0, iterations=10)[0].astype(np.float32)\n"
   ]
  },
  {
   "attachments": {},
   "cell_type": "markdown",
   "metadata": {},
   "source": [
    "Running the simulation"
   ]
  },
  {
   "cell_type": "code",
   "execution_count": 8,
   "metadata": {},
   "outputs": [
    {
     "data": {
      "text/plain": [
       "<module 'gpuocean.SWEsimulators.CDKLM16' from '/home/florianb/havvarsel/gpuocean/src/gpuocean/SWEsimulators/CDKLM16.py'>"
      ]
     },
     "execution_count": 8,
     "metadata": {},
     "output_type": "execute_result"
    }
   ],
   "source": [
    "from gpuocean.SWEsimulators import CDKLM16\n",
    "from importlib import reload\n",
    "reload(CDKLM16)"
   ]
  },
  {
   "cell_type": "code",
   "execution_count": 9,
   "metadata": {},
   "outputs": [],
   "source": [
    "from gpuocean.SWEsimulators import CDKLM16\n",
    "sim = CDKLM16.CDKLM16(gpu_ctx, eta0, hu0, hv0, Hi, nx, ny, dx, dy, dt, g, f, r, rk_order=1)"
   ]
  },
  {
   "cell_type": "code",
   "execution_count": 10,
   "metadata": {},
   "outputs": [
    {
     "data": {
      "text/plain": [
       "(array([[3., 3., 3., 3., 3.],\n",
       "        [3., 3., 3., 3., 3.],\n",
       "        [3., 3., 3., 3., 3.],\n",
       "        [3., 3., 3., 3., 3.],\n",
       "        [3., 3., 3., 3., 3.]], dtype=float32),\n",
       " array([[1., 1., 1., 1., 1.],\n",
       "        [1., 1., 1., 1., 1.],\n",
       "        [1., 1., 1., 1., 1.],\n",
       "        [1., 1., 1., 1., 1.],\n",
       "        [1., 1., 1., 1., 1.]], dtype=float32))"
      ]
     },
     "execution_count": 10,
     "metadata": {},
     "output_type": "execute_result"
    }
   ],
   "source": [
    "sim.gpu_data.h0.data.get()[24:29,24:29], sim.gpu_data.hu0.data.get()[24:29,24:29]"
   ]
  },
  {
   "cell_type": "code",
   "execution_count": 11,
   "metadata": {},
   "outputs": [
    {
     "data": {
      "text/plain": [
       "0.10000000149011612"
      ]
     },
     "execution_count": 11,
     "metadata": {},
     "output_type": "execute_result"
    }
   ],
   "source": [
    "sim.step(0.1)"
   ]
  },
  {
   "attachments": {},
   "cell_type": "markdown",
   "metadata": {},
   "source": [
    "The first 2 rows and columns are DRY."
   ]
  },
  {
   "cell_type": "code",
   "execution_count": 12,
   "metadata": {},
   "outputs": [
    {
     "data": {
      "text/plain": [
       "array([[1.0000e-05, 1.0000e-05, 1.0000e-05, 1.0000e-05, 1.0000e-05],\n",
       "       [1.0000e-05, 1.0000e-05, 1.0000e-05, 1.0000e-05, 1.0000e-05],\n",
       "       [1.0000e-05, 1.0000e-05, 2.9992e+00, 3.0000e+00, 3.0000e+00],\n",
       "       [1.0000e-05, 1.0000e-05, 2.9990e+00, 3.0000e+00, 3.0000e+00],\n",
       "       [1.0000e-05, 1.0000e-05, 2.9990e+00, 3.0000e+00, 3.0000e+00]],\n",
       "      dtype=float32)"
      ]
     },
     "execution_count": 12,
     "metadata": {},
     "output_type": "execute_result"
    }
   ],
   "source": [
    "sim.gpu_data.h0.data.get()[24:29,24:29]"
   ]
  },
  {
   "cell_type": "code",
   "execution_count": 13,
   "metadata": {},
   "outputs": [
    {
     "data": {
      "text/plain": [
       "array([[0.        , 0.        , 0.        , 0.        , 0.        ],\n",
       "       [0.        , 0.        , 0.        , 0.        , 0.        ],\n",
       "       [0.        , 0.        , 0.69984   , 0.8       , 0.8       ],\n",
       "       [0.        , 0.        , 0.79980004, 1.        , 1.        ],\n",
       "       [0.        , 0.        , 0.79980004, 1.        , 1.        ]],\n",
       "      dtype=float32)"
      ]
     },
     "execution_count": 13,
     "metadata": {},
     "output_type": "execute_result"
    }
   ],
   "source": [
    "sim.gpu_data.hu0.data.get()[24:29,24:29]"
   ]
  },
  {
   "cell_type": "code",
   "execution_count": 14,
   "metadata": {},
   "outputs": [
    {
     "data": {
      "text/plain": [
       "array([[ 0.0000000e+00,  0.0000000e+00,  0.0000000e+00,  0.0000000e+00,\n",
       "         0.0000000e+00],\n",
       "       [ 0.0000000e+00,  0.0000000e+00,  0.0000000e+00,  0.0000000e+00,\n",
       "         0.0000000e+00],\n",
       "       [ 0.0000000e+00,  0.0000000e+00,  0.0000000e+00, -7.4505807e-10,\n",
       "        -7.4505807e-10],\n",
       "       [ 0.0000000e+00,  0.0000000e+00,  0.0000000e+00,  0.0000000e+00,\n",
       "         0.0000000e+00],\n",
       "       [ 0.0000000e+00,  0.0000000e+00,  0.0000000e+00,  0.0000000e+00,\n",
       "         0.0000000e+00]], dtype=float32)"
      ]
     },
     "execution_count": 14,
     "metadata": {},
     "output_type": "execute_result"
    }
   ],
   "source": [
    "sim.gpu_data.hv0.data.get()[24:29,24:29]"
   ]
  },
  {
   "attachments": {},
   "cell_type": "markdown",
   "metadata": {},
   "source": [
    "The 2 last rows and columns are DRY "
   ]
  },
  {
   "cell_type": "code",
   "execution_count": 15,
   "metadata": {},
   "outputs": [
    {
     "data": {
      "text/plain": [
       "array([[3.0000e+00, 3.0000e+00, 3.0010e+00, 1.0000e-05, 1.0000e-05],\n",
       "       [3.0000e+00, 3.0000e+00, 3.0010e+00, 1.0000e-05, 1.0000e-05],\n",
       "       [3.0000e+00, 3.0000e+00, 3.0008e+00, 1.0000e-05, 1.0000e-05],\n",
       "       [1.0000e-05, 1.0000e-05, 1.0000e-05, 1.0000e-05, 1.0000e-05],\n",
       "       [1.0000e-05, 1.0000e-05, 1.0000e-05, 1.0000e-05, 1.0000e-05]],\n",
       "      dtype=float32)"
      ]
     },
     "execution_count": 15,
     "metadata": {},
     "output_type": "execute_result"
    }
   ],
   "source": [
    "sim.gpu_data.h0.data.get()[75:80,75:80]"
   ]
  },
  {
   "cell_type": "code",
   "execution_count": 16,
   "metadata": {},
   "outputs": [
    {
     "data": {
      "text/plain": [
       "array([[1.        , 1.        , 0.8002    , 0.        , 0.        ],\n",
       "       [1.        , 1.        , 0.8002    , 0.        , 0.        ],\n",
       "       [0.8       , 0.8       , 0.70015997, 0.        , 0.        ],\n",
       "       [0.        , 0.        , 0.        , 0.        , 0.        ],\n",
       "       [0.        , 0.        , 0.        , 0.        , 0.        ]],\n",
       "      dtype=float32)"
      ]
     },
     "execution_count": 16,
     "metadata": {},
     "output_type": "execute_result"
    }
   ],
   "source": [
    "sim.gpu_data.hu0.data.get()[75:80,75:80]"
   ]
  },
  {
   "cell_type": "code",
   "execution_count": 17,
   "metadata": {},
   "outputs": [
    {
     "data": {
      "text/plain": [
       "array([[0.0000000e+00, 0.0000000e+00, 0.0000000e+00, 0.0000000e+00,\n",
       "        0.0000000e+00],\n",
       "       [0.0000000e+00, 0.0000000e+00, 0.0000000e+00, 0.0000000e+00,\n",
       "        0.0000000e+00],\n",
       "       [7.4505807e-10, 7.4505807e-10, 0.0000000e+00, 0.0000000e+00,\n",
       "        0.0000000e+00],\n",
       "       [0.0000000e+00, 0.0000000e+00, 0.0000000e+00, 0.0000000e+00,\n",
       "        0.0000000e+00],\n",
       "       [0.0000000e+00, 0.0000000e+00, 0.0000000e+00, 0.0000000e+00,\n",
       "        0.0000000e+00]], dtype=float32)"
      ]
     },
     "execution_count": 17,
     "metadata": {},
     "output_type": "execute_result"
    }
   ],
   "source": [
    "sim.gpu_data.hv0.data.get()[75:80,75:80]"
   ]
  },
  {
   "attachments": {},
   "cell_type": "markdown",
   "metadata": {},
   "source": [
    "In that experiment, we get beside numerical effects also some mathematical effect from the bathymetry forcing along the land mask cells!\n",
    "In the next case, we reduce the bathymetry effects even further! "
   ]
  },
  {
   "attachments": {},
   "cell_type": "markdown",
   "metadata": {},
   "source": [
    "#### Same example with 0-bathymetry"
   ]
  },
  {
   "cell_type": "code",
   "execution_count": 18,
   "metadata": {},
   "outputs": [],
   "source": [
    "eta0 = 5 * np.ones((ny+4,nx+4))"
   ]
  },
  {
   "cell_type": "code",
   "execution_count": 19,
   "metadata": {},
   "outputs": [],
   "source": [
    "Hm_data = np.zeros((ny+6,nx+6))\n",
    "Hm_mask = np.ones((ny+6,nx+6), dtype=bool)\n",
    "Hm_mask[28:78,28:78] = False\n",
    "Hm = np.ma.array(Hm_data, mask=Hm_mask)\n",
    "\n",
    "from gpuocean.utils import OceanographicUtilities\n",
    "\n",
    "Hi = OceanographicUtilities.midpointsToIntersections(Hm, land_value=0.0, iterations=10)[0].astype(np.float32)"
   ]
  },
  {
   "cell_type": "code",
   "execution_count": 20,
   "metadata": {},
   "outputs": [
    {
     "data": {
      "text/plain": [
       "<module 'gpuocean.SWEsimulators.CDKLM16' from '/home/florianb/havvarsel/gpuocean/src/gpuocean/SWEsimulators/CDKLM16.py'>"
      ]
     },
     "execution_count": 20,
     "metadata": {},
     "output_type": "execute_result"
    }
   ],
   "source": [
    "from gpuocean.SWEsimulators import CDKLM16\n",
    "from importlib import reload\n",
    "reload(CDKLM16)"
   ]
  },
  {
   "cell_type": "code",
   "execution_count": 21,
   "metadata": {},
   "outputs": [],
   "source": [
    "from gpuocean.SWEsimulators import CDKLM16\n",
    "sim = CDKLM16.CDKLM16(gpu_ctx, eta0, hu0, hv0, Hi, nx, ny, dx, dy, dt, g, f, r, rk_order=1)"
   ]
  },
  {
   "cell_type": "code",
   "execution_count": 22,
   "metadata": {},
   "outputs": [
    {
     "data": {
      "text/plain": [
       "0.10000000149011612"
      ]
     },
     "execution_count": 22,
     "metadata": {},
     "output_type": "execute_result"
    }
   ],
   "source": [
    "sim.step(0.1)"
   ]
  },
  {
   "attachments": {},
   "cell_type": "markdown",
   "metadata": {},
   "source": [
    "The first 2 rows and columns are DRY"
   ]
  },
  {
   "cell_type": "code",
   "execution_count": 23,
   "metadata": {},
   "outputs": [
    {
     "data": {
      "text/plain": [
       "array([[1.000e-05, 1.000e-05, 1.000e-05, 1.000e-05, 1.000e-05],\n",
       "       [1.000e-05, 1.000e-05, 1.000e-05, 1.000e-05, 1.000e-05],\n",
       "       [1.000e-05, 1.000e-05, 4.999e+00, 5.000e+00, 5.000e+00],\n",
       "       [1.000e-05, 1.000e-05, 4.999e+00, 5.000e+00, 5.000e+00],\n",
       "       [1.000e-05, 1.000e-05, 4.999e+00, 5.000e+00, 5.000e+00]],\n",
       "      dtype=float32)"
      ]
     },
     "execution_count": 23,
     "metadata": {},
     "output_type": "execute_result"
    }
   ],
   "source": [
    "sim.gpu_data.h0.data.get()[24:29,24:29]"
   ]
  },
  {
   "cell_type": "code",
   "execution_count": 24,
   "metadata": {},
   "outputs": [
    {
     "data": {
      "text/plain": [
       "array([[0.    , 0.    , 0.    , 0.    , 0.    ],\n",
       "       [0.    , 0.    , 0.    , 0.    , 0.    ],\n",
       "       [0.    , 0.    , 0.9998, 1.    , 1.    ],\n",
       "       [0.    , 0.    , 0.9998, 1.    , 1.    ],\n",
       "       [0.    , 0.    , 0.9998, 1.    , 1.    ]], dtype=float32)"
      ]
     },
     "execution_count": 24,
     "metadata": {},
     "output_type": "execute_result"
    }
   ],
   "source": [
    "sim.gpu_data.hu0.data.get()[24:29,24:29]"
   ]
  },
  {
   "cell_type": "code",
   "execution_count": 25,
   "metadata": {},
   "outputs": [
    {
     "data": {
      "text/plain": [
       "array([[ 0.000000e+00,  0.000000e+00,  0.000000e+00,  0.000000e+00,\n",
       "         0.000000e+00],\n",
       "       [ 0.000000e+00,  0.000000e+00,  0.000000e+00,  0.000000e+00,\n",
       "         0.000000e+00],\n",
       "       [ 0.000000e+00,  0.000000e+00, -9.536744e-10, -9.536744e-10,\n",
       "        -9.536744e-10],\n",
       "       [ 0.000000e+00,  0.000000e+00,  0.000000e+00,  0.000000e+00,\n",
       "         0.000000e+00],\n",
       "       [ 0.000000e+00,  0.000000e+00,  0.000000e+00,  0.000000e+00,\n",
       "         0.000000e+00]], dtype=float32)"
      ]
     },
     "execution_count": 25,
     "metadata": {},
     "output_type": "execute_result"
    }
   ],
   "source": [
    "sim.gpu_data.hv0.data.get()[24:29,24:29]"
   ]
  },
  {
   "cell_type": "markdown",
   "metadata": {},
   "source": [
    "The 2 last rows and columns are DRY "
   ]
  },
  {
   "cell_type": "code",
   "execution_count": 26,
   "metadata": {},
   "outputs": [
    {
     "data": {
      "text/plain": [
       "array([[5.000e+00, 5.000e+00, 5.001e+00, 1.000e-05, 1.000e-05],\n",
       "       [5.000e+00, 5.000e+00, 5.001e+00, 1.000e-05, 1.000e-05],\n",
       "       [5.000e+00, 5.000e+00, 5.001e+00, 1.000e-05, 1.000e-05],\n",
       "       [1.000e-05, 1.000e-05, 1.000e-05, 1.000e-05, 1.000e-05],\n",
       "       [1.000e-05, 1.000e-05, 1.000e-05, 1.000e-05, 1.000e-05]],\n",
       "      dtype=float32)"
      ]
     },
     "execution_count": 26,
     "metadata": {},
     "output_type": "execute_result"
    }
   ],
   "source": [
    "sim.gpu_data.h0.data.get()[75:80,75:80]"
   ]
  },
  {
   "cell_type": "code",
   "execution_count": 27,
   "metadata": {},
   "outputs": [
    {
     "data": {
      "text/plain": [
       "array([[1.    , 1.    , 1.0002, 0.    , 0.    ],\n",
       "       [1.    , 1.    , 1.0002, 0.    , 0.    ],\n",
       "       [1.    , 1.    , 1.0002, 0.    , 0.    ],\n",
       "       [0.    , 0.    , 0.    , 0.    , 0.    ],\n",
       "       [0.    , 0.    , 0.    , 0.    , 0.    ]], dtype=float32)"
      ]
     },
     "execution_count": 27,
     "metadata": {},
     "output_type": "execute_result"
    }
   ],
   "source": [
    "sim.gpu_data.hu0.data.get()[75:80,75:80]"
   ]
  },
  {
   "cell_type": "code",
   "execution_count": 28,
   "metadata": {},
   "outputs": [
    {
     "data": {
      "text/plain": [
       "array([[0.000000e+00, 0.000000e+00, 0.000000e+00, 0.000000e+00,\n",
       "        0.000000e+00],\n",
       "       [0.000000e+00, 0.000000e+00, 0.000000e+00, 0.000000e+00,\n",
       "        0.000000e+00],\n",
       "       [9.536744e-10, 9.536744e-10, 9.536744e-10, 0.000000e+00,\n",
       "        0.000000e+00],\n",
       "       [0.000000e+00, 0.000000e+00, 0.000000e+00, 0.000000e+00,\n",
       "        0.000000e+00],\n",
       "       [0.000000e+00, 0.000000e+00, 0.000000e+00, 0.000000e+00,\n",
       "        0.000000e+00]], dtype=float32)"
      ]
     },
     "execution_count": 28,
     "metadata": {},
     "output_type": "execute_result"
    }
   ],
   "source": [
    "sim.gpu_data.hv0.data.get()[75:80,75:80]"
   ]
  },
  {
   "cell_type": "code",
   "execution_count": null,
   "metadata": {},
   "outputs": [],
   "source": []
  }
 ],
 "metadata": {
  "kernelspec": {
   "display_name": "Python 3.7.12 ('gpuocean_opendrift')",
   "language": "python",
   "name": "python3"
  },
  "language_info": {
   "codemirror_mode": {
    "name": "ipython",
    "version": 3
   },
   "file_extension": ".py",
   "mimetype": "text/x-python",
   "name": "python",
   "nbconvert_exporter": "python",
   "pygments_lexer": "ipython3",
   "version": "3.7.12"
  },
  "orig_nbformat": 4,
  "vscode": {
   "interpreter": {
    "hash": "3048633266a8aca5c85f16c1ee57ccad146141feb66febf24dcb8304467d1440"
   }
  }
 },
 "nbformat": 4,
 "nbformat_minor": 2
}
