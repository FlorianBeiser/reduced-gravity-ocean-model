{
 "cells": [
  {
   "cell_type": "markdown",
   "metadata": {},
   "source": [
    "```\n",
    "This notebook sets up and runs a test case for analyzing Kelvin waves\n",
    "Copyright (C) 2018 - 2022 SINTEF Digital\n",
    "Copyright (C) 2018 - 2022 Norwegian Meteorological Institute\n",
    "\n",
    "This program is free software: you can redistribute it and/or modify\n",
    "it under the terms of the GNU General Public License as published by\n",
    "the Free Software Foundation, either version 3 of the License, or\n",
    "(at your option) any later version.\n",
    "\n",
    "This program is distributed in the hope that it will be useful,\n",
    "but WITHOUT ANY WARRANTY; without even the implied warranty of\n",
    "MERCHANTABILITY or FITNESS FOR A PARTICULAR PURPOSE.  See the\n",
    "GNU General Public License for more details.\n",
    "\n",
    "You should have received a copy of the GNU General Public License\n",
    "along with this program.  If not, see <http://www.gnu.org/licenses/>.\n",
    "```"
   ]
  },
  {
   "cell_type": "code",
   "execution_count": 1,
   "metadata": {},
   "outputs": [
    {
     "name": "stdout",
     "output_type": "stream",
     "text": [
      "GPUOcean code from: 9e2194949a236a78754252e0e34f69f9b1e1823f on branch reduced_gravity\n"
     ]
    }
   ],
   "source": [
    "import sys\n",
    "gpuocean_path = [p[:-4] for p in sys.path if (p.endswith(\"gpuocean/src\") or p.endswith(\"gpuocean\\\\src\"))][0]\n",
    "import git\n",
    "repo = git.Repo(gpuocean_path)\n",
    "print(\"GPUOcean code from:\", repo.head.object.hexsha, \"on branch\", repo.active_branch.name)"
   ]
  },
  {
   "cell_type": "markdown",
   "metadata": {},
   "source": [
    "# Oslofjord\n",
    "Testing of Nils projected files"
   ]
  },
  {
   "cell_type": "code",
   "execution_count": 2,
   "metadata": {},
   "outputs": [],
   "source": [
    "#Lets have matplotlib \"inline\"\n",
    "%matplotlib inline\n",
    "\n",
    "import os\n",
    "import sys\n",
    "\n",
    "#Import packages we need\n",
    "import numpy as np\n",
    "from netCDF4 import Dataset\n",
    "import datetime, copy\n",
    "from IPython.display import display\n",
    "\n",
    "#For plotting\n",
    "import matplotlib\n",
    "from matplotlib import pyplot as plt\n",
    "\n",
    "plt.rcParams[\"lines.color\"] = \"w\"\n",
    "plt.rcParams[\"text.color\"] = \"w\"\n",
    "plt.rcParams[\"axes.labelcolor\"] = \"w\"\n",
    "plt.rcParams[\"xtick.color\"] = \"w\"\n",
    "plt.rcParams[\"ytick.color\"] = \"w\"\n",
    "\n",
    "plt.rcParams[\"image.origin\"] = \"lower\""
   ]
  },
  {
   "cell_type": "code",
   "execution_count": 3,
   "metadata": {},
   "outputs": [],
   "source": [
    "from gpuocean.utils import IPythonMagic, Common, NetCDFInitialization, WindStress, OceanographicUtilities\n",
    "\n",
    "from gpuocean.SWEsimulators import CDKLM16"
   ]
  },
  {
   "cell_type": "code",
   "execution_count": 4,
   "metadata": {},
   "outputs": [],
   "source": [
    "%cuda_context_handler barotropic_gpu_ctx"
   ]
  },
  {
   "cell_type": "code",
   "execution_count": 5,
   "metadata": {},
   "outputs": [],
   "source": [
    "%cuda_context_handler baroclinic_gpu_ctx"
   ]
  },
  {
   "cell_type": "code",
   "execution_count": 6,
   "metadata": {},
   "outputs": [],
   "source": [
    "%cuda_context_handler drifter_gpu_ctx"
   ]
  },
  {
   "cell_type": "markdown",
   "metadata": {},
   "source": [
    "Path to the test file"
   ]
  },
  {
   "cell_type": "code",
   "execution_count": 7,
   "metadata": {},
   "outputs": [],
   "source": [
    "source_url = \"/sintef/data/OsloFjord/test_polstere_1h_0007.nc\""
   ]
  },
  {
   "cell_type": "markdown",
   "metadata": {},
   "source": [
    "## Inspecting file structure and content"
   ]
  },
  {
   "cell_type": "code",
   "execution_count": 8,
   "metadata": {},
   "outputs": [],
   "source": [
    "from netCDF4 import Dataset\n",
    "nc = Dataset(source_url)"
   ]
  },
  {
   "cell_type": "code",
   "execution_count": 9,
   "metadata": {},
   "outputs": [
    {
     "data": {
      "text/html": [
       "<div><svg style=\"position: absolute; width: 0; height: 0; overflow: hidden\">\n",
       "<defs>\n",
       "<symbol id=\"icon-database\" viewBox=\"0 0 32 32\">\n",
       "<path d=\"M16 0c-8.837 0-16 2.239-16 5v4c0 2.761 7.163 5 16 5s16-2.239 16-5v-4c0-2.761-7.163-5-16-5z\"></path>\n",
       "<path d=\"M16 17c-8.837 0-16-2.239-16-5v6c0 2.761 7.163 5 16 5s16-2.239 16-5v-6c0 2.761-7.163 5-16 5z\"></path>\n",
       "<path d=\"M16 26c-8.837 0-16-2.239-16-5v6c0 2.761 7.163 5 16 5s16-2.239 16-5v-6c0 2.761-7.163 5-16 5z\"></path>\n",
       "</symbol>\n",
       "<symbol id=\"icon-file-text2\" viewBox=\"0 0 32 32\">\n",
       "<path d=\"M28.681 7.159c-0.694-0.947-1.662-2.053-2.724-3.116s-2.169-2.030-3.116-2.724c-1.612-1.182-2.393-1.319-2.841-1.319h-15.5c-1.378 0-2.5 1.121-2.5 2.5v27c0 1.378 1.122 2.5 2.5 2.5h23c1.378 0 2.5-1.122 2.5-2.5v-19.5c0-0.448-0.137-1.23-1.319-2.841zM24.543 5.457c0.959 0.959 1.712 1.825 2.268 2.543h-4.811v-4.811c0.718 0.556 1.584 1.309 2.543 2.268zM28 29.5c0 0.271-0.229 0.5-0.5 0.5h-23c-0.271 0-0.5-0.229-0.5-0.5v-27c0-0.271 0.229-0.5 0.5-0.5 0 0 15.499-0 15.5 0v7c0 0.552 0.448 1 1 1h7v19.5z\"></path>\n",
       "<path d=\"M23 26h-14c-0.552 0-1-0.448-1-1s0.448-1 1-1h14c0.552 0 1 0.448 1 1s-0.448 1-1 1z\"></path>\n",
       "<path d=\"M23 22h-14c-0.552 0-1-0.448-1-1s0.448-1 1-1h14c0.552 0 1 0.448 1 1s-0.448 1-1 1z\"></path>\n",
       "<path d=\"M23 18h-14c-0.552 0-1-0.448-1-1s0.448-1 1-1h14c0.552 0 1 0.448 1 1s-0.448 1-1 1z\"></path>\n",
       "</symbol>\n",
       "</defs>\n",
       "</svg>\n",
       "<style>/* CSS stylesheet for displaying xarray objects in jupyterlab.\n",
       " *\n",
       " */\n",
       "\n",
       ":root {\n",
       "  --xr-font-color0: var(--jp-content-font-color0, rgba(0, 0, 0, 1));\n",
       "  --xr-font-color2: var(--jp-content-font-color2, rgba(0, 0, 0, 0.54));\n",
       "  --xr-font-color3: var(--jp-content-font-color3, rgba(0, 0, 0, 0.38));\n",
       "  --xr-border-color: var(--jp-border-color2, #e0e0e0);\n",
       "  --xr-disabled-color: var(--jp-layout-color3, #bdbdbd);\n",
       "  --xr-background-color: var(--jp-layout-color0, white);\n",
       "  --xr-background-color-row-even: var(--jp-layout-color1, white);\n",
       "  --xr-background-color-row-odd: var(--jp-layout-color2, #eeeeee);\n",
       "}\n",
       "\n",
       "html[theme=dark],\n",
       "body.vscode-dark {\n",
       "  --xr-font-color0: rgba(255, 255, 255, 1);\n",
       "  --xr-font-color2: rgba(255, 255, 255, 0.54);\n",
       "  --xr-font-color3: rgba(255, 255, 255, 0.38);\n",
       "  --xr-border-color: #1F1F1F;\n",
       "  --xr-disabled-color: #515151;\n",
       "  --xr-background-color: #111111;\n",
       "  --xr-background-color-row-even: #111111;\n",
       "  --xr-background-color-row-odd: #313131;\n",
       "}\n",
       "\n",
       ".xr-wrap {\n",
       "  display: block !important;\n",
       "  min-width: 300px;\n",
       "  max-width: 700px;\n",
       "}\n",
       "\n",
       ".xr-text-repr-fallback {\n",
       "  /* fallback to plain text repr when CSS is not injected (untrusted notebook) */\n",
       "  display: none;\n",
       "}\n",
       "\n",
       ".xr-header {\n",
       "  padding-top: 6px;\n",
       "  padding-bottom: 6px;\n",
       "  margin-bottom: 4px;\n",
       "  border-bottom: solid 1px var(--xr-border-color);\n",
       "}\n",
       "\n",
       ".xr-header > div,\n",
       ".xr-header > ul {\n",
       "  display: inline;\n",
       "  margin-top: 0;\n",
       "  margin-bottom: 0;\n",
       "}\n",
       "\n",
       ".xr-obj-type,\n",
       ".xr-array-name {\n",
       "  margin-left: 2px;\n",
       "  margin-right: 10px;\n",
       "}\n",
       "\n",
       ".xr-obj-type {\n",
       "  color: var(--xr-font-color2);\n",
       "}\n",
       "\n",
       ".xr-sections {\n",
       "  padding-left: 0 !important;\n",
       "  display: grid;\n",
       "  grid-template-columns: 150px auto auto 1fr 20px 20px;\n",
       "}\n",
       "\n",
       ".xr-section-item {\n",
       "  display: contents;\n",
       "}\n",
       "\n",
       ".xr-section-item input {\n",
       "  display: none;\n",
       "}\n",
       "\n",
       ".xr-section-item input + label {\n",
       "  color: var(--xr-disabled-color);\n",
       "}\n",
       "\n",
       ".xr-section-item input:enabled + label {\n",
       "  cursor: pointer;\n",
       "  color: var(--xr-font-color2);\n",
       "}\n",
       "\n",
       ".xr-section-item input:enabled + label:hover {\n",
       "  color: var(--xr-font-color0);\n",
       "}\n",
       "\n",
       ".xr-section-summary {\n",
       "  grid-column: 1;\n",
       "  color: var(--xr-font-color2);\n",
       "  font-weight: 500;\n",
       "}\n",
       "\n",
       ".xr-section-summary > span {\n",
       "  display: inline-block;\n",
       "  padding-left: 0.5em;\n",
       "}\n",
       "\n",
       ".xr-section-summary-in:disabled + label {\n",
       "  color: var(--xr-font-color2);\n",
       "}\n",
       "\n",
       ".xr-section-summary-in + label:before {\n",
       "  display: inline-block;\n",
       "  content: '►';\n",
       "  font-size: 11px;\n",
       "  width: 15px;\n",
       "  text-align: center;\n",
       "}\n",
       "\n",
       ".xr-section-summary-in:disabled + label:before {\n",
       "  color: var(--xr-disabled-color);\n",
       "}\n",
       "\n",
       ".xr-section-summary-in:checked + label:before {\n",
       "  content: '▼';\n",
       "}\n",
       "\n",
       ".xr-section-summary-in:checked + label > span {\n",
       "  display: none;\n",
       "}\n",
       "\n",
       ".xr-section-summary,\n",
       ".xr-section-inline-details {\n",
       "  padding-top: 4px;\n",
       "  padding-bottom: 4px;\n",
       "}\n",
       "\n",
       ".xr-section-inline-details {\n",
       "  grid-column: 2 / -1;\n",
       "}\n",
       "\n",
       ".xr-section-details {\n",
       "  display: none;\n",
       "  grid-column: 1 / -1;\n",
       "  margin-bottom: 5px;\n",
       "}\n",
       "\n",
       ".xr-section-summary-in:checked ~ .xr-section-details {\n",
       "  display: contents;\n",
       "}\n",
       "\n",
       ".xr-array-wrap {\n",
       "  grid-column: 1 / -1;\n",
       "  display: grid;\n",
       "  grid-template-columns: 20px auto;\n",
       "}\n",
       "\n",
       ".xr-array-wrap > label {\n",
       "  grid-column: 1;\n",
       "  vertical-align: top;\n",
       "}\n",
       "\n",
       ".xr-preview {\n",
       "  color: var(--xr-font-color3);\n",
       "}\n",
       "\n",
       ".xr-array-preview,\n",
       ".xr-array-data {\n",
       "  padding: 0 5px !important;\n",
       "  grid-column: 2;\n",
       "}\n",
       "\n",
       ".xr-array-data,\n",
       ".xr-array-in:checked ~ .xr-array-preview {\n",
       "  display: none;\n",
       "}\n",
       "\n",
       ".xr-array-in:checked ~ .xr-array-data,\n",
       ".xr-array-preview {\n",
       "  display: inline-block;\n",
       "}\n",
       "\n",
       ".xr-dim-list {\n",
       "  display: inline-block !important;\n",
       "  list-style: none;\n",
       "  padding: 0 !important;\n",
       "  margin: 0;\n",
       "}\n",
       "\n",
       ".xr-dim-list li {\n",
       "  display: inline-block;\n",
       "  padding: 0;\n",
       "  margin: 0;\n",
       "}\n",
       "\n",
       ".xr-dim-list:before {\n",
       "  content: '(';\n",
       "}\n",
       "\n",
       ".xr-dim-list:after {\n",
       "  content: ')';\n",
       "}\n",
       "\n",
       ".xr-dim-list li:not(:last-child):after {\n",
       "  content: ',';\n",
       "  padding-right: 5px;\n",
       "}\n",
       "\n",
       ".xr-has-index {\n",
       "  font-weight: bold;\n",
       "}\n",
       "\n",
       ".xr-var-list,\n",
       ".xr-var-item {\n",
       "  display: contents;\n",
       "}\n",
       "\n",
       ".xr-var-item > div,\n",
       ".xr-var-item label,\n",
       ".xr-var-item > .xr-var-name span {\n",
       "  background-color: var(--xr-background-color-row-even);\n",
       "  margin-bottom: 0;\n",
       "}\n",
       "\n",
       ".xr-var-item > .xr-var-name:hover span {\n",
       "  padding-right: 5px;\n",
       "}\n",
       "\n",
       ".xr-var-list > li:nth-child(odd) > div,\n",
       ".xr-var-list > li:nth-child(odd) > label,\n",
       ".xr-var-list > li:nth-child(odd) > .xr-var-name span {\n",
       "  background-color: var(--xr-background-color-row-odd);\n",
       "}\n",
       "\n",
       ".xr-var-name {\n",
       "  grid-column: 1;\n",
       "}\n",
       "\n",
       ".xr-var-dims {\n",
       "  grid-column: 2;\n",
       "}\n",
       "\n",
       ".xr-var-dtype {\n",
       "  grid-column: 3;\n",
       "  text-align: right;\n",
       "  color: var(--xr-font-color2);\n",
       "}\n",
       "\n",
       ".xr-var-preview {\n",
       "  grid-column: 4;\n",
       "}\n",
       "\n",
       ".xr-var-name,\n",
       ".xr-var-dims,\n",
       ".xr-var-dtype,\n",
       ".xr-preview,\n",
       ".xr-attrs dt {\n",
       "  white-space: nowrap;\n",
       "  overflow: hidden;\n",
       "  text-overflow: ellipsis;\n",
       "  padding-right: 10px;\n",
       "}\n",
       "\n",
       ".xr-var-name:hover,\n",
       ".xr-var-dims:hover,\n",
       ".xr-var-dtype:hover,\n",
       ".xr-attrs dt:hover {\n",
       "  overflow: visible;\n",
       "  width: auto;\n",
       "  z-index: 1;\n",
       "}\n",
       "\n",
       ".xr-var-attrs,\n",
       ".xr-var-data {\n",
       "  display: none;\n",
       "  background-color: var(--xr-background-color) !important;\n",
       "  padding-bottom: 5px !important;\n",
       "}\n",
       "\n",
       ".xr-var-attrs-in:checked ~ .xr-var-attrs,\n",
       ".xr-var-data-in:checked ~ .xr-var-data {\n",
       "  display: block;\n",
       "}\n",
       "\n",
       ".xr-var-data > table {\n",
       "  float: right;\n",
       "}\n",
       "\n",
       ".xr-var-name span,\n",
       ".xr-var-data,\n",
       ".xr-attrs {\n",
       "  padding-left: 25px !important;\n",
       "}\n",
       "\n",
       ".xr-attrs,\n",
       ".xr-var-attrs,\n",
       ".xr-var-data {\n",
       "  grid-column: 1 / -1;\n",
       "}\n",
       "\n",
       "dl.xr-attrs {\n",
       "  padding: 0;\n",
       "  margin: 0;\n",
       "  display: grid;\n",
       "  grid-template-columns: 125px auto;\n",
       "}\n",
       "\n",
       ".xr-attrs dt,\n",
       ".xr-attrs dd {\n",
       "  padding: 0;\n",
       "  margin: 0;\n",
       "  float: left;\n",
       "  padding-right: 10px;\n",
       "  width: auto;\n",
       "}\n",
       "\n",
       ".xr-attrs dt {\n",
       "  font-weight: normal;\n",
       "  grid-column: 1;\n",
       "}\n",
       "\n",
       ".xr-attrs dt:hover span {\n",
       "  display: inline-block;\n",
       "  background: var(--xr-background-color);\n",
       "  padding-right: 10px;\n",
       "}\n",
       "\n",
       ".xr-attrs dd {\n",
       "  grid-column: 2;\n",
       "  white-space: pre-wrap;\n",
       "  word-break: break-all;\n",
       "}\n",
       "\n",
       ".xr-icon-database,\n",
       ".xr-icon-file-text2 {\n",
       "  display: inline-block;\n",
       "  vertical-align: middle;\n",
       "  width: 1em;\n",
       "  height: 1.5em !important;\n",
       "  stroke-width: 0;\n",
       "  stroke: currentColor;\n",
       "  fill: currentColor;\n",
       "}\n",
       "</style><pre class='xr-text-repr-fallback'>&lt;xarray.Dataset&gt;\n",
       "Dimensions:     (ocean_time: 720, s_rho: 42, s_w: 43, eta_rho: 741, xi_rho: 397, xi_u: 396, eta_v: 740)\n",
       "Coordinates:\n",
       "  * ocean_time  (ocean_time) datetime64[ns] 2014-06-30T13:00:00 ... 2014-07-3...\n",
       "  * s_rho       (s_rho) float64 -0.9881 -0.9643 -0.9405 ... -0.03571 -0.0119\n",
       "  * s_w         (s_w) float64 -1.0 -0.9762 -0.9524 ... -0.04762 -0.02381 0.0\n",
       "Dimensions without coordinates: eta_rho, xi_rho, xi_u, eta_v\n",
       "Data variables: (12/15)\n",
       "    projection  int32 -2147483647\n",
       "    Cs_r        (s_rho) float64 -0.9698 -0.911 -0.8543 ... -0.000805 -8.938e-05\n",
       "    Cs_w        (s_w) float64 -1.0 -0.9402 -0.8824 ... -0.001432 -0.0003576 0.0\n",
       "    h           (eta_rho, xi_rho) float32 ...\n",
       "    mask_rho    (eta_rho, xi_rho) float32 ...\n",
       "    angle       (eta_rho, xi_rho) float32 ...\n",
       "    ...          ...\n",
       "    salt        (ocean_time, s_rho, eta_rho, xi_rho) float32 ...\n",
       "    temp        (ocean_time, s_rho, eta_rho, xi_rho) float32 ...\n",
       "    u           (ocean_time, s_rho, eta_rho, xi_u) float32 ...\n",
       "    v           (ocean_time, s_rho, eta_v, xi_rho) float32 ...\n",
       "    lat_rho     (eta_rho, xi_rho) float32 ...\n",
       "    lon_rho     (eta_rho, xi_rho) float32 ...</pre><div class='xr-wrap' style='display:none'><div class='xr-header'><div class='xr-obj-type'>xarray.Dataset</div></div><ul class='xr-sections'><li class='xr-section-item'><input id='section-6e7940bd-c117-41d1-ab83-aa5effb81946' class='xr-section-summary-in' type='checkbox' disabled ><label for='section-6e7940bd-c117-41d1-ab83-aa5effb81946' class='xr-section-summary'  title='Expand/collapse section'>Dimensions:</label><div class='xr-section-inline-details'><ul class='xr-dim-list'><li><span class='xr-has-index'>ocean_time</span>: 720</li><li><span class='xr-has-index'>s_rho</span>: 42</li><li><span class='xr-has-index'>s_w</span>: 43</li><li><span>eta_rho</span>: 741</li><li><span>xi_rho</span>: 397</li><li><span>xi_u</span>: 396</li><li><span>eta_v</span>: 740</li></ul></div><div class='xr-section-details'></div></li><li class='xr-section-item'><input id='section-6fc49ca0-ba85-44b0-86d4-47acd87f06d1' class='xr-section-summary-in' type='checkbox'  checked><label for='section-6fc49ca0-ba85-44b0-86d4-47acd87f06d1' class='xr-section-summary' >Coordinates: <span>(3)</span></label><div class='xr-section-inline-details'></div><div class='xr-section-details'><ul class='xr-var-list'><li class='xr-var-item'><div class='xr-var-name'><span class='xr-has-index'>ocean_time</span></div><div class='xr-var-dims'>(ocean_time)</div><div class='xr-var-dtype'>datetime64[ns]</div><div class='xr-var-preview xr-preview'>2014-06-30T13:00:00 ... 2014-07-...</div><input id='attrs-869331b7-a8f9-465e-b01f-641126afe409' class='xr-var-attrs-in' type='checkbox' disabled><label for='attrs-869331b7-a8f9-465e-b01f-641126afe409' title='Show/Hide attributes'><svg class='icon xr-icon-file-text2'><use xlink:href='#icon-file-text2'></use></svg></label><input id='data-0c675bc6-8e96-407d-880a-b35695b938f2' class='xr-var-data-in' type='checkbox'><label for='data-0c675bc6-8e96-407d-880a-b35695b938f2' title='Show/Hide data repr'><svg class='icon xr-icon-database'><use xlink:href='#icon-database'></use></svg></label><div class='xr-var-attrs'><dl class='xr-attrs'></dl></div><div class='xr-var-data'><pre>array([&#x27;2014-06-30T13:00:00.000000000&#x27;, &#x27;2014-06-30T14:00:00.000000000&#x27;,\n",
       "       &#x27;2014-06-30T15:00:00.000000000&#x27;, ..., &#x27;2014-07-30T10:00:00.000000000&#x27;,\n",
       "       &#x27;2014-07-30T11:00:00.000000000&#x27;, &#x27;2014-07-30T12:00:00.000000000&#x27;],\n",
       "      dtype=&#x27;datetime64[ns]&#x27;)</pre></div></li><li class='xr-var-item'><div class='xr-var-name'><span class='xr-has-index'>s_rho</span></div><div class='xr-var-dims'>(s_rho)</div><div class='xr-var-dtype'>float64</div><div class='xr-var-preview xr-preview'>-0.9881 -0.9643 ... -0.0119</div><input id='attrs-7522ae90-52ae-425b-b5a5-4405009db46f' class='xr-var-attrs-in' type='checkbox' disabled><label for='attrs-7522ae90-52ae-425b-b5a5-4405009db46f' title='Show/Hide attributes'><svg class='icon xr-icon-file-text2'><use xlink:href='#icon-file-text2'></use></svg></label><input id='data-ce51ff21-9abb-4df7-9b8a-72f84fa3cf61' class='xr-var-data-in' type='checkbox'><label for='data-ce51ff21-9abb-4df7-9b8a-72f84fa3cf61' title='Show/Hide data repr'><svg class='icon xr-icon-database'><use xlink:href='#icon-database'></use></svg></label><div class='xr-var-attrs'><dl class='xr-attrs'></dl></div><div class='xr-var-data'><pre>array([-0.988095, -0.964286, -0.940476, -0.916667, -0.892857, -0.869048,\n",
       "       -0.845238, -0.821429, -0.797619, -0.77381 , -0.75    , -0.72619 ,\n",
       "       -0.702381, -0.678571, -0.654762, -0.630952, -0.607143, -0.583333,\n",
       "       -0.559524, -0.535714, -0.511905, -0.488095, -0.464286, -0.440476,\n",
       "       -0.416667, -0.392857, -0.369048, -0.345238, -0.321429, -0.297619,\n",
       "       -0.27381 , -0.25    , -0.22619 , -0.202381, -0.178571, -0.154762,\n",
       "       -0.130952, -0.107143, -0.083333, -0.059524, -0.035714, -0.011905])</pre></div></li><li class='xr-var-item'><div class='xr-var-name'><span class='xr-has-index'>s_w</span></div><div class='xr-var-dims'>(s_w)</div><div class='xr-var-dtype'>float64</div><div class='xr-var-preview xr-preview'>-1.0 -0.9762 ... -0.02381 0.0</div><input id='attrs-8a7293b0-208e-4757-be3e-8da4e70ade74' class='xr-var-attrs-in' type='checkbox' disabled><label for='attrs-8a7293b0-208e-4757-be3e-8da4e70ade74' title='Show/Hide attributes'><svg class='icon xr-icon-file-text2'><use xlink:href='#icon-file-text2'></use></svg></label><input id='data-0c4b9db3-7edd-4ff3-a91a-03d610721988' class='xr-var-data-in' type='checkbox'><label for='data-0c4b9db3-7edd-4ff3-a91a-03d610721988' title='Show/Hide data repr'><svg class='icon xr-icon-database'><use xlink:href='#icon-database'></use></svg></label><div class='xr-var-attrs'><dl class='xr-attrs'></dl></div><div class='xr-var-data'><pre>array([-1.      , -0.97619 , -0.952381, -0.928571, -0.904762, -0.880952,\n",
       "       -0.857143, -0.833333, -0.809524, -0.785714, -0.761905, -0.738095,\n",
       "       -0.714286, -0.690476, -0.666667, -0.642857, -0.619048, -0.595238,\n",
       "       -0.571429, -0.547619, -0.52381 , -0.5     , -0.47619 , -0.452381,\n",
       "       -0.428571, -0.404762, -0.380952, -0.357143, -0.333333, -0.309524,\n",
       "       -0.285714, -0.261905, -0.238095, -0.214286, -0.190476, -0.166667,\n",
       "       -0.142857, -0.119048, -0.095238, -0.071429, -0.047619, -0.02381 ,\n",
       "        0.      ])</pre></div></li></ul></div></li><li class='xr-section-item'><input id='section-95d86e58-bfed-4eaf-aa6c-e2a3ae31e5ba' class='xr-section-summary-in' type='checkbox'  ><label for='section-95d86e58-bfed-4eaf-aa6c-e2a3ae31e5ba' class='xr-section-summary' >Data variables: <span>(15)</span></label><div class='xr-section-inline-details'></div><div class='xr-section-details'><ul class='xr-var-list'><li class='xr-var-item'><div class='xr-var-name'><span>projection</span></div><div class='xr-var-dims'>()</div><div class='xr-var-dtype'>int32</div><div class='xr-var-preview xr-preview'>...</div><input id='attrs-0d5074ec-f208-4e7e-b3b8-21d05ea5bb3e' class='xr-var-attrs-in' type='checkbox' ><label for='attrs-0d5074ec-f208-4e7e-b3b8-21d05ea5bb3e' title='Show/Hide attributes'><svg class='icon xr-icon-file-text2'><use xlink:href='#icon-file-text2'></use></svg></label><input id='data-38521336-111c-4319-8b64-8d6cbe47c974' class='xr-var-data-in' type='checkbox'><label for='data-38521336-111c-4319-8b64-8d6cbe47c974' title='Show/Hide data repr'><svg class='icon xr-icon-database'><use xlink:href='#icon-database'></use></svg></label><div class='xr-var-attrs'><dl class='xr-attrs'><dt><span>proj4 :</span></dt><dd>+proj=stere +lat_0=90 +lon_0=10 +lat_ts=60 +units=m +R=6.371e+06 +datum=WGS84 +units=m +no_defs</dd></dl></div><div class='xr-var-data'><pre>array(-2147483647, dtype=int32)</pre></div></li><li class='xr-var-item'><div class='xr-var-name'><span>Cs_r</span></div><div class='xr-var-dims'>(s_rho)</div><div class='xr-var-dtype'>float64</div><div class='xr-var-preview xr-preview'>...</div><input id='attrs-6de1d5bf-cb64-46e7-9a25-0cd668b83b88' class='xr-var-attrs-in' type='checkbox' disabled><label for='attrs-6de1d5bf-cb64-46e7-9a25-0cd668b83b88' title='Show/Hide attributes'><svg class='icon xr-icon-file-text2'><use xlink:href='#icon-file-text2'></use></svg></label><input id='data-422f4f66-52a9-4abb-b5e9-b04a479c3a4a' class='xr-var-data-in' type='checkbox'><label for='data-422f4f66-52a9-4abb-b5e9-b04a479c3a4a' title='Show/Hide data repr'><svg class='icon xr-icon-database'><use xlink:href='#icon-database'></use></svg></label><div class='xr-var-attrs'><dl class='xr-attrs'></dl></div><div class='xr-var-data'><pre>array([-9.698368e-01, -9.110356e-01, -8.543374e-01, -7.998050e-01,\n",
       "       -7.474797e-01, -6.973837e-01, -6.495224e-01, -6.038862e-01,\n",
       "       -5.604527e-01, -5.191889e-01, -4.800524e-01, -4.429934e-01,\n",
       "       -4.079561e-01, -3.748801e-01, -3.437014e-01, -3.143538e-01,\n",
       "       -2.867694e-01, -2.608798e-01, -2.366167e-01, -2.139123e-01,\n",
       "       -1.927000e-01, -1.729148e-01, -1.544938e-01, -1.373762e-01,\n",
       "       -1.215038e-01, -1.068209e-01, -9.327482e-02, -8.081588e-02,\n",
       "       -6.939731e-02, -5.897549e-02, -4.950995e-02, -4.096336e-02,\n",
       "       -3.330160e-02, -2.649367e-02, -2.051179e-02, -1.533129e-02,\n",
       "       -1.093065e-02, -7.291467e-03, -4.398438e-03, -2.239340e-03,\n",
       "       -8.050204e-04, -8.938327e-05])</pre></div></li><li class='xr-var-item'><div class='xr-var-name'><span>Cs_w</span></div><div class='xr-var-dims'>(s_w)</div><div class='xr-var-dtype'>float64</div><div class='xr-var-preview xr-preview'>...</div><input id='attrs-ebb6253b-788d-42d5-806f-e96f0c8d855c' class='xr-var-attrs-in' type='checkbox' disabled><label for='attrs-ebb6253b-788d-42d5-806f-e96f0c8d855c' title='Show/Hide attributes'><svg class='icon xr-icon-file-text2'><use xlink:href='#icon-file-text2'></use></svg></label><input id='data-13adb4b6-6e27-47b2-a015-665e38aee17f' class='xr-var-data-in' type='checkbox'><label for='data-13adb4b6-6e27-47b2-a015-665e38aee17f' title='Show/Hide data repr'><svg class='icon xr-icon-database'><use xlink:href='#icon-database'></use></svg></label><div class='xr-var-attrs'><dl class='xr-attrs'></dl></div><div class='xr-var-data'><pre>array([-1.000000e+00, -9.401782e-01, -8.824192e-01, -8.267974e-01,\n",
       "       -7.733646e-01, -7.221523e-01, -6.731740e-01, -6.264272e-01,\n",
       "       -5.818959e-01, -5.395521e-01, -4.993577e-01, -4.612666e-01,\n",
       "       -4.252257e-01, -3.911768e-01, -3.590577e-01, -3.288029e-01,\n",
       "       -3.003454e-01, -2.736170e-01, -2.485492e-01, -2.250739e-01,\n",
       "       -2.031237e-01, -1.826330e-01, -1.635377e-01, -1.457758e-01,\n",
       "       -1.292879e-01, -1.140170e-01, -9.990891e-02, -8.691245e-02,\n",
       "       -7.497934e-02, -6.406441e-02, -5.412559e-02, -4.512399e-02,\n",
       "       -3.702389e-02, -2.979272e-02, -2.340109e-02, -1.782278e-02,\n",
       "       -1.303471e-02, -9.016905e-03, -5.752520e-03, -3.227792e-03,\n",
       "       -1.432036e-03, -3.576282e-04,  0.000000e+00])</pre></div></li><li class='xr-var-item'><div class='xr-var-name'><span>h</span></div><div class='xr-var-dims'>(eta_rho, xi_rho)</div><div class='xr-var-dtype'>float32</div><div class='xr-var-preview xr-preview'>...</div><input id='attrs-34940998-8c8d-4fd6-a700-5af13252b7bf' class='xr-var-attrs-in' type='checkbox' disabled><label for='attrs-34940998-8c8d-4fd6-a700-5af13252b7bf' title='Show/Hide attributes'><svg class='icon xr-icon-file-text2'><use xlink:href='#icon-file-text2'></use></svg></label><input id='data-4779495d-43d7-44e3-b1fe-581b22dfb693' class='xr-var-data-in' type='checkbox'><label for='data-4779495d-43d7-44e3-b1fe-581b22dfb693' title='Show/Hide data repr'><svg class='icon xr-icon-database'><use xlink:href='#icon-database'></use></svg></label><div class='xr-var-attrs'><dl class='xr-attrs'></dl></div><div class='xr-var-data'><pre>[294177 values with dtype=float32]</pre></div></li><li class='xr-var-item'><div class='xr-var-name'><span>mask_rho</span></div><div class='xr-var-dims'>(eta_rho, xi_rho)</div><div class='xr-var-dtype'>float32</div><div class='xr-var-preview xr-preview'>...</div><input id='attrs-6dc56b4b-addc-4f86-a14f-43857827dfaf' class='xr-var-attrs-in' type='checkbox' disabled><label for='attrs-6dc56b4b-addc-4f86-a14f-43857827dfaf' title='Show/Hide attributes'><svg class='icon xr-icon-file-text2'><use xlink:href='#icon-file-text2'></use></svg></label><input id='data-3bf4d8c2-5902-4e56-94b9-8c1dd2c4e232' class='xr-var-data-in' type='checkbox'><label for='data-3bf4d8c2-5902-4e56-94b9-8c1dd2c4e232' title='Show/Hide data repr'><svg class='icon xr-icon-database'><use xlink:href='#icon-database'></use></svg></label><div class='xr-var-attrs'><dl class='xr-attrs'></dl></div><div class='xr-var-data'><pre>[294177 values with dtype=float32]</pre></div></li><li class='xr-var-item'><div class='xr-var-name'><span>angle</span></div><div class='xr-var-dims'>(eta_rho, xi_rho)</div><div class='xr-var-dtype'>float32</div><div class='xr-var-preview xr-preview'>...</div><input id='attrs-be3cb1be-a0c3-4ed1-b835-1a4bce495934' class='xr-var-attrs-in' type='checkbox' disabled><label for='attrs-be3cb1be-a0c3-4ed1-b835-1a4bce495934' title='Show/Hide attributes'><svg class='icon xr-icon-file-text2'><use xlink:href='#icon-file-text2'></use></svg></label><input id='data-4fa42a65-5366-48ff-b381-26e22ced3708' class='xr-var-data-in' type='checkbox'><label for='data-4fa42a65-5366-48ff-b381-26e22ced3708' title='Show/Hide data repr'><svg class='icon xr-icon-database'><use xlink:href='#icon-database'></use></svg></label><div class='xr-var-attrs'><dl class='xr-attrs'></dl></div><div class='xr-var-data'><pre>[294177 values with dtype=float32]</pre></div></li><li class='xr-var-item'><div class='xr-var-name'><span>zeta</span></div><div class='xr-var-dims'>(ocean_time, eta_rho, xi_rho)</div><div class='xr-var-dtype'>float32</div><div class='xr-var-preview xr-preview'>...</div><input id='attrs-5db8752d-5dfe-4dfd-b60a-fe1438502de1' class='xr-var-attrs-in' type='checkbox' disabled><label for='attrs-5db8752d-5dfe-4dfd-b60a-fe1438502de1' title='Show/Hide attributes'><svg class='icon xr-icon-file-text2'><use xlink:href='#icon-file-text2'></use></svg></label><input id='data-0bc3c516-afa1-43e5-8cfd-69a93d8c60d6' class='xr-var-data-in' type='checkbox'><label for='data-0bc3c516-afa1-43e5-8cfd-69a93d8c60d6' title='Show/Hide data repr'><svg class='icon xr-icon-database'><use xlink:href='#icon-database'></use></svg></label><div class='xr-var-attrs'><dl class='xr-attrs'></dl></div><div class='xr-var-data'><pre>[211807440 values with dtype=float32]</pre></div></li><li class='xr-var-item'><div class='xr-var-name'><span>ubar</span></div><div class='xr-var-dims'>(ocean_time, eta_rho, xi_u)</div><div class='xr-var-dtype'>float32</div><div class='xr-var-preview xr-preview'>...</div><input id='attrs-481952a0-cbc1-4fee-b067-39c65baa6c06' class='xr-var-attrs-in' type='checkbox' disabled><label for='attrs-481952a0-cbc1-4fee-b067-39c65baa6c06' title='Show/Hide attributes'><svg class='icon xr-icon-file-text2'><use xlink:href='#icon-file-text2'></use></svg></label><input id='data-818bd3b7-bf2c-4dac-99a5-c4ae9b5c5110' class='xr-var-data-in' type='checkbox'><label for='data-818bd3b7-bf2c-4dac-99a5-c4ae9b5c5110' title='Show/Hide data repr'><svg class='icon xr-icon-database'><use xlink:href='#icon-database'></use></svg></label><div class='xr-var-attrs'><dl class='xr-attrs'></dl></div><div class='xr-var-data'><pre>[211273920 values with dtype=float32]</pre></div></li><li class='xr-var-item'><div class='xr-var-name'><span>vbar</span></div><div class='xr-var-dims'>(ocean_time, eta_v, xi_rho)</div><div class='xr-var-dtype'>float32</div><div class='xr-var-preview xr-preview'>...</div><input id='attrs-c539befa-02b3-4a28-a4bd-509ddc91d47e' class='xr-var-attrs-in' type='checkbox' disabled><label for='attrs-c539befa-02b3-4a28-a4bd-509ddc91d47e' title='Show/Hide attributes'><svg class='icon xr-icon-file-text2'><use xlink:href='#icon-file-text2'></use></svg></label><input id='data-3eee8b9b-c1d3-48fd-b05a-55bef406e0ba' class='xr-var-data-in' type='checkbox'><label for='data-3eee8b9b-c1d3-48fd-b05a-55bef406e0ba' title='Show/Hide data repr'><svg class='icon xr-icon-database'><use xlink:href='#icon-database'></use></svg></label><div class='xr-var-attrs'><dl class='xr-attrs'></dl></div><div class='xr-var-data'><pre>[211521600 values with dtype=float32]</pre></div></li><li class='xr-var-item'><div class='xr-var-name'><span>salt</span></div><div class='xr-var-dims'>(ocean_time, s_rho, eta_rho, xi_rho)</div><div class='xr-var-dtype'>float32</div><div class='xr-var-preview xr-preview'>...</div><input id='attrs-086bc408-0a34-4421-951d-8340813a4944' class='xr-var-attrs-in' type='checkbox' disabled><label for='attrs-086bc408-0a34-4421-951d-8340813a4944' title='Show/Hide attributes'><svg class='icon xr-icon-file-text2'><use xlink:href='#icon-file-text2'></use></svg></label><input id='data-7119ebcb-72d0-4650-aa00-1a78d48bf80f' class='xr-var-data-in' type='checkbox'><label for='data-7119ebcb-72d0-4650-aa00-1a78d48bf80f' title='Show/Hide data repr'><svg class='icon xr-icon-database'><use xlink:href='#icon-database'></use></svg></label><div class='xr-var-attrs'><dl class='xr-attrs'></dl></div><div class='xr-var-data'><pre>[8895912480 values with dtype=float32]</pre></div></li><li class='xr-var-item'><div class='xr-var-name'><span>temp</span></div><div class='xr-var-dims'>(ocean_time, s_rho, eta_rho, xi_rho)</div><div class='xr-var-dtype'>float32</div><div class='xr-var-preview xr-preview'>...</div><input id='attrs-85bfe8e5-b980-41d8-b175-729d00957b0e' class='xr-var-attrs-in' type='checkbox' disabled><label for='attrs-85bfe8e5-b980-41d8-b175-729d00957b0e' title='Show/Hide attributes'><svg class='icon xr-icon-file-text2'><use xlink:href='#icon-file-text2'></use></svg></label><input id='data-bee12841-8bfb-4858-bc44-b41b18ad62f1' class='xr-var-data-in' type='checkbox'><label for='data-bee12841-8bfb-4858-bc44-b41b18ad62f1' title='Show/Hide data repr'><svg class='icon xr-icon-database'><use xlink:href='#icon-database'></use></svg></label><div class='xr-var-attrs'><dl class='xr-attrs'></dl></div><div class='xr-var-data'><pre>[8895912480 values with dtype=float32]</pre></div></li><li class='xr-var-item'><div class='xr-var-name'><span>u</span></div><div class='xr-var-dims'>(ocean_time, s_rho, eta_rho, xi_u)</div><div class='xr-var-dtype'>float32</div><div class='xr-var-preview xr-preview'>...</div><input id='attrs-0daf8925-1ad5-4541-9411-677840e81c06' class='xr-var-attrs-in' type='checkbox' disabled><label for='attrs-0daf8925-1ad5-4541-9411-677840e81c06' title='Show/Hide attributes'><svg class='icon xr-icon-file-text2'><use xlink:href='#icon-file-text2'></use></svg></label><input id='data-561ba556-990a-4721-a0fb-b8e5cc971dfa' class='xr-var-data-in' type='checkbox'><label for='data-561ba556-990a-4721-a0fb-b8e5cc971dfa' title='Show/Hide data repr'><svg class='icon xr-icon-database'><use xlink:href='#icon-database'></use></svg></label><div class='xr-var-attrs'><dl class='xr-attrs'></dl></div><div class='xr-var-data'><pre>[8873504640 values with dtype=float32]</pre></div></li><li class='xr-var-item'><div class='xr-var-name'><span>v</span></div><div class='xr-var-dims'>(ocean_time, s_rho, eta_v, xi_rho)</div><div class='xr-var-dtype'>float32</div><div class='xr-var-preview xr-preview'>...</div><input id='attrs-a219aada-cba4-4356-85b9-3df3e3ee6acb' class='xr-var-attrs-in' type='checkbox' disabled><label for='attrs-a219aada-cba4-4356-85b9-3df3e3ee6acb' title='Show/Hide attributes'><svg class='icon xr-icon-file-text2'><use xlink:href='#icon-file-text2'></use></svg></label><input id='data-4f543d1a-2a0a-4a04-9245-b7c297f160ff' class='xr-var-data-in' type='checkbox'><label for='data-4f543d1a-2a0a-4a04-9245-b7c297f160ff' title='Show/Hide data repr'><svg class='icon xr-icon-database'><use xlink:href='#icon-database'></use></svg></label><div class='xr-var-attrs'><dl class='xr-attrs'></dl></div><div class='xr-var-data'><pre>[8883907200 values with dtype=float32]</pre></div></li><li class='xr-var-item'><div class='xr-var-name'><span>lat_rho</span></div><div class='xr-var-dims'>(eta_rho, xi_rho)</div><div class='xr-var-dtype'>float32</div><div class='xr-var-preview xr-preview'>...</div><input id='attrs-8ce261d6-160e-4d0d-81da-7277636d8707' class='xr-var-attrs-in' type='checkbox' disabled><label for='attrs-8ce261d6-160e-4d0d-81da-7277636d8707' title='Show/Hide attributes'><svg class='icon xr-icon-file-text2'><use xlink:href='#icon-file-text2'></use></svg></label><input id='data-00512beb-4dd3-46ec-9978-d88d32ae7fd2' class='xr-var-data-in' type='checkbox'><label for='data-00512beb-4dd3-46ec-9978-d88d32ae7fd2' title='Show/Hide data repr'><svg class='icon xr-icon-database'><use xlink:href='#icon-database'></use></svg></label><div class='xr-var-attrs'><dl class='xr-attrs'></dl></div><div class='xr-var-data'><pre>[294177 values with dtype=float32]</pre></div></li><li class='xr-var-item'><div class='xr-var-name'><span>lon_rho</span></div><div class='xr-var-dims'>(eta_rho, xi_rho)</div><div class='xr-var-dtype'>float32</div><div class='xr-var-preview xr-preview'>...</div><input id='attrs-063ad116-a717-4139-a979-2dc9869b3e89' class='xr-var-attrs-in' type='checkbox' disabled><label for='attrs-063ad116-a717-4139-a979-2dc9869b3e89' title='Show/Hide attributes'><svg class='icon xr-icon-file-text2'><use xlink:href='#icon-file-text2'></use></svg></label><input id='data-707c4bdf-3ccc-4cc5-9f2e-d2f3b8f77cb2' class='xr-var-data-in' type='checkbox'><label for='data-707c4bdf-3ccc-4cc5-9f2e-d2f3b8f77cb2' title='Show/Hide data repr'><svg class='icon xr-icon-database'><use xlink:href='#icon-database'></use></svg></label><div class='xr-var-attrs'><dl class='xr-attrs'></dl></div><div class='xr-var-data'><pre>[294177 values with dtype=float32]</pre></div></li></ul></div></li><li class='xr-section-item'><input id='section-cb1ded41-90ff-4f74-b553-0f36cfe459ec' class='xr-section-summary-in' type='checkbox' disabled ><label for='section-cb1ded41-90ff-4f74-b553-0f36cfe459ec' class='xr-section-summary'  title='Expand/collapse section'>Attributes: <span>(0)</span></label><div class='xr-section-inline-details'></div><div class='xr-section-details'><dl class='xr-attrs'></dl></div></li></ul></div></div>"
      ],
      "text/plain": [
       "<xarray.Dataset>\n",
       "Dimensions:     (ocean_time: 720, s_rho: 42, s_w: 43, eta_rho: 741, xi_rho: 397, xi_u: 396, eta_v: 740)\n",
       "Coordinates:\n",
       "  * ocean_time  (ocean_time) datetime64[ns] 2014-06-30T13:00:00 ... 2014-07-3...\n",
       "  * s_rho       (s_rho) float64 -0.9881 -0.9643 -0.9405 ... -0.03571 -0.0119\n",
       "  * s_w         (s_w) float64 -1.0 -0.9762 -0.9524 ... -0.04762 -0.02381 0.0\n",
       "Dimensions without coordinates: eta_rho, xi_rho, xi_u, eta_v\n",
       "Data variables: (12/15)\n",
       "    projection  int32 ...\n",
       "    Cs_r        (s_rho) float64 ...\n",
       "    Cs_w        (s_w) float64 ...\n",
       "    h           (eta_rho, xi_rho) float32 ...\n",
       "    mask_rho    (eta_rho, xi_rho) float32 ...\n",
       "    angle       (eta_rho, xi_rho) float32 ...\n",
       "    ...          ...\n",
       "    salt        (ocean_time, s_rho, eta_rho, xi_rho) float32 ...\n",
       "    temp        (ocean_time, s_rho, eta_rho, xi_rho) float32 ...\n",
       "    u           (ocean_time, s_rho, eta_rho, xi_u) float32 ...\n",
       "    v           (ocean_time, s_rho, eta_v, xi_rho) float32 ...\n",
       "    lat_rho     (eta_rho, xi_rho) float32 ...\n",
       "    lon_rho     (eta_rho, xi_rho) float32 ..."
      ]
     },
     "execution_count": 9,
     "metadata": {},
     "output_type": "execute_result"
    }
   ],
   "source": [
    "import xarray as xr\n",
    "ds = xr.open_dataset(source_url)\n",
    "ds"
   ]
  },
  {
   "cell_type": "markdown",
   "metadata": {},
   "source": [
    "Animation utils"
   ]
  },
  {
   "cell_type": "code",
   "execution_count": 10,
   "metadata": {},
   "outputs": [],
   "source": [
    "import animation_utils"
   ]
  },
  {
   "cell_type": "markdown",
   "metadata": {},
   "source": [
    "## Generating GPUOcean Simulation from Input"
   ]
  },
  {
   "attachments": {},
   "cell_type": "markdown",
   "metadata": {},
   "source": [
    "General parameters"
   ]
  },
  {
   "cell_type": "code",
   "execution_count": 11,
   "metadata": {},
   "outputs": [],
   "source": [
    "dimY, dimX = ds.h.data.shape\n",
    "x0, x1, y0, y1 = 5, dimX-5, 175, dimY-5"
   ]
  },
  {
   "attachments": {},
   "cell_type": "markdown",
   "metadata": {},
   "source": [
    "Simulation span: 6h!"
   ]
  },
  {
   "cell_type": "code",
   "execution_count": 12,
   "metadata": {},
   "outputs": [],
   "source": [
    "t_start = 5*24\n",
    "t_stop =  t_start + 6\n",
    "\n",
    "T = (t_stop-t_start)*3600  #Input\n",
    "timestep_indices = [list(np.arange(t_start, t_stop+1))]"
   ]
  },
  {
   "attachments": {},
   "cell_type": "markdown",
   "metadata": {},
   "source": [
    "Generating wind fields"
   ]
  },
  {
   "cell_type": "code",
   "execution_count": 13,
   "metadata": {},
   "outputs": [],
   "source": [
    "from gpuocean.utils import WindStress\n",
    "\n",
    "def generate_wind_field(wind_angle_deg, t_start_index, T):\n",
    "    \"\"\"Generating WindStress object with spatially constant, hourly varying wind \n",
    "    according to the standard shape in Oslofjord (see Oslofjord-ArtificialParameters.ipynb)\n",
    "    \n",
    "    wind_angle_deg - angle of wind field towards north in degree!\n",
    "    t_start_index  - index for the time when generated wind field is supposed to start\n",
    "    T              - time span for which the wind field is generated in seconds\n",
    "    \"\"\"\n",
    "\n",
    "    wind_angle = np.deg2rad(wind_angle_deg)\n",
    "\n",
    "    # Reference wind speed for 0 - 24h \n",
    "    wind_u_ref = np.zeros(24)\n",
    "    wind_u_ref[:10] = -0.5*(np.sin(2*np.pi*(np.arange(0,10)-2.5)/10)+1)\n",
    "    wind_u_ref[10:] = 5*(np.sin(2*np.pi*(np.arange(10,24)+0.5)/14)+1)\n",
    "\n",
    "    # Wind fields for 0 - 24h\n",
    "    wind_u = list(np.cos(wind_angle)*wind_u_ref[:,np.newaxis][:,np.newaxis].astype(np.float32))\n",
    "    wind_v = list(np.sin(wind_angle)*wind_u_ref[:,np.newaxis][:,np.newaxis].astype(np.float32))\n",
    "\n",
    "    # Shifting that reference hours align with t_0\n",
    "    shift = datetime.datetime.utcfromtimestamp(nc[\"ocean_time\"][t_start_index]).hour\n",
    "    for shift_hour in range(shift):\n",
    "        wind_u.append(wind_u.pop(0))\n",
    "        wind_v.append(wind_v.pop(0))\n",
    "\n",
    "    # Repeat for several days if necessary\n",
    "    wind_u = wind_u * int(np.ceil((T/3600+1)/24))\n",
    "    wind_v = wind_v * int(np.ceil((T/3600+1)/24))\n",
    "\n",
    "    # Cut relevant time span\n",
    "    wind_u = wind_u[0:int(T/3600+1)]\n",
    "    wind_v = wind_v[0:int(T/3600 +1)]\n",
    "\n",
    "    # Construct time array in simulator time (starting with 0)\n",
    "    ts = np.arange(T+1, step=3600)\n",
    "\n",
    "    # Init WindStress object\n",
    "    wind = WindStress.WindStress(t=ts, wind_u=wind_v, wind_v=wind_u)\n",
    "    wind.compute_wind_stress_from_wind()\n",
    "\n",
    "    return wind "
   ]
  },
  {
   "attachments": {},
   "cell_type": "markdown",
   "metadata": {},
   "source": [
    "### Initial conditions"
   ]
  },
  {
   "cell_type": "code",
   "execution_count": 14,
   "metadata": {},
   "outputs": [],
   "source": [
    "ref_barotropic_data_args, ref_baroclinic_data_args = NetCDFInitialization.getCombinedInitialConditions(source_url, x0, x1, y0, y1, 1024.0, timestep_indices=timestep_indices, norkyst_data=False, land_value=0.0, download_data=False)"
   ]
  },
  {
   "attachments": {},
   "cell_type": "markdown",
   "metadata": {},
   "source": [
    "#### Barotropic Simulations"
   ]
  },
  {
   "cell_type": "code",
   "execution_count": 15,
   "metadata": {},
   "outputs": [],
   "source": [
    "ref_barotropic_data_args[\"wind\"] = generate_wind_field(45.0, t_start, T)"
   ]
  },
  {
   "cell_type": "code",
   "execution_count": 16,
   "metadata": {},
   "outputs": [
    {
     "name": "stderr",
     "output_type": "stream",
     "text": [
      "This will give inaccurate angle along the border!\n",
      "This will give inaccurate coriolis along the border!\n"
     ]
    }
   ],
   "source": [
    "ref_barotropic_sim = CDKLM16.CDKLM16(barotropic_gpu_ctx, **NetCDFInitialization.removeMetadata(ref_barotropic_data_args), dt=0.0, write_netcdf=True)"
   ]
  },
  {
   "cell_type": "code",
   "execution_count": 17,
   "metadata": {},
   "outputs": [
    {
     "data": {
      "text/plain": [
       "<matplotlib.colorbar.Colorbar at 0x7f71371fb650>"
      ]
     },
     "execution_count": 17,
     "metadata": {},
     "output_type": "execute_result"
    },
    {
     "data": {
      "image/png": "[encoded data removed]",
      "text/plain": [
       "<Figure size 1080x360 with 6 Axes>"
      ]
     },
     "metadata": {
      "needs_background": "dark"
     },
     "output_type": "display_data"
    }
   ],
   "source": [
    "bt_eta, bt_hu, bt_hv = ref_barotropic_sim.download()\n",
    "\n",
    "fig, axs = plt.subplots(1,3, figsize=(15,5))\n",
    "\n",
    "im = axs[0].imshow(bt_eta, vmin=-0.5, vmax=0.5, cmap=\"coolwarm\")\n",
    "axs[0].set_title(\"eta\")\n",
    "plt.colorbar(im, ax=axs[0], shrink=0.5)\n",
    "\n",
    "im = axs[1].imshow(bt_hu, vmin=-5, vmax=5, cmap=\"coolwarm\")\n",
    "axs[1].set_title(\"hu\")\n",
    "plt.colorbar(im, ax=axs[1], shrink=0.5)\n",
    "\n",
    "im = axs[2].imshow(bt_hv, vmin=-5, vmax=5, cmap=\"coolwarm\")\n",
    "axs[2].set_title(\"hv\")\n",
    "plt.colorbar(im, ax=axs[2], shrink=0.5)"
   ]
  },
  {
   "cell_type": "code",
   "execution_count": 18,
   "metadata": {},
   "outputs": [],
   "source": [
    "subt = 3600\n",
    "for runt in range(int(T/subt)):\n",
    "    ref_barotropic_sim.step(subt)\n"
   ]
  },
  {
   "cell_type": "code",
   "execution_count": 19,
   "metadata": {},
   "outputs": [],
   "source": [
    "# with plt.rc_context({'lines.color':'black', \n",
    "#                         'text.color':'black', \n",
    "#                         'axes.labelcolor':'black', \n",
    "#                         'xtick.color':'black',\n",
    "#                         'ytick.color':'black'}):\n",
    "#     anim = animation_utils.ncAnimation(barotropic_sim.sim_writer.output_file_name, \"gpuocean\", comment=\"GPUOcean\")\n",
    "#     anim.save(\"anims/barotropic_test.mp4\")"
   ]
  },
  {
   "attachments": {},
   "cell_type": "markdown",
   "metadata": {},
   "source": [
    "#### Baroclinic Simulations"
   ]
  },
  {
   "cell_type": "code",
   "execution_count": 20,
   "metadata": {},
   "outputs": [],
   "source": [
    "ref_baroclinic_data_args[\"wind\"] = generate_wind_field(45.0, t_start, T)\n",
    "ref_baroclinic_data_args[\"wind_stress_factor\"] = 0.3"
   ]
  },
  {
   "cell_type": "code",
   "execution_count": 21,
   "metadata": {},
   "outputs": [
    {
     "name": "stderr",
     "output_type": "stream",
     "text": [
      "This will give inaccurate angle along the border!\n",
      "This will give inaccurate coriolis along the border!\n"
     ]
    }
   ],
   "source": [
    "ref_baroclinic_sim = CDKLM16.CDKLM16(baroclinic_gpu_ctx, **NetCDFInitialization.removeMetadata(ref_baroclinic_data_args), dt=0.0, write_netcdf=True)"
   ]
  },
  {
   "cell_type": "code",
   "execution_count": 22,
   "metadata": {},
   "outputs": [
    {
     "data": {
      "text/plain": [
       "<matplotlib.colorbar.Colorbar at 0x7f712eefae50>"
      ]
     },
     "execution_count": 22,
     "metadata": {},
     "output_type": "execute_result"
    },
    {
     "data": {
      "image/png": "[encoded data removed]",
      "text/plain": [
       "<Figure size 1080x360 with 6 Axes>"
      ]
     },
     "metadata": {
      "needs_background": "dark"
     },
     "output_type": "display_data"
    }
   ],
   "source": [
    "bc_eta, bc_hu, bc_hv = ref_baroclinic_sim.download()\n",
    "\n",
    "fig, axs = plt.subplots(1,3, figsize=(15,5))\n",
    "\n",
    "im = axs[0].imshow(-bc_eta, vmin=-15, vmax=0, cmap=\"coolwarm\")\n",
    "axs[0].set_title(\"MLD\")\n",
    "plt.colorbar(im, ax=axs[0], shrink=0.5)\n",
    "\n",
    "im = axs[1].imshow(bc_hu, vmin=-5, vmax=5, cmap=\"coolwarm\")\n",
    "axs[1].set_title(\"hu\")\n",
    "plt.colorbar(im, ax=axs[1], shrink=0.5)\n",
    "\n",
    "im = axs[2].imshow(bc_hv, vmin=-5, vmax=5, cmap=\"coolwarm\")\n",
    "axs[2].set_title(\"hv\")\n",
    "plt.colorbar(im, ax=axs[2], shrink=0.5)"
   ]
  },
  {
   "cell_type": "code",
   "execution_count": 23,
   "metadata": {},
   "outputs": [],
   "source": [
    "subt = 3600\n",
    "for runt in range(int(T/subt)):\n",
    "    ref_baroclinic_sim.step(subt)"
   ]
  },
  {
   "cell_type": "code",
   "execution_count": 24,
   "metadata": {},
   "outputs": [],
   "source": [
    "# with plt.rc_context({'lines.color':'black', \n",
    "#                         'text.color':'black', \n",
    "#                         'axes.labelcolor':'black', \n",
    "#                         'xtick.color':'black',\n",
    "#                         'ytick.color':'black'}):\n",
    "#     anim = animation_utils.ncAnimation(ref_baroclinic_sim.sim_writer.output_file_name, \"gpuocean-reduced_grav\", comment=\"GPUOcean\")\n",
    "#     anim.save(\"anims/baroclinic_test.mp4\")"
   ]
  },
  {
   "attachments": {},
   "cell_type": "markdown",
   "metadata": {},
   "source": [
    "#### Combined deterministic simulation with drifters\n",
    "\n",
    "Just for reference"
   ]
  },
  {
   "cell_type": "code",
   "execution_count": 25,
   "metadata": {},
   "outputs": [
    {
     "name": "stderr",
     "output_type": "stream",
     "text": [
      "This will give inaccurate angle along the border!\n",
      "This will give inaccurate coriolis along the border!\n",
      "This will give inaccurate angle along the border!\n",
      "This will give inaccurate coriolis along the border!\n"
     ]
    },
    {
     "name": "stdout",
     "output_type": "stream",
     "text": [
      "Closing file /home/florianb/havvarsel/reduced-gravity-ocean-model/notebooks/Oslofjord/netcdf_2023_03_17/CDKLM16_2023_03_17-10_21_47.nc ...\n",
      "Closing file /home/florianb/havvarsel/reduced-gravity-ocean-model/notebooks/Oslofjord/netcdf_2023_03_17/CDKLM16_2023_03_17-10_22_05.nc ...\n"
     ]
    }
   ],
   "source": [
    "from gpuocean.SWEsimulators import CombinedCDKLM16\n",
    "\n",
    "ref_barotropic_sim = CDKLM16.CDKLM16(barotropic_gpu_ctx, **NetCDFInitialization.removeMetadata(ref_barotropic_data_args), dt=0.0, write_netcdf=False)\n",
    "ref_baroclinic_sim = CDKLM16.CDKLM16(baroclinic_gpu_ctx, **NetCDFInitialization.removeMetadata(ref_baroclinic_data_args), dt=0.0, write_netcdf=False)\n",
    "\n",
    "ref_sims = CombinedCDKLM16.CombinedCDKLM16(barotropic_sim=ref_barotropic_sim, baroclinic_sim=ref_baroclinic_sim)"
   ]
  },
  {
   "cell_type": "code",
   "execution_count": 26,
   "metadata": {},
   "outputs": [],
   "source": [
    "from gpuocean.utils import Observation\n",
    "from gpuocean.drifters import GPUDrifterCollection\n",
    "from gpuocean.dataassimilation import DataAssimilationUtils as dautils"
   ]
  },
  {
   "cell_type": "code",
   "execution_count": 27,
   "metadata": {},
   "outputs": [],
   "source": [
    "observation_type = dautils.ObservationType.UnderlyingFlow \n",
    "    \n",
    "observation_args = {'observation_type': observation_type,\n",
    "                'nx': ref_sims.nx, 'ny': ref_sims.ny,\n",
    "                'domain_size_x': ref_sims.nx*ref_sims.dx,\n",
    "                'domain_size_y': ref_sims.ny*ref_sims.dy,\n",
    "                'land_mask': ref_sims.getLandMask()\n",
    "                }\n",
    "\n",
    "trajectories = Observation.Observation(**observation_args)"
   ]
  },
  {
   "cell_type": "code",
   "execution_count": 28,
   "metadata": {},
   "outputs": [],
   "source": [
    "initx = [ 6000, 8000, 5000,  12000, 15000, 4000]\n",
    "inity = [12000, 2500, 7500, 22000, 16000, 15000]\n",
    "\n",
    "num_drifters = len(initx)\n",
    "\n",
    "drifters = GPUDrifterCollection.GPUDrifterCollection(drifter_gpu_ctx, num_drifters,\n",
    "                                                    boundaryConditions = ref_sims.boundary_conditions,\n",
    "                                                    domain_size_x = trajectories.domain_size_x,\n",
    "                                                    domain_size_y = trajectories.domain_size_y,\n",
    "                                                    gpu_stream = ref_sims.gpu_stream,\n",
    "                                                    wind=generate_wind_field(45.0, t_start, T),\n",
    "                                                    wind_drift_factor=0.02/2 # halfend since drift kernel called twice\n",
    "                                                    )\n",
    "\n",
    "drifter_pos_init = np.array([initx, inity]).T\n",
    "drifters.setDrifterPositions(drifter_pos_init)"
   ]
  },
  {
   "cell_type": "code",
   "execution_count": 29,
   "metadata": {},
   "outputs": [],
   "source": [
    "ref_sims.attachDrifters(drifters)\n",
    "trajectories.add_observation_from_sim(ref_sims)"
   ]
  },
  {
   "cell_type": "code",
   "execution_count": 30,
   "metadata": {},
   "outputs": [
    {
     "data": {
      "text/plain": [
       "(21600.0, 21600.0)"
      ]
     },
     "execution_count": 30,
     "metadata": {},
     "output_type": "execute_result"
    }
   ],
   "source": [
    "ref_sims.combinedStep(T, trajectory_dt=60, trajectories=trajectories)"
   ]
  },
  {
   "cell_type": "code",
   "execution_count": 31,
   "metadata": {},
   "outputs": [
    {
     "name": "stderr",
     "output_type": "stream",
     "text": [
      "/home/florianb/miniconda3/envs/gpuocean_opendrift/lib/python3.7/site-packages/ipykernel_launcher.py:4: RuntimeWarning: invalid value encountered in sqrt\n",
      "  after removing the cwd from sys.path.\n",
      "/home/florianb/miniconda3/envs/gpuocean_opendrift/lib/python3.7/site-packages/ipykernel_launcher.py:10: MatplotlibDeprecationWarning: You are modifying the state of a globally registered colormap. In future versions, you will not be able to modify a registered colormap in-place. To remove this warning, you can make a copy of the colormap first. cmap = copy.copy(mpl.cm.get_cmap(\"Reds\"))\n",
      "  # Remove the CWD from sys.path while we load stuff.\n"
     ]
    },
    {
     "data": {
      "text/plain": [
       "<matplotlib.legend.Legend at 0x7f712eed8450>"
      ]
     },
     "execution_count": 31,
     "metadata": {},
     "output_type": "execute_result"
    },
    {
     "data": {
      "image/png": "[encoded data removed]",
      "text/plain": [
       "<Figure size 720x720 with 1 Axes>"
      ]
     },
     "metadata": {
      "needs_background": "dark"
     },
     "output_type": "display_data"
    }
   ],
   "source": [
    "fig, ax = plt.subplots(1,1, figsize=(10,10))\n",
    "\n",
    "combined_eta, combined_u, combined_v = ref_sims.download() \n",
    "uv_field = np.sqrt(combined_u**2 + combined_v**2)\n",
    "\n",
    "\n",
    "domain_extent = [0, ref_sims.nx*ref_sims.dx, 0, ref_sims.ny*ref_sims.dy]\n",
    "\n",
    "velo_cmap = copy.deepcopy(plt.cm.Reds)\n",
    "velo_cmap.set_bad(\"grey\", alpha = 1.0)\n",
    "\n",
    "ax.imshow(uv_field, interpolation=\"none\", origin='lower', \n",
    "                cmap=velo_cmap, \n",
    "                vmin=0.0, vmax=0.5, \n",
    "                extent=domain_extent)\n",
    "\n",
    "drifter_path = trajectories.get_drifter_path(0, 0, ref_sims.t, in_km = False)[0]\n",
    "\n",
    "start_pos = drifter_path[0,:]\n",
    "circ_start = matplotlib.patches.Circle((start_pos[0], start_pos[1]), \n",
    "                                                100, color = 'blue',\n",
    "                                                fill=True, zorder=10)\n",
    "ax.add_patch(circ_start)\n",
    "\n",
    "ax.plot(drifter_path[:,0], drifter_path[:,1], color=\"blue\", ls=\"-\", zorder=5, label=\"Combined\")\n",
    "end_pos = drifter_path[-1,:]\n",
    "ax.plot(end_pos[0], end_pos[1], 'x', color='k', zorder=11)\n",
    "\n",
    "\n",
    "ax.legend(labelcolor=\"black\")\n"
   ]
  },
  {
   "attachments": {},
   "cell_type": "markdown",
   "metadata": {},
   "source": [
    "## Cross Pert Drifters"
   ]
  },
  {
   "attachments": {},
   "cell_type": "markdown",
   "metadata": {},
   "source": [
    "The test scenario should be\n",
    "- X barotropic simulations (different `wind`)\n",
    "- Y wind drift factors (connected to barotropic sims, since wind response of baroclinic model is already well covered)\n",
    "- Z baroclinic simulations (2 different `wind`, with 2 different `wind_stress_factors` and 3 different `g`)"
   ]
  },
  {
   "cell_type": "code",
   "execution_count": 32,
   "metadata": {},
   "outputs": [],
   "source": [
    "import pandas as pd "
   ]
  },
  {
   "cell_type": "code",
   "execution_count": 33,
   "metadata": {},
   "outputs": [],
   "source": [
    "wind_angles_degs = np.arange(0, 91, 22.5)\n",
    "wind_samples = [None]*len(wind_angles_degs)\n",
    "\n",
    "for i in range(len(wind_angles_degs)):\n",
    "    wind_samples[i] = generate_wind_field(wind_angles_degs[i], t_start, T)"
   ]
  },
  {
   "cell_type": "code",
   "execution_count": 34,
   "metadata": {},
   "outputs": [],
   "source": [
    "baroclinic_wind_angles_degs = np.arange(0, 91, 22.5)\n",
    "baroclinic_wind_samples = [None]*len(baroclinic_wind_angles_degs)\n",
    "\n",
    "for i in range(len(baroclinic_wind_angles_degs)):\n",
    "    baroclinic_wind_samples[i] = generate_wind_field(baroclinic_wind_angles_degs[i], t_start, T)"
   ]
  },
  {
   "cell_type": "code",
   "execution_count": 35,
   "metadata": {},
   "outputs": [],
   "source": [
    "barotropic_wind_angles_degs = np.arange(0, 91, 45)\n",
    "barotropic_wind_samples = [None]*len(barotropic_wind_angles_degs)\n",
    "\n",
    "for i in range(len(barotropic_wind_angles_degs)):\n",
    "    barotropic_wind_samples[i] = generate_wind_field(barotropic_wind_angles_degs[i], t_start, T)"
   ]
  },
  {
   "attachments": {},
   "cell_type": "markdown",
   "metadata": {},
   "source": [
    "Collect perturbations"
   ]
  },
  {
   "cell_type": "code",
   "execution_count": 36,
   "metadata": {},
   "outputs": [
    {
     "name": "stderr",
     "output_type": "stream",
     "text": [
      "This will give inaccurate angle along the border!\n",
      "This will give inaccurate coriolis along the border!\n"
     ]
    },
    {
     "name": "stdout",
     "output_type": "stream",
     "text": [
      "0\n"
     ]
    },
    {
     "name": "stderr",
     "output_type": "stream",
     "text": [
      "This will give inaccurate angle along the border!\n",
      "This will give inaccurate coriolis along the border!\n"
     ]
    },
    {
     "name": "stdout",
     "output_type": "stream",
     "text": [
      "45\n"
     ]
    },
    {
     "name": "stderr",
     "output_type": "stream",
     "text": [
      "This will give inaccurate angle along the border!\n",
      "This will give inaccurate coriolis along the border!\n"
     ]
    },
    {
     "name": "stdout",
     "output_type": "stream",
     "text": [
      "90\n"
     ]
    }
   ],
   "source": [
    "# Barotropic data args by starting from earlier timesteps and doing a sufficient spin-up\n",
    "barotropic_data_args = []\n",
    "\n",
    "spinup_t = 24\n",
    "\n",
    "spinup_barotropic_data_args = NetCDFInitialization.getInitialConditions(source_url, x0, x1, y0, y1, timestep_indices=[np.arange(t_start-spinup_t, t_start+1)], norkyst_data=False, land_value=0.0, download_data=False)\n",
    "spinup_barotropic_data_args.pop(\"wind\")\n",
    "\n",
    "for wind_direction in barotropic_wind_angles_degs:\n",
    "    print(wind_direction)\n",
    "    wind = WindStress.WindStress(t=[0], wind_u=[np.array([[np.cos(np.deg2rad(wind_direction))*10]]).astype(np.float32)], wind_v=[np.array([[np.sin(np.deg2rad(wind_direction))*10]]).astype(np.float32)])\n",
    "    spinup_barotropic_sim = CDKLM16.CDKLM16(barotropic_gpu_ctx, **NetCDFInitialization.removeMetadata(spinup_barotropic_data_args), dt=0.0, wind=wind)\n",
    "    spinup_barotropic_sim.step(spinup_t*3600)\n",
    "    eta, hu, hv = spinup_barotropic_sim.download()\n",
    "\n",
    "    spunup_barotropic_data_args = copy.copy(ref_barotropic_data_args)\n",
    "    spunup_barotropic_data_args[\"eta0\"] = eta\n",
    "    spunup_barotropic_data_args[\"hu0\"] = hu\n",
    "    spunup_barotropic_data_args[\"hv0\"] = hv\n",
    "    spunup_barotropic_data_args[\"wind\"] = generate_wind_field(wind_direction, t_start, T)\n",
    "    barotropic_data_args.append(spunup_barotropic_data_args)"
   ]
  },
  {
   "cell_type": "code",
   "execution_count": 37,
   "metadata": {},
   "outputs": [
    {
     "name": "stdout",
     "output_type": "stream",
     "text": [
      "0.030270605610380003\n",
      "0.02590019048200965\n",
      "0.020022437452273542\n"
     ]
    }
   ],
   "source": [
    "# Mixed layer depth (MLD) \n",
    "# Can be explored coupled or decoupled with the reduced gravity constant\n",
    "mld_dens_samples = np.arange(1022.5, 1024.6, 1.0)\n",
    "mld_samples_data_args = [None]*len(mld_dens_samples)\n",
    "\n",
    "for i in range(len(mld_dens_samples)):\n",
    "    _, mld_samples_data_args[i] = NetCDFInitialization.getCombinedInitialConditions(source_url, x0, x1, y0, y1, \n",
    "                                                                                    mld_dens_samples[i], timestep_indices=timestep_indices, norkyst_data=False, land_value=0.0, download_data=False)\n",
    "    print(mld_samples_data_args[i][\"g\"])\n"
   ]
  },
  {
   "cell_type": "code",
   "execution_count": 38,
   "metadata": {},
   "outputs": [],
   "source": [
    "wind_stress_samples = np.arange(0.1, 0.51, 0.2)"
   ]
  },
  {
   "cell_type": "code",
   "execution_count": 39,
   "metadata": {},
   "outputs": [],
   "source": [
    "friction_samples = np.arange(0, 0.0051, 0.001)"
   ]
  },
  {
   "cell_type": "code",
   "execution_count": 40,
   "metadata": {},
   "outputs": [],
   "source": [
    "windage_samples = np.arange(0.0, 0.051, 0.01)"
   ]
  },
  {
   "attachments": {},
   "cell_type": "markdown",
   "metadata": {},
   "source": [
    "Generate all contextes"
   ]
  },
  {
   "cell_type": "code",
   "execution_count": 41,
   "metadata": {},
   "outputs": [],
   "source": [
    "bt_gpu_ctxs = []\n",
    "bc_gpu_ctxs = []\n",
    "drifter_gpu_ctxs = []\n",
    "for i in range(len(wind_samples)):\n",
    "    bc_gpu_ctxs.append( Common.CUDAContext() )\n",
    "    drifter_gpu_ctxs.append( Common.CUDAContext() )\n",
    "\n",
    "for i in range(len(barotropic_wind_samples)):\n",
    "    bt_gpu_ctxs.append( Common.CUDAContext() )"
   ]
  },
  {
   "attachments": {},
   "cell_type": "markdown",
   "metadata": {},
   "source": [
    "#### Creating simulators"
   ]
  },
  {
   "cell_type": "code",
   "execution_count": 42,
   "metadata": {},
   "outputs": [
    {
     "name": "stderr",
     "output_type": "stream",
     "text": [
      "This will give inaccurate angle along the border!\n",
      "This will give inaccurate coriolis along the border!\n",
      "This will give inaccurate angle along the border!\n",
      "This will give inaccurate coriolis along the border!\n",
      "This will give inaccurate angle along the border!\n",
      "This will give inaccurate coriolis along the border!\n"
     ]
    }
   ],
   "source": [
    "barotropic_sims = []\n",
    "\n",
    "for i in range(len(barotropic_data_args)):\n",
    "    barotropic_sims.append( CDKLM16.CDKLM16(bt_gpu_ctxs[i], **NetCDFInitialization.removeMetadata(barotropic_data_args[i]),  dt=0.0))"
   ]
  },
  {
   "cell_type": "code",
   "execution_count": 43,
   "metadata": {},
   "outputs": [
    {
     "name": "stderr",
     "output_type": "stream",
     "text": [
      "This will give inaccurate angle along the border!\n",
      "This will give inaccurate coriolis along the border!\n",
      "This will give inaccurate angle along the border!\n",
      "This will give inaccurate coriolis along the border!\n",
      "This will give inaccurate angle along the border!\n",
      "This will give inaccurate coriolis along the border!\n",
      "This will give inaccurate angle along the border!\n",
      "This will give inaccurate coriolis along the border!\n",
      "This will give inaccurate angle along the border!\n",
      "This will give inaccurate coriolis along the border!\n",
      "This will give inaccurate angle along the border!\n",
      "This will give inaccurate coriolis along the border!\n",
      "This will give inaccurate angle along the border!\n",
      "This will give inaccurate coriolis along the border!\n",
      "This will give inaccurate angle along the border!\n",
      "This will give inaccurate coriolis along the border!\n",
      "This will give inaccurate angle along the border!\n",
      "This will give inaccurate coriolis along the border!\n",
      "This will give inaccurate angle along the border!\n",
      "This will give inaccurate coriolis along the border!\n",
      "This will give inaccurate angle along the border!\n",
      "This will give inaccurate coriolis along the border!\n",
      "This will give inaccurate angle along the border!\n",
      "This will give inaccurate coriolis along the border!\n",
      "This will give inaccurate angle along the border!\n",
      "This will give inaccurate coriolis along the border!\n",
      "This will give inaccurate angle along the border!\n",
      "This will give inaccurate coriolis along the border!\n",
      "This will give inaccurate angle along the border!\n",
      "This will give inaccurate coriolis along the border!\n",
      "This will give inaccurate angle along the border!\n",
      "This will give inaccurate coriolis along the border!\n",
      "This will give inaccurate angle along the border!\n",
      "This will give inaccurate coriolis along the border!\n",
      "This will give inaccurate angle along the border!\n",
      "This will give inaccurate coriolis along the border!\n",
      "This will give inaccurate angle along the border!\n",
      "This will give inaccurate coriolis along the border!\n",
      "This will give inaccurate angle along the border!\n",
      "This will give inaccurate coriolis along the border!\n",
      "This will give inaccurate angle along the border!\n",
      "This will give inaccurate coriolis along the border!\n",
      "This will give inaccurate angle along the border!\n",
      "This will give inaccurate coriolis along the border!\n",
      "This will give inaccurate angle along the border!\n",
      "This will give inaccurate coriolis along the border!\n",
      "This will give inaccurate angle along the border!\n",
      "This will give inaccurate coriolis along the border!\n",
      "This will give inaccurate angle along the border!\n",
      "This will give inaccurate coriolis along the border!\n",
      "This will give inaccurate angle along the border!\n",
      "This will give inaccurate coriolis along the border!\n",
      "This will give inaccurate angle along the border!\n",
      "This will give inaccurate coriolis along the border!\n",
      "This will give inaccurate angle along the border!\n",
      "This will give inaccurate coriolis along the border!\n",
      "This will give inaccurate angle along the border!\n",
      "This will give inaccurate coriolis along the border!\n",
      "This will give inaccurate angle along the border!\n",
      "This will give inaccurate coriolis along the border!\n",
      "This will give inaccurate angle along the border!\n",
      "This will give inaccurate coriolis along the border!\n",
      "This will give inaccurate angle along the border!\n",
      "This will give inaccurate coriolis along the border!\n",
      "This will give inaccurate angle along the border!\n",
      "This will give inaccurate coriolis along the border!\n",
      "This will give inaccurate angle along the border!\n",
      "This will give inaccurate coriolis along the border!\n",
      "This will give inaccurate angle along the border!\n",
      "This will give inaccurate coriolis along the border!\n",
      "This will give inaccurate angle along the border!\n",
      "This will give inaccurate coriolis along the border!\n",
      "This will give inaccurate angle along the border!\n",
      "This will give inaccurate coriolis along the border!\n",
      "This will give inaccurate angle along the border!\n",
      "This will give inaccurate coriolis along the border!\n",
      "This will give inaccurate angle along the border!\n",
      "This will give inaccurate coriolis along the border!\n",
      "This will give inaccurate angle along the border!\n",
      "This will give inaccurate coriolis along the border!\n",
      "This will give inaccurate angle along the border!\n",
      "This will give inaccurate coriolis along the border!\n",
      "This will give inaccurate angle along the border!\n",
      "This will give inaccurate coriolis along the border!\n",
      "This will give inaccurate angle along the border!\n",
      "This will give inaccurate coriolis along the border!\n",
      "This will give inaccurate angle along the border!\n",
      "This will give inaccurate coriolis along the border!\n",
      "This will give inaccurate angle along the border!\n",
      "This will give inaccurate coriolis along the border!\n",
      "This will give inaccurate angle along the border!\n",
      "This will give inaccurate coriolis along the border!\n",
      "This will give inaccurate angle along the border!\n",
      "This will give inaccurate coriolis along the border!\n",
      "This will give inaccurate angle along the border!\n",
      "This will give inaccurate coriolis along the border!\n",
      "This will give inaccurate angle along the border!\n",
      "This will give inaccurate coriolis along the border!\n",
      "This will give inaccurate angle along the border!\n",
      "This will give inaccurate coriolis along the border!\n",
      "This will give inaccurate angle along the border!\n",
      "This will give inaccurate coriolis along the border!\n",
      "This will give inaccurate angle along the border!\n",
      "This will give inaccurate coriolis along the border!\n",
      "This will give inaccurate angle along the border!\n",
      "This will give inaccurate coriolis along the border!\n",
      "This will give inaccurate angle along the border!\n",
      "This will give inaccurate coriolis along the border!\n",
      "This will give inaccurate angle along the border!\n",
      "This will give inaccurate coriolis along the border!\n",
      "This will give inaccurate angle along the border!\n",
      "This will give inaccurate coriolis along the border!\n",
      "This will give inaccurate angle along the border!\n",
      "This will give inaccurate coriolis along the border!\n",
      "This will give inaccurate angle along the border!\n",
      "This will give inaccurate coriolis along the border!\n",
      "This will give inaccurate angle along the border!\n",
      "This will give inaccurate coriolis along the border!\n",
      "This will give inaccurate angle along the border!\n",
      "This will give inaccurate coriolis along the border!\n",
      "This will give inaccurate angle along the border!\n",
      "This will give inaccurate coriolis along the border!\n",
      "This will give inaccurate angle along the border!\n",
      "This will give inaccurate coriolis along the border!\n",
      "This will give inaccurate angle along the border!\n",
      "This will give inaccurate coriolis along the border!\n",
      "This will give inaccurate angle along the border!\n",
      "This will give inaccurate coriolis along the border!\n",
      "This will give inaccurate angle along the border!\n",
      "This will give inaccurate coriolis along the border!\n",
      "This will give inaccurate angle along the border!\n",
      "This will give inaccurate coriolis along the border!\n",
      "This will give inaccurate angle along the border!\n",
      "This will give inaccurate coriolis along the border!\n",
      "This will give inaccurate angle along the border!\n",
      "This will give inaccurate coriolis along the border!\n",
      "This will give inaccurate angle along the border!\n",
      "This will give inaccurate coriolis along the border!\n",
      "This will give inaccurate angle along the border!\n",
      "This will give inaccurate coriolis along the border!\n",
      "This will give inaccurate angle along the border!\n",
      "This will give inaccurate coriolis along the border!\n",
      "This will give inaccurate angle along the border!\n",
      "This will give inaccurate coriolis along the border!\n",
      "This will give inaccurate angle along the border!\n",
      "This will give inaccurate coriolis along the border!\n",
      "This will give inaccurate angle along the border!\n",
      "This will give inaccurate coriolis along the border!\n",
      "This will give inaccurate angle along the border!\n",
      "This will give inaccurate coriolis along the border!\n",
      "This will give inaccurate angle along the border!\n",
      "This will give inaccurate coriolis along the border!\n",
      "This will give inaccurate angle along the border!\n",
      "This will give inaccurate coriolis along the border!\n",
      "This will give inaccurate angle along the border!\n",
      "This will give inaccurate coriolis along the border!\n",
      "This will give inaccurate angle along the border!\n",
      "This will give inaccurate coriolis along the border!\n",
      "This will give inaccurate angle along the border!\n",
      "This will give inaccurate coriolis along the border!\n",
      "This will give inaccurate angle along the border!\n",
      "This will give inaccurate coriolis along the border!\n",
      "This will give inaccurate angle along the border!\n",
      "This will give inaccurate coriolis along the border!\n",
      "This will give inaccurate angle along the border!\n",
      "This will give inaccurate coriolis along the border!\n",
      "This will give inaccurate angle along the border!\n",
      "This will give inaccurate coriolis along the border!\n",
      "This will give inaccurate angle along the border!\n",
      "This will give inaccurate coriolis along the border!\n",
      "This will give inaccurate angle along the border!\n",
      "This will give inaccurate coriolis along the border!\n",
      "This will give inaccurate angle along the border!\n",
      "This will give inaccurate coriolis along the border!\n",
      "This will give inaccurate angle along the border!\n",
      "This will give inaccurate coriolis along the border!\n",
      "This will give inaccurate angle along the border!\n",
      "This will give inaccurate coriolis along the border!\n",
      "This will give inaccurate angle along the border!\n",
      "This will give inaccurate coriolis along the border!\n",
      "This will give inaccurate angle along the border!\n",
      "This will give inaccurate coriolis along the border!\n",
      "This will give inaccurate angle along the border!\n",
      "This will give inaccurate coriolis along the border!\n",
      "This will give inaccurate angle along the border!\n",
      "This will give inaccurate coriolis along the border!\n",
      "This will give inaccurate angle along the border!\n",
      "This will give inaccurate coriolis along the border!\n",
      "This will give inaccurate angle along the border!\n",
      "This will give inaccurate coriolis along the border!\n",
      "This will give inaccurate angle along the border!\n",
      "This will give inaccurate coriolis along the border!\n",
      "This will give inaccurate angle along the border!\n",
      "This will give inaccurate coriolis along the border!\n",
      "This will give inaccurate angle along the border!\n",
      "This will give inaccurate coriolis along the border!\n",
      "This will give inaccurate angle along the border!\n",
      "This will give inaccurate coriolis along the border!\n",
      "This will give inaccurate angle along the border!\n",
      "This will give inaccurate coriolis along the border!\n",
      "This will give inaccurate angle along the border!\n",
      "This will give inaccurate coriolis along the border!\n",
      "This will give inaccurate angle along the border!\n",
      "This will give inaccurate coriolis along the border!\n",
      "This will give inaccurate angle along the border!\n",
      "This will give inaccurate coriolis along the border!\n",
      "This will give inaccurate angle along the border!\n",
      "This will give inaccurate coriolis along the border!\n",
      "This will give inaccurate angle along the border!\n",
      "This will give inaccurate coriolis along the border!\n",
      "This will give inaccurate angle along the border!\n",
      "This will give inaccurate coriolis along the border!\n",
      "This will give inaccurate angle along the border!\n",
      "This will give inaccurate coriolis along the border!\n",
      "This will give inaccurate angle along the border!\n",
      "This will give inaccurate coriolis along the border!\n",
      "This will give inaccurate angle along the border!\n",
      "This will give inaccurate coriolis along the border!\n",
      "This will give inaccurate angle along the border!\n",
      "This will give inaccurate coriolis along the border!\n",
      "This will give inaccurate angle along the border!\n",
      "This will give inaccurate coriolis along the border!\n",
      "This will give inaccurate angle along the border!\n",
      "This will give inaccurate coriolis along the border!\n",
      "This will give inaccurate angle along the border!\n",
      "This will give inaccurate coriolis along the border!\n",
      "This will give inaccurate angle along the border!\n",
      "This will give inaccurate coriolis along the border!\n",
      "This will give inaccurate angle along the border!\n",
      "This will give inaccurate coriolis along the border!\n",
      "This will give inaccurate angle along the border!\n",
      "This will give inaccurate coriolis along the border!\n",
      "This will give inaccurate angle along the border!\n",
      "This will give inaccurate coriolis along the border!\n",
      "This will give inaccurate angle along the border!\n",
      "This will give inaccurate coriolis along the border!\n",
      "This will give inaccurate angle along the border!\n",
      "This will give inaccurate coriolis along the border!\n",
      "This will give inaccurate angle along the border!\n",
      "This will give inaccurate coriolis along the border!\n",
      "This will give inaccurate angle along the border!\n",
      "This will give inaccurate coriolis along the border!\n",
      "This will give inaccurate angle along the border!\n",
      "This will give inaccurate coriolis along the border!\n",
      "This will give inaccurate angle along the border!\n",
      "This will give inaccurate coriolis along the border!\n",
      "This will give inaccurate angle along the border!\n",
      "This will give inaccurate coriolis along the border!\n",
      "This will give inaccurate angle along the border!\n",
      "This will give inaccurate coriolis along the border!\n",
      "This will give inaccurate angle along the border!\n",
      "This will give inaccurate coriolis along the border!\n",
      "This will give inaccurate angle along the border!\n",
      "This will give inaccurate coriolis along the border!\n",
      "This will give inaccurate angle along the border!\n",
      "This will give inaccurate coriolis along the border!\n",
      "This will give inaccurate angle along the border!\n",
      "This will give inaccurate coriolis along the border!\n",
      "This will give inaccurate angle along the border!\n",
      "This will give inaccurate coriolis along the border!\n",
      "This will give inaccurate angle along the border!\n",
      "This will give inaccurate coriolis along the border!\n",
      "This will give inaccurate angle along the border!\n",
      "This will give inaccurate coriolis along the border!\n",
      "This will give inaccurate angle along the border!\n",
      "This will give inaccurate coriolis along the border!\n",
      "This will give inaccurate angle along the border!\n",
      "This will give inaccurate coriolis along the border!\n",
      "This will give inaccurate angle along the border!\n",
      "This will give inaccurate coriolis along the border!\n",
      "This will give inaccurate angle along the border!\n",
      "This will give inaccurate coriolis along the border!\n",
      "This will give inaccurate angle along the border!\n",
      "This will give inaccurate coriolis along the border!\n",
      "This will give inaccurate angle along the border!\n",
      "This will give inaccurate coriolis along the border!\n",
      "This will give inaccurate angle along the border!\n",
      "This will give inaccurate coriolis along the border!\n",
      "This will give inaccurate angle along the border!\n",
      "This will give inaccurate coriolis along the border!\n",
      "This will give inaccurate angle along the border!\n",
      "This will give inaccurate coriolis along the border!\n",
      "This will give inaccurate angle along the border!\n",
      "This will give inaccurate coriolis along the border!\n",
      "This will give inaccurate angle along the border!\n",
      "This will give inaccurate coriolis along the border!\n",
      "This will give inaccurate angle along the border!\n",
      "This will give inaccurate coriolis along the border!\n",
      "This will give inaccurate angle along the border!\n",
      "This will give inaccurate coriolis along the border!\n",
      "This will give inaccurate angle along the border!\n",
      "This will give inaccurate coriolis along the border!\n",
      "This will give inaccurate angle along the border!\n",
      "This will give inaccurate coriolis along the border!\n",
      "This will give inaccurate angle along the border!\n",
      "This will give inaccurate coriolis along the border!\n",
      "This will give inaccurate angle along the border!\n",
      "This will give inaccurate coriolis along the border!\n",
      "This will give inaccurate angle along the border!\n",
      "This will give inaccurate coriolis along the border!\n",
      "This will give inaccurate angle along the border!\n",
      "This will give inaccurate coriolis along the border!\n",
      "This will give inaccurate angle along the border!\n",
      "This will give inaccurate coriolis along the border!\n",
      "This will give inaccurate angle along the border!\n",
      "This will give inaccurate coriolis along the border!\n",
      "This will give inaccurate angle along the border!\n",
      "This will give inaccurate coriolis along the border!\n",
      "This will give inaccurate angle along the border!\n",
      "This will give inaccurate coriolis along the border!\n",
      "This will give inaccurate angle along the border!\n",
      "This will give inaccurate coriolis along the border!\n",
      "This will give inaccurate angle along the border!\n",
      "This will give inaccurate coriolis along the border!\n",
      "This will give inaccurate angle along the border!\n",
      "This will give inaccurate coriolis along the border!\n",
      "This will give inaccurate angle along the border!\n",
      "This will give inaccurate coriolis along the border!\n",
      "This will give inaccurate angle along the border!\n",
      "This will give inaccurate coriolis along the border!\n",
      "This will give inaccurate angle along the border!\n",
      "This will give inaccurate coriolis along the border!\n",
      "This will give inaccurate angle along the border!\n",
      "This will give inaccurate coriolis along the border!\n",
      "This will give inaccurate angle along the border!\n",
      "This will give inaccurate coriolis along the border!\n",
      "This will give inaccurate angle along the border!\n",
      "This will give inaccurate coriolis along the border!\n",
      "This will give inaccurate angle along the border!\n",
      "This will give inaccurate coriolis along the border!\n",
      "This will give inaccurate angle along the border!\n",
      "This will give inaccurate coriolis along the border!\n",
      "This will give inaccurate angle along the border!\n",
      "This will give inaccurate coriolis along the border!\n",
      "This will give inaccurate angle along the border!\n",
      "This will give inaccurate coriolis along the border!\n",
      "This will give inaccurate angle along the border!\n",
      "This will give inaccurate coriolis along the border!\n",
      "This will give inaccurate angle along the border!\n",
      "This will give inaccurate coriolis along the border!\n",
      "This will give inaccurate angle along the border!\n",
      "This will give inaccurate coriolis along the border!\n",
      "This will give inaccurate angle along the border!\n",
      "This will give inaccurate coriolis along the border!\n",
      "This will give inaccurate angle along the border!\n",
      "This will give inaccurate coriolis along the border!\n",
      "This will give inaccurate angle along the border!\n",
      "This will give inaccurate coriolis along the border!\n",
      "This will give inaccurate angle along the border!\n",
      "This will give inaccurate coriolis along the border!\n",
      "This will give inaccurate angle along the border!\n",
      "This will give inaccurate coriolis along the border!\n",
      "This will give inaccurate angle along the border!\n",
      "This will give inaccurate coriolis along the border!\n",
      "This will give inaccurate angle along the border!\n",
      "This will give inaccurate coriolis along the border!\n",
      "This will give inaccurate angle along the border!\n",
      "This will give inaccurate coriolis along the border!\n",
      "This will give inaccurate angle along the border!\n",
      "This will give inaccurate coriolis along the border!\n",
      "This will give inaccurate angle along the border!\n",
      "This will give inaccurate coriolis along the border!\n",
      "This will give inaccurate angle along the border!\n",
      "This will give inaccurate coriolis along the border!\n",
      "This will give inaccurate angle along the border!\n",
      "This will give inaccurate coriolis along the border!\n",
      "This will give inaccurate angle along the border!\n",
      "This will give inaccurate coriolis along the border!\n",
      "This will give inaccurate angle along the border!\n",
      "This will give inaccurate coriolis along the border!\n",
      "This will give inaccurate angle along the border!\n",
      "This will give inaccurate coriolis along the border!\n",
      "This will give inaccurate angle along the border!\n",
      "This will give inaccurate coriolis along the border!\n",
      "This will give inaccurate angle along the border!\n",
      "This will give inaccurate coriolis along the border!\n",
      "This will give inaccurate angle along the border!\n",
      "This will give inaccurate coriolis along the border!\n",
      "This will give inaccurate angle along the border!\n",
      "This will give inaccurate coriolis along the border!\n",
      "This will give inaccurate angle along the border!\n",
      "This will give inaccurate coriolis along the border!\n",
      "This will give inaccurate angle along the border!\n",
      "This will give inaccurate coriolis along the border!\n",
      "This will give inaccurate angle along the border!\n",
      "This will give inaccurate coriolis along the border!\n",
      "This will give inaccurate angle along the border!\n",
      "This will give inaccurate coriolis along the border!\n",
      "This will give inaccurate angle along the border!\n",
      "This will give inaccurate coriolis along the border!\n",
      "This will give inaccurate angle along the border!\n",
      "This will give inaccurate coriolis along the border!\n",
      "This will give inaccurate angle along the border!\n",
      "This will give inaccurate coriolis along the border!\n",
      "This will give inaccurate angle along the border!\n",
      "This will give inaccurate coriolis along the border!\n",
      "This will give inaccurate angle along the border!\n",
      "This will give inaccurate coriolis along the border!\n",
      "This will give inaccurate angle along the border!\n",
      "This will give inaccurate coriolis along the border!\n",
      "This will give inaccurate angle along the border!\n",
      "This will give inaccurate coriolis along the border!\n",
      "This will give inaccurate angle along the border!\n",
      "This will give inaccurate coriolis along the border!\n",
      "This will give inaccurate angle along the border!\n",
      "This will give inaccurate coriolis along the border!\n",
      "This will give inaccurate angle along the border!\n",
      "This will give inaccurate coriolis along the border!\n",
      "This will give inaccurate angle along the border!\n",
      "This will give inaccurate coriolis along the border!\n",
      "This will give inaccurate angle along the border!\n",
      "This will give inaccurate coriolis along the border!\n",
      "This will give inaccurate angle along the border!\n",
      "This will give inaccurate coriolis along the border!\n",
      "This will give inaccurate angle along the border!\n",
      "This will give inaccurate coriolis along the border!\n",
      "This will give inaccurate angle along the border!\n",
      "This will give inaccurate coriolis along the border!\n",
      "This will give inaccurate angle along the border!\n",
      "This will give inaccurate coriolis along the border!\n",
      "This will give inaccurate angle along the border!\n",
      "This will give inaccurate coriolis along the border!\n",
      "This will give inaccurate angle along the border!\n",
      "This will give inaccurate coriolis along the border!\n",
      "This will give inaccurate angle along the border!\n",
      "This will give inaccurate coriolis along the border!\n",
      "This will give inaccurate angle along the border!\n",
      "This will give inaccurate coriolis along the border!\n",
      "This will give inaccurate angle along the border!\n",
      "This will give inaccurate coriolis along the border!\n",
      "This will give inaccurate angle along the border!\n",
      "This will give inaccurate coriolis along the border!\n",
      "This will give inaccurate angle along the border!\n",
      "This will give inaccurate coriolis along the border!\n",
      "This will give inaccurate angle along the border!\n",
      "This will give inaccurate coriolis along the border!\n",
      "This will give inaccurate angle along the border!\n",
      "This will give inaccurate coriolis along the border!\n",
      "This will give inaccurate angle along the border!\n",
      "This will give inaccurate coriolis along the border!\n",
      "This will give inaccurate angle along the border!\n",
      "This will give inaccurate coriolis along the border!\n",
      "This will give inaccurate angle along the border!\n",
      "This will give inaccurate coriolis along the border!\n",
      "This will give inaccurate angle along the border!\n",
      "This will give inaccurate coriolis along the border!\n",
      "This will give inaccurate angle along the border!\n",
      "This will give inaccurate coriolis along the border!\n",
      "This will give inaccurate angle along the border!\n",
      "This will give inaccurate coriolis along the border!\n",
      "This will give inaccurate angle along the border!\n",
      "This will give inaccurate coriolis along the border!\n",
      "This will give inaccurate angle along the border!\n",
      "This will give inaccurate coriolis along the border!\n",
      "This will give inaccurate angle along the border!\n",
      "This will give inaccurate coriolis along the border!\n",
      "This will give inaccurate angle along the border!\n",
      "This will give inaccurate coriolis along the border!\n",
      "This will give inaccurate angle along the border!\n",
      "This will give inaccurate coriolis along the border!\n",
      "This will give inaccurate angle along the border!\n",
      "This will give inaccurate coriolis along the border!\n",
      "This will give inaccurate angle along the border!\n",
      "This will give inaccurate coriolis along the border!\n",
      "This will give inaccurate angle along the border!\n",
      "This will give inaccurate coriolis along the border!\n",
      "This will give inaccurate angle along the border!\n",
      "This will give inaccurate coriolis along the border!\n",
      "This will give inaccurate angle along the border!\n",
      "This will give inaccurate coriolis along the border!\n",
      "This will give inaccurate angle along the border!\n",
      "This will give inaccurate coriolis along the border!\n",
      "This will give inaccurate angle along the border!\n",
      "This will give inaccurate coriolis along the border!\n",
      "This will give inaccurate angle along the border!\n",
      "This will give inaccurate coriolis along the border!\n",
      "This will give inaccurate angle along the border!\n",
      "This will give inaccurate coriolis along the border!\n",
      "This will give inaccurate angle along the border!\n",
      "This will give inaccurate coriolis along the border!\n",
      "This will give inaccurate angle along the border!\n",
      "This will give inaccurate coriolis along the border!\n",
      "This will give inaccurate angle along the border!\n",
      "This will give inaccurate coriolis along the border!\n",
      "This will give inaccurate angle along the border!\n",
      "This will give inaccurate coriolis along the border!\n",
      "This will give inaccurate angle along the border!\n",
      "This will give inaccurate coriolis along the border!\n",
      "This will give inaccurate angle along the border!\n",
      "This will give inaccurate coriolis along the border!\n",
      "This will give inaccurate angle along the border!\n",
      "This will give inaccurate coriolis along the border!\n",
      "This will give inaccurate angle along the border!\n",
      "This will give inaccurate coriolis along the border!\n",
      "This will give inaccurate angle along the border!\n",
      "This will give inaccurate coriolis along the border!\n",
      "This will give inaccurate angle along the border!\n",
      "This will give inaccurate coriolis along the border!\n",
      "This will give inaccurate angle along the border!\n",
      "This will give inaccurate coriolis along the border!\n",
      "This will give inaccurate angle along the border!\n",
      "This will give inaccurate coriolis along the border!\n",
      "This will give inaccurate angle along the border!\n",
      "This will give inaccurate coriolis along the border!\n",
      "This will give inaccurate angle along the border!\n",
      "This will give inaccurate coriolis along the border!\n",
      "This will give inaccurate angle along the border!\n",
      "This will give inaccurate coriolis along the border!\n",
      "This will give inaccurate angle along the border!\n",
      "This will give inaccurate coriolis along the border!\n",
      "This will give inaccurate angle along the border!\n",
      "This will give inaccurate coriolis along the border!\n",
      "This will give inaccurate angle along the border!\n",
      "This will give inaccurate coriolis along the border!\n",
      "This will give inaccurate angle along the border!\n",
      "This will give inaccurate coriolis along the border!\n",
      "This will give inaccurate angle along the border!\n",
      "This will give inaccurate coriolis along the border!\n",
      "This will give inaccurate angle along the border!\n",
      "This will give inaccurate coriolis along the border!\n",
      "This will give inaccurate angle along the border!\n",
      "This will give inaccurate coriolis along the border!\n",
      "This will give inaccurate angle along the border!\n",
      "This will give inaccurate coriolis along the border!\n",
      "This will give inaccurate angle along the border!\n",
      "This will give inaccurate coriolis along the border!\n",
      "This will give inaccurate angle along the border!\n",
      "This will give inaccurate coriolis along the border!\n",
      "This will give inaccurate angle along the border!\n",
      "This will give inaccurate coriolis along the border!\n",
      "This will give inaccurate angle along the border!\n",
      "This will give inaccurate coriolis along the border!\n",
      "This will give inaccurate angle along the border!\n",
      "This will give inaccurate coriolis along the border!\n",
      "This will give inaccurate angle along the border!\n",
      "This will give inaccurate coriolis along the border!\n",
      "This will give inaccurate angle along the border!\n",
      "This will give inaccurate coriolis along the border!\n",
      "This will give inaccurate angle along the border!\n",
      "This will give inaccurate coriolis along the border!\n"
     ]
    }
   ],
   "source": [
    "baroclinic_sims = []\n",
    "bc_table = pd.DataFrame(columns=[\"baroclinic_id\", \"wind_angle_id\", \"wind_stress_factor_id\", \"friction_id\", \"mld_id\"]).set_index(\"baroclinic_id\")\n",
    "\n",
    "for i_w in range(len(baroclinic_wind_samples)):\n",
    "    for i_ws in range(len(wind_stress_samples)):\n",
    "        for i_f in range(len(friction_samples)):\n",
    "            for i_mld in range(len(mld_samples_data_args)):\n",
    "                baroclinic_data_args = copy.copy(mld_samples_data_args[i_mld])\n",
    "                baroclinic_data_args[\"wind\"] = baroclinic_wind_samples[i_w]\n",
    "                baroclinic_data_args[\"wind_stress_factor\"] = wind_stress_samples[i_ws]\n",
    "                baroclinic_data_args[\"r\"] = friction_samples[i_f]\n",
    "                baroclinic_sims.append( CDKLM16.CDKLM16(bc_gpu_ctxs[i_w], **NetCDFInitialization.removeMetadata(baroclinic_data_args),  dt=0.0))\n",
    "                bc_table.loc[len(bc_table.index)] = [i_w, i_ws, i_f, i_mld]"
   ]
  },
  {
   "cell_type": "code",
   "execution_count": 44,
   "metadata": {},
   "outputs": [
    {
     "data": {
      "text/html": [
       "<div>\n",
       "<style scoped>\n",
       "    .dataframe tbody tr th:only-of-type {\n",
       "        vertical-align: middle;\n",
       "    }\n",
       "\n",
       "    .dataframe tbody tr th {\n",
       "        vertical-align: top;\n",
       "    }\n",
       "\n",
       "    .dataframe thead th {\n",
       "        text-align: right;\n",
       "    }\n",
       "</style>\n",
       "<table border=\"1\" class=\"dataframe\">\n",
       "  <thead>\n",
       "    <tr style=\"text-align: right;\">\n",
       "      <th></th>\n",
       "      <th>wind_angle_id</th>\n",
       "      <th>wind_stress_factor_id</th>\n",
       "      <th>friction_id</th>\n",
       "      <th>mld_id</th>\n",
       "    </tr>\n",
       "    <tr>\n",
       "      <th>baroclinic_id</th>\n",
       "      <th></th>\n",
       "      <th></th>\n",
       "      <th></th>\n",
       "      <th></th>\n",
       "    </tr>\n",
       "  </thead>\n",
       "  <tbody>\n",
       "    <tr>\n",
       "      <th>0</th>\n",
       "      <td>0</td>\n",
       "      <td>0</td>\n",
       "      <td>0</td>\n",
       "      <td>0</td>\n",
       "    </tr>\n",
       "    <tr>\n",
       "      <th>1</th>\n",
       "      <td>0</td>\n",
       "      <td>0</td>\n",
       "      <td>0</td>\n",
       "      <td>1</td>\n",
       "    </tr>\n",
       "    <tr>\n",
       "      <th>2</th>\n",
       "      <td>0</td>\n",
       "      <td>0</td>\n",
       "      <td>0</td>\n",
       "      <td>2</td>\n",
       "    </tr>\n",
       "    <tr>\n",
       "      <th>3</th>\n",
       "      <td>0</td>\n",
       "      <td>0</td>\n",
       "      <td>1</td>\n",
       "      <td>0</td>\n",
       "    </tr>\n",
       "    <tr>\n",
       "      <th>4</th>\n",
       "      <td>0</td>\n",
       "      <td>0</td>\n",
       "      <td>1</td>\n",
       "      <td>1</td>\n",
       "    </tr>\n",
       "    <tr>\n",
       "      <th>...</th>\n",
       "      <td>...</td>\n",
       "      <td>...</td>\n",
       "      <td>...</td>\n",
       "      <td>...</td>\n",
       "    </tr>\n",
       "    <tr>\n",
       "      <th>265</th>\n",
       "      <td>4</td>\n",
       "      <td>2</td>\n",
       "      <td>4</td>\n",
       "      <td>1</td>\n",
       "    </tr>\n",
       "    <tr>\n",
       "      <th>266</th>\n",
       "      <td>4</td>\n",
       "      <td>2</td>\n",
       "      <td>4</td>\n",
       "      <td>2</td>\n",
       "    </tr>\n",
       "    <tr>\n",
       "      <th>267</th>\n",
       "      <td>4</td>\n",
       "      <td>2</td>\n",
       "      <td>5</td>\n",
       "      <td>0</td>\n",
       "    </tr>\n",
       "    <tr>\n",
       "      <th>268</th>\n",
       "      <td>4</td>\n",
       "      <td>2</td>\n",
       "      <td>5</td>\n",
       "      <td>1</td>\n",
       "    </tr>\n",
       "    <tr>\n",
       "      <th>269</th>\n",
       "      <td>4</td>\n",
       "      <td>2</td>\n",
       "      <td>5</td>\n",
       "      <td>2</td>\n",
       "    </tr>\n",
       "  </tbody>\n",
       "</table>\n",
       "<p>270 rows × 4 columns</p>\n",
       "</div>"
      ],
      "text/plain": [
       "              wind_angle_id wind_stress_factor_id friction_id mld_id\n",
       "baroclinic_id                                                       \n",
       "0                         0                     0           0      0\n",
       "1                         0                     0           0      1\n",
       "2                         0                     0           0      2\n",
       "3                         0                     0           1      0\n",
       "4                         0                     0           1      1\n",
       "...                     ...                   ...         ...    ...\n",
       "265                       4                     2           4      1\n",
       "266                       4                     2           4      2\n",
       "267                       4                     2           5      0\n",
       "268                       4                     2           5      1\n",
       "269                       4                     2           5      2\n",
       "\n",
       "[270 rows x 4 columns]"
      ]
     },
     "execution_count": 44,
     "metadata": {},
     "output_type": "execute_result"
    }
   ],
   "source": [
    "bc_table"
   ]
  },
  {
   "attachments": {},
   "cell_type": "markdown",
   "metadata": {},
   "source": [
    "#### Cross Product Table "
   ]
  },
  {
   "cell_type": "code",
   "execution_count": 45,
   "metadata": {},
   "outputs": [],
   "source": [
    "ref_table = pd.DataFrame(columns=[\"drifter_id\", \"barotropic_id\", \"baroclinic_id\", \"wind_angle_id\", \"windage_id\"]).set_index(\"drifter_id\")"
   ]
  },
  {
   "cell_type": "code",
   "execution_count": 46,
   "metadata": {},
   "outputs": [],
   "source": [
    "for bt in range(len(barotropic_sims)):\n",
    "    for bc in range(len(baroclinic_sims)):\n",
    "        for wind in range(len(wind_samples)):\n",
    "            for windage in range(len(windage_samples)):\n",
    "                ref_table.loc[len(ref_table.index)] = [bt, bc, wind, windage]"
   ]
  },
  {
   "cell_type": "code",
   "execution_count": 47,
   "metadata": {},
   "outputs": [
    {
     "data": {
      "text/html": [
       "<div>\n",
       "<style scoped>\n",
       "    .dataframe tbody tr th:only-of-type {\n",
       "        vertical-align: middle;\n",
       "    }\n",
       "\n",
       "    .dataframe tbody tr th {\n",
       "        vertical-align: top;\n",
       "    }\n",
       "\n",
       "    .dataframe thead th {\n",
       "        text-align: right;\n",
       "    }\n",
       "</style>\n",
       "<table border=\"1\" class=\"dataframe\">\n",
       "  <thead>\n",
       "    <tr style=\"text-align: right;\">\n",
       "      <th></th>\n",
       "      <th>barotropic_id</th>\n",
       "      <th>baroclinic_id</th>\n",
       "      <th>wind_angle_id</th>\n",
       "      <th>windage_id</th>\n",
       "    </tr>\n",
       "    <tr>\n",
       "      <th>drifter_id</th>\n",
       "      <th></th>\n",
       "      <th></th>\n",
       "      <th></th>\n",
       "      <th></th>\n",
       "    </tr>\n",
       "  </thead>\n",
       "  <tbody>\n",
       "    <tr>\n",
       "      <th>0</th>\n",
       "      <td>0</td>\n",
       "      <td>0</td>\n",
       "      <td>0</td>\n",
       "      <td>0</td>\n",
       "    </tr>\n",
       "    <tr>\n",
       "      <th>1</th>\n",
       "      <td>0</td>\n",
       "      <td>0</td>\n",
       "      <td>0</td>\n",
       "      <td>1</td>\n",
       "    </tr>\n",
       "    <tr>\n",
       "      <th>2</th>\n",
       "      <td>0</td>\n",
       "      <td>0</td>\n",
       "      <td>0</td>\n",
       "      <td>2</td>\n",
       "    </tr>\n",
       "    <tr>\n",
       "      <th>3</th>\n",
       "      <td>0</td>\n",
       "      <td>0</td>\n",
       "      <td>0</td>\n",
       "      <td>3</td>\n",
       "    </tr>\n",
       "    <tr>\n",
       "      <th>4</th>\n",
       "      <td>0</td>\n",
       "      <td>0</td>\n",
       "      <td>0</td>\n",
       "      <td>4</td>\n",
       "    </tr>\n",
       "    <tr>\n",
       "      <th>...</th>\n",
       "      <td>...</td>\n",
       "      <td>...</td>\n",
       "      <td>...</td>\n",
       "      <td>...</td>\n",
       "    </tr>\n",
       "    <tr>\n",
       "      <th>24295</th>\n",
       "      <td>2</td>\n",
       "      <td>269</td>\n",
       "      <td>4</td>\n",
       "      <td>1</td>\n",
       "    </tr>\n",
       "    <tr>\n",
       "      <th>24296</th>\n",
       "      <td>2</td>\n",
       "      <td>269</td>\n",
       "      <td>4</td>\n",
       "      <td>2</td>\n",
       "    </tr>\n",
       "    <tr>\n",
       "      <th>24297</th>\n",
       "      <td>2</td>\n",
       "      <td>269</td>\n",
       "      <td>4</td>\n",
       "      <td>3</td>\n",
       "    </tr>\n",
       "    <tr>\n",
       "      <th>24298</th>\n",
       "      <td>2</td>\n",
       "      <td>269</td>\n",
       "      <td>4</td>\n",
       "      <td>4</td>\n",
       "    </tr>\n",
       "    <tr>\n",
       "      <th>24299</th>\n",
       "      <td>2</td>\n",
       "      <td>269</td>\n",
       "      <td>4</td>\n",
       "      <td>5</td>\n",
       "    </tr>\n",
       "  </tbody>\n",
       "</table>\n",
       "<p>24300 rows × 4 columns</p>\n",
       "</div>"
      ],
      "text/plain": [
       "           barotropic_id baroclinic_id wind_angle_id windage_id\n",
       "drifter_id                                                     \n",
       "0                      0             0             0          0\n",
       "1                      0             0             0          1\n",
       "2                      0             0             0          2\n",
       "3                      0             0             0          3\n",
       "4                      0             0             0          4\n",
       "...                  ...           ...           ...        ...\n",
       "24295                  2           269             4          1\n",
       "24296                  2           269             4          2\n",
       "24297                  2           269             4          3\n",
       "24298                  2           269             4          4\n",
       "24299                  2           269             4          5\n",
       "\n",
       "[24300 rows x 4 columns]"
      ]
     },
     "execution_count": 47,
     "metadata": {},
     "output_type": "execute_result"
    }
   ],
   "source": [
    "ref_table"
   ]
  },
  {
   "attachments": {},
   "cell_type": "markdown",
   "metadata": {},
   "source": [
    "Collecting drifter and observation objects"
   ]
  },
  {
   "cell_type": "code",
   "execution_count": 48,
   "metadata": {},
   "outputs": [],
   "source": [
    "from gpuocean.utils import Observation\n",
    "from gpuocean.drifters import GPUDrifterCollection\n",
    "from gpuocean.dataassimilation import DataAssimilationUtils as dautils"
   ]
  },
  {
   "cell_type": "code",
   "execution_count": 49,
   "metadata": {},
   "outputs": [],
   "source": [
    "observation_type = dautils.ObservationType.UnderlyingFlow \n",
    "    \n",
    "observation_args = {'observation_type': observation_type,\n",
    "                'nx': ref_barotropic_sim.nx, 'ny': ref_barotropic_sim.ny,\n",
    "                'domain_size_x': ref_barotropic_sim.nx*ref_barotropic_sim.dx,\n",
    "                'domain_size_y': ref_barotropic_sim.ny*ref_barotropic_sim.dy,\n",
    "                'land_mask': ref_barotropic_sim.getLandMask()\n",
    "                }\n",
    "\n",
    "trajectories = Observation.Observation(**observation_args)\n"
   ]
  },
  {
   "cell_type": "code",
   "execution_count": 50,
   "metadata": {},
   "outputs": [],
   "source": [
    "initx = [ 6000, 8000, 5000,  12000, 15000, 4000]\n",
    "inity = [12000, 3000, 7500, 22000, 16000, 15000]\n",
    "\n",
    "num_drifters = len(initx)"
   ]
  },
  {
   "cell_type": "code",
   "execution_count": 51,
   "metadata": {},
   "outputs": [],
   "source": [
    "crossprod_trajectories = []\n",
    "for cp in range(len(ref_table)):\n",
    "    crossprod_trajectories.append(copy.deepcopy(trajectories))"
   ]
  },
  {
   "cell_type": "code",
   "execution_count": 52,
   "metadata": {},
   "outputs": [
    {
     "data": {
      "text/plain": [
       "<gpuocean.SWEsimulators.CDKLM16.CDKLM16 at 0x7f712edfd950>"
      ]
     },
     "execution_count": 52,
     "metadata": {},
     "output_type": "execute_result"
    }
   ],
   "source": [
    "barotropic_sims[ref_table.iloc[0].barotropic_id]"
   ]
  },
  {
   "cell_type": "code",
   "execution_count": 53,
   "metadata": {},
   "outputs": [],
   "source": [
    "crossprod_drifters = []\n",
    "for cp in range(len(ref_table)): \n",
    "    drifters = GPUDrifterCollection.GPUDrifterCollection(drifter_gpu_ctxs[ref_table.iloc[cp].wind_angle_id], # OBS: This is used for wind drift! \n",
    "                                                    num_drifters,\n",
    "                                                    boundaryConditions = ref_barotropic_sim.boundary_conditions,\n",
    "                                                    domain_size_x = trajectories.domain_size_x,\n",
    "                                                    domain_size_y = trajectories.domain_size_y,\n",
    "                                                    gpu_stream = barotropic_sims[ref_table.iloc[cp].barotropic_id].gpu_stream, # OBS!\n",
    "                                                    wind = wind_samples[ref_table.iloc[cp].wind_angle_id],\n",
    "                                                    wind_drift_factor = windage_samples[ref_table.iloc[cp].windage_id]/2 # drift is called twice per step, but we only want one wind contribution\n",
    "                                                    )           \n",
    "\n",
    "    drifter_pos_init = np.array([initx, inity]).T\n",
    "    drifters.setDrifterPositions(drifter_pos_init)\n",
    "    crossprod_drifters.append(drifters)"
   ]
  },
  {
   "attachments": {},
   "cell_type": "markdown",
   "metadata": {},
   "source": [
    "Attach CPdrifters"
   ]
  },
  {
   "cell_type": "code",
   "execution_count": 54,
   "metadata": {},
   "outputs": [],
   "source": [
    "from itertools import compress"
   ]
  },
  {
   "cell_type": "code",
   "execution_count": 55,
   "metadata": {},
   "outputs": [],
   "source": [
    "for bt in range(len(barotropic_sims)):\n",
    "    barotropic_sims[bt].attachCrossProductDrifters( \n",
    "        list(compress(crossprod_drifters, ref_table[\"barotropic_id\"] == bt)), \n",
    "        [baroclinic_sims[i] for i in list(ref_table[ref_table[\"barotropic_id\"] == bt].baroclinic_id)] )"
   ]
  },
  {
   "attachments": {},
   "cell_type": "markdown",
   "metadata": {},
   "source": [
    "Let's fan out the drifters!"
   ]
  },
  {
   "cell_type": "code",
   "execution_count": 56,
   "metadata": {},
   "outputs": [],
   "source": [
    "bc_dt = min([bc.dt for bc in baroclinic_sims])"
   ]
  },
  {
   "cell_type": "code",
   "execution_count": 57,
   "metadata": {},
   "outputs": [],
   "source": [
    "for bc in baroclinic_sims:\n",
    "    bc.step(bc_dt)"
   ]
  },
  {
   "cell_type": "code",
   "execution_count": 58,
   "metadata": {},
   "outputs": [],
   "source": [
    "for bt in barotropic_sims:\n",
    "    bt.step(bc_dt)"
   ]
  },
  {
   "cell_type": "code",
   "execution_count": 59,
   "metadata": {},
   "outputs": [],
   "source": [
    "for d in range(len(crossprod_drifters)):\n",
    "    crossprod_trajectories[d].add_observation_from_drifters(crossprod_drifters[d], bt.t)"
   ]
  },
  {
   "cell_type": "code",
   "execution_count": 60,
   "metadata": {},
   "outputs": [
    {
     "ename": "KeyboardInterrupt",
     "evalue": "",
     "output_type": "error",
     "traceback": [
      "\u001b[0;31m---------------------------------------------------------------------------\u001b[0m",
      "\u001b[0;31mKeyboardInterrupt\u001b[0m                         Traceback (most recent call last)",
      "\u001b[0;32m/tmp/ipykernel_2192356/206853933.py\u001b[0m in \u001b[0;36m<module>\u001b[0;34m\u001b[0m\n\u001b[1;32m     12\u001b[0m \u001b[0;34m\u001b[0m\u001b[0m\n\u001b[1;32m     13\u001b[0m     \u001b[0;32mfor\u001b[0m \u001b[0md\u001b[0m \u001b[0;32min\u001b[0m \u001b[0mrange\u001b[0m\u001b[0;34m(\u001b[0m\u001b[0mlen\u001b[0m\u001b[0;34m(\u001b[0m\u001b[0mcrossprod_drifters\u001b[0m\u001b[0;34m)\u001b[0m\u001b[0;34m)\u001b[0m\u001b[0;34m:\u001b[0m\u001b[0;34m\u001b[0m\u001b[0;34m\u001b[0m\u001b[0m\n\u001b[0;32m---> 14\u001b[0;31m         \u001b[0mcrossprod_trajectories\u001b[0m\u001b[0;34m[\u001b[0m\u001b[0md\u001b[0m\u001b[0;34m]\u001b[0m\u001b[0;34m.\u001b[0m\u001b[0madd_observation_from_drifters\u001b[0m\u001b[0;34m(\u001b[0m\u001b[0mcrossprod_drifters\u001b[0m\u001b[0;34m[\u001b[0m\u001b[0md\u001b[0m\u001b[0;34m]\u001b[0m\u001b[0;34m,\u001b[0m \u001b[0mbt\u001b[0m\u001b[0;34m.\u001b[0m\u001b[0mt\u001b[0m\u001b[0;34m)\u001b[0m\u001b[0;34m\u001b[0m\u001b[0;34m\u001b[0m\u001b[0m\n\u001b[0m",
      "\u001b[0;32m~/havvarsel/gpuocean/src/gpuocean/utils/Observation.py\u001b[0m in \u001b[0;36madd_observation_from_drifters\u001b[0;34m(self, drifters, t)\u001b[0m\n\u001b[1;32m    192\u001b[0m \u001b[0;34m\u001b[0m\u001b[0m\n\u001b[1;32m    193\u001b[0m         \u001b[0;32mif\u001b[0m \u001b[0;32mnot\u001b[0m \u001b[0mindex\u001b[0m \u001b[0;34m==\u001b[0m \u001b[0;36m0\u001b[0m\u001b[0;34m:\u001b[0m\u001b[0;34m\u001b[0m\u001b[0;34m\u001b[0m\u001b[0m\n\u001b[0;32m--> 194\u001b[0;31m             \u001b[0;32massert\u001b[0m\u001b[0;34m(\u001b[0m\u001b[0mself\u001b[0m\u001b[0;34m.\u001b[0m\u001b[0mobs_df\u001b[0m\u001b[0;34m[\u001b[0m\u001b[0mself\u001b[0m\u001b[0;34m.\u001b[0m\u001b[0mobs_df\u001b[0m\u001b[0;34m[\u001b[0m\u001b[0mself\u001b[0m\u001b[0;34m.\u001b[0m\u001b[0mtime_key\u001b[0m\u001b[0;34m]\u001b[0m\u001b[0;34m==\u001b[0m\u001b[0mrounded_sim_t\u001b[0m\u001b[0;34m]\u001b[0m\u001b[0;34m.\u001b[0m\u001b[0mtime\u001b[0m\u001b[0;34m.\u001b[0m\u001b[0mcount\u001b[0m\u001b[0;34m(\u001b[0m\u001b[0;34m)\u001b[0m \u001b[0;34m==\u001b[0m \u001b[0;36m0\u001b[0m\u001b[0;34m)\u001b[0m\u001b[0;34m,\u001b[0m\u001b[0;31m \u001b[0m\u001b[0;31m\\\u001b[0m\u001b[0;34m\u001b[0m\u001b[0;34m\u001b[0m\u001b[0m\n\u001b[0m\u001b[1;32m    195\u001b[0m                 \u001b[0;34m\"Observation for time \"\u001b[0m \u001b[0;34m+\u001b[0m \u001b[0mstr\u001b[0m\u001b[0;34m(\u001b[0m\u001b[0mrounded_sim_t\u001b[0m\u001b[0;34m)\u001b[0m \u001b[0;34m+\u001b[0m \u001b[0;34m\" already exists in DataFrame\"\u001b[0m\u001b[0;34m\u001b[0m\u001b[0;34m\u001b[0m\u001b[0m\n\u001b[1;32m    196\u001b[0m \u001b[0;34m\u001b[0m\u001b[0m\n",
      "\u001b[0;32m~/miniconda3/envs/gpuocean_opendrift/lib/python3.7/site-packages/pandas/core/series.py\u001b[0m in \u001b[0;36mcount\u001b[0;34m(self, level)\u001b[0m\n\u001b[1;32m   1926\u001b[0m         \"\"\"\n\u001b[1;32m   1927\u001b[0m         \u001b[0;32mif\u001b[0m \u001b[0mlevel\u001b[0m \u001b[0;32mis\u001b[0m \u001b[0;32mNone\u001b[0m\u001b[0;34m:\u001b[0m\u001b[0;34m\u001b[0m\u001b[0;34m\u001b[0m\u001b[0m\n\u001b[0;32m-> 1928\u001b[0;31m             \u001b[0;32mreturn\u001b[0m \u001b[0mnotna\u001b[0m\u001b[0;34m(\u001b[0m\u001b[0mself\u001b[0m\u001b[0;34m.\u001b[0m\u001b[0m_values\u001b[0m\u001b[0;34m)\u001b[0m\u001b[0;34m.\u001b[0m\u001b[0msum\u001b[0m\u001b[0;34m(\u001b[0m\u001b[0;34m)\u001b[0m\u001b[0;34m.\u001b[0m\u001b[0mastype\u001b[0m\u001b[0;34m(\u001b[0m\u001b[0;34m\"int64\"\u001b[0m\u001b[0;34m)\u001b[0m\u001b[0;34m\u001b[0m\u001b[0;34m\u001b[0m\u001b[0m\n\u001b[0m\u001b[1;32m   1929\u001b[0m         \u001b[0;32melse\u001b[0m\u001b[0;34m:\u001b[0m\u001b[0;34m\u001b[0m\u001b[0;34m\u001b[0m\u001b[0m\n\u001b[1;32m   1930\u001b[0m             warnings.warn(\n",
      "\u001b[0;32m~/miniconda3/envs/gpuocean_opendrift/lib/python3.7/site-packages/pandas/core/dtypes/missing.py\u001b[0m in \u001b[0;36mnotna\u001b[0;34m(obj)\u001b[0m\n\u001b[1;32m    353\u001b[0m     \u001b[0mName\u001b[0m\u001b[0;34m:\u001b[0m \u001b[0;36m1\u001b[0m\u001b[0;34m,\u001b[0m \u001b[0mdtype\u001b[0m\u001b[0;34m:\u001b[0m \u001b[0mbool\u001b[0m\u001b[0;34m\u001b[0m\u001b[0;34m\u001b[0m\u001b[0m\n\u001b[1;32m    354\u001b[0m     \"\"\"\n\u001b[0;32m--> 355\u001b[0;31m     \u001b[0mres\u001b[0m \u001b[0;34m=\u001b[0m \u001b[0misna\u001b[0m\u001b[0;34m(\u001b[0m\u001b[0mobj\u001b[0m\u001b[0;34m)\u001b[0m\u001b[0;34m\u001b[0m\u001b[0;34m\u001b[0m\u001b[0m\n\u001b[0m\u001b[1;32m    356\u001b[0m     \u001b[0;32mif\u001b[0m \u001b[0mis_scalar\u001b[0m\u001b[0;34m(\u001b[0m\u001b[0mres\u001b[0m\u001b[0;34m)\u001b[0m\u001b[0;34m:\u001b[0m\u001b[0;34m\u001b[0m\u001b[0;34m\u001b[0m\u001b[0m\n\u001b[1;32m    357\u001b[0m         \u001b[0;32mreturn\u001b[0m \u001b[0;32mnot\u001b[0m \u001b[0mres\u001b[0m\u001b[0;34m\u001b[0m\u001b[0;34m\u001b[0m\u001b[0m\n",
      "\u001b[0;32m~/miniconda3/envs/gpuocean_opendrift/lib/python3.7/site-packages/pandas/core/dtypes/missing.py\u001b[0m in \u001b[0;36misna\u001b[0;34m(obj)\u001b[0m\n\u001b[1;32m    136\u001b[0m     \u001b[0mName\u001b[0m\u001b[0;34m:\u001b[0m \u001b[0;36m1\u001b[0m\u001b[0;34m,\u001b[0m \u001b[0mdtype\u001b[0m\u001b[0;34m:\u001b[0m \u001b[0mbool\u001b[0m\u001b[0;34m\u001b[0m\u001b[0;34m\u001b[0m\u001b[0m\n\u001b[1;32m    137\u001b[0m     \"\"\"\n\u001b[0;32m--> 138\u001b[0;31m     \u001b[0;32mreturn\u001b[0m \u001b[0m_isna\u001b[0m\u001b[0;34m(\u001b[0m\u001b[0mobj\u001b[0m\u001b[0;34m)\u001b[0m\u001b[0;34m\u001b[0m\u001b[0;34m\u001b[0m\u001b[0m\n\u001b[0m\u001b[1;32m    139\u001b[0m \u001b[0;34m\u001b[0m\u001b[0m\n\u001b[1;32m    140\u001b[0m \u001b[0;34m\u001b[0m\u001b[0m\n",
      "\u001b[0;32m~/miniconda3/envs/gpuocean_opendrift/lib/python3.7/site-packages/pandas/core/dtypes/missing.py\u001b[0m in \u001b[0;36m_isna\u001b[0;34m(obj, inf_as_na)\u001b[0m\n\u001b[1;32m    169\u001b[0m         \u001b[0;32mreturn\u001b[0m \u001b[0;32mFalse\u001b[0m\u001b[0;34m\u001b[0m\u001b[0;34m\u001b[0m\u001b[0m\n\u001b[1;32m    170\u001b[0m     \u001b[0;32melif\u001b[0m \u001b[0misinstance\u001b[0m\u001b[0;34m(\u001b[0m\u001b[0mobj\u001b[0m\u001b[0;34m,\u001b[0m \u001b[0;34m(\u001b[0m\u001b[0mnp\u001b[0m\u001b[0;34m.\u001b[0m\u001b[0mndarray\u001b[0m\u001b[0;34m,\u001b[0m \u001b[0mABCExtensionArray\u001b[0m\u001b[0;34m)\u001b[0m\u001b[0;34m)\u001b[0m\u001b[0;34m:\u001b[0m\u001b[0;34m\u001b[0m\u001b[0;34m\u001b[0m\u001b[0m\n\u001b[0;32m--> 171\u001b[0;31m         \u001b[0;32mreturn\u001b[0m \u001b[0m_isna_array\u001b[0m\u001b[0;34m(\u001b[0m\u001b[0mobj\u001b[0m\u001b[0;34m,\u001b[0m \u001b[0minf_as_na\u001b[0m\u001b[0;34m=\u001b[0m\u001b[0minf_as_na\u001b[0m\u001b[0;34m)\u001b[0m\u001b[0;34m\u001b[0m\u001b[0;34m\u001b[0m\u001b[0m\n\u001b[0m\u001b[1;32m    172\u001b[0m     \u001b[0;32melif\u001b[0m \u001b[0misinstance\u001b[0m\u001b[0;34m(\u001b[0m\u001b[0mobj\u001b[0m\u001b[0;34m,\u001b[0m \u001b[0;34m(\u001b[0m\u001b[0mABCSeries\u001b[0m\u001b[0;34m,\u001b[0m \u001b[0mABCIndex\u001b[0m\u001b[0;34m)\u001b[0m\u001b[0;34m)\u001b[0m\u001b[0;34m:\u001b[0m\u001b[0;34m\u001b[0m\u001b[0;34m\u001b[0m\u001b[0m\n\u001b[1;32m    173\u001b[0m         \u001b[0mresult\u001b[0m \u001b[0;34m=\u001b[0m \u001b[0m_isna_array\u001b[0m\u001b[0;34m(\u001b[0m\u001b[0mobj\u001b[0m\u001b[0;34m.\u001b[0m\u001b[0m_values\u001b[0m\u001b[0;34m,\u001b[0m \u001b[0minf_as_na\u001b[0m\u001b[0;34m=\u001b[0m\u001b[0minf_as_na\u001b[0m\u001b[0;34m)\u001b[0m\u001b[0;34m\u001b[0m\u001b[0;34m\u001b[0m\u001b[0m\n",
      "\u001b[0;32m~/miniconda3/envs/gpuocean_opendrift/lib/python3.7/site-packages/pandas/core/dtypes/missing.py\u001b[0m in \u001b[0;36m_isna_array\u001b[0;34m(values, inf_as_na)\u001b[0m\n\u001b[1;32m    244\u001b[0m             \u001b[0mresult\u001b[0m \u001b[0;34m=\u001b[0m \u001b[0mvalues\u001b[0m\u001b[0;34m.\u001b[0m\u001b[0misna\u001b[0m\u001b[0;34m(\u001b[0m\u001b[0;34m)\u001b[0m\u001b[0;34m\u001b[0m\u001b[0;34m\u001b[0m\u001b[0m\n\u001b[1;32m    245\u001b[0m     \u001b[0;32melif\u001b[0m \u001b[0mis_string_dtype\u001b[0m\u001b[0;34m(\u001b[0m\u001b[0mdtype\u001b[0m\u001b[0;34m)\u001b[0m\u001b[0;34m:\u001b[0m\u001b[0;34m\u001b[0m\u001b[0;34m\u001b[0m\u001b[0m\n\u001b[0;32m--> 246\u001b[0;31m         \u001b[0mresult\u001b[0m \u001b[0;34m=\u001b[0m \u001b[0m_isna_string_dtype\u001b[0m\u001b[0;34m(\u001b[0m\u001b[0mvalues\u001b[0m\u001b[0;34m,\u001b[0m \u001b[0minf_as_na\u001b[0m\u001b[0;34m=\u001b[0m\u001b[0minf_as_na\u001b[0m\u001b[0;34m)\u001b[0m\u001b[0;34m\u001b[0m\u001b[0;34m\u001b[0m\u001b[0m\n\u001b[0m\u001b[1;32m    247\u001b[0m     \u001b[0;32melif\u001b[0m \u001b[0mneeds_i8_conversion\u001b[0m\u001b[0;34m(\u001b[0m\u001b[0mdtype\u001b[0m\u001b[0;34m)\u001b[0m\u001b[0;34m:\u001b[0m\u001b[0;34m\u001b[0m\u001b[0;34m\u001b[0m\u001b[0m\n\u001b[1;32m    248\u001b[0m         \u001b[0;31m# this is the NaT pattern\u001b[0m\u001b[0;34m\u001b[0m\u001b[0;34m\u001b[0m\u001b[0;34m\u001b[0m\u001b[0m\n",
      "\u001b[0;32m~/miniconda3/envs/gpuocean_opendrift/lib/python3.7/site-packages/pandas/core/dtypes/missing.py\u001b[0m in \u001b[0;36m_isna_string_dtype\u001b[0;34m(values, inf_as_na)\u001b[0m\n\u001b[1;32m    265\u001b[0m         \u001b[0mresult\u001b[0m \u001b[0;34m=\u001b[0m \u001b[0mnp\u001b[0m\u001b[0;34m.\u001b[0m\u001b[0mzeros\u001b[0m\u001b[0;34m(\u001b[0m\u001b[0mvalues\u001b[0m\u001b[0;34m.\u001b[0m\u001b[0mshape\u001b[0m\u001b[0;34m,\u001b[0m \u001b[0mdtype\u001b[0m\u001b[0;34m=\u001b[0m\u001b[0mbool\u001b[0m\u001b[0;34m)\u001b[0m\u001b[0;34m\u001b[0m\u001b[0;34m\u001b[0m\u001b[0m\n\u001b[1;32m    266\u001b[0m     \u001b[0;32melse\u001b[0m\u001b[0;34m:\u001b[0m\u001b[0;34m\u001b[0m\u001b[0;34m\u001b[0m\u001b[0m\n\u001b[0;32m--> 267\u001b[0;31m         \u001b[0mresult\u001b[0m \u001b[0;34m=\u001b[0m \u001b[0mnp\u001b[0m\u001b[0;34m.\u001b[0m\u001b[0mempty\u001b[0m\u001b[0;34m(\u001b[0m\u001b[0mshape\u001b[0m\u001b[0;34m,\u001b[0m \u001b[0mdtype\u001b[0m\u001b[0;34m=\u001b[0m\u001b[0mbool\u001b[0m\u001b[0;34m)\u001b[0m\u001b[0;34m\u001b[0m\u001b[0;34m\u001b[0m\u001b[0m\n\u001b[0m\u001b[1;32m    268\u001b[0m         \u001b[0;32mif\u001b[0m \u001b[0minf_as_na\u001b[0m\u001b[0;34m:\u001b[0m\u001b[0;34m\u001b[0m\u001b[0;34m\u001b[0m\u001b[0m\n\u001b[1;32m    269\u001b[0m             \u001b[0mvec\u001b[0m \u001b[0;34m=\u001b[0m \u001b[0mlibmissing\u001b[0m\u001b[0;34m.\u001b[0m\u001b[0misnaobj_old\u001b[0m\u001b[0;34m(\u001b[0m\u001b[0mvalues\u001b[0m\u001b[0;34m.\u001b[0m\u001b[0mravel\u001b[0m\u001b[0;34m(\u001b[0m\u001b[0;34m)\u001b[0m\u001b[0;34m)\u001b[0m\u001b[0;34m\u001b[0m\u001b[0;34m\u001b[0m\u001b[0m\n",
      "\u001b[0;31mKeyboardInterrupt\u001b[0m: "
     ]
    }
   ],
   "source": [
    "while bt.t < T:\n",
    "\n",
    "    bc_dt = min([bc.dt for bc in baroclinic_sims])\n",
    "    if bt.t % 3600 != 0:\n",
    "        bc_dt = min(bc_dt, np.ceil(bt.t/3600)*3600 - bt.t)\n",
    "\n",
    "    for bc in baroclinic_sims:\n",
    "        bc.step(bc_dt)\n",
    "\n",
    "    for bt in barotropic_sims:\n",
    "        bt.step(bc_dt)\n",
    "\n",
    "    for d in range(len(crossprod_drifters)):\n",
    "        crossprod_trajectories[d].add_observation_from_drifters(crossprod_drifters[d], bt.t)"
   ]
  },
  {
   "cell_type": "code",
   "execution_count": 83,
   "metadata": {},
   "outputs": [],
   "source": [
    "def plot_cp_trajectories(crossprod_trajectories, drifter_id):\n",
    "    with plt.rc_context({'lines.color':'black', \n",
    "                            'text.color':'black', \n",
    "                            'axes.labelcolor':'black', \n",
    "                            'xtick.color':'black',\n",
    "                            'ytick.color':'black'}):\n",
    "        fig, ax = plt.subplots(1,1, figsize=(10,10))\n",
    "        ax.tick_params(axis='both', which='major', labelsize=28)\n",
    "        domain_extent = [0, ref_sims.nx*ref_sims.dx/1000, 0, ref_sims.ny*ref_sims.dy/1000]\n",
    "\n",
    "        bg_cmap = copy.deepcopy(plt.cm.Blues)\n",
    "        bg_cmap.set_bad(\"grey\", alpha = 1.0)\n",
    "\n",
    "        ax.imshow(barotropic_sims[0].download()[0] > -10, interpolation=\"none\", origin='lower', \n",
    "                        cmap=bg_cmap,  \n",
    "                        extent=domain_extent)\n",
    "\n",
    "        path = crossprod_trajectories[0].get_drifter_path(drifter_id, 0, T, in_km = True)[0]\n",
    "        start_pos = path[0,:]\n",
    "        circ_start = matplotlib.patches.Circle((start_pos[0], start_pos[1]), \n",
    "                                                0.01, color = 'black', fill=True, zorder=10)\n",
    "        ax.add_patch(circ_start)\n",
    "\n",
    "        for path in [t.get_drifter_path(drifter_id, 0, T, in_km = True)[0] for t in crossprod_trajectories[:5000]]: #DEBUG!!!!\n",
    "            \n",
    "            ax.plot(path[:,0], path[:,1], color=\"C0\", ls=\"-\", zorder=5, alpha=0.1)\n",
    "            \n",
    "            end_pos = path[-1,:]\n",
    "            ax.scatter(end_pos[0], end_pos[1], marker='x', color='black', s=100, linewidths=2)\n",
    "\n",
    "        plt.tight_layout()\n",
    "\n",
    "        plt.savefig(\"figs/CPdrift\"+str(drifter_id)+\".pdf\", bbox_inches=\"tight\")"
   ]
  },
  {
   "cell_type": "code",
   "execution_count": 84,
   "metadata": {},
   "outputs": [
    {
     "name": "stderr",
     "output_type": "stream",
     "text": [
      "/home/florianb/miniconda3/envs/gpuocean_opendrift/lib/python3.7/site-packages/ipykernel_launcher.py:12: MatplotlibDeprecationWarning: You are modifying the state of a globally registered colormap. In future versions, you will not be able to modify a registered colormap in-place. To remove this warning, you can make a copy of the colormap first. cmap = copy.copy(mpl.cm.get_cmap(\"Blues\"))\n",
      "  if sys.path[0] == \"\":\n"
     ]
    },
    {
     "data": {
      "image/png": "[encoded data removed]",
      "text/plain": [
       "<Figure size 720x720 with 1 Axes>"
      ]
     },
     "metadata": {
      "needs_background": "light"
     },
     "output_type": "display_data"
    }
   ],
   "source": [
    "plot_cp_trajectories(crossprod_trajectories, 0)"
   ]
  },
  {
   "cell_type": "code",
   "execution_count": 89,
   "metadata": {},
   "outputs": [
    {
     "data": {
      "text/plain": [
       "3375"
      ]
     },
     "execution_count": 89,
     "metadata": {},
     "output_type": "execute_result"
    }
   ],
   "source": [
    "3* 3*3*5*5*5\n"
   ]
  },
  {
   "cell_type": "code",
   "execution_count": null,
   "metadata": {},
   "outputs": [],
   "source": [
    "STOP"
   ]
  },
  {
   "attachments": {},
   "cell_type": "markdown",
   "metadata": {},
   "source": [
    "### Purely barotropic "
   ]
  },
  {
   "cell_type": "code",
   "execution_count": null,
   "metadata": {},
   "outputs": [],
   "source": [
    "pure_barotropic_sims = []\n",
    "\n",
    "for i in range(2):\n",
    "    barotropic_data_args[\"wind\"] = winds[i]\n",
    "    pure_barotropic_sims.append( CDKLM16.CDKLM16(bt_gpu_ctxs[i], **NetCDFInitialization.removeMetadata(barotropic_data_args),  dt=0.0))"
   ]
  },
  {
   "cell_type": "code",
   "execution_count": null,
   "metadata": {},
   "outputs": [],
   "source": [
    "observation_type = dautils.ObservationType.UnderlyingFlow \n",
    "    \n",
    "observation_args = {'observation_type': observation_type,\n",
    "                'nx': barotropic_sim.nx, 'ny': barotropic_sim.ny,\n",
    "                'domain_size_x': barotropic_sim.nx*barotropic_sim.dx,\n",
    "                'domain_size_y': barotropic_sim.ny*barotropic_sim.dy,\n",
    "                'land_mask': barotropic_sim.getLandMask()\n",
    "                }\n",
    "\n",
    "trajectories = Observation.Observation(**observation_args)"
   ]
  },
  {
   "cell_type": "code",
   "execution_count": null,
   "metadata": {},
   "outputs": [],
   "source": [
    "initx = [ 6000]\n",
    "inity = [12000]\n",
    "\n",
    "num_drifters = len(initx)"
   ]
  },
  {
   "cell_type": "code",
   "execution_count": null,
   "metadata": {},
   "outputs": [],
   "source": [
    "import pandas as pd\n",
    "bt_table = pd.DataFrame(columns=[\"drifter_id\", \"barotropic_id\", \"wind_drift_factor_id\"]).set_index(\"drifter_id\")\n",
    "\n",
    "for bt in range(len(pure_barotropic_sims)):\n",
    "    for wind in range(len(wind_drift_factors)):\n",
    "        bt_table.loc[len(bt_table.index)] = [bt, wind]"
   ]
  },
  {
   "cell_type": "code",
   "execution_count": null,
   "metadata": {},
   "outputs": [],
   "source": [
    "bt_table"
   ]
  },
  {
   "cell_type": "code",
   "execution_count": null,
   "metadata": {},
   "outputs": [],
   "source": [
    "crossbt_trajectories = []\n",
    "for cp in range(len(bt_table)):\n",
    "    crossbt_trajectories.append(copy.deepcopy(trajectories))"
   ]
  },
  {
   "cell_type": "code",
   "execution_count": null,
   "metadata": {},
   "outputs": [],
   "source": [
    "crossbt_drifters = []\n",
    "for cp in range(len(bt_table)): \n",
    "    drifters = GPUDrifterCollection.GPUDrifterCollection(pure_barotropic_sims[bt_table.iloc[cp].barotropic_id].gpu_ctx, # OBS: This is used for wind drift! \n",
    "                                                    num_drifters,\n",
    "                                                    boundaryConditions = barotropic_sim.boundary_conditions,\n",
    "                                                    domain_size_x = trajectories.domain_size_x,\n",
    "                                                    domain_size_y = trajectories.domain_size_y,\n",
    "                                                    gpu_stream = barotropic_sim.gpu_stream,\n",
    "                                                    wind=winds[bt_table.iloc[cp].barotropic_id], # using the barotropic wind\n",
    "                                                    wind_drift_factor=wind_drift_factors[bt_table.iloc[cp].wind_drift_factor_id])          \n",
    "\n",
    "    drifter_pos_init = np.array([initx, inity]).T\n",
    "    drifters.setDrifterPositions(drifter_pos_init)\n",
    "    crossbt_drifters.append(drifters)"
   ]
  },
  {
   "cell_type": "code",
   "execution_count": null,
   "metadata": {},
   "outputs": [],
   "source": [
    "from itertools import compress\n",
    "\n",
    "for bt in range(len(pure_barotropic_sims)):\n",
    "    pure_barotropic_sims[bt].attachCrossProductDrifters( list(compress(crossbt_drifters, bt_table[\"barotropic_id\"] == bt)), int(np.sum(bt_table[\"barotropic_id\"] == bt))* [None] )"
   ]
  },
  {
   "cell_type": "code",
   "execution_count": null,
   "metadata": {},
   "outputs": [],
   "source": [
    "while pure_barotropic_sims[0].t < T:\n",
    "    for bt in pure_barotropic_sims:\n",
    "        bt.step(60)\n",
    "\n",
    "    for d in range(len(crossbt_drifters)):\n",
    "        crossbt_trajectories[d].add_observation_from_drifters(crossbt_drifters[d], bt.t)"
   ]
  },
  {
   "cell_type": "code",
   "execution_count": null,
   "metadata": {},
   "outputs": [],
   "source": [
    "with plt.rc_context({'lines.color':'black', \n",
    "                        'text.color':'black', \n",
    "                        'axes.labelcolor':'black', \n",
    "                        'xtick.color':'black',\n",
    "                        'ytick.color':'black'}):\n",
    "    fig, ax = plt.subplots(1,1, figsize=(7,7))\n",
    "    ax.tick_params(axis='both', which='major', labelsize=18)\n",
    "    domain_extent = [0, sims.nx*sims.dx/1000, 0, sims.ny*sims.dy/1000]\n",
    "\n",
    "    bg_cmap = copy.deepcopy(plt.cm.Blues)\n",
    "    bg_cmap.set_bad(\"grey\", alpha = 1.0)\n",
    "\n",
    "    ax.imshow(pure_barotropic_sims[0].download()[0] > -10, interpolation=\"none\", origin='lower', \n",
    "                    cmap=bg_cmap,  \n",
    "                    extent=domain_extent)\n",
    "\n",
    "    for path in [t.get_drifter_path(0, 0, T, in_km = True)[0] for t in crossbt_trajectories]:\n",
    "        ax.plot(path[:,0], path[:,1], color=\"blue\", ls=\"-\", zorder=5, alpha=0.1)\n",
    "\n",
    "    plt.tight_layout()\n",
    "\n",
    "    plt.savefig(\"figs/CPdrift-bt.pdf\")"
   ]
  }
 ],
 "metadata": {
  "kernelspec": {
   "display_name": "gpuocean_opendrift",
   "language": "python",
   "name": "python3"
  },
  "language_info": {
   "codemirror_mode": {
    "name": "ipython",
    "version": 3
   },
   "file_extension": ".py",
   "mimetype": "text/x-python",
   "name": "python",
   "nbconvert_exporter": "python",
   "pygments_lexer": "ipython3",
   "version": "3.7.12"
  },
  "orig_nbformat": 4,
  "vscode": {
   "interpreter": {
    "hash": "3048633266a8aca5c85f16c1ee57ccad146141feb66febf24dcb8304467d1440"
   }
  }
 },
 "nbformat": 4,
 "nbformat_minor": 2
}
