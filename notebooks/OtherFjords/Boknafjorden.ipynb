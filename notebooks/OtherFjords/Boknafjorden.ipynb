{
 "cells": [
  {
   "cell_type": "markdown",
   "metadata": {},
   "source": [
    "```\n",
    "This notebook sets up and runs a test case for analyzing Kelvin waves\n",
    "Copyright (C) 2018 - 2022 SINTEF Digital\n",
    "Copyright (C) 2018 - 2022 Norwegian Meteorological Institute\n",
    "\n",
    "This program is free software: you can redistribute it and/or modify\n",
    "it under the terms of the GNU General Public License as published by\n",
    "the Free Software Foundation, either version 3 of the License, or\n",
    "(at your option) any later version.\n",
    "\n",
    "This program is distributed in the hope that it will be useful,\n",
    "but WITHOUT ANY WARRANTY; without even the implied warranty of\n",
    "MERCHANTABILITY or FITNESS FOR A PARTICULAR PURPOSE.  See the\n",
    "GNU General Public License for more details.\n",
    "\n",
    "You should have received a copy of the GNU General Public License\n",
    "along with this program.  If not, see <http://www.gnu.org/licenses/>.\n",
    "```"
   ]
  },
  {
   "cell_type": "code",
   "execution_count": 1,
   "metadata": {},
   "outputs": [
    {
     "name": "stdout",
     "output_type": "stream",
     "text": [
      "GPUOcean code from: 26b98e82e8d4e1ca2369cf735af8c7d3af460403 on branch reduced_gravity\n"
     ]
    }
   ],
   "source": [
    "import sys\n",
    "gpuocean_path = [p[:-4] for p in sys.path if (p.endswith(\"gpuocean/src\") or p.endswith(\"gpuocean\\\\src\"))][0]\n",
    "import git\n",
    "repo = git.Repo(gpuocean_path)\n",
    "print(\"GPUOcean code from:\", repo.head.object.hexsha, \"on branch\", repo.active_branch.name)"
   ]
  },
  {
   "cell_type": "markdown",
   "metadata": {},
   "source": [
    "# Oslofjord\n",
    "Testing of Nils projected files"
   ]
  },
  {
   "cell_type": "code",
   "execution_count": 2,
   "metadata": {},
   "outputs": [],
   "source": [
    "#Lets have matplotlib \"inline\"\n",
    "%matplotlib inline\n",
    "\n",
    "import os\n",
    "import sys\n",
    "\n",
    "#Import packages we need\n",
    "import numpy as np\n",
    "from netCDF4 import Dataset\n",
    "import datetime, copy\n",
    "from IPython.display import display\n",
    "\n",
    "#For plotting\n",
    "import matplotlib\n",
    "from matplotlib import pyplot as plt\n",
    "\n",
    "# plt.rcParams[\"lines.color\"] = \"w\"\n",
    "# plt.rcParams[\"text.color\"] = \"w\"\n",
    "# plt.rcParams[\"axes.labelcolor\"] = \"w\"\n",
    "# plt.rcParams[\"xtick.color\"] = \"w\"\n",
    "# plt.rcParams[\"ytick.color\"] = \"w\"\n",
    "\n",
    "plt.rcParams[\"image.origin\"] = \"lower\""
   ]
  },
  {
   "cell_type": "code",
   "execution_count": 3,
   "metadata": {},
   "outputs": [],
   "source": [
    "from gpuocean.utils import IPythonMagic, NetCDFInitialization"
   ]
  },
  {
   "cell_type": "code",
   "execution_count": 4,
   "metadata": {},
   "outputs": [],
   "source": [
    "%cuda_context_handler barotropic_gpu_ctx"
   ]
  },
  {
   "cell_type": "code",
   "execution_count": 5,
   "metadata": {},
   "outputs": [],
   "source": [
    "%cuda_context_handler baroclinic_gpu_ctx"
   ]
  },
  {
   "cell_type": "markdown",
   "metadata": {},
   "source": [
    "Path to the test file"
   ]
  },
  {
   "cell_type": "code",
   "execution_count": 6,
   "metadata": {},
   "outputs": [],
   "source": [
    "source_url = \"/lustre/storeB/project/fou/hi/NorFjords160/A03/norfjords_160m_his.nc4_2019110101-2019110200\"\n",
    "# source_url = \"/sintef/data/NorFjords160/A03/norfjords_160m_his.nc4_2019110101-2019110200\""
   ]
  },
  {
   "cell_type": "markdown",
   "metadata": {},
   "source": [
    "## Inspecting file structure and content"
   ]
  },
  {
   "cell_type": "code",
   "execution_count": 7,
   "metadata": {},
   "outputs": [
    {
     "name": "stderr",
     "output_type": "stream",
     "text": [
      "Exception caught: Resetting to CUDA context baroclinic_gpu_ctx\n",
      "Traceback (most recent call last):\n",
      "  File \"/home/florianb/miniconda3/envs/gpuocean_opendrift/lib/python3.7/site-packages/IPython/core/interactiveshell.py\", line 3552, in run_code\n",
      "    exec(code_obj, self.user_global_ns, self.user_ns)\n",
      "  File \"/tmp/ipykernel_2355810/1965789240.py\", line 2, in <module>\n",
      "    ds = xr.open_dataset(source_url)\n",
      "  File \"/home/florianb/miniconda3/envs/gpuocean_opendrift/lib/python3.7/site-packages/xarray/backends/api.py\", line 479, in open_dataset\n",
      "    engine = plugins.guess_engine(filename_or_obj)\n",
      "  File \"/home/florianb/miniconda3/envs/gpuocean_opendrift/lib/python3.7/site-packages/xarray/backends/plugins.py\", line 155, in guess_engine\n",
      "    raise ValueError(error_msg)\n",
      "ValueError: did not find a match in any of xarray's currently installed IO backends ['netcdf4', 'scipy', 'cfgrib']. Consider explicitly selecting one of the installed engines via the ``engine`` parameter, or installing additional IO dependencies, see:\n",
      "http://xarray.pydata.org/en/stable/getting-started-guide/installing.html\n",
      "http://xarray.pydata.org/en/stable/user-guide/io.html\n"
     ]
    },
    {
     "ename": "ValueError",
     "evalue": "did not find a match in any of xarray's currently installed IO backends ['netcdf4', 'scipy', 'cfgrib']. Consider explicitly selecting one of the installed engines via the ``engine`` parameter, or installing additional IO dependencies, see:\nhttp://xarray.pydata.org/en/stable/getting-started-guide/installing.html\nhttp://xarray.pydata.org/en/stable/user-guide/io.html",
     "output_type": "error",
     "traceback": [
      "\u001b[0;31m---------------------------------------------------------------------------\u001b[0m",
      "\u001b[0;31mValueError\u001b[0m                                Traceback (most recent call last)",
      "\u001b[0;32m/tmp/ipykernel_2355810/1965789240.py\u001b[0m in \u001b[0;36m<module>\u001b[0;34m\u001b[0m\n\u001b[1;32m      1\u001b[0m \u001b[0;32mimport\u001b[0m \u001b[0mxarray\u001b[0m \u001b[0;32mas\u001b[0m \u001b[0mxr\u001b[0m\u001b[0;34m\u001b[0m\u001b[0;34m\u001b[0m\u001b[0m\n\u001b[0;32m----> 2\u001b[0;31m \u001b[0mds\u001b[0m \u001b[0;34m=\u001b[0m \u001b[0mxr\u001b[0m\u001b[0;34m.\u001b[0m\u001b[0mopen_dataset\u001b[0m\u001b[0;34m(\u001b[0m\u001b[0msource_url\u001b[0m\u001b[0;34m)\u001b[0m\u001b[0;34m\u001b[0m\u001b[0;34m\u001b[0m\u001b[0m\n\u001b[0m\u001b[1;32m      3\u001b[0m \u001b[0mds\u001b[0m\u001b[0;34m\u001b[0m\u001b[0;34m\u001b[0m\u001b[0m\n",
      "\u001b[0;32m~/miniconda3/envs/gpuocean_opendrift/lib/python3.7/site-packages/xarray/backends/api.py\u001b[0m in \u001b[0;36mopen_dataset\u001b[0;34m(filename_or_obj, engine, chunks, cache, decode_cf, mask_and_scale, decode_times, decode_timedelta, use_cftime, concat_characters, decode_coords, drop_variables, backend_kwargs, *args, **kwargs)\u001b[0m\n\u001b[1;32m    477\u001b[0m \u001b[0;34m\u001b[0m\u001b[0m\n\u001b[1;32m    478\u001b[0m     \u001b[0;32mif\u001b[0m \u001b[0mengine\u001b[0m \u001b[0;32mis\u001b[0m \u001b[0;32mNone\u001b[0m\u001b[0;34m:\u001b[0m\u001b[0;34m\u001b[0m\u001b[0;34m\u001b[0m\u001b[0m\n\u001b[0;32m--> 479\u001b[0;31m         \u001b[0mengine\u001b[0m \u001b[0;34m=\u001b[0m \u001b[0mplugins\u001b[0m\u001b[0;34m.\u001b[0m\u001b[0mguess_engine\u001b[0m\u001b[0;34m(\u001b[0m\u001b[0mfilename_or_obj\u001b[0m\u001b[0;34m)\u001b[0m\u001b[0;34m\u001b[0m\u001b[0;34m\u001b[0m\u001b[0m\n\u001b[0m\u001b[1;32m    480\u001b[0m \u001b[0;34m\u001b[0m\u001b[0m\n\u001b[1;32m    481\u001b[0m     \u001b[0mbackend\u001b[0m \u001b[0;34m=\u001b[0m \u001b[0mplugins\u001b[0m\u001b[0;34m.\u001b[0m\u001b[0mget_backend\u001b[0m\u001b[0;34m(\u001b[0m\u001b[0mengine\u001b[0m\u001b[0;34m)\u001b[0m\u001b[0;34m\u001b[0m\u001b[0;34m\u001b[0m\u001b[0m\n",
      "\u001b[0;32m~/miniconda3/envs/gpuocean_opendrift/lib/python3.7/site-packages/xarray/backends/plugins.py\u001b[0m in \u001b[0;36mguess_engine\u001b[0;34m(store_spec)\u001b[0m\n\u001b[1;32m    153\u001b[0m         )\n\u001b[1;32m    154\u001b[0m \u001b[0;34m\u001b[0m\u001b[0m\n\u001b[0;32m--> 155\u001b[0;31m     \u001b[0;32mraise\u001b[0m \u001b[0mValueError\u001b[0m\u001b[0;34m(\u001b[0m\u001b[0merror_msg\u001b[0m\u001b[0;34m)\u001b[0m\u001b[0;34m\u001b[0m\u001b[0;34m\u001b[0m\u001b[0m\n\u001b[0m\u001b[1;32m    156\u001b[0m \u001b[0;34m\u001b[0m\u001b[0m\n\u001b[1;32m    157\u001b[0m \u001b[0;34m\u001b[0m\u001b[0m\n",
      "\u001b[0;31mValueError\u001b[0m: did not find a match in any of xarray's currently installed IO backends ['netcdf4', 'scipy', 'cfgrib']. Consider explicitly selecting one of the installed engines via the ``engine`` parameter, or installing additional IO dependencies, see:\nhttp://xarray.pydata.org/en/stable/getting-started-guide/installing.html\nhttp://xarray.pydata.org/en/stable/user-guide/io.html"
     ]
    }
   ],
   "source": [
    "import xarray as xr\n",
    "ds = xr.open_dataset(source_url)\n",
    "ds"
   ]
  },
  {
   "cell_type": "code",
   "execution_count": null,
   "metadata": {},
   "outputs": [],
   "source": [
    "from netCDF4 import Dataset\n",
    "nc = Dataset(source_url)\n",
    "\n",
    "H_m = np.ma.array(nc[\"h\"][1:-1,1:-1], mask=(1-nc[\"mask_rho\"][1:-1,1:-1]))\n",
    "\n",
    "fig, ax = plt.subplots()\n",
    "fig.suptitle(\"Bathymetry\")\n",
    "\n",
    "cmap = plt.cm.Blues\n",
    "cmap.set_bad(\"grey\", alpha = 1.0)\n",
    "im = ax.imshow(H_m, cmap=cmap)\n",
    "\n",
    "plt.colorbar(im, ax=ax)\n",
    "plt.tight_layout()"
   ]
  },
  {
   "cell_type": "code",
   "execution_count": null,
   "metadata": {},
   "outputs": [],
   "source": [
    "datetime.datetime.utcfromtimestamp(nc[\"ocean_time\"][10]).strftime('%Y-%m-%d %H:%M:%S')"
   ]
  },
  {
   "cell_type": "markdown",
   "metadata": {},
   "source": [
    "## Generating GPUOcean Simulation from Input"
   ]
  },
  {
   "cell_type": "code",
   "execution_count": null,
   "metadata": {},
   "outputs": [],
   "source": [
    "dimY, dimX = ds.h.data.shape"
   ]
  },
  {
   "cell_type": "code",
   "execution_count": null,
   "metadata": {},
   "outputs": [],
   "source": [
    "x0, x1, y0, y1 = 687, dimX-25, 120, dimY-330"
   ]
  },
  {
   "cell_type": "code",
   "execution_count": null,
   "metadata": {},
   "outputs": [],
   "source": [
    "fig, ax = plt.subplots(figsize=(10,20))\n",
    "ax.imshow(np.flip(np.ma.array(nc[\"h\"][y0:y1, x0:x1], mask = 1-nc[\"mask_rho\"][y0:y1,x0:x1]), axis=0).T, interpolation=\"none\", cmap=\"Blues\", origin=\"lower\")"
   ]
  },
  {
   "cell_type": "code",
   "execution_count": null,
   "metadata": {},
   "outputs": [],
   "source": [
    "data_args = {}"
   ]
  },
  {
   "cell_type": "code",
   "execution_count": null,
   "metadata": {},
   "outputs": [],
   "source": [
    "nc.variables.keys()"
   ]
  },
  {
   "cell_type": "code",
   "execution_count": null,
   "metadata": {},
   "outputs": [],
   "source": [
    "nx = (x1-x0)-4\n",
    "ny = (y1-y0)-4\n",
    "\n",
    "NX = nx+4\n",
    "NY = ny+4\n",
    "\n",
    "dx = 160.0\n",
    "dy = 160.0"
   ]
  },
  {
   "cell_type": "markdown",
   "metadata": {},
   "source": [
    "Check Mixed-Layer Depth"
   ]
  },
  {
   "cell_type": "code",
   "execution_count": null,
   "metadata": {},
   "outputs": [],
   "source": [
    "t=10"
   ]
  },
  {
   "cell_type": "code",
   "execution_count": null,
   "metadata": {},
   "outputs": [],
   "source": [
    "mld = NetCDFInitialization.MLD(source_url, 1023, min_mld=1.5, max_mld=35, x0=x0, x1=x1, y0=y0, y1=y1, t=t)\n",
    "backup_mld = copy.deepcopy(mld)"
   ]
  },
  {
   "cell_type": "code",
   "execution_count": null,
   "metadata": {},
   "outputs": [],
   "source": [
    "cmap = plt.cm.Blues\n",
    "cmap.set_bad(\"grey\", alpha = 1.0)\n",
    "\n",
    "domain_extent = [0, mld.shape[1]*50/1000, 0, mld.shape[0]*50/1000]\n",
    "\n",
    "with plt.rc_context({'lines.color':'black', \n",
    "                        'text.color':'black', \n",
    "                        'axes.labelcolor':'black', \n",
    "                        'xtick.color':'black',\n",
    "                        'ytick.color':'black'}):\n",
    "    fig, ax = plt.subplots(figsize=(10,5))\n",
    "    im = ax.imshow(np.ma.array(nc[\"h\"][y0:y1,x0:x1], mask=(1-nc[\"mask_rho\"][y0:y1,x0:x1])), \n",
    "                   vmin=0,\n",
    "                   cmap=cmap, extent=domain_extent)\n",
    "    cb = plt.colorbar(im, ax=ax, shrink=0.75)\n",
    "    cb.set_label(label=\"depth [m]\", size=12)\n",
    "    plt.tight_layout()\n",
    "    # plt.savefig(\"figs/Oslofjord-bathymetry.pdf\", dpi=200)\n",
    "\n",
    "\n",
    "    fig, ax = plt.subplots(figsize=(10,5))\n",
    "    im = ax.imshow(mld, \n",
    "                    vmin=0, vmax=35,\n",
    "                    cmap=cmap, extent=domain_extent)\n",
    "    cb = plt.colorbar(im, ax=ax, shrink=0.75)\n",
    "    cb.set_label(label=\"depth [m]\", size=12)\n",
    "    plt.tight_layout()\n",
    "    # plt.savefig(\"figs/Oslofjord-mld.pdf\", dpi=200)\n"
   ]
  },
  {
   "cell_type": "markdown",
   "metadata": {},
   "source": [
    "Check densities"
   ]
  },
  {
   "cell_type": "code",
   "execution_count": null,
   "metadata": {},
   "outputs": [],
   "source": [
    "y_cut = 75"
   ]
  },
  {
   "cell_type": "code",
   "execution_count": null,
   "metadata": {},
   "outputs": [],
   "source": [
    "H_m = nc[\"h\"][y0:y1,x0:x1]\n",
    "\n",
    "u = 0.5*(nc[\"u\"][t,:,y0:y1,x0:x1]+nc[\"u\"][t,:,y0:y1,x0+1:x1+1])\n",
    "v = 0.5*(nc[\"v\"][t,:,y0:y1,x0:x1]+nc[\"v\"][t,:,y0+1:y1+1,x0:x1])\n",
    "\n",
    "integrator = NetCDFInitialization.MLD_integrator(source_url, mld, x0=x0, x1=x1, y0=y0, y1=y1)\n",
    "hu = np.ma.array(np.sum(integrator * u, axis=0), mask=1-nc[\"mask_rho\"][y0:y1,x0:x1])\n",
    "hv = np.ma.array(np.sum(integrator * v, axis=0), mask=1-nc[\"mask_rho\"][y0:y1,x0:x1])\n",
    "\n",
    "u = hu/mld\n",
    "v = hv/mld\n",
    "velocity = np.sqrt(u*u + v*v)\n",
    "\n",
    "domain_extent = [0, nx*dx/1000, 0, ny*dy/1000]\n",
    "\n",
    "frequency_x = 15\n",
    "frequency_y = 15\n",
    "x = np.arange(0, velocity.shape[1], frequency_x)*dx/1000\n",
    "y = np.arange(0, velocity.shape[0], frequency_y)*dy/1000\n",
    "qu = u[::frequency_y, ::frequency_x]\n",
    "qv = v[::frequency_y, ::frequency_x]\n",
    "\n",
    "# ---------------------------\n",
    "\n",
    "bt_u = 0.5*(nc[\"ubar\"][t,y0:y1,x0:x1]+nc[\"ubar\"][t,y0:y1,x0+1:x1+1])\n",
    "bt_v = 0.5*(nc[\"vbar\"][t,y0:y1,x0:x1]+nc[\"vbar\"][t,y0+1:y1+1,x0:x1])\n",
    "\n",
    "bt_velocity = np.sqrt(bt_u*bt_u + bt_v*bt_v)\n",
    "\n",
    "bt_qu = bt_u[::frequency_y, ::frequency_x]\n",
    "bt_qv = bt_v[::frequency_y, ::frequency_x]\n",
    "\n",
    "\n",
    "# ----------------------------\n",
    "\n",
    "with plt.rc_context({'lines.color':'black', \n",
    "                        'text.color':'black', \n",
    "                        'axes.labelcolor':'black', \n",
    "                        'xtick.color':'black',\n",
    "                        'ytick.color':'black'}):\n",
    "    fig, axs = plt.subplots(1,2,figsize=(15,10))\n",
    "\n",
    "    # ax.tick_params(colors='black')\n",
    "    axs[0].xaxis.label.set_color('black')\n",
    "\n",
    "    velo_cmap = plt.cm.Reds\n",
    "    velo_cmap.set_bad(\"grey\", alpha = 1.0)\n",
    "\n",
    "    im = axs[0].imshow(velocity, interpolation=\"none\", origin='lower', \n",
    "                        cmap=velo_cmap,\n",
    "                        vmin=0, vmax=0.5,\n",
    "                        extent=domain_extent)\n",
    "    axs[0].quiver(x,y,qu,qv, scale=5)\n",
    "\n",
    "    cb = plt.colorbar(im, ax=ax, shrink=1)\n",
    "    cb.set_label(label=\"velocity $\\left[ \\\\frac{m}{s} \\\\right]$\", size=12)\n",
    "    \n",
    "    axs[0].axvline(x=y_cut*dx/1000, c=\"black\")\n",
    "    \n",
    "    axs[0].set_title(\"Baroclinic Currents\")\n",
    "    \n",
    "    # -------------------------------------\n",
    "    \n",
    "    im = axs[1].imshow(bt_velocity, interpolation=\"none\", origin='lower', \n",
    "                        cmap=velo_cmap,\n",
    "                        vmin=0, vmax=0.5,\n",
    "                        extent=domain_extent)\n",
    "    axs[1].quiver(x,y,bt_qu,bt_qv, scale=5)\n",
    "\n",
    "    cb = plt.colorbar(im, ax=ax, shrink=1)\n",
    "    cb.set_label(label=\"velocity $\\left[ \\\\frac{m}{s} \\\\right]$\", size=12)\n",
    "    \n",
    "    axs[1].set_title(\"Baroclinic Currents\")\n",
    "\n",
    "\n",
    "    plt.tight_layout()\n",
    "\n",
    "    # plt.savefig(\"figs/PotDensLine.pdf\", dpi=200)\n",
    "\n",
    "print(str(datetime.datetime.utcfromtimestamp(nc[\"ocean_time\"][t]).strftime('%Y-%m-%d %H:%M:%S')))\n"
   ]
  },
  {
   "cell_type": "code",
   "execution_count": null,
   "metadata": {},
   "outputs": [],
   "source": [
    "H_m = nc[\"h\"][y0:y1,x0:x1]\n",
    "\n",
    "u = 0.5*(nc[\"u\"][t,:,y0:y1,x0:x1]+nc[\"u\"][t,:,y0:y1,x0+1:x1+1])\n",
    "v = 0.5*(nc[\"v\"][t,:,y0:y1,x0:x1]+nc[\"v\"][t,:,y0+1:y1+1,x0:x1])\n",
    "\n",
    "integrator = NetCDFInitialization.MLD_integrator(source_url, mld, x0=x0, x1=x1, y0=y0, y1=y1)\n",
    "hu = np.ma.array(np.sum(integrator * u, axis=0), mask=1-nc[\"mask_rho\"][y0:y1,x0:x1])\n",
    "hv = np.ma.array(np.sum(integrator * v, axis=0), mask=1-nc[\"mask_rho\"][y0:y1,x0:x1])\n",
    "\n",
    "u = hu/mld\n",
    "v = hv/mld\n",
    "velocity = np.sqrt(u*u + v*v)\n",
    "\n",
    "domain_extent = [0, nx*dx/1000, 0, ny*dy/1000]\n",
    "\n",
    "frequency_x = 15\n",
    "frequency_y = 15\n",
    "x = np.arange(0, velocity.shape[1], frequency_x)*dx/1000\n",
    "y = np.arange(0, velocity.shape[0], frequency_y)*dy/1000\n",
    "qu = u[::frequency_y, ::frequency_x]\n",
    "qv = v[::frequency_y, ::frequency_x]\n",
    "\n",
    "# ---------------------------\n",
    "\n",
    "bt_u = 0.5*(nc[\"ubar\"][t,y0:y1,x0:x1]+nc[\"ubar\"][t,y0:y1,x0+1:x1+1])\n",
    "bt_v = 0.5*(nc[\"vbar\"][t,y0:y1,x0:x1]+nc[\"vbar\"][t,y0+1:y1+1,x0:x1])\n",
    "\n",
    "bt_velocity = np.sqrt(bt_u*bt_u + bt_v*bt_v)\n",
    "\n",
    "bt_qu = bt_u[::frequency_y, ::frequency_x]\n",
    "bt_qv = bt_v[::frequency_y, ::frequency_x]\n",
    "\n",
    "\n",
    "# ----------------------------\n",
    "\n",
    "with plt.rc_context({'lines.color':'black', \n",
    "                        'text.color':'black', \n",
    "                        'axes.labelcolor':'black', \n",
    "                        'xtick.color':'black',\n",
    "                        'ytick.color':'black'}):\n",
    "    fig, ax = plt.subplots(1,1,figsize=(15,10))\n",
    "    ax.tick_params(axis='both', which='major', labelsize=28)\n",
    "    ax.xaxis.label.set_color('black')\n",
    "\n",
    "    velo_cmap = plt.cm.Oranges\n",
    "    velo_cmap.set_bad(\"grey\", alpha = 1.0)\n",
    "\n",
    "    im = ax.imshow(velocity, interpolation=\"none\", origin='lower', \n",
    "                        cmap=velo_cmap,\n",
    "                        vmin=0, vmax=0.5,\n",
    "                        extent=domain_extent)\n",
    "    ax.quiver(x,y,qu,qv, scale=5)\n",
    "\n",
    "    cb = plt.colorbar(im, ax=ax, shrink=0.9)\n",
    "    cb.set_label(label=\"velocity $\\left[ \\\\frac{m}{s} \\\\right]$\", size=28)\n",
    "    cb.ax.tick_params(labelsize=28)\n",
    "    \n",
    "    ax.axvline(x=y_cut*dx/1000, c=\"black\")\n",
    "\n",
    "    plt.savefig(\"BoknafjordenBaroclinicInit.pdf\", bbox_inches=\"tight\")\n",
    "    \n",
    "    # -------------------------------------\n",
    "    \n",
    "\n",
    "    fig, ax = plt.subplots(1,1,figsize=(15,10))\n",
    "    ax.tick_params(axis='both', which='major', labelsize=28)\n",
    "    ax.xaxis.label.set_color('black')\n",
    "\n",
    "    im = ax.imshow(bt_velocity, interpolation=\"none\", origin='lower', \n",
    "                        cmap=velo_cmap,\n",
    "                        vmin=0, vmax=0.5,\n",
    "                        extent=domain_extent)\n",
    "    ax.quiver(x,y,bt_qu,bt_qv, scale=5)\n",
    "\n",
    "    cb = plt.colorbar(im, ax=ax, shrink=0.9)\n",
    "    cb.set_label(label=\"velocity $\\left[ \\\\frac{m}{s} \\\\right]$\", size=28)\n",
    "    cb.ax.tick_params(labelsize=28)\n",
    "\n",
    "    plt.savefig(\"BoknafjordenBarotropicInit.pdf\", bbox_inches=\"tight\")\n",
    "\n",
    "print(str(datetime.datetime.utcfromtimestamp(nc[\"ocean_time\"][t]).strftime('%Y-%m-%d %H:%M:%S')))\n"
   ]
  },
  {
   "cell_type": "code",
   "execution_count": null,
   "metadata": {},
   "outputs": [],
   "source": [
    "s_pot_densities = NetCDFInitialization.potentialDensities(source_url, t=t, x0=x0, x1=x1, y0=y0, y1=y1)\n",
    "\n",
    "s_nc = Dataset(source_url)\n",
    "s_hs   = s_nc[\"h\"][y0:y1,x0:x1]\n",
    "s_rhos = s_nc[\"Cs_r\"][:]\n",
    "\n",
    "depth_show_meters = 50 # upper layer thickness for plotting in meters\n",
    "\n",
    "depth_show_resolution = 4 # discretisation levels per meter\n",
    "\n",
    "s_pot_densities_show = np.ma.array(np.zeros((s_pot_densities.shape[1],depth_show_meters*depth_show_resolution)))\n",
    "s_pot_densities_show[:,0] =  s_pot_densities[-1][:,y_cut]\n",
    "for depth_level in range(1,depth_show_resolution*depth_show_meters):\n",
    "    depth = depth_level/depth_show_resolution\n",
    "\n",
    "    integrator_low = NetCDFInitialization.MLD_integrator(source_url, np.ma.array(depth*np.ones_like(H_m),mask=False), t=t, x0=x0, x1=x1, y0=y0, y1=y1)\n",
    "    dens_low = np.sum(integrator_low * s_pot_densities, axis=0)\n",
    "    if depth_level == 1:\n",
    "        dens_up = 0.0\n",
    "        s_pot_densities_show[:,depth_level] =  (dens_low - dens_up)[:,y_cut]*depth_show_resolution\n",
    "        mask_next_level = copy.copy(s_pot_densities_show[:,depth_level]<1000)\n",
    "    else:\n",
    "        integrator_up = NetCDFInitialization.MLD_integrator(source_url, np.ma.array((depth-1/depth_show_resolution)*np.ones_like(H_m),mask=False), t=t, x0=x0, x1=x1, y0=y0, y1=y1)\n",
    "        dens_up  = np.sum(integrator_up * s_pot_densities, axis=0)\n",
    "        s_pot_densities_show[:,depth_level] =  (dens_low - dens_up)[:,y_cut]*depth_show_resolution\n",
    "        s_pot_densities_show[:,depth_level].mask = copy.copy(mask_next_level)\n",
    "        if depth > 5:\n",
    "            mask_next_level = np.all((integrator_low[1:,:,y_cut] == integrator_up[1:,:,y_cut]), axis=0)"
   ]
  },
  {
   "cell_type": "code",
   "execution_count": null,
   "metadata": {},
   "outputs": [],
   "source": [
    "import matplotlib.lines as mlines"
   ]
  },
  {
   "cell_type": "code",
   "execution_count": null,
   "metadata": {},
   "outputs": [],
   "source": [
    "fig, ax = plt.subplots(1,1,figsize=(15,5))\n",
    "\n",
    "cmap_dens = plt.cm.YlOrRd_r\n",
    "cmap_dens.set_bad(alpha=0.25)\n",
    "\n",
    "extent = [0, s_pot_densities_show.shape[0]*160/1000, depth_show_meters, 0]\n",
    "\n",
    "im = ax.imshow(s_pot_densities_show.T, \n",
    "                origin=\"upper\", cmap=cmap_dens, \n",
    "                aspect='auto', extent=extent, \n",
    "                vmin=1022, vmax=1025)\n",
    "\n",
    "ax.tick_params(axis='x', labelsize=16)\n",
    "ax.tick_params(axis='y', labelsize=16)\n",
    "ax.set_ylabel(\"depth [$m$]\", fontsize=20)\n",
    "ax.set_xlabel(\"y [$km$]\", fontsize=20)\n",
    "\n",
    "cb = plt.colorbar(im, pad=0.05)\n",
    "cb.set_label(label=\"potential density [$kg/m^3$]\", size=20)\n",
    "cb.ax.tick_params(labelsize=16)\n",
    "\n",
    "ax.scatter(np.arange(s_pot_densities.shape[1])*160/1000, mld[:,y_cut], s=5, color=plt.cm.Blues(0.5))\n",
    "\n",
    "legend_handle = mlines.Line2D([], [], c=plt.cm.Blues(0.5), lw=3, label=\"1023\")\n",
    "plt.legend(handles=[legend_handle], handlelength=1, loc=2, \n",
    "        handletextpad=0.1, \n",
    "        facecolor=\"white\", framealpha=1,\n",
    "        labelcolor=\"black\", fontsize=18)\n",
    "\n",
    "plt.savefig(\"BoknafjordenMLD.pdf\", bbox_inches=\"tight\")"
   ]
  },
  {
   "cell_type": "markdown",
   "metadata": {},
   "source": [
    "Note that the stratification is less pronounced than in the Oslofjord, but we still get a usable and shallow MLD"
   ]
  },
  {
   "cell_type": "code",
   "execution_count": null,
   "metadata": {},
   "outputs": [],
   "source": [
    "fig, axs = plt.subplots(1,2, figsize=(15,5))\n",
    "\n",
    "axs[0].imshow(np.ma.array(nc[\"h\"][y0:y1,x0:x1], mask=(1-nc[\"mask_rho\"][y0:y1,x0:x1])), cmap=\"Blues\")\n",
    "axs[0].scatter(75,300, marker=\"x\", color=\"red\")\n",
    "\n",
    "axs[1].plot(s_pot_densities[:,300,75], nc[\"Cs_r\"]*(nc[\"h\"][y0:y1,x0:x1][300,75]))"
   ]
  },
  {
   "cell_type": "markdown",
   "metadata": {},
   "source": [
    "## GPU Ocean Inputs"
   ]
  },
  {
   "cell_type": "code",
   "execution_count": null,
   "metadata": {},
   "outputs": [],
   "source": [
    "t_start = t\n",
    "t_stop =  t_start + 6\n",
    "\n",
    "T = (t_stop-t_start)*3600  #Input\n",
    "timestep_indices = [list(np.arange(t_start, t_stop+1))]"
   ]
  },
  {
   "cell_type": "code",
   "execution_count": null,
   "metadata": {},
   "outputs": [],
   "source": [
    "barotropic_data_args, baroclinic_data_args = NetCDFInitialization.getCombinedInitialConditions(source_url, x0, x1, y0, y1, 1023, timestep_indices=timestep_indices, norkyst_data=False, land_value=5.0, download_data=False)"
   ]
  },
  {
   "cell_type": "markdown",
   "metadata": {},
   "source": [
    "### Drifters"
   ]
  },
  {
   "cell_type": "code",
   "execution_count": null,
   "metadata": {},
   "outputs": [],
   "source": [
    "windage = 0.0"
   ]
  },
  {
   "cell_type": "markdown",
   "metadata": {},
   "source": [
    "Barotropic drift"
   ]
  },
  {
   "cell_type": "code",
   "execution_count": null,
   "metadata": {},
   "outputs": [],
   "source": [
    "from gpuocean.SWEsimulators import CDKLM16"
   ]
  },
  {
   "cell_type": "code",
   "execution_count": null,
   "metadata": {},
   "outputs": [],
   "source": [
    "barotropic_sim = CDKLM16.CDKLM16(barotropic_gpu_ctx, **NetCDFInitialization.removeMetadata(barotropic_data_args), dt=0.0, write_netcdf=True)"
   ]
  },
  {
   "cell_type": "code",
   "execution_count": null,
   "metadata": {},
   "outputs": [],
   "source": [
    "from gpuocean.utils import Observation\n",
    "from gpuocean.drifters import GPUDrifterCollection\n",
    "from gpuocean.dataassimilation import DataAssimilationUtils as dautils"
   ]
  },
  {
   "cell_type": "code",
   "execution_count": null,
   "metadata": {},
   "outputs": [],
   "source": [
    "initx = [12500,  7500, 12500,  1250,  7500]\n",
    "inity = [40000, 42500, 45000, 43750, 45000]\n",
    "\n",
    "num_drifters = len(initx)"
   ]
  },
  {
   "cell_type": "code",
   "execution_count": null,
   "metadata": {},
   "outputs": [],
   "source": [
    "observation_type = dautils.ObservationType.UnderlyingFlow \n",
    "    \n",
    "observation_args = {'observation_type': observation_type,\n",
    "                'nx': barotropic_sim.nx, 'ny': barotropic_sim.ny,\n",
    "                'domain_size_x': barotropic_sim.nx*barotropic_sim.dx,\n",
    "                'domain_size_y': barotropic_sim.ny*barotropic_sim.dy,\n",
    "                'land_mask': barotropic_sim.getLandMask()\n",
    "                }\n",
    "\n",
    "bt_trajectories = Observation.Observation(**observation_args)"
   ]
  },
  {
   "cell_type": "code",
   "execution_count": null,
   "metadata": {},
   "outputs": [],
   "source": [
    "bt_drifters = GPUDrifterCollection.GPUDrifterCollection(barotropic_gpu_ctx, num_drifters,\n",
    "                                                    boundaryConditions = barotropic_sim.boundary_conditions,\n",
    "                                                    domain_size_x = bt_trajectories.domain_size_x,\n",
    "                                                    domain_size_y = bt_trajectories.domain_size_y,\n",
    "                                                    gpu_stream = barotropic_sim.gpu_stream,\n",
    "                                                    wind = barotropic_data_args[\"wind\"],\n",
    "                                                    wind_drift_factor=windage\n",
    "                                                    )\n",
    "\n",
    "drifter_pos_init = np.array([initx, inity]).T\n",
    "bt_drifters.setDrifterPositions(drifter_pos_init)\n",
    "\n"
   ]
  },
  {
   "cell_type": "code",
   "execution_count": null,
   "metadata": {},
   "outputs": [],
   "source": [
    "barotropic_sim.attachDrifters(bt_drifters)\n",
    "bt_trajectories.add_observation_from_sim(barotropic_sim)"
   ]
  },
  {
   "cell_type": "code",
   "execution_count": null,
   "metadata": {},
   "outputs": [],
   "source": [
    "while barotropic_sim.t < T:\n",
    "    barotropic_sim.step(300)\n",
    "    bt_trajectories.add_observation_from_sim(barotropic_sim)"
   ]
  },
  {
   "cell_type": "code",
   "execution_count": null,
   "metadata": {},
   "outputs": [],
   "source": [
    "sys.path.append(os.path.abspath(os.path.join(os.path.join(os.getcwd(), os.pardir), os.pardir)))\n",
    "from utils import animation_utils"
   ]
  },
  {
   "cell_type": "code",
   "execution_count": null,
   "metadata": {},
   "outputs": [],
   "source": [
    "# animation_utils.ncAnimation(barotropic_sim.sim_writer.output_file_name, \"gpuocean\", comment=\"Barotropic\")"
   ]
  },
  {
   "cell_type": "markdown",
   "metadata": {},
   "source": [
    "Baroclinic drift"
   ]
  },
  {
   "cell_type": "code",
   "execution_count": null,
   "metadata": {},
   "outputs": [],
   "source": [
    "baroclinic_data_args[\"wind_stress_factor\"] = 0.5\n",
    "baroclinic_data_args[\"r\"] = 0.0015"
   ]
  },
  {
   "cell_type": "code",
   "execution_count": null,
   "metadata": {},
   "outputs": [],
   "source": [
    "for hour in range(7):\n",
    "    plt.plot(baroclinic_data_args[\"boundary_conditions_data\"].west.hu[hour]/baroclinic_data_args[\"boundary_conditions_data\"].west.h[hour], label=\"hour \"+str(hour))\n",
    "plt.legend(labelcolor=\"black\")"
   ]
  },
  {
   "cell_type": "code",
   "execution_count": null,
   "metadata": {},
   "outputs": [],
   "source": [
    "baroclinic_sim = CDKLM16.CDKLM16(baroclinic_gpu_ctx, **NetCDFInitialization.removeMetadata(baroclinic_data_args), dt=0.0, write_netcdf=True)"
   ]
  },
  {
   "cell_type": "code",
   "execution_count": null,
   "metadata": {},
   "outputs": [],
   "source": [
    "bc_trajectories = Observation.Observation(**observation_args)"
   ]
  },
  {
   "cell_type": "code",
   "execution_count": null,
   "metadata": {},
   "outputs": [],
   "source": [
    "bc_drifters = GPUDrifterCollection.GPUDrifterCollection(baroclinic_gpu_ctx, num_drifters,\n",
    "                                                    boundaryConditions = baroclinic_sim.boundary_conditions,\n",
    "                                                    domain_size_x = bc_trajectories.domain_size_x,\n",
    "                                                    domain_size_y = bc_trajectories.domain_size_y,\n",
    "                                                    gpu_stream = baroclinic_sim.gpu_stream,\n",
    "                                                    wind = baroclinic_data_args[\"wind\"],\n",
    "                                                    wind_drift_factor=windage\n",
    "                                                    )\n",
    "\n",
    "bc_drifters.setDrifterPositions(drifter_pos_init)"
   ]
  },
  {
   "cell_type": "code",
   "execution_count": null,
   "metadata": {},
   "outputs": [],
   "source": [
    "baroclinic_sim.attachDrifters(bc_drifters)\n",
    "bc_trajectories.add_observation_from_sim(baroclinic_sim)"
   ]
  },
  {
   "cell_type": "code",
   "execution_count": null,
   "metadata": {},
   "outputs": [],
   "source": [
    "while baroclinic_sim.t < T:\n",
    "    baroclinic_sim.step(300)\n",
    "    bc_trajectories.add_observation_from_sim(baroclinic_sim)"
   ]
  },
  {
   "cell_type": "code",
   "execution_count": null,
   "metadata": {},
   "outputs": [],
   "source": [
    "# animation_utils.ncAnimation(baroclinic_sim.sim_writer.output_file_name, \"gpuocean-reduced_grav\", comment=\"Baroclinic\")"
   ]
  },
  {
   "cell_type": "markdown",
   "metadata": {},
   "source": [
    "Combined sim"
   ]
  },
  {
   "cell_type": "code",
   "execution_count": null,
   "metadata": {},
   "outputs": [],
   "source": [
    "from gpuocean.SWEsimulators import CombinedCDKLM16"
   ]
  },
  {
   "cell_type": "code",
   "execution_count": null,
   "metadata": {},
   "outputs": [],
   "source": [
    "from importlib import reload\n",
    "reload(CombinedCDKLM16)"
   ]
  },
  {
   "cell_type": "code",
   "execution_count": null,
   "metadata": {},
   "outputs": [],
   "source": [
    "barotropic_sim = CDKLM16.CDKLM16(barotropic_gpu_ctx, **NetCDFInitialization.removeMetadata(barotropic_data_args), dt=0.0)\n",
    "baroclinic_sim = CDKLM16.CDKLM16(baroclinic_gpu_ctx, **NetCDFInitialization.removeMetadata(baroclinic_data_args), dt=0.0)"
   ]
  },
  {
   "cell_type": "code",
   "execution_count": null,
   "metadata": {},
   "outputs": [],
   "source": [
    "combined_sim = CombinedCDKLM16.CombinedCDKLM16(barotropic_sim=barotropic_sim, baroclinic_sim=baroclinic_sim)"
   ]
  },
  {
   "cell_type": "code",
   "execution_count": null,
   "metadata": {},
   "outputs": [],
   "source": [
    "combi_trajectories = Observation.Observation(**observation_args)"
   ]
  },
  {
   "cell_type": "code",
   "execution_count": null,
   "metadata": {},
   "outputs": [],
   "source": [
    "combi_drifters = GPUDrifterCollection.GPUDrifterCollection(barotropic_gpu_ctx, num_drifters,\n",
    "                                                    boundaryConditions = combined_sim.boundary_conditions,\n",
    "                                                    domain_size_x = combi_trajectories.domain_size_x,\n",
    "                                                    domain_size_y = combi_trajectories.domain_size_y,\n",
    "                                                    gpu_stream = combined_sim.gpu_stream,\n",
    "                                                    wind = barotropic_data_args[\"wind\"],\n",
    "                                                    wind_drift_factor=windage/2\n",
    "                                                    )\n"
   ]
  },
  {
   "cell_type": "code",
   "execution_count": null,
   "metadata": {},
   "outputs": [],
   "source": [
    "combi_drifters.setDrifterPositions(drifter_pos_init)"
   ]
  },
  {
   "cell_type": "code",
   "execution_count": null,
   "metadata": {},
   "outputs": [],
   "source": [
    "combined_sim.attachDrifters(combi_drifters)\n",
    "combi_trajectories.add_observation_from_sim(combined_sim)"
   ]
  },
  {
   "cell_type": "code",
   "execution_count": null,
   "metadata": {},
   "outputs": [],
   "source": [
    "combined_sim.combinedStep(T, trajectory_dt=360, trajectories=combi_trajectories)"
   ]
  },
  {
   "cell_type": "markdown",
   "metadata": {},
   "source": [
    "### Plots"
   ]
  },
  {
   "cell_type": "code",
   "execution_count": null,
   "metadata": {},
   "outputs": [],
   "source": [
    "def plot_trajectory(trajectories0, trajectories1, trajectories2, trajectories3=None, zoom=[0, None, 0, None]):\n",
    "    with plt.rc_context({'lines.color':'black', \n",
    "                            'text.color':'black', \n",
    "                            'axes.labelcolor':'black', \n",
    "                            'xtick.color':'black',\n",
    "                            'ytick.color':'black'}):\n",
    "        fig, ax = plt.subplots(1,1, figsize=(10,10))\n",
    "        ax.tick_params(axis='both', which='major', labelsize=28)\n",
    "\n",
    "        zoom_x0, zoom_x1, zoom_y0, zoom_y1 = zoom\n",
    "\n",
    "        if zoom_x1 is None:\n",
    "            dom_x1 = nx\n",
    "        else:\n",
    "            dom_x1 = zoom_x1\n",
    "        if zoom_y1 is None:\n",
    "            dom_y1 = ny\n",
    "        else:\n",
    "            dom_y1 = zoom_y1\n",
    "        domain_extent = [zoom_x0*dx/1000, dom_x1*dx/1000, zoom_y0*dy/1000, dom_y1*dy/1000]\n",
    "\n",
    "        bg_cmap = copy.deepcopy(plt.cm.Blues)\n",
    "        bg_cmap.set_bad(\"grey\", alpha = 1.0)\n",
    "        \n",
    "        ax.imshow(np.ma.array(nc[\"mask_rho\"][y0:y1, x0:x1][zoom_y0:zoom_y1, zoom_x0:zoom_x1], mask=(1-nc[\"mask_rho\"][y0:y1, x0:x1][zoom_y0:zoom_y1, zoom_x0:zoom_x1])), \n",
    "                  interpolation=\"none\", origin='lower', cmap=bg_cmap, extent=domain_extent)\n",
    "\n",
    "        for d in range(len(initx)):\n",
    "            path = trajectories0.get_drifter_path(d, 0, T, in_km = True)[0]\n",
    "            start_pos = path[0,:]\n",
    "            circ_start = matplotlib.patches.Circle((start_pos[0], start_pos[1]), \n",
    "                                                    0.1, color = 'black', fill=True, zorder=10)\n",
    "            ax.add_patch(circ_start)\n",
    "\n",
    "            colors = [\"C0\", \"C1\", \"C2\", \"C3\"]            \n",
    "            trajectory_list = [trajectories0, trajectories1, trajectories2]\n",
    "            if trajectories3 is not None:\n",
    "                trajectory_list.append(trajectories3)\n",
    "            for p_idx, path in enumerate([t.get_drifter_path(d, 0, T, in_km = True)[0] for t in trajectory_list]):\n",
    "                ax.plot(path[:,0], path[:,1], color=colors[p_idx], ls=\"-\", zorder=5, alpha=1.0, lw=2.0)\n",
    "                end_pos = path[-1,:]\n",
    "                ax.scatter(end_pos[0], end_pos[1], marker='x', color='black', s=50, linewidths=1, alpha=1.0, zorder=6)\n",
    "\n",
    "        plt.tight_layout()\n",
    "\n",
    "        legend_handles = [ mlines.Line2D([], [], c=\"C0\", lw=3, label=\"barotropic\"),\n",
    "                            mlines.Line2D([], [], c=\"C1\", lw=3, label=\"baroclinic\"),\n",
    "                            mlines.Line2D([], [], c=\"C2\", lw=3, label=\"combined\")]\n",
    "        if trajectories3 is not None:\n",
    "            legend_handles.append( mlines.Line2D([], [], c=\"C3\", lw=3, label=\"OpenDrift\") )\n",
    "        plt.legend(handles=legend_handles, handlelength=1,\n",
    "        facecolor=\"white\", framealpha=1,\n",
    "        labelcolor=\"black\", fontsize=18)\n",
    "\n",
    "        plt.savefig(\"BoknafjordenDrifts.pdf\", bbox_inches=\"tight\")"
   ]
  },
  {
   "cell_type": "code",
   "execution_count": null,
   "metadata": {},
   "outputs": [],
   "source": [
    "plot_trajectory(bt_trajectories, bc_trajectories, combi_trajectories, zoom=[0,150,150,None])"
   ]
  },
  {
   "cell_type": "markdown",
   "metadata": {},
   "source": [
    "## OpenDrift"
   ]
  },
  {
   "cell_type": "code",
   "execution_count": null,
   "metadata": {},
   "outputs": [],
   "source": [
    "from opendrift.readers import reader_netCDF_CF_generic, reader_ROMS_native\n",
    "from opendrift.models.oceandrift import OceanDrift\n",
    "from datetime import datetime, timedelta\n",
    "\n",
    "import xarray as xr"
   ]
  },
  {
   "cell_type": "code",
   "execution_count": null,
   "metadata": {},
   "outputs": [],
   "source": [
    "reader_boknafjorden = reader_ROMS_native.Reader(source_url)\n",
    "reader_boknafjorden.start_time"
   ]
  },
  {
   "cell_type": "code",
   "execution_count": null,
   "metadata": {},
   "outputs": [],
   "source": [
    "# Checking how to map (x,y) to/from (lon, lat)\n",
    "\n",
    "#eta_rho: 801 xi_rho: 1161\n",
    "lon0 = ds.lon_rho.isel(eta_rho=0, xi_rho=0).data, \n",
    "lat0 = ds.lat_rho.isel(eta_rho=0, xi_rho=0).data\n",
    "print(\"lonlat(0, 0): \", (lon0, lat0))\n",
    "print(\"\\tgives (x, y): \", reader_boknafjorden.lonlat2xy(lon0, lat0))\n",
    "\n",
    "lonend = ds.lon_rho.isel(eta_rho=801-1, xi_rho=1161-1).data\n",
    "latend = ds.lat_rho.isel(eta_rho=801-1, xi_rho=1161-1).data\n",
    "print(\"lonlat(-1, -1): \", (lonend, latend))\n",
    "print(\"\\tgives (x, y): \", reader_boknafjorden.lonlat2xy(lonend, latend))\n",
    "\n",
    "\n",
    "lon0u = ds.lon_u.isel(eta_u=0, xi_u=0).data, \n",
    "lat0u = ds.lat_u.isel(eta_u=0, xi_u=0).data\n",
    "print(\"lonlatu(0, 0): \", (lon0, lat0))\n",
    "print(\"\\tgives (x, y): \", reader_boknafjorden.lonlat2xy(lon0, lat0))"
   ]
  },
  {
   "cell_type": "markdown",
   "metadata": {},
   "source": [
    "Based on the dimensions of eta_* and xi_*, it seems that eta_rho and xi_rho is from boundary to boundary. "
   ]
  },
  {
   "cell_type": "code",
   "execution_count": null,
   "metadata": {},
   "outputs": [],
   "source": [
    "# Translate initx, inity to initlon, initlat\n",
    "initx = np.array([12500,  7500, 12500,  1250,  7500])\n",
    "inity = np.array([40000, 42500, 45000, 43750, 45000])\n",
    "\n",
    "init_local_index_x = initx/160\n",
    "init_local_index_y = inity/160\n",
    "\n",
    "init_global_index_x = init_local_index_x + x0\n",
    "init_global_index_y = init_local_index_y + y0\n",
    "\n",
    "print(init_local_index_x)\n",
    "print(init_global_index_x)\n",
    "\n",
    "init_lon, init_lat = reader_boknafjorden.xy2lonlat(init_global_index_x, init_global_index_y)\n",
    "print(\"init_lon: \", init_lon)\n",
    "print(\"init_lat: \", init_lat)"
   ]
  },
  {
   "cell_type": "code",
   "execution_count": null,
   "metadata": {},
   "outputs": [],
   "source": [
    "o = OceanDrift(loglevel=20)\n",
    "\n",
    "#o.add_reader([reader_barents, reader_wind])\n",
    "o.add_reader(reader_boknafjorden)\n"
   ]
  },
  {
   "cell_type": "code",
   "execution_count": null,
   "metadata": {},
   "outputs": [],
   "source": [
    "o.seed_elements(lat=init_lat, lon=init_lon, time=reader_boknafjorden.start_time+ timedelta(hours=10), \n",
    "                wind_drift_factor=np.zeros_like(init_lat))\n"
   ]
  },
  {
   "cell_type": "code",
   "execution_count": null,
   "metadata": {},
   "outputs": [],
   "source": [
    "o.run(duration = timedelta(hours=6), time_step=600, time_step_output=600)\n"
   ]
  },
  {
   "cell_type": "code",
   "execution_count": null,
   "metadata": {},
   "outputs": [],
   "source": [
    "o_trajectories = Observation.Observation(domain_size_x=nx*dx, domain_size_y=ny*dy, nx=x1-x0, ny=y1-y0, land_mask=barotropic_sim.getLandMask())"
   ]
  },
  {
   "cell_type": "code",
   "execution_count": null,
   "metadata": {},
   "outputs": [],
   "source": [
    "t = o.get_time_array()[1]\n",
    "for i in range(len(t)):\n",
    "    t[i] = t[i].total_seconds()\n",
    "t = np.array(t)"
   ]
  },
  {
   "cell_type": "code",
   "execution_count": null,
   "metadata": {},
   "outputs": [],
   "source": [
    "lon, lat = o.get_lonlats()\n",
    "x,y = reader_boknafjorden.lonlat2xy(lon,lat)"
   ]
  },
  {
   "cell_type": "code",
   "execution_count": null,
   "metadata": {},
   "outputs": [],
   "source": [
    "X = (x-x0)*160\n",
    "Y = (y-y0)*160"
   ]
  },
  {
   "cell_type": "code",
   "execution_count": null,
   "metadata": {},
   "outputs": [],
   "source": [
    "o_trajectories = Observation.Observation(domain_size_x=dx*nx, domain_size_y=ny*dy,\n",
    "                        nx=x1-x0, ny=y1-y0, land_mask=barotropic_sim.getLandMask())"
   ]
  },
  {
   "cell_type": "code",
   "execution_count": null,
   "metadata": {},
   "outputs": [],
   "source": [
    "o_trajectories.add_observations_from_arrays(t, X, Y)"
   ]
  },
  {
   "cell_type": "code",
   "execution_count": null,
   "metadata": {},
   "outputs": [],
   "source": [
    "plot_trajectory(bt_trajectories, bc_trajectories, combi_trajectories, o_trajectories, zoom=[0,150,150,None])"
   ]
  },
  {
   "cell_type": "code",
   "execution_count": null,
   "metadata": {},
   "outputs": [],
   "source": []
  }
 ],
 "metadata": {
  "kernelspec": {
   "display_name": "Python 3",
   "language": "python",
   "name": "python3"
  },
  "language_info": {
   "codemirror_mode": {
    "name": "ipython",
    "version": 3
   },
   "file_extension": ".py",
   "mimetype": "text/x-python",
   "name": "python",
   "nbconvert_exporter": "python",
   "pygments_lexer": "ipython3",
   "version": "3.7.12"
  },
  "vscode": {
   "interpreter": {
    "hash": "3048633266a8aca5c85f16c1ee57ccad146141feb66febf24dcb8304467d1440"
   }
  }
 },
 "nbformat": 4,
 "nbformat_minor": 2
}
