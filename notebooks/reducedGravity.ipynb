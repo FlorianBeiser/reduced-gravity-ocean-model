{
 "cells": [
  {
   "cell_type": "markdown",
   "metadata": {},
   "source": [
    "# Reduced Gravity"
   ]
  },
  {
   "cell_type": "markdown",
   "metadata": {},
   "source": [
    "## Classes and modules"
   ]
  },
  {
   "cell_type": "code",
   "execution_count": null,
   "metadata": {},
   "outputs": [],
   "source": [
    "#Lets have matplotlib \"inline\"\n",
    "%matplotlib inline\n",
    "\n",
    "import os\n",
    "import sys\n",
    "\n",
    "#Import packages we need\n",
    "import numpy as np\n",
    "from netCDF4 import Dataset\n",
    "import datetime\n",
    "from IPython.display import display\n",
    "\n",
    "#For plotting\n",
    "import matplotlib\n",
    "from matplotlib import pyplot as plt"
   ]
  },
  {
   "cell_type": "markdown",
   "metadata": {},
   "source": [
    "GPU Ocean-modules:"
   ]
  },
  {
   "cell_type": "code",
   "execution_count": null,
   "metadata": {},
   "outputs": [],
   "source": [
    "from gpuocean.SWEsimulators import CDKLM16\n",
    "from gpuocean.utils import Common, IPythonMagic, NetCDFInitialization, Observation\n",
    "from gpuocean.drifters import GPUDrifterCollection\n",
    "from gpuocean.dataassimilation import DataAssimilationUtils as dautils"
   ]
  },
  {
   "cell_type": "code",
   "execution_count": null,
   "metadata": {},
   "outputs": [],
   "source": [
    "%cuda_context_handler gpu_ctx"
   ]
  },
  {
   "cell_type": "markdown",
   "metadata": {},
   "source": [
    "## Selecting area and loading initial- and boundary conditions"
   ]
  },
  {
   "cell_type": "markdown",
   "metadata": {},
   "source": [
    "#### Plotting utils"
   ]
  },
  {
   "cell_type": "code",
   "execution_count": null,
   "metadata": {},
   "outputs": [],
   "source": [
    "def cut_section(dir=\"x\"):\n",
    "\n",
    "    nc = Dataset(source_url)\n",
    "\n",
    "    H = np.array(nc.variables['h'])\n",
    "    land_value = H.min()\n",
    "    land = np.ma.masked_where(H == land_value, H)\n",
    "\n",
    "    fig = plt.figure()\n",
    "    plt.imshow(land, interpolation=\"None\", origin=\"lower\", cmap=\"ocean\")\n",
    "    fig.gca().fill([case_info[\"x0\"], case_info[\"x0\"], case_info[\"x1\"], case_info[\"x1\"]], [case_info[\"y0\"], case_info[\"y1\"], case_info[\"y1\"], case_info[\"y0\"]], fill=False, linestyle='-', linewidth=3, color='red')\n",
    "    plt.colorbar(shrink=0.4)\n",
    "    plt.title(casename + \"-area\")\n",
    "    plt.show()\n",
    "\n",
    "    fig, axs = plt.subplots(1,5,figsize=(30,4))\n",
    "    plt.suptitle(casename + \"-area\", fontweight='bold')\n",
    "\n",
    "    land0 = land[case_info[\"y0\"]:case_info[\"y1\"], case_info[\"x0\"]:case_info[\"x1\"]]\n",
    "    im = axs[0].imshow(land0, interpolation=\"None\", origin='lower', cmap='ocean')\n",
    "    plt.colorbar(im, ax=axs[0])\n",
    "\n",
    "    if dir==\"x\": \n",
    "        x_cut = int((case_info[\"x0\"]+case_info[\"x1\"])/2)\n",
    "        axs[0].scatter(np.repeat(x_cut-case_info[\"x0\"],land0.shape[0]),np.arange(land0.shape[0]), c=\"red\", s=0.5)\n",
    "    elif dir==\"y\":\n",
    "        y_cut = int((case_info[\"y0\"]+case_info[\"y1\"])/2)\n",
    "        axs[0].scatter(np.arange(land0.shape[1]),np.repeat(y_cut-case_info[\"y0\"],land0.shape[1]), c=\"red\", s=0.5)\n",
    "\n",
    "    axs[0].set_title(\"Cut along red line\")\n",
    "\n",
    "\n",
    "    # ######################################\n",
    "\n",
    "    def cut_show(var):\n",
    "\n",
    "        if dir == \"x\":\n",
    "            cut = nc[var][0,:,case_info[\"y0\"]:case_info[\"y1\"],x_cut].data\n",
    "        elif dir == \"y\":\n",
    "            cut = nc[var][0,:,y_cut,case_info[\"x0\"]:case_info[\"x1\"]].data\n",
    "\n",
    "        cut_scale = cut[0,:]\n",
    "        cut_min = cut_scale[cut_scale>-1000].min() # exclude land values\n",
    "        cut_max = cut_scale.max()\n",
    "        d_up = 0 \n",
    "        for i in range(len(nc[\"depth\"][:12].data)):\n",
    "            d = nc[\"depth\"][:-1].data[i]\n",
    "            cut_scale = np.vstack([cut_scale, np.tile(cut[i,:],(int(d - d_up),1))])\n",
    "            d_up = d\n",
    "\n",
    "        return cut_scale, cut_min, cut_max\n",
    "\n",
    "    print(\"Assumption: Visualisation expands values to the upper-next depth-level!!\")\n",
    "    \n",
    "\n",
    "    for idx, var  in enumerate([\"u\", \"v\", \"temperature\", \"salinity\"]):\n",
    "        cut_scale, cut_min, cut_max = cut_show(var)\n",
    "\n",
    "        im = axs[idx+1].imshow(cut_scale, cmap=\"coolwarm\", vmin=cut_min, vmax=cut_max)\n",
    "        fig.colorbar(im, ax=axs[idx+1])\n",
    "        axs[idx+1].set_title(\"Cross section of \"+var)\n",
    "        axs[idx+1].set_ylabel(\"depth\")\n",
    "    \n",
    "    print(\"\\nDepth levels = \", nc[\"depth\"][:].data)\n",
    "        \n",
    "    plt.show()\n"
   ]
  },
  {
   "cell_type": "code",
   "execution_count": null,
   "metadata": {},
   "outputs": [],
   "source": [
    "from IPython.display import clear_output\n",
    "from matplotlib import animation, rc\n",
    "plt.rcParams[\"animation.html\"] = \"jshtml\"\n",
    "from gpuocean.utils import PlotHelper\n",
    "from gpuocean.utils.NetCDFInitialization import depth_integration\n",
    "\n",
    "def plotSolution(fig, \n",
    "                 eta, hu, hv, h, dx, dy, \n",
    "                 t, comment,\n",
    "                 h_min=-1.5, h_max=1.5, \n",
    "                 uv_min=-0.3, uv_max=0.3,\n",
    "                 calc_uv = False, \n",
    "                 add_extra=False,\n",
    "                 reduced_gravity_interface=None,\n",
    "                 ax=None, sp=None):\n",
    "\n",
    "\n",
    "    from datetime import timedelta\n",
    "    fig.suptitle(\"Time = {:0>8} ({:s})\".format(str(timedelta(seconds=int(t))), comment), \n",
    "                 fontsize=18,\n",
    "                 horizontalalignment='left')\n",
    "    \n",
    "    ny, nx = eta.shape\n",
    "    domain_extent = [0, nx*dx, 0, ny*dy]\n",
    "    \n",
    "    x_plots = 3\n",
    "    y_plots = 1\n",
    "    if (add_extra == True):\n",
    "        x_plots=3\n",
    "        y_plots=2\n",
    "    \n",
    "    V_max = 3 * (uv_max-uv_min) / np.max(h)\n",
    "    R_min = -V_max/2000\n",
    "    R_max = V_max/2000\n",
    "   \n",
    "    if calc_uv:\n",
    "        \"\"\"plotting actually u and v\"\"\"\n",
    "        if reduced_gravity_interface is None or reduced_gravity_interface == 0.0:\n",
    "            hu = hu/(h+eta)\n",
    "            hv = hv/(h+eta)\n",
    "        else:\n",
    "            hu = hu/(reduced_gravity_interface+eta)\n",
    "            hv = hv/(reduced_gravity_interface+eta)\n",
    "        uv_min = -0.3\n",
    "        uv_max = +0.3\n",
    "\n",
    "    if (ax is None):\n",
    "        ax = [None]*x_plots*y_plots\n",
    "        sp = [None]*x_plots*y_plots\n",
    "        \n",
    "        ax[0] = plt.subplot(y_plots, x_plots, 1)\n",
    "        sp[0] = ax[0].imshow(eta, interpolation=\"none\", origin='lower', \n",
    "                             cmap=plt.cm.coolwarm, \n",
    "                             vmin=h_min, vmax=h_max, \n",
    "                             extent=domain_extent)\n",
    "        plt.colorbar(sp[0], shrink=0.9)\n",
    "        plt.axis('image')\n",
    "        plt.title(\"$\\eta{}$\")\n",
    "        \n",
    "  \n",
    "\n",
    "        ax[1] = plt.subplot(y_plots, x_plots, 2)\n",
    "        sp[1] = ax[1].imshow(hu, interpolation=\"none\", origin='lower', \n",
    "                            cmap=plt.cm.coolwarm, \n",
    "                            vmin=uv_min, vmax=uv_max, \n",
    "                            extent=domain_extent)\n",
    "        plt.colorbar(sp[1], shrink=0.9)\n",
    "        plt.axis('image')\n",
    "        plt.title(\"$hu$\")\n",
    "\n",
    "\n",
    "\n",
    "        ax[2] = plt.subplot(y_plots, x_plots, 3)\n",
    "        sp[2] = ax[2].imshow(hv, interpolation=\"none\", origin='lower', \n",
    "                             cmap=plt.cm.coolwarm, \n",
    "                             vmin=uv_min, vmax=uv_max, \n",
    "                             extent=domain_extent)\n",
    "        plt.colorbar(sp[2], shrink=0.9)\n",
    "        plt.axis('image')\n",
    "        plt.title(\"$hv$\")\n",
    "            \n",
    "    else:        \n",
    "        #Update plots\n",
    "        fig.sca(ax[0])\n",
    "        sp[0].set_data(eta)\n",
    "        \n",
    "        fig.sca(ax[1])\n",
    "        sp[1].set_data(hu)\n",
    "        \n",
    "        fig.sca(ax[2])\n",
    "        sp[2].set_data(hv)\n",
    "        \n",
    "        if (add_extra == True):\n",
    "            V = PlotHelper.genVelocity(h, hu, hv)\n",
    "            fig.sca(ax[3])\n",
    "            sp[3].set_data(V)\n",
    "\n",
    "            R = PlotHelper.genColors(h, hu/dx, hv/dy, plt.cm.seismic, R_min, R_max)\n",
    "            fig.sca(ax[4])\n",
    "            sp[4].set_data(R)\n",
    "    \n",
    "    return ax, sp\n",
    "\n",
    "def ncAnimation(filename, movie_frames=None, create_movie=True, fig=None, x0=0, x1=-1, y0=0, y1=-1, reduced_gravity_interface=None, **kwargs):\n",
    "    #Create figure and plot initial conditions\n",
    "    if fig is None:\n",
    "        fig = plt.figure(figsize=(14, 4))\n",
    "\n",
    "    try:\n",
    "        ncfile = Dataset(filename)\n",
    "        try:\n",
    "            x = ncfile.variables['x'][:]\n",
    "        except:\n",
    "            x = ncfile.variables['X'][x0:x1]\n",
    "        try:\n",
    "            y = ncfile.variables['y'][:]\n",
    "        except:\n",
    "            y = ncfile.variables['Y'][y0:y1]\n",
    "        t = ncfile.variables['time'][:]\n",
    "\n",
    "        try:\n",
    "            H_m = ncfile.variables['Hm'][:,:]\n",
    "        except:\n",
    "            H_m = ncfile.variables['h'][y0:y1,x0:x1]\n",
    "        try:\n",
    "            eta = ncfile.variables['eta'][:,:,:]\n",
    "        except:\n",
    "            eta = ncfile.variables['zeta'][:,y0:y1,x0:x1]\n",
    "        try:\n",
    "            hu = ncfile.variables['hu'][:,:,:]\n",
    "            calc_uv = True\n",
    "        except:\n",
    "            if reduced_gravity_interface is None:\n",
    "                hu = ncfile.variables['ubar'][:,y0:y1,x0:x1]\n",
    "                calc_uv = False\n",
    "            else:\n",
    "                if reduced_gravity_interface > 0.0:\n",
    "                    hu = np.ma.zeros(eta.shape)\n",
    "                    for t_idx in range(len(t)):\n",
    "                        hu[t_idx] = depth_integration(ncfile, reduced_gravity_interface, x0, x1, y0, y1, \"u\", timestep_index=t_idx)\n",
    "                    calc_uv = True\n",
    "                else:\n",
    "                    hu = ncfile.variables['u'][:,0,y0:y1,x0:x1]\n",
    "                    calc_uv = False\n",
    "        try:\n",
    "            hv = ncfile.variables['hv'][:,:,:]\n",
    "        except:\n",
    "            if reduced_gravity_interface is None:\n",
    "                hv = ncfile.variables['vbar'][:,y0:y1,x0:x1]\n",
    "            else:\n",
    "                if reduced_gravity_interface > 0.0:\n",
    "                    hv = np.ma.zeros(eta.shape)\n",
    "                    for t_idx in range(len(t)):\n",
    "                        hv[t_idx] = depth_integration(ncfile, reduced_gravity_interface, x0, x1, y0, y1, \"v\", timestep_index=t_idx)\n",
    "                else:\n",
    "                    hv = ncfile.variables['v'][:,0,y0:y1,x0:x1]\n",
    "                    \n",
    "    except Exception as e:\n",
    "        raise e\n",
    "    finally:\n",
    "        ncfile.close()\n",
    "\n",
    "\n",
    "    if movie_frames is None:\n",
    "        movie_frames = len(t)\n",
    "\n",
    "    dx = x[1] - x[0]\n",
    "    dy = y[1] - y[0]\n",
    "    \n",
    "    progress = Common.ProgressPrinter(5)\n",
    "\n",
    "    if (create_movie):\n",
    "        ax, sp = plotSolution(fig, \n",
    "                              eta[0],\n",
    "                              hu[0],\n",
    "                              hv[0],\n",
    "                              H_m+eta[0],\n",
    "                              dx, dy, \n",
    "                              t[0], filename,\n",
    "                              calc_uv=calc_uv,\n",
    "                              reduced_gravity_interface=reduced_gravity_interface,\n",
    "                              **kwargs)\n",
    "    else:\n",
    "        ax, sp = plotSolution(fig, \n",
    "                              eta[-1],\n",
    "                              hu[-1],\n",
    "                              hv[-1],\n",
    "                              H_m+eta[-1],\n",
    "                              dx, dy, \n",
    "                              t[-1], filename,\n",
    "                              **kwargs)\n",
    "        return\n",
    "\n",
    "    #Helper function which simulates and plots the solution    \n",
    "    def animate(i):\n",
    "        t_now = t[0] + (i / (movie_frames-1)) * (t[-1] - t[0]) \n",
    "\n",
    "        k = np.searchsorted(t, t_now)\n",
    "        if (k >= eta.shape[0]):\n",
    "            k = eta.shape[0] - 1\n",
    "        j = max(0, k-1)\n",
    "        if (j == k):\n",
    "            k += 1\n",
    "        s = (t_now - t[j]) / (t[k] - t[j])\n",
    "\n",
    "        plotSolution(fig, \n",
    "                        (1-s)*eta[j] + s*eta[k], \n",
    "                        (1-s)*hu[j]  + s*hu[k], \n",
    "                        (1-s)*hv[j]  + s*hv[k], \n",
    "                        H_m+(1-s)*eta[j] + s*eta[k], \n",
    "                        dx, dy, \n",
    "                        t_now, filename,\n",
    "                        calc_uv=calc_uv,\n",
    "                        reduced_gravity_interface=reduced_gravity_interface,\n",
    "                        **kwargs, ax=ax, sp=sp)\n",
    "\n",
    "        clear_output(wait = True)\n",
    "        #print(progress.getPrintString(i / (movie_frames-1)))\n",
    "\n",
    "    #Matplotlib for creating an animation\n",
    "    anim = animation.FuncAnimation(fig, animate, range(movie_frames), interval=250)\n",
    "    plt.close(fig)\n",
    "    \n",
    "    return anim\n"
   ]
  },
  {
   "cell_type": "code",
   "execution_count": null,
   "metadata": {},
   "outputs": [],
   "source": [
    "def stratification_profiles(x=None, y=None):\n",
    "    nc = Dataset(source_url)\n",
    "    if x is None:\n",
    "        x = np.int32((case_info[\"x0\"]+case_info[\"x1\"])/2)\n",
    "    else:\n",
    "        x = case_info[\"x0\"] + x\n",
    "    if y is None:\n",
    "        y = np.int32((case_info[\"y0\"]+case_info[\"y1\"])/2)\n",
    "    else:\n",
    "        y = case_info[\"y0\"] + y \n",
    "    sal = nc[\"salinity\"][0,:,y,x]\n",
    "    temp = nc[\"temperature\"][0,:,y,x]\n",
    "    depth = nc[\"depth\"][:]\n",
    "\n",
    "    fig = plt.figure()\n",
    "    ax1 = fig.add_subplot(111)\n",
    "    ax1.plot(sal, -depth)\n",
    "    ax1.set_xlabel(\"1e-3\")\n",
    "    ax1.legend([\"salinity\"])\n",
    "\n",
    "    ax2 = fig.add_subplot(111, frame_on=False)\n",
    "    ax2.plot(temp, -depth, c=\"orange\")\n",
    "    ax2.xaxis.tick_top()\n",
    "    ax2.set_xlabel(\"degC\")\n",
    "    ax2.xaxis.set_label_position('top')\n",
    "    ax2.legend([\"temp\"])"
   ]
  },
  {
   "cell_type": "markdown",
   "metadata": {},
   "source": [
    "## Layering of Ocean"
   ]
  },
  {
   "cell_type": "markdown",
   "metadata": {},
   "source": [
    "As initial and boundary conditions to the simulation, we use data from the Norkyst800 model:"
   ]
  },
  {
   "cell_type": "code",
   "execution_count": null,
   "metadata": {},
   "outputs": [],
   "source": [
    "source_url = 'https://thredds.met.no/thredds/dodsC/fou-hi/norkyst800m-1h/NorKyst-800m_ZDEPTHS_his.an.2019071600.nc'"
   ]
  },
  {
   "cell_type": "code",
   "execution_count": null,
   "metadata": {},
   "outputs": [],
   "source": [
    "casename = 'sorvestlandet'\n",
    "\n",
    "from importlib import reload\n",
    "from gpuocean.utils import NetCDFInitialization\n",
    "reload(NetCDFInitialization)\n",
    "case_info = NetCDFInitialization.getCaseLocation(casename)\n",
    "case_info.pop(\"name\")"
   ]
  },
  {
   "cell_type": "code",
   "execution_count": null,
   "metadata": {},
   "outputs": [],
   "source": [
    "cut_section(\"y\")"
   ]
  },
  {
   "cell_type": "code",
   "execution_count": null,
   "metadata": {},
   "outputs": [],
   "source": [
    "stratification_profiles()"
   ]
  },
  {
   "cell_type": "markdown",
   "metadata": {},
   "source": [
    "## Reference one layer\n",
    "\n",
    "Inspecting the NorKyst800 forecast from the netCDF file -> `ubar` and `vbar`"
   ]
  },
  {
   "cell_type": "code",
   "execution_count": null,
   "metadata": {},
   "outputs": [],
   "source": [
    "nc = Dataset(source_url)"
   ]
  },
  {
   "cell_type": "code",
   "execution_count": null,
   "metadata": {},
   "outputs": [],
   "source": [
    "ref_anim = ncAnimation(source_url, **case_info)"
   ]
  },
  {
   "cell_type": "markdown",
   "metadata": {},
   "source": [
    "## Simulating one layer"
   ]
  },
  {
   "cell_type": "code",
   "execution_count": null,
   "metadata": {},
   "outputs": [],
   "source": [
    "from importlib import reload \n",
    "reload(NetCDFInitialization)\n",
    "data_args = NetCDFInitialization.getInitialConditions(source_url,case_info[\"x0\"], case_info[\"x1\"], case_info[\"y0\"], case_info[\"y1\"], download_data=False)\n",
    "data_args.keys()"
   ]
  },
  {
   "cell_type": "code",
   "execution_count": null,
   "metadata": {},
   "outputs": [],
   "source": [
    "sim_args = {\n",
    "    \"gpu_ctx\": gpu_ctx,\n",
    "    \"dt\": 0.0,\n",
    "    \"write_netcdf\":True\n",
    "     }\n",
    "\n",
    "sim = CDKLM16.CDKLM16(**sim_args, **NetCDFInitialization.removeMetadata(data_args))\n",
    "\n",
    "for hour in range(24):\n",
    "    sim.step(3600.0)\n",
    "\n",
    "swe_anim = ncAnimation(sim.sim_writer.output_file_name)"
   ]
  },
  {
   "cell_type": "code",
   "execution_count": null,
   "metadata": {},
   "outputs": [],
   "source": [
    "sim.dt"
   ]
  },
  {
   "cell_type": "markdown",
   "metadata": {},
   "source": [
    "Time step in simulation seconds."
   ]
  },
  {
   "cell_type": "markdown",
   "metadata": {},
   "source": [
    "### Compare reference (top) and simplified simulation (below)\n",
    "\n",
    "Plotting `eta`, `u` and `v`"
   ]
  },
  {
   "cell_type": "code",
   "execution_count": null,
   "metadata": {},
   "outputs": [],
   "source": [
    "ref_anim"
   ]
  },
  {
   "cell_type": "code",
   "execution_count": null,
   "metadata": {},
   "outputs": [],
   "source": [
    "swe_anim"
   ]
  },
  {
   "cell_type": "markdown",
   "metadata": {},
   "source": [
    "# Reduced Gravity simulation \n",
    "\n",
    "For now, we initialise the simulation with\n",
    "- bathymetyry cut at `reduced_gravity_interface` in metre (has to be a z-level in NorKyst)\n",
    "- initial states that are integrated from `reduced_gravity_interface` up to 0 from NorKyst (ignoring `eta`)\n",
    "- boundary forcing from NorKyst as initial conditions\n",
    "- reduced gravitation `g=0.1`\n",
    "\n",
    "The equations (compared to the one-layer model) change\n",
    "- no forcing from bathymetry! (if bathymetry lower than interface we remain bathymetry forcing)\n",
    "\n",
    "Next, showing the direct results from the model (no superposition as Kai suggested in the previous meeting)"
   ]
  },
  {
   "cell_type": "markdown",
   "metadata": {},
   "source": [
    "## Reference upper layer\n",
    "\n",
    "Inspecting the NorKyst800 forecast from the netCDF file -> integrate `u` and `v` in the upper layer"
   ]
  },
  {
   "cell_type": "code",
   "execution_count": null,
   "metadata": {},
   "outputs": [],
   "source": [
    "interface = 25.0"
   ]
  },
  {
   "cell_type": "code",
   "execution_count": null,
   "metadata": {},
   "outputs": [],
   "source": [
    "upper_ref_anim = ncAnimation(source_url, reduced_gravity_interface=interface, **case_info)"
   ]
  },
  {
   "cell_type": "markdown",
   "metadata": {},
   "source": [
    "## Simulating upper layer"
   ]
  },
  {
   "cell_type": "code",
   "execution_count": null,
   "metadata": {},
   "outputs": [],
   "source": [
    "from importlib import reload\n",
    "reload(NetCDFInitialization)\n",
    "upper_data_args = NetCDFInitialization.getInitialConditions(source_url,case_info[\"x0\"], case_info[\"x1\"], case_info[\"y0\"], case_info[\"y1\"], download_data=False, reduced_gravity_interface=interface)\n",
    "upper_data_args.keys()"
   ]
  },
  {
   "cell_type": "markdown",
   "metadata": {},
   "source": [
    "For playing around with the inputs if desired"
   ]
  },
  {
   "cell_type": "code",
   "execution_count": null,
   "metadata": {},
   "outputs": [],
   "source": [
    "upper_data_args[\"g\"] = 0.1"
   ]
  },
  {
   "cell_type": "code",
   "execution_count": null,
   "metadata": {},
   "outputs": [],
   "source": [
    "upper_sim_args = {\n",
    "    \"gpu_ctx\": gpu_ctx,\n",
    "    \"dt\": 0.0,\n",
    "    \"write_netcdf\":True\n",
    "    }\n",
    "\n",
    "upper_sim = CDKLM16.CDKLM16(**sim_args, **NetCDFInitialization.removeMetadata(upper_data_args))\n",
    "\n",
    "for hour in range(24):\n",
    "    upper_sim.step(3600.0)\n",
    "\n",
    "print(\"Remember that these are new physical variables!!\")\n",
    "upper_swe_anim = ncAnimation(upper_sim.sim_writer.output_file_name)"
   ]
  },
  {
   "cell_type": "code",
   "execution_count": null,
   "metadata": {},
   "outputs": [],
   "source": [
    "upper_sim.dt"
   ]
  },
  {
   "cell_type": "markdown",
   "metadata": {},
   "source": [
    "Note that time step is much larger and simulation even faster"
   ]
  },
  {
   "cell_type": "markdown",
   "metadata": {},
   "source": [
    "## Compare reference (top) and simplified simulation (bottom)"
   ]
  },
  {
   "cell_type": "code",
   "execution_count": null,
   "metadata": {},
   "outputs": [],
   "source": [
    "upper_ref_anim"
   ]
  },
  {
   "cell_type": "code",
   "execution_count": null,
   "metadata": {},
   "outputs": [],
   "source": [
    "upper_swe_anim"
   ]
  },
  {
   "cell_type": "markdown",
   "metadata": {},
   "source": [
    "### Surface reference"
   ]
  },
  {
   "cell_type": "code",
   "execution_count": null,
   "metadata": {},
   "outputs": [],
   "source": [
    "surface_ref_anim = ncAnimation(source_url, reduced_gravity_interface=0.0, **case_info)"
   ]
  },
  {
   "cell_type": "code",
   "execution_count": null,
   "metadata": {},
   "outputs": [],
   "source": [
    "surface_ref_anim"
   ]
  }
 ],
 "metadata": {
  "interpreter": {
   "hash": "3048633266a8aca5c85f16c1ee57ccad146141feb66febf24dcb8304467d1440"
  },
  "kernelspec": {
   "display_name": "Python 3.7.12 ('gpuocean_opendrift')",
   "language": "python",
   "name": "python3"
  },
  "language_info": {
   "codemirror_mode": {
    "name": "ipython",
    "version": 3
   },
   "file_extension": ".py",
   "mimetype": "text/x-python",
   "name": "python",
   "nbconvert_exporter": "python",
   "pygments_lexer": "ipython3",
   "version": "3.7.12"
  }
 },
 "nbformat": 4,
 "nbformat_minor": 4
}
