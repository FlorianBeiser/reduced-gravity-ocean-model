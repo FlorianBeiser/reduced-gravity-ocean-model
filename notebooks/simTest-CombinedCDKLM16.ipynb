{
 "cells": [
  {
   "cell_type": "markdown",
   "metadata": {},
   "source": [
    "# Reduced Gravity"
   ]
  },
  {
   "cell_type": "markdown",
   "metadata": {},
   "source": [
    "## Classes and modules"
   ]
  },
  {
   "cell_type": "code",
   "execution_count": 1,
   "metadata": {},
   "outputs": [],
   "source": [
    "#Lets have matplotlib \"inline\"\n",
    "%matplotlib inline\n",
    "\n",
    "import os\n",
    "import sys\n",
    "\n",
    "#Import packages we need\n",
    "import numpy as np\n",
    "from netCDF4 import Dataset\n",
    "import datetime\n",
    "from IPython.display import display\n",
    "\n",
    "#For plotting\n",
    "import matplotlib\n",
    "from matplotlib import pyplot as plt\n",
    "\n",
    "plt.rcParams[\"lines.color\"] = \"w\"\n",
    "plt.rcParams[\"text.color\"] = \"w\"\n",
    "plt.rcParams[\"axes.labelcolor\"] = \"w\"\n",
    "plt.rcParams[\"xtick.color\"] = \"w\"\n",
    "plt.rcParams[\"ytick.color\"] = \"w\"\n",
    "\n",
    "from importlib import reload"
   ]
  },
  {
   "cell_type": "markdown",
   "metadata": {},
   "source": [
    "GPU Ocean-modules:"
   ]
  },
  {
   "cell_type": "code",
   "execution_count": 2,
   "metadata": {},
   "outputs": [],
   "source": [
    "from gpuocean.SWEsimulators import CDKLM16\n",
    "from gpuocean.utils import Common, IPythonMagic, NetCDFInitialization, OceanographicUtilities, Observation\n",
    "from gpuocean.drifters import GPUDrifterCollection\n",
    "from gpuocean.dataassimilation import DataAssimilationUtils as dautils"
   ]
  },
  {
   "cell_type": "code",
   "execution_count": 3,
   "metadata": {},
   "outputs": [],
   "source": [
    "%cuda_context_handler baroclinic_gpu_ctx"
   ]
  },
  {
   "cell_type": "code",
   "execution_count": 4,
   "metadata": {},
   "outputs": [],
   "source": [
    "%cuda_context_handler barotropic_gpu_ctx"
   ]
  },
  {
   "cell_type": "markdown",
   "metadata": {},
   "source": [
    "#### Plotting utils"
   ]
  },
  {
   "cell_type": "code",
   "execution_count": 5,
   "metadata": {},
   "outputs": [],
   "source": [
    "from IPython.display import clear_output\n",
    "from matplotlib import animation, rc\n",
    "plt.rcParams[\"animation.html\"] = \"jshtml\"\n",
    "from gpuocean.utils import PlotHelper\n",
    "from gpuocean.utils.NetCDFInitialization import depth_integration\n",
    "\n",
    "def plotSolution(fig, \n",
    "                 eta, hu, hv, h, dx, dy, \n",
    "                 t, comment,\n",
    "                 h_min=-5, h_max=5, \n",
    "                 uv_min=-0.3, uv_max=0.3,\n",
    "                 calc_uv = False, \n",
    "                 add_extra=False,\n",
    "                 reduced_gravity_interface=None,\n",
    "                 ax=None, sp=None):\n",
    "\n",
    "\n",
    "    from datetime import timedelta\n",
    "    fig.suptitle(\"Time = {:0>8} ({:s})\".format(str(timedelta(seconds=int(t))), comment), \n",
    "                 fontsize=18,\n",
    "                 horizontalalignment='left')\n",
    "    \n",
    "    ny, nx = eta.shape\n",
    "    domain_extent = [0, nx*dx, 0, ny*dy]\n",
    "    \n",
    "    x_plots = 3\n",
    "    y_plots = 1\n",
    "    if (add_extra == True):\n",
    "        x_plots=3\n",
    "        y_plots=2\n",
    "    \n",
    "    V_max = 3 * (uv_max-uv_min) / np.max(h)\n",
    "    R_min = -V_max/2000\n",
    "    R_max = V_max/2000\n",
    "   \n",
    "    hu_label, hv_label = \"$hu$\", \"$hv$\"\n",
    "    if calc_uv:\n",
    "        \"\"\"plotting actually u and v\"\"\"\n",
    "        if reduced_gravity_interface is None or reduced_gravity_interface == 0.0:\n",
    "            hu = hu/(h+eta)\n",
    "            hv = hv/(h+eta)\n",
    "        else:\n",
    "            hu = hu/(reduced_gravity_interface+eta)\n",
    "            hv = hv/(reduced_gravity_interface+eta)\n",
    "        uv_min = -0.3\n",
    "        uv_max = +0.3\n",
    "        hu_label, hv_label = \"$u$\", \"$v$\"\n",
    "\n",
    "    if (ax is None):\n",
    "        ax = [None]*x_plots*y_plots\n",
    "        sp = [None]*x_plots*y_plots\n",
    "        \n",
    "        ax[0] = plt.subplot(y_plots, x_plots, 1)\n",
    "        sp[0] = ax[0].imshow(eta, interpolation=\"none\", origin='lower', \n",
    "                             cmap=plt.cm.coolwarm, \n",
    "                             vmin=h_min, vmax=h_max, \n",
    "                             extent=domain_extent)\n",
    "        plt.colorbar(sp[0], shrink=0.9)\n",
    "        plt.axis('image')\n",
    "        plt.title(\"$\\eta{}$\")\n",
    "        \n",
    "  \n",
    "\n",
    "        ax[1] = plt.subplot(y_plots, x_plots, 2)\n",
    "        sp[1] = ax[1].imshow(hu, interpolation=\"none\", origin='lower', \n",
    "                            cmap=plt.cm.coolwarm, \n",
    "                            vmin=uv_min, vmax=uv_max, \n",
    "                            extent=domain_extent)\n",
    "        plt.colorbar(sp[1], shrink=0.9)\n",
    "        plt.axis('image')\n",
    "        plt.title(hu_label)\n",
    "\n",
    "\n",
    "\n",
    "        ax[2] = plt.subplot(y_plots, x_plots, 3)\n",
    "        sp[2] = ax[2].imshow(hv, interpolation=\"none\", origin='lower', \n",
    "                             cmap=plt.cm.coolwarm, \n",
    "                             vmin=uv_min, vmax=uv_max, \n",
    "                             extent=domain_extent)\n",
    "        plt.colorbar(sp[2], shrink=0.9)\n",
    "        plt.axis('image')\n",
    "        plt.title(hv_label)\n",
    "            \n",
    "    else:        \n",
    "        #Update plots\n",
    "        fig.sca(ax[0])\n",
    "        sp[0].set_data(eta)\n",
    "        \n",
    "        fig.sca(ax[1])\n",
    "        sp[1].set_data(hu)\n",
    "        \n",
    "        fig.sca(ax[2])\n",
    "        sp[2].set_data(hv)\n",
    "        \n",
    "        if (add_extra == True):\n",
    "            V = PlotHelper.genVelocity(h, hu, hv)\n",
    "            fig.sca(ax[3])\n",
    "            sp[3].set_data(V)\n",
    "\n",
    "            R = PlotHelper.genColors(h, hu/dx, hv/dy, plt.cm.seismic, R_min, R_max)\n",
    "            fig.sca(ax[4])\n",
    "            sp[4].set_data(R)\n",
    "    \n",
    "    return ax, sp\n",
    "\n",
    "\n",
    "def ncAnimation(filename, movie_frames=None, create_movie=True, fig=None, x0=0, x1=-1, y0=0, y1=-1, reduced_gravity_interface=None, **kwargs):\n",
    "    #Create figure and plot initial conditions\n",
    "    if fig is None:\n",
    "        fig = plt.figure(figsize=(14, 4))\n",
    "\n",
    "    try:\n",
    "        if isinstance(filename, list):\n",
    "            # Only for own nc-files\n",
    "            ncfile = Dataset(filename[0])\n",
    "            x = ncfile.variables['x'][:]\n",
    "            y = ncfile.variables['y'][:]\n",
    "            t = ncfile.variables['time'][:]\n",
    "            H_m = ncfile.variables['Hm'][:,:]\n",
    "            eta = ncfile.variables['eta'][:,:,:]\n",
    "            hu = ncfile.variables['hu'][:,:,:]\n",
    "            hu = hu/H_m # actually u\n",
    "            hv = ncfile.variables['hv'][:,:,:]\n",
    "            hv = hv/H_m # actually u  \n",
    "            calc_uv = False\n",
    "            for f in range(1,len(filename)):\n",
    "                ncfile = Dataset(filename[f])\n",
    "                eta += ncfile.variables['eta'][:,:,:]\n",
    "                hu += ncfile.variables['hu'][:,:,:]/(ncfile.variables['Hm'][:,:] + ncfile.variables['eta'][:,:,:])\n",
    "                hv += ncfile.variables['hv'][:,:,:]/(ncfile.variables['Hm'][:,:] + ncfile.variables['eta'][:,:,:])\n",
    "            filename = \"Combined Variables\"\n",
    "        else:\n",
    "            ncfile = Dataset(filename)\n",
    "            try:\n",
    "                x = ncfile.variables['x'][:]\n",
    "            except:\n",
    "                x = ncfile.variables['X'][x0:x1]\n",
    "            try:\n",
    "                y = ncfile.variables['y'][:]\n",
    "            except:\n",
    "                y = ncfile.variables['Y'][y0:y1]\n",
    "            t = ncfile.variables['time'][:]\n",
    "\n",
    "            try:\n",
    "                H_m = ncfile.variables['Hm'][:,:]\n",
    "            except:\n",
    "                H_m = ncfile.variables['h'][y0:y1,x0:x1]\n",
    "            try:\n",
    "                eta = ncfile.variables['eta'][:,:,:]\n",
    "            except:\n",
    "                eta = ncfile.variables['zeta'][:,y0:y1,x0:x1]\n",
    "            try:\n",
    "                hu = ncfile.variables['hu'][:,:,:]\n",
    "                calc_uv = True\n",
    "            except:\n",
    "                if reduced_gravity_interface is None:\n",
    "                    hu = ncfile.variables['ubar'][:,y0:y1,x0:x1]\n",
    "                    calc_uv = False\n",
    "                else:\n",
    "                    if reduced_gravity_interface is not None:\n",
    "                        hu = np.ma.zeros(eta.shape)\n",
    "                        for t_idx in range(len(t)):\n",
    "                            hu[t_idx] = depth_integration(ncfile, reduced_gravity_interface, x0, x1, y0, y1, \"u\", timestep_index=t_idx)\n",
    "                        calc_uv = True\n",
    "                    else:\n",
    "                        hu = ncfile.variables['u'][:,0,y0:y1,x0:x1]\n",
    "                        calc_uv = False\n",
    "            try:\n",
    "                hv = ncfile.variables['hv'][:,:,:]\n",
    "            except:\n",
    "                if reduced_gravity_interface is None:\n",
    "                    hv = ncfile.variables['vbar'][:,y0:y1,x0:x1]\n",
    "                else:\n",
    "                    if reduced_gravity_interface is not None:\n",
    "                        hv = np.ma.zeros(eta.shape)\n",
    "                        for t_idx in range(len(t)):\n",
    "                            hv[t_idx] = depth_integration(ncfile, reduced_gravity_interface, x0, x1, y0, y1, \"v\", timestep_index=t_idx)\n",
    "                    else:\n",
    "                        hv = ncfile.variables['v'][:,0,y0:y1,x0:x1]\n",
    "                    \n",
    "    except Exception as e:\n",
    "        raise e\n",
    "    finally:\n",
    "        ncfile.close()\n",
    "\n",
    "\n",
    "    if movie_frames is None:\n",
    "        movie_frames = len(t)\n",
    "\n",
    "    dx = x[1] - x[0]\n",
    "    dy = y[1] - y[0]\n",
    "    \n",
    "    progress = Common.ProgressPrinter(5)\n",
    "\n",
    "    if (create_movie):\n",
    "        ax, sp = plotSolution(fig, \n",
    "                              eta[0],\n",
    "                              hu[0],\n",
    "                              hv[0],\n",
    "                              H_m+eta[0],\n",
    "                              dx, dy, \n",
    "                              t[0], filename,\n",
    "                              calc_uv=calc_uv,\n",
    "                              reduced_gravity_interface=reduced_gravity_interface,\n",
    "                              **kwargs)\n",
    "    else:\n",
    "        ax, sp = plotSolution(fig, \n",
    "                              eta[-1],\n",
    "                              hu[-1],\n",
    "                              hv[-1],\n",
    "                              H_m+eta[-1],\n",
    "                              dx, dy, \n",
    "                              t[-1], filename,\n",
    "                              **kwargs)\n",
    "        return\n",
    "\n",
    "    #Helper function which simulates and plots the solution    \n",
    "    def animate(i):\n",
    "        t_now = t[0] + (i / (movie_frames-1)) * (t[-1] - t[0]) \n",
    "\n",
    "        k = np.searchsorted(t, t_now)\n",
    "        if (k >= eta.shape[0]):\n",
    "            k = eta.shape[0] - 1\n",
    "        j = max(0, k-1)\n",
    "        if (j == k):\n",
    "            k += 1\n",
    "        s = (t_now - t[j]) / (t[k] - t[j])\n",
    "\n",
    "        plotSolution(fig, \n",
    "                        (1-s)*eta[j] + s*eta[k], \n",
    "                        (1-s)*hu[j]  + s*hu[k], \n",
    "                        (1-s)*hv[j]  + s*hv[k], \n",
    "                        H_m+(1-s)*eta[j] + s*eta[k], \n",
    "                        dx, dy, \n",
    "                        t_now, filename,\n",
    "                        calc_uv=calc_uv,\n",
    "                        reduced_gravity_interface=reduced_gravity_interface,\n",
    "                        **kwargs, ax=ax, sp=sp)\n",
    "\n",
    "        clear_output(wait = True)\n",
    "        #print(progress.getPrintString(i / (movie_frames-1)))\n",
    "\n",
    "    #Matplotlib for creating an animation\n",
    "    anim = animation.FuncAnimation(fig, animate, range(movie_frames), interval=250)\n",
    "    plt.close(fig)\n",
    "    \n",
    "    return anim\n"
   ]
  },
  {
   "cell_type": "markdown",
   "metadata": {},
   "source": [
    "## Selecting area and loading initial- and boundary conditions"
   ]
  },
  {
   "cell_type": "code",
   "execution_count": 6,
   "metadata": {},
   "outputs": [
    {
     "data": {
      "text/plain": [
       "'lofoten'"
      ]
     },
     "execution_count": 6,
     "metadata": {},
     "output_type": "execute_result"
    }
   ],
   "source": [
    "source_url_list = ['https://thredds.met.no/thredds/dodsC/fou-hi/norkyst800m-1h/NorKyst-800m_ZDEPTHS_his.an.2019071600.nc', \n",
    "'https://thredds.met.no/thredds/dodsC/fou-hi/norkyst800m-1h/NorKyst-800m_ZDEPTHS_his.an.2019071700.nc',\n",
    "'https://thredds.met.no/thredds/dodsC/fou-hi/norkyst800m-1h/NorKyst-800m_ZDEPTHS_his.an.2019071800.nc']\n",
    "\n",
    "casename = 'lofoten'\n",
    "\n",
    "case_info = NetCDFInitialization.getCaseLocation(casename)\n",
    "case_info.pop(\"name\")"
   ]
  },
  {
   "cell_type": "code",
   "execution_count": 8,
   "metadata": {},
   "outputs": [
    {
     "name": "stdout",
     "output_type": "stream",
     "text": [
      "Cut the bathymetry: no reconstruction!\n",
      "Depth integration with trapeziodal rule, ignoring eta\n",
      "Reduce gravity (fixed value used)\n",
      "Depth integration with trapeziodal rule, ignoring eta\n",
      "This download maybe avoided by interpolation (and using the right mask)\n"
     ]
    }
   ],
   "source": [
    "from gpuocean.utils import NetCDFInitialization\n",
    "reload(NetCDFInitialization)\n",
    "\n",
    "barotropic_data_args, baroclinic_data_args = NetCDFInitialization.getCombinedInitialConditions(source_url_list,case_info[\"x0\"], case_info[\"x1\"], case_info[\"y0\"], case_info[\"y1\"], 25.0, download_data=False)"
   ]
  },
  {
   "cell_type": "code",
   "execution_count": 41,
   "metadata": {},
   "outputs": [],
   "source": [
    "barotropic_data_args.pop(\"wind_stress\", None)"
   ]
  },
  {
   "cell_type": "markdown",
   "metadata": {},
   "source": [
    "### Make sims"
   ]
  },
  {
   "cell_type": "code",
   "execution_count": 59,
   "metadata": {},
   "outputs": [
    {
     "data": {
      "text/plain": [
       "<module 'gpuocean.SWEsimulators.CombinedCDKLM16' from '/home/florianb/havvarsel/gpuocean/src/gpuocean/SWEsimulators/CombinedCDKLM16.py'>"
      ]
     },
     "execution_count": 59,
     "metadata": {},
     "output_type": "execute_result"
    }
   ],
   "source": [
    "from importlib import reload\n",
    "from gpuocean.SWEsimulators import CombinedCDKLM16\n",
    "reload(CombinedCDKLM16)"
   ]
  },
  {
   "cell_type": "code",
   "execution_count": 60,
   "metadata": {},
   "outputs": [],
   "source": [
    "sim_flags={\"barotropic\":True, \"baroclinic\":True}"
   ]
  },
  {
   "cell_type": "code",
   "execution_count": 61,
   "metadata": {},
   "outputs": [
    {
     "name": "stderr",
     "output_type": "stream",
     "text": [
      "This will give inaccurate angle along the border!\n",
      "This will give inaccurate coriolis along the border!\n",
      "This will give inaccurate angle along the border!\n",
      "This will give inaccurate coriolis along the border!\n"
     ]
    },
    {
     "name": "stdout",
     "output_type": "stream",
     "text": [
      "Closing file /home/florianb/havvarsel/reduced-gravity-ocean-model/notebooks/netcdf_2022_06_22/CDKLM16_barotropic_2022_06_22-14_47_45.nc ...\n",
      "Closing file /home/florianb/havvarsel/reduced-gravity-ocean-model/notebooks/netcdf_2022_06_22/CDKLM16_baroclinic2022_06_22-14_47_45.nc ...\n"
     ]
    }
   ],
   "source": [
    "sims = CombinedCDKLM16.CombinedCDKLM16(baroclinic_gpu_ctx, barotropic_gpu_ctx, dt=0.0, sim_flags=sim_flags, write_netcdf=True, **NetCDFInitialization.removeCombinedMetadata(barotropic_data_args, baroclinic_data_args))"
   ]
  },
  {
   "cell_type": "markdown",
   "metadata": {},
   "source": [
    "### Make drifters"
   ]
  },
  {
   "cell_type": "code",
   "execution_count": 62,
   "metadata": {},
   "outputs": [],
   "source": [
    "observation_type = dautils.ObservationType.UnderlyingFlow \n",
    "    \n",
    "observation_args = {'observation_type': observation_type,\n",
    "                'nx': sims.nx, 'ny': sims.ny,\n",
    "                'domain_size_x': sims.nx*sims.dx,\n",
    "                'domain_size_y': sims.ny*sims.dy,\n",
    "                'land_mask': sims.getLandMask()\n",
    "                }\n",
    "\n",
    "trajectory_forecast = Observation.Observation(**observation_args)"
   ]
  },
  {
   "cell_type": "code",
   "execution_count": 63,
   "metadata": {},
   "outputs": [],
   "source": [
    "initx = [200000]\n",
    "inity = [175000]"
   ]
  },
  {
   "cell_type": "code",
   "execution_count": 64,
   "metadata": {},
   "outputs": [],
   "source": [
    "num_drifters = len(initx)\n",
    "\n",
    "drifters = GPUDrifterCollection.GPUDrifterCollection(sims.barotropic_gpu_ctx, num_drifters,\n",
    "                                                    boundaryConditions = sims.boundary_conditions,\n",
    "                                                    domain_size_x = trajectory_forecast.domain_size_x,\n",
    "                                                    domain_size_y = trajectory_forecast.domain_size_y,\n",
    "                                                    gpu_stream = sims.gpu_stream)\n",
    "\n",
    "drifter_pos_init = np.array([initx, inity]).T\n",
    "drifters.setDrifterPositions(drifter_pos_init)"
   ]
  },
  {
   "cell_type": "code",
   "execution_count": 65,
   "metadata": {},
   "outputs": [],
   "source": [
    "sims.attachDrifters(drifters)\n",
    "trajectory_forecast.add_observation_from_sim(sims)"
   ]
  },
  {
   "cell_type": "markdown",
   "metadata": {},
   "source": [
    "### Simulation"
   ]
  },
  {
   "cell_type": "code",
   "execution_count": 66,
   "metadata": {},
   "outputs": [],
   "source": [
    "for hour in range(24):\n",
    "    sims.combinedStep(3600.0, trajectories=trajectory_forecast, trajectory_dt=60)"
   ]
  },
  {
   "cell_type": "markdown",
   "metadata": {},
   "source": [
    "## Baroclinic Simulation"
   ]
  },
  {
   "cell_type": "code",
   "execution_count": 67,
   "metadata": {},
   "outputs": [],
   "source": [
    "#anim = ncAnimation(sims.baroclinic_sim.sim_writer.output_file_name)"
   ]
  },
  {
   "cell_type": "code",
   "execution_count": 68,
   "metadata": {},
   "outputs": [],
   "source": [
    "#anim"
   ]
  },
  {
   "cell_type": "markdown",
   "metadata": {},
   "source": [
    "## Barotropic Simulation"
   ]
  },
  {
   "cell_type": "code",
   "execution_count": 69,
   "metadata": {},
   "outputs": [],
   "source": [
    "#anim = ncAnimation(sims.barotropic_sim.sim_writer.output_file_name)"
   ]
  },
  {
   "cell_type": "code",
   "execution_count": 70,
   "metadata": {},
   "outputs": [],
   "source": [
    "#anim"
   ]
  },
  {
   "cell_type": "markdown",
   "metadata": {},
   "source": [
    "## Combining baroclinic and barotropic solutions\n",
    "- $\\eta_0 + \\eta_1$\n",
    "- $u_0 + u_1$\n",
    "- $v_0 + v_1$"
   ]
  },
  {
   "cell_type": "code",
   "execution_count": 71,
   "metadata": {},
   "outputs": [],
   "source": [
    "#anim = ncAnimation([sims.barotropic_sim.sim_writer.output_file_name, sims.baroclinic_sim.sim_writer.output_file_name])"
   ]
  },
  {
   "cell_type": "code",
   "execution_count": 72,
   "metadata": {},
   "outputs": [],
   "source": [
    "#anim"
   ]
  },
  {
   "cell_type": "markdown",
   "metadata": {},
   "source": [
    "### Drift Trajectories"
   ]
  },
  {
   "cell_type": "code",
   "execution_count": 73,
   "metadata": {},
   "outputs": [],
   "source": [
    "def plot_all_drifts(sims, trajectory_forecast):\n",
    "\n",
    "    drifter_ids = np.arange(trajectory_forecast.get_num_drifters(ignoreBuoys=True))\n",
    "\n",
    "    num_drifters = len(drifter_ids)\n",
    "\n",
    "    drifter_paths = [None]*num_drifters\n",
    "\n",
    "    forecast_start_t = 0\n",
    "    forecast_end_t = sims.t\n",
    "\n",
    "    for i in range(num_drifters):\n",
    "        drifter_paths[i] = trajectory_forecast.get_drifter_path(drifter_ids[i], forecast_start_t, forecast_end_t, in_km = False)\n",
    "\n",
    "    fig, ax = plt.subplots(figsize=(14, 4))\n",
    "\n",
    "    combined_eta, combined_u, combined_v = sims.download() \n",
    "    uv_field = np.sqrt(combined_u**2 + combined_v**2)\n",
    "\n",
    "\n",
    "    domain_extent = [0, sims.nx*sims.dx, 0, sims.ny*sims.dy]\n",
    "\n",
    "    im = ax.imshow(uv_field, interpolation=\"none\", origin='lower', \n",
    "                    cmap=plt.cm.Reds, \n",
    "                    vmin=0.0, vmax=0.5, \n",
    "                    extent=domain_extent)\n",
    "    plt.colorbar(im, shrink=0.9)\n",
    "    plt.axis('image')\n",
    "    plt.title(\"Velocity field\")\n",
    "\n",
    "    for drifter_path in drifter_paths:\n",
    "        for path in drifter_path:\n",
    "\n",
    "            ax.plot(path[:,0], path[:,1], color=\"blue\", zorder=5)\n",
    "\n",
    "            # Mark start and end of true path\n",
    "            start_pos = drifter_path[0][0,:]\n",
    "            end_pos   = drifter_path[-1][-1,:]\n",
    "\n",
    "            circ_start = matplotlib.patches.Circle((start_pos[0], start_pos[1]), \n",
    "                                                    20, color = 'xkcd:scarlet',\n",
    "                                                    fill=False, zorder=10)\n",
    "            ax.add_patch(circ_start)\n",
    "            ax.plot(end_pos[0], end_pos[1], 'x', color='k', zorder=11)\n",
    "\n",
    "            ax.set_xlim(start_pos[0] + np.array([-25000,25000]))\n",
    "            ax.set_ylim(start_pos[1] + np.array([-25000,25000]))"
   ]
  },
  {
   "cell_type": "code",
   "execution_count": 74,
   "metadata": {},
   "outputs": [
    {
     "name": "stderr",
     "output_type": "stream",
     "text": [
      "/home/florianb/miniconda3/envs/gpuocean_opendrift/lib/python3.7/site-packages/ipykernel_launcher.py:18: RuntimeWarning: invalid value encountered in sqrt\n"
     ]
    },
    {
     "data": {
      "image/png": "[encoded data removed]",
      "text/plain": [
       "<Figure size 1008x288 with 2 Axes>"
      ]
     },
     "metadata": {
      "needs_background": "dark"
     },
     "output_type": "display_data"
    }
   ],
   "source": [
    "plot_all_drifts(sims, trajectory_forecast)"
   ]
  }
 ],
 "metadata": {
  "interpreter": {
   "hash": "3048633266a8aca5c85f16c1ee57ccad146141feb66febf24dcb8304467d1440"
  },
  "kernelspec": {
   "display_name": "Python 3.7.12 ('gpuocean_opendrift')",
   "language": "python",
   "name": "python3"
  },
  "language_info": {
   "codemirror_mode": {
    "name": "ipython",
    "version": 3
   },
   "file_extension": ".py",
   "mimetype": "text/x-python",
   "name": "python",
   "nbconvert_exporter": "python",
   "pygments_lexer": "ipython3",
   "version": "3.7.12"
  }
 },
 "nbformat": 4,
 "nbformat_minor": 4
}
